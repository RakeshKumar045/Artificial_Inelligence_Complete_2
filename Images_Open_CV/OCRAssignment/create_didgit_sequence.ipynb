{
 "cells": [
  {
   "cell_type": "code",
   "execution_count": null,
   "metadata": {},
   "outputs": [],
   "source": []
  },
  {
   "cell_type": "code",
   "execution_count": 142,
   "metadata": {},
   "outputs": [],
   "source": [
    "import cv2\n",
    "from PIL import Image, ImageDraw, ImageFont\n",
    "import numpy as np"
   ]
  },
  {
   "cell_type": "code",
   "execution_count": 167,
   "metadata": {},
   "outputs": [],
   "source": [
    "def test_create_digit_sequence(number, image_width, min_spacing, max_spacing) :\n",
    "    image_height = 150\n",
    "    create_image = Image.new('RGB', (image_width, image_height), color = (255, 255, 255))\n",
    "    draw = ImageDraw.Draw(create_image)\n",
    "    draw.text((10,10), number, fill=(0,0,0))\n",
    "    create_image.save('create_digit_number.png')\n",
    "\n",
    "\n",
    "    "
   ]
  },
  {
   "cell_type": "code",
   "execution_count": 60,
   "metadata": {},
   "outputs": [],
   "source": [
    "test_create_digit_sequence(\"1\", 150, 2, 10)\n",
    "\n",
    "img = cv2.imread('create_digit_number.png')\n",
    "cv2.imshow(\"create digit sequene \", img)\n",
    "\n",
    "cv2.waitKey(0)\n",
    "cv2.destroyAllWindows()"
   ]
  },
  {
   "cell_type": "code",
   "execution_count": null,
   "metadata": {},
   "outputs": [],
   "source": []
  },
  {
   "cell_type": "code",
   "execution_count": null,
   "metadata": {},
   "outputs": [],
   "source": []
  },
  {
   "cell_type": "code",
   "execution_count": null,
   "metadata": {},
   "outputs": [],
   "source": []
  },
  {
   "cell_type": "code",
   "execution_count": null,
   "metadata": {},
   "outputs": [],
   "source": []
  },
  {
   "cell_type": "code",
   "execution_count": null,
   "metadata": {},
   "outputs": [],
   "source": []
  },
  {
   "cell_type": "code",
   "execution_count": 89,
   "metadata": {},
   "outputs": [],
   "source": [
    "\n",
    "# create font object with the font file and specify\n",
    "# desired size\n",
    " \n",
    "# font = ImageFont.truetype('Roboto-Bold.ttf', size=45)\n",
    " \n",
    "# starting position of the message\n",
    " \n",
    "(x, y) = (50, 50)\n",
    "message = \"Happy Birthday!\"\n",
    "color = 'rgb(0, 0, 0)' # black color\n",
    " \n",
    "# draw the message on the background\n",
    " \n",
    "# draw.text((x, y), message, fill=color, font=font)\n",
    "draw.text((x, y), message, fill=color)\n",
    "\n",
    "(x, y) = (150, 150)\n",
    "name = 'Vinay'\n",
    "color = 'rgb(255, 255, 255)' # white color\n",
    "# draw.text((x, y), name, fill=color, font=font)\n",
    "draw.text((x, y), name, fill=color)\n",
    "\n",
    " \n",
    "# save the edited image\n",
    " \n",
    "image.save('greeting_card.png')"
   ]
  },
  {
   "cell_type": "code",
   "execution_count": null,
   "metadata": {},
   "outputs": [],
   "source": []
  },
  {
   "cell_type": "code",
   "execution_count": 90,
   "metadata": {},
   "outputs": [],
   "source": []
  },
  {
   "cell_type": "code",
   "execution_count": null,
   "metadata": {},
   "outputs": [],
   "source": []
  },
  {
   "cell_type": "code",
   "execution_count": null,
   "metadata": {},
   "outputs": [],
   "source": []
  },
  {
   "cell_type": "code",
   "execution_count": null,
   "metadata": {},
   "outputs": [],
   "source": []
  },
  {
   "cell_type": "code",
   "execution_count": 186,
   "metadata": {},
   "outputs": [],
   "source": [
    "def create_digit_sequence(number, image_width, min_spacing, max_spacing):\n",
    "    default_height = 120\n",
    "    image = Image.new('RGB', (image_width, default_height), color = (255, 255, 255))\n",
    "    draw = ImageDraw.Draw(image)\n",
    "\n",
    "    avg_spacing = np.mean([min_spacing, max_spacing])\n",
    "    space = 0\n",
    "    for digit in number:\n",
    "        space = space + avg_spacing\n",
    "        (x, y) = (space, 50)\n",
    "        color = 'rgb(0, 0, 0)'\n",
    "        draw.text((x, y), digit, fill=color)\n",
    "        print(\"count : \",space , \"  & width : \", width)\n",
    "\n",
    "    # save the edited image\n",
    "    image.save('digit.png')\n",
    "    "
   ]
  },
  {
   "cell_type": "code",
   "execution_count": null,
   "metadata": {},
   "outputs": [],
   "source": []
  },
  {
   "cell_type": "code",
   "execution_count": 189,
   "metadata": {},
   "outputs": [
    {
     "name": "stdout",
     "output_type": "stream",
     "text": [
      "count :  50.0   & width :  90\n",
      "count :  100.0   & width :  90\n",
      "count :  150.0   & width :  90\n",
      "count :  200.0   & width :  90\n",
      "count :  250.0   & width :  90\n",
      "count :  300.0   & width :  90\n",
      "count :  350.0   & width :  90\n",
      "count :  400.0   & width :  90\n",
      "count :  450.0   & width :  90\n",
      "count :  500.0   & width :  90\n",
      "count :  550.0   & width :  90\n"
     ]
    }
   ],
   "source": [
    "create_digit_sequence(\"12345678910\", 400, 45, 55)\n",
    "img = cv2.imread('digit.png')\n",
    "cv2.imshow(\"create digit sequene \", img)\n",
    "\n",
    "cv2.waitKey(0)\n",
    "cv2.destroyAllWindows()"
   ]
  },
  {
   "cell_type": "code",
   "execution_count": null,
   "metadata": {},
   "outputs": [],
   "source": []
  },
  {
   "cell_type": "code",
   "execution_count": null,
   "metadata": {},
   "outputs": [],
   "source": []
  },
  {
   "cell_type": "code",
   "execution_count": null,
   "metadata": {},
   "outputs": [],
   "source": []
  },
  {
   "cell_type": "code",
   "execution_count": null,
   "metadata": {},
   "outputs": [],
   "source": []
  },
  {
   "cell_type": "code",
   "execution_count": 140,
   "metadata": {},
   "outputs": [
    {
     "name": "stdout",
     "output_type": "stream",
     "text": [
      "count :  20   & width :  90\n"
     ]
    }
   ],
   "source": [
    "digit = \"1\"\n",
    "\n",
    "image = Image.new('RGB', (320, 320), color = (255, 255, 255))\n",
    "draw = ImageDraw.Draw(image)\n",
    "\n",
    "count = 5\n",
    "for i in digit:\n",
    "    count = count + 15\n",
    "    width = 70 + count\n",
    "    (x, y) = (width, 50)\n",
    "    color = 'rgb(0, 0, 0)'\n",
    "    draw.text((x, y), i, fill=color)\n",
    "    print(\"count : \",count , \"  & width : \", width)\n",
    "\n",
    "# save the edited image\n",
    " \n",
    "image.save('digit.png')"
   ]
  },
  {
   "cell_type": "code",
   "execution_count": null,
   "metadata": {},
   "outputs": [],
   "source": []
  },
  {
   "cell_type": "code",
   "execution_count": 141,
   "metadata": {},
   "outputs": [],
   "source": [
    "img = cv2.imread('digit.png')\n",
    "cv2.imshow(\"create digit sequene \", img)\n",
    "\n",
    "cv2.waitKey(0)\n",
    "cv2.destroyAllWindows()"
   ]
  },
  {
   "cell_type": "code",
   "execution_count": 165,
   "metadata": {},
   "outputs": [
    {
     "name": "stdout",
     "output_type": "stream",
     "text": [
      "value :  6.0\n"
     ]
    }
   ],
   "source": [
    "np.random.seed(3)\n",
    "\n",
    "# value = np.random.rand(2,50)\n",
    "\n",
    "# value = range(2,50)\n",
    "# value = np.linspace(2,10,5)\n",
    "value =  np.mean([2, 10])\n",
    "print(\"value : \", value)"
   ]
  },
  {
   "cell_type": "code",
   "execution_count": 149,
   "metadata": {},
   "outputs": [
    {
     "name": "stdout",
     "output_type": "stream",
     "text": [
      "value :  [0.28352508 0.69313792 0.44045372 0.15686774 0.54464902 0.78031476\n",
      " 0.30636353 0.22195788 0.38797126 0.93638365]\n"
     ]
    }
   ],
   "source": [
    "value = np.random.rand(10)\n",
    "print(\"value : \", value)"
   ]
  },
  {
   "cell_type": "code",
   "execution_count": null,
   "metadata": {},
   "outputs": [],
   "source": []
  },
  {
   "cell_type": "code",
   "execution_count": null,
   "metadata": {},
   "outputs": [],
   "source": []
  }
 ],
 "metadata": {
  "kernelspec": {
   "display_name": "Python 3",
   "language": "python",
   "name": "python3"
  },
  "language_info": {
   "codemirror_mode": {
    "name": "ipython",
    "version": 3
   },
   "file_extension": ".py",
   "mimetype": "text/x-python",
   "name": "python",
   "nbconvert_exporter": "python",
   "pygments_lexer": "ipython3",
   "version": "3.7.3"
  }
 },
 "nbformat": 4,
 "nbformat_minor": 2
}
