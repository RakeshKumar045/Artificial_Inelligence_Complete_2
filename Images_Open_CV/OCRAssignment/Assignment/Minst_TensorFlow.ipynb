{
 "cells": [
  {
   "cell_type": "code",
   "execution_count": 188,
   "metadata": {},
   "outputs": [],
   "source": [
    "import tensorflow as tf\n",
    "from tensorflow import keras\n",
    "import matplotlib.pyplot as plt\n",
    "import cv2\n",
    "import numpy as np\n",
    "\n",
    "# print(tf.__version__)"
   ]
  },
  {
   "cell_type": "code",
   "execution_count": 17,
   "metadata": {},
   "outputs": [],
   "source": [
    "# !pip install tensorflow\n",
    "# !pip install --upgrade pip\n",
    "# !pip install cv2\n",
    "# pip install matplotlib\n"
   ]
  },
  {
   "cell_type": "code",
   "execution_count": 29,
   "metadata": {},
   "outputs": [
    {
     "name": "stdout",
     "output_type": "stream",
     "text": [
      "(60000, 28, 28)\n",
      "(10000, 28, 28)\n",
      "(60000,)\n",
      "(10000,)\n",
      " X_train type   :  <class 'numpy.ndarray'>  X_test type   :  <class 'numpy.ndarray'>\n",
      " Y_train type   :  <class 'numpy.ndarray'> Y_test type   :  <class 'numpy.ndarray'>\n"
     ]
    }
   ],
   "source": [
    "(x_train , y_train), (x_test, y_test) = keras.datasets.mnist.load_data()\n",
    "print(x_train.shape)\n",
    "print(x_test.shape)\n",
    "print(y_train.shape)\n",
    "print(y_test.shape)\n",
    "print(\" X_train type   : \", type(x_train), \" X_test type   : \", type(x_test))\n",
    "print(\" Y_train type   : \", type(y_train), \"Y_test type   : \", type(y_test))"
   ]
  },
  {
   "cell_type": "code",
   "execution_count": 19,
   "metadata": {},
   "outputs": [
    {
     "name": "stdout",
     "output_type": "stream",
     "text": [
      "(60000, 28, 28)\n",
      "(10000, 28, 28)\n"
     ]
    }
   ],
   "source": [
    "x_train , x_test = x_train / 255.0, x_test / 255.0\n",
    "print(x_train.shape)\n",
    "print(x_test.shape)"
   ]
  },
  {
   "cell_type": "code",
   "execution_count": 20,
   "metadata": {},
   "outputs": [],
   "source": [
    "model = keras.models.Sequential([\n",
    "    keras.layers.Flatten(input_shape = (28,28)),\n",
    "    keras.layers.Dense(128, activation = \"relu\"),\n",
    "    keras.layers.Dropout(0.2),\n",
    "    keras.layers.Dense(10 , activation = \"softmax\")\n",
    "    \n",
    "])"
   ]
  },
  {
   "cell_type": "code",
   "execution_count": 21,
   "metadata": {},
   "outputs": [],
   "source": [
    "model.compile(optimizer='adam',\n",
    "              loss='sparse_categorical_crossentropy',\n",
    "              metrics=['accuracy'])"
   ]
  },
  {
   "cell_type": "code",
   "execution_count": 23,
   "metadata": {
    "scrolled": true
   },
   "outputs": [
    {
     "name": "stdout",
     "output_type": "stream",
     "text": [
      "Train on 60000 samples\n",
      "Epoch 1/100\n",
      "60000/60000 [==============================] - 7s 112us/sample - loss: 0.0890 - accuracy: 0.9728\n",
      "Epoch 2/100\n",
      "60000/60000 [==============================] - 7s 109us/sample - loss: 0.0755 - accuracy: 0.9771\n",
      "Epoch 3/100\n",
      "60000/60000 [==============================] - 6s 103us/sample - loss: 0.0655 - accuracy: 0.9795\n",
      "Epoch 4/100\n",
      "60000/60000 [==============================] - 6s 108us/sample - loss: 0.0590 - accuracy: 0.9817\n",
      "Epoch 5/100\n",
      "60000/60000 [==============================] - 7s 110us/sample - loss: 0.0527 - accuracy: 0.9825\n",
      "Epoch 6/100\n",
      "60000/60000 [==============================] - 7s 110us/sample - loss: 0.0482 - accuracy: 0.9839\n",
      "Epoch 7/100\n",
      "60000/60000 [==============================] - 7s 111us/sample - loss: 0.0442 - accuracy: 0.9852\n",
      "Epoch 8/100\n",
      "60000/60000 [==============================] - 7s 112us/sample - loss: 0.0411 - accuracy: 0.9864\n",
      "Epoch 9/100\n",
      "60000/60000 [==============================] - 7s 109us/sample - loss: 0.0394 - accuracy: 0.9871\n",
      "Epoch 10/100\n",
      "60000/60000 [==============================] - 7s 110us/sample - loss: 0.0369 - accuracy: 0.9874\n",
      "Epoch 11/100\n",
      "60000/60000 [==============================] - 7s 112us/sample - loss: 0.0352 - accuracy: 0.9883\n",
      "Epoch 12/100\n",
      "60000/60000 [==============================] - 7s 112us/sample - loss: 0.0338 - accuracy: 0.9887\n",
      "Epoch 13/100\n",
      "60000/60000 [==============================] - 7s 109us/sample - loss: 0.0310 - accuracy: 0.9896\n",
      "Epoch 14/100\n",
      "60000/60000 [==============================] - 7s 112us/sample - loss: 0.0285 - accuracy: 0.9902\n",
      "Epoch 15/100\n",
      "60000/60000 [==============================] - 6s 102us/sample - loss: 0.0277 - accuracy: 0.9905\n",
      "Epoch 16/100\n",
      "60000/60000 [==============================] - 7s 111us/sample - loss: 0.0271 - accuracy: 0.9903\n",
      "Epoch 17/100\n",
      "60000/60000 [==============================] - 5s 86us/sample - loss: 0.0267 - accuracy: 0.9910\n",
      "Epoch 18/100\n",
      "60000/60000 [==============================] - 5s 87us/sample - loss: 0.0260 - accuracy: 0.9913\n",
      "Epoch 19/100\n",
      "60000/60000 [==============================] - 6s 104us/sample - loss: 0.0250 - accuracy: 0.9910\n",
      "Epoch 20/100\n",
      "60000/60000 [==============================] - 6s 107us/sample - loss: 0.0231 - accuracy: 0.9919\n",
      "Epoch 21/100\n",
      "60000/60000 [==============================] - 7s 112us/sample - loss: 0.0229 - accuracy: 0.9921\n",
      "Epoch 22/100\n",
      "60000/60000 [==============================] - 7s 111us/sample - loss: 0.0234 - accuracy: 0.9919\n",
      "Epoch 23/100\n",
      "60000/60000 [==============================] - 7s 112us/sample - loss: 0.0226 - accuracy: 0.9921\n",
      "Epoch 24/100\n",
      "60000/60000 [==============================] - 7s 113us/sample - loss: 0.0219 - accuracy: 0.9924\n",
      "Epoch 25/100\n",
      "60000/60000 [==============================] - 7s 108us/sample - loss: 0.0216 - accuracy: 0.9926\n",
      "Epoch 26/100\n",
      "60000/60000 [==============================] - 6s 93us/sample - loss: 0.0200 - accuracy: 0.9931\n",
      "Epoch 27/100\n",
      "60000/60000 [==============================] - 6s 100us/sample - loss: 0.0201 - accuracy: 0.9930\n",
      "Epoch 28/100\n",
      "60000/60000 [==============================] - 7s 112us/sample - loss: 0.0203 - accuracy: 0.9933\n",
      "Epoch 29/100\n",
      "60000/60000 [==============================] - 7s 111us/sample - loss: 0.0202 - accuracy: 0.9930\n",
      "Epoch 30/100\n",
      "60000/60000 [==============================] - 7s 112us/sample - loss: 0.0183 - accuracy: 0.9935\n",
      "Epoch 31/100\n",
      "60000/60000 [==============================] - 7s 111us/sample - loss: 0.0190 - accuracy: 0.9937\n",
      "Epoch 32/100\n",
      "60000/60000 [==============================] - 7s 111us/sample - loss: 0.0181 - accuracy: 0.9933\n",
      "Epoch 33/100\n",
      "60000/60000 [==============================] - 7s 111us/sample - loss: 0.0185 - accuracy: 0.9932\n",
      "Epoch 34/100\n",
      "60000/60000 [==============================] - 7s 112us/sample - loss: 0.0174 - accuracy: 0.9941\n",
      "Epoch 35/100\n",
      "60000/60000 [==============================] - 7s 112us/sample - loss: 0.0176 - accuracy: 0.9939\n",
      "Epoch 36/100\n",
      "60000/60000 [==============================] - 7s 112us/sample - loss: 0.0171 - accuracy: 0.9940\n",
      "Epoch 37/100\n",
      "60000/60000 [==============================] - 7s 113us/sample - loss: 0.0159 - accuracy: 0.9947\n",
      "Epoch 38/100\n",
      "60000/60000 [==============================] - 7s 111us/sample - loss: 0.0167 - accuracy: 0.9945\n",
      "Epoch 39/100\n",
      "60000/60000 [==============================] - 7s 112us/sample - loss: 0.0165 - accuracy: 0.9944\n",
      "Epoch 40/100\n",
      "60000/60000 [==============================] - 7s 112us/sample - loss: 0.0166 - accuracy: 0.9943\n",
      "Epoch 41/100\n",
      "60000/60000 [==============================] - 7s 112us/sample - loss: 0.0153 - accuracy: 0.9948\n",
      "Epoch 42/100\n",
      "60000/60000 [==============================] - 7s 112us/sample - loss: 0.0173 - accuracy: 0.9938\n",
      "Epoch 43/100\n",
      "60000/60000 [==============================] - 7s 112us/sample - loss: 0.0154 - accuracy: 0.9950\n",
      "Epoch 44/100\n",
      "60000/60000 [==============================] - 7s 113us/sample - loss: 0.0152 - accuracy: 0.9947\n",
      "Epoch 45/100\n",
      "60000/60000 [==============================] - 7s 113us/sample - loss: 0.0168 - accuracy: 0.9945\n",
      "Epoch 46/100\n",
      "60000/60000 [==============================] - 7s 112us/sample - loss: 0.0157 - accuracy: 0.9948\n",
      "Epoch 47/100\n",
      "60000/60000 [==============================] - 7s 112us/sample - loss: 0.0153 - accuracy: 0.9947\n",
      "Epoch 48/100\n",
      "60000/60000 [==============================] - 7s 113us/sample - loss: 0.0144 - accuracy: 0.9949\n",
      "Epoch 49/100\n",
      "60000/60000 [==============================] - 7s 113us/sample - loss: 0.0138 - accuracy: 0.9951\n",
      "Epoch 50/100\n",
      "60000/60000 [==============================] - 6s 93us/sample - loss: 0.0143 - accuracy: 0.9953\n",
      "Epoch 51/100\n",
      "60000/60000 [==============================] - 6s 102us/sample - loss: 0.0142 - accuracy: 0.9952\n",
      "Epoch 52/100\n",
      "60000/60000 [==============================] - 7s 112us/sample - loss: 0.0153 - accuracy: 0.9950\n",
      "Epoch 53/100\n",
      "60000/60000 [==============================] - 7s 113us/sample - loss: 0.0153 - accuracy: 0.9946\n",
      "Epoch 54/100\n",
      "60000/60000 [==============================] - 7s 112us/sample - loss: 0.0137 - accuracy: 0.9957\n",
      "Epoch 55/100\n",
      "60000/60000 [==============================] - 7s 113us/sample - loss: 0.0144 - accuracy: 0.9948\n",
      "Epoch 56/100\n",
      "60000/60000 [==============================] - 7s 111us/sample - loss: 0.0164 - accuracy: 0.9943\n",
      "Epoch 57/100\n",
      "60000/60000 [==============================] - 7s 111us/sample - loss: 0.0147 - accuracy: 0.9952\n",
      "Epoch 58/100\n",
      "60000/60000 [==============================] - 7s 111us/sample - loss: 0.0150 - accuracy: 0.9949\n",
      "Epoch 59/100\n",
      "60000/60000 [==============================] - 7s 113us/sample - loss: 0.0141 - accuracy: 0.9953\n",
      "Epoch 60/100\n",
      "60000/60000 [==============================] - 6s 108us/sample - loss: 0.0139 - accuracy: 0.9952\n",
      "Epoch 61/100\n",
      "60000/60000 [==============================] - 7s 113us/sample - loss: 0.0147 - accuracy: 0.9952\n",
      "Epoch 62/100\n",
      "60000/60000 [==============================] - 7s 111us/sample - loss: 0.0141 - accuracy: 0.9952\n",
      "Epoch 63/100\n",
      "60000/60000 [==============================] - 7s 110us/sample - loss: 0.0114 - accuracy: 0.9961\n",
      "Epoch 64/100\n",
      "60000/60000 [==============================] - 7s 110us/sample - loss: 0.0132 - accuracy: 0.9958\n",
      "Epoch 65/100\n",
      "60000/60000 [==============================] - 7s 113us/sample - loss: 0.0137 - accuracy: 0.9957\n",
      "Epoch 66/100\n",
      "60000/60000 [==============================] - 7s 111us/sample - loss: 0.0137 - accuracy: 0.9954\n",
      "Epoch 67/100\n",
      "60000/60000 [==============================] - 7s 113us/sample - loss: 0.0139 - accuracy: 0.9956\n",
      "Epoch 68/100\n",
      "60000/60000 [==============================] - 7s 110us/sample - loss: 0.0142 - accuracy: 0.9953\n",
      "Epoch 69/100\n",
      "60000/60000 [==============================] - 7s 112us/sample - loss: 0.0119 - accuracy: 0.9959\n",
      "Epoch 70/100\n",
      "60000/60000 [==============================] - 7s 112us/sample - loss: 0.0127 - accuracy: 0.9954\n",
      "Epoch 71/100\n",
      "60000/60000 [==============================] - 6s 108us/sample - loss: 0.0119 - accuracy: 0.9959\n",
      "Epoch 72/100\n",
      "60000/60000 [==============================] - 7s 112us/sample - loss: 0.0128 - accuracy: 0.9960\n",
      "Epoch 73/100\n",
      "60000/60000 [==============================] - 7s 114us/sample - loss: 0.0144 - accuracy: 0.9953\n",
      "Epoch 74/100\n",
      "60000/60000 [==============================] - 6s 102us/sample - loss: 0.0116 - accuracy: 0.9960\n",
      "Epoch 75/100\n",
      "60000/60000 [==============================] - 7s 112us/sample - loss: 0.0125 - accuracy: 0.9959\n",
      "Epoch 76/100\n",
      "60000/60000 [==============================] - 7s 113us/sample - loss: 0.0132 - accuracy: 0.9960\n",
      "Epoch 77/100\n",
      "60000/60000 [==============================] - 7s 110us/sample - loss: 0.0127 - accuracy: 0.9961\n",
      "Epoch 78/100\n",
      "60000/60000 [==============================] - 7s 114us/sample - loss: 0.0125 - accuracy: 0.9960\n",
      "Epoch 79/100\n",
      "60000/60000 [==============================] - 7s 115us/sample - loss: 0.0120 - accuracy: 0.9958\n",
      "Epoch 80/100\n",
      "60000/60000 [==============================] - 7s 113us/sample - loss: 0.0131 - accuracy: 0.9957\n",
      "Epoch 81/100\n",
      "60000/60000 [==============================] - 7s 114us/sample - loss: 0.0113 - accuracy: 0.9961\n",
      "Epoch 82/100\n",
      "60000/60000 [==============================] - 7s 115us/sample - loss: 0.0118 - accuracy: 0.9961\n",
      "Epoch 83/100\n",
      "60000/60000 [==============================] - 7s 114us/sample - loss: 0.0114 - accuracy: 0.9964\n",
      "Epoch 84/100\n",
      "60000/60000 [==============================] - 7s 114us/sample - loss: 0.0121 - accuracy: 0.9965\n",
      "Epoch 85/100\n",
      "60000/60000 [==============================] - 7s 114us/sample - loss: 0.0117 - accuracy: 0.9966\n",
      "Epoch 86/100\n",
      "60000/60000 [==============================] - 7s 111us/sample - loss: 0.0119 - accuracy: 0.9960\n",
      "Epoch 87/100\n",
      "60000/60000 [==============================] - 7s 110us/sample - loss: 0.0116 - accuracy: 0.9963\n",
      "Epoch 88/100\n",
      "60000/60000 [==============================] - 6s 108us/sample - loss: 0.0101 - accuracy: 0.9967\n",
      "Epoch 89/100\n",
      "60000/60000 [==============================] - 6s 107us/sample - loss: 0.0104 - accuracy: 0.9966\n",
      "Epoch 90/100\n",
      "60000/60000 [==============================] - 7s 109us/sample - loss: 0.0116 - accuracy: 0.9964\n",
      "Epoch 91/100\n",
      "60000/60000 [==============================] - 6s 108us/sample - loss: 0.0115 - accuracy: 0.9962\n",
      "Epoch 92/100\n",
      "60000/60000 [==============================] - 6s 108us/sample - loss: 0.0124 - accuracy: 0.9962\n",
      "Epoch 93/100\n",
      "60000/60000 [==============================] - 7s 110us/sample - loss: 0.0118 - accuracy: 0.9963\n",
      "Epoch 94/100\n",
      "60000/60000 [==============================] - 7s 110us/sample - loss: 0.0117 - accuracy: 0.9959\n",
      "Epoch 95/100\n",
      "60000/60000 [==============================] - 6s 107us/sample - loss: 0.0122 - accuracy: 0.9966\n",
      "Epoch 96/100\n",
      "60000/60000 [==============================] - 7s 111us/sample - loss: 0.0105 - accuracy: 0.9968\n",
      "Epoch 97/100\n",
      "60000/60000 [==============================] - 7s 115us/sample - loss: 0.0122 - accuracy: 0.9964\n",
      "Epoch 98/100\n",
      "60000/60000 [==============================] - 7s 114us/sample - loss: 0.0107 - accuracy: 0.9966\n",
      "Epoch 99/100\n",
      "60000/60000 [==============================] - 7s 115us/sample - loss: 0.0104 - accuracy: 0.9966\n",
      "Epoch 100/100\n",
      "60000/60000 [==============================] - 7s 113us/sample - loss: 0.0113 - accuracy: 0.9965\n"
     ]
    },
    {
     "data": {
      "text/plain": [
       "<tensorflow.python.keras.callbacks.History at 0x18982e410b8>"
      ]
     },
     "execution_count": 23,
     "metadata": {},
     "output_type": "execute_result"
    }
   ],
   "source": [
    "model.fit(x_train, y_train,epochs=100)"
   ]
  },
  {
   "cell_type": "code",
   "execution_count": 59,
   "metadata": {},
   "outputs": [
    {
     "name": "stdout",
     "output_type": "stream",
     "text": [
      "Accuracy :  0.9816\n",
      "Loss is :  39.14859577636719\n"
     ]
    }
   ],
   "source": [
    "loss, accuracy = model.evaluate(x_test, y_test, verbose=0)\n",
    "print(\"Accuracy : \",accuracy)\n",
    "print(\"Loss is : \",loss)"
   ]
  },
  {
   "cell_type": "code",
   "execution_count": 154,
   "metadata": {
    "scrolled": true
   },
   "outputs": [
    {
     "name": "stdout",
     "output_type": "stream",
     "text": [
      "Model: \"sequential_3\"\n",
      "_________________________________________________________________\n",
      "Layer (type)                 Output Shape              Param #   \n",
      "=================================================================\n",
      "flatten_3 (Flatten)          (None, 784)               0         \n",
      "_________________________________________________________________\n",
      "dense_6 (Dense)              (None, 128)               100480    \n",
      "_________________________________________________________________\n",
      "dropout_3 (Dropout)          (None, 128)               0         \n",
      "_________________________________________________________________\n",
      "dense_7 (Dense)              (None, 10)                1290      \n",
      "=================================================================\n",
      "Total params: 101,770\n",
      "Trainable params: 101,770\n",
      "Non-trainable params: 0\n",
      "_________________________________________________________________\n"
     ]
    }
   ],
   "source": [
    "# Save the model\n",
    "model.save('mnist_model.h5')\n",
    "\n",
    "# Show the model architecture\n",
    "model.summary()"
   ]
  },
  {
   "cell_type": "code",
   "execution_count": 127,
   "metadata": {
    "scrolled": true
   },
   "outputs": [],
   "source": [
    "# Load the model\n",
    "new_model = tf.keras.models.load_model('mnist_model.h5')\n",
    "\n",
    "# Show the new model architecture\n",
    "# new_model.summary()"
   ]
  },
  {
   "cell_type": "code",
   "execution_count": null,
   "metadata": {},
   "outputs": [],
   "source": []
  },
  {
   "cell_type": "code",
   "execution_count": 49,
   "metadata": {
    "scrolled": false
   },
   "outputs": [
    {
     "data": {
      "image/png": "[encoded data removed]",
      "text/plain": [
       "<Figure size 7200x864 with 60 Axes>"
      ]
     },
     "metadata": {},
     "output_type": "display_data"
    }
   ],
   "source": [
    "plt.figure(figsize=(100,12))\n",
    "for i in range(60):\n",
    "    plt.subplot(5,12,i+1)\n",
    "    plt.xticks([])\n",
    "    plt.yticks([])\n",
    "    plt.grid(False)\n",
    "    plt.imshow(x_test[i], cmap=plt.cm.binary)\n",
    "    \n",
    "plt.show()"
   ]
  },
  {
   "cell_type": "code",
   "execution_count": 155,
   "metadata": {},
   "outputs": [
    {
     "name": "stdout",
     "output_type": "stream",
     "text": [
      "<class 'numpy.ndarray'>\n",
      "shape : (10000, 28, 28)\n",
      "<class 'numpy.ndarray'>\n",
      "(28, 28)\n",
      "[[  0   0   0   0   0   0   0   0   0   0   0   0   0   0   0   0   0   0\n",
      "    0   0   0   0   0   0   0   0   0   0]\n",
      " [  0   0   0   0   0   0   0   0   0   0   0   0   0   0   0   0   0   0\n",
      "    0   0   0   0   0   0   0   0   0   0]\n",
      " [  0   0   0   0   0   0   0   0   0   0   0   0   0   0   0   0   0   0\n",
      "    0   0   0   0   0   0   0   0   0   0]\n",
      " [  0   0   0   0   0   0   0   0   0   0   0   0   0   0   0   0   0   0\n",
      "    0   0   0   0   0   0   0   0   0   0]\n",
      " [  0   0   0   0   0   0   0   0   0   0   0   0   0   0   0   0   0   0\n",
      "    0   0   0   0   0   0   0   0   0   0]\n",
      " [  0   0   0   0   0   0   0   0   0   0   0   0   0   0   0   0   0   0\n",
      "    0   0   0   0   0   0   0   0   0   0]\n",
      " [  0   0   0   0   0   0   0   0   0   0   0   0   0   0   0   0   0   0\n",
      "    0   0   0   0   0   0   0   0   0   0]\n",
      " [  0   0   0   0   0   0  84 185 159 151  60  36   0   0   0   0   0   0\n",
      "    0   0   0   0   0   0   0   0   0   0]\n",
      " [  0   0   0   0   0   0 222 254 254 254 254 241 198 198 198 198 198 198\n",
      "  198 198 170  52   0   0   0   0   0   0]\n",
      " [  0   0   0   0   0   0  67 114  72 114 163 227 254 225 254 254 254 250\n",
      "  229 254 254 140   0   0   0   0   0   0]\n",
      " [  0   0   0   0   0   0   0   0   0   0   0  17  66  14  67  67  67  59\n",
      "   21 236 254 106   0   0   0   0   0   0]\n",
      " [  0   0   0   0   0   0   0   0   0   0   0   0   0   0   0   0   0   0\n",
      "   83 253 209  18   0   0   0   0   0   0]\n",
      " [  0   0   0   0   0   0   0   0   0   0   0   0   0   0   0   0   0  22\n",
      "  233 255  83   0   0   0   0   0   0   0]\n",
      " [  0   0   0   0   0   0   0   0   0   0   0   0   0   0   0   0   0 129\n",
      "  254 238  44   0   0   0   0   0   0   0]\n",
      " [  0   0   0   0   0   0   0   0   0   0   0   0   0   0   0   0  59 249\n",
      "  254  62   0   0   0   0   0   0   0   0]\n",
      " [  0   0   0   0   0   0   0   0   0   0   0   0   0   0   0   0 133 254\n",
      "  187   5   0   0   0   0   0   0   0   0]\n",
      " [  0   0   0   0   0   0   0   0   0   0   0   0   0   0   0   9 205 248\n",
      "   58   0   0   0   0   0   0   0   0   0]\n",
      " [  0   0   0   0   0   0   0   0   0   0   0   0   0   0   0 126 254 182\n",
      "    0   0   0   0   0   0   0   0   0   0]\n",
      " [  0   0   0   0   0   0   0   0   0   0   0   0   0   0  75 251 240  57\n",
      "    0   0   0   0   0   0   0   0   0   0]\n",
      " [  0   0   0   0   0   0   0   0   0   0   0   0   0  19 221 254 166   0\n",
      "    0   0   0   0   0   0   0   0   0   0]\n",
      " [  0   0   0   0   0   0   0   0   0   0   0   0   3 203 254 219  35   0\n",
      "    0   0   0   0   0   0   0   0   0   0]\n",
      " [  0   0   0   0   0   0   0   0   0   0   0   0  38 254 254  77   0   0\n",
      "    0   0   0   0   0   0   0   0   0   0]\n",
      " [  0   0   0   0   0   0   0   0   0   0   0  31 224 254 115   1   0   0\n",
      "    0   0   0   0   0   0   0   0   0   0]\n",
      " [  0   0   0   0   0   0   0   0   0   0   0 133 254 254  52   0   0   0\n",
      "    0   0   0   0   0   0   0   0   0   0]\n",
      " [  0   0   0   0   0   0   0   0   0   0  61 242 254 254  52   0   0   0\n",
      "    0   0   0   0   0   0   0   0   0   0]\n",
      " [  0   0   0   0   0   0   0   0   0   0 121 254 254 219  40   0   0   0\n",
      "    0   0   0   0   0   0   0   0   0   0]\n",
      " [  0   0   0   0   0   0   0   0   0   0 121 254 207  18   0   0   0   0\n",
      "    0   0   0   0   0   0   0   0   0   0]\n",
      " [  0   0   0   0   0   0   0   0   0   0   0   0   0   0   0   0   0   0\n",
      "    0   0   0   0   0   0   0   0   0   0]]\n"
     ]
    }
   ],
   "source": [
    "print(type(x_test))\n",
    "print(\"shape :\", x_test.shape)\n",
    "print(type(x_test[0]))\n",
    "print(x_test[0].shape)\n",
    "print(x_test[0])"
   ]
  },
  {
   "cell_type": "code",
   "execution_count": 174,
   "metadata": {},
   "outputs": [
    {
     "data": {
      "text/plain": [
       "(28, 28)"
      ]
     },
     "execution_count": 174,
     "metadata": {},
     "output_type": "execute_result"
    }
   ],
   "source": [
    "img = cv2.imread(\"1.png\", 0)\n",
    "img_resize = cv2.resize(img, (28, 28))\n",
    "img_resize.shape"
   ]
  },
  {
   "cell_type": "code",
   "execution_count": 175,
   "metadata": {},
   "outputs": [
    {
     "name": "stdout",
     "output_type": "stream",
     "text": [
      "img_dim sahpe :  (1, 28, 28)\n",
      "3\n"
     ]
    }
   ],
   "source": [
    "img_dim = np.expand_dims(img_resize, axis = 0)\n",
    "print(\"img_dim sahpe : \", img_dim.shape)\n",
    "single_pred = model.predict(img_dim)\n",
    "print(np.argmax(single_pred))"
   ]
  },
  {
   "cell_type": "code",
   "execution_count": null,
   "metadata": {},
   "outputs": [],
   "source": []
  },
  {
   "cell_type": "code",
   "execution_count": null,
   "metadata": {},
   "outputs": [],
   "source": []
  },
  {
   "cell_type": "code",
   "execution_count": null,
   "metadata": {},
   "outputs": [],
   "source": []
  }
 ],
 "metadata": {
  "kernelspec": {
   "display_name": "Python 3",
   "language": "python",
   "name": "python3"
  },
  "language_info": {
   "codemirror_mode": {
    "name": "ipython",
    "version": 3
   },
   "file_extension": ".py",
   "mimetype": "text/x-python",
   "name": "python",
   "nbconvert_exporter": "python",
   "pygments_lexer": "ipython3",
   "version": "3.7.3"
  }
 },
 "nbformat": 4,
 "nbformat_minor": 2
}
