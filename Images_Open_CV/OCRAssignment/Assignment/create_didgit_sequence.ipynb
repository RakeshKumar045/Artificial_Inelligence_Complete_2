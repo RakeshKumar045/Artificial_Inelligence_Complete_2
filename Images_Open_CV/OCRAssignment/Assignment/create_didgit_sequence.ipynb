{
 "cells": [
  {
   "cell_type": "code",
   "execution_count": 34,
   "metadata": {},
   "outputs": [],
   "source": [
    "import cv2\n",
    "from PIL import Image, ImageDraw\n",
    "import numpy as np"
   ]
  },
  {
   "cell_type": "code",
   "execution_count": null,
   "metadata": {},
   "outputs": [],
   "source": []
  },
  {
   "cell_type": "code",
   "execution_count": 27,
   "metadata": {},
   "outputs": [],
   "source": [
    "def create_digit_sequence(number, image_width, min_spacing, max_spacing):\n",
    "    default_height = 120\n",
    "    image = Image.new('RGB', (image_width, default_height), color = (255, 255, 255))\n",
    "    draw = ImageDraw.Draw(image)\n",
    "\n",
    "    avg_spacing = np.mean([min_spacing, max_spacing])\n",
    "    space = 0\n",
    "    for digit in number:\n",
    "        space = space + avg_spacing\n",
    "        (x, y) = (space, 50)\n",
    "        color = 'rgb(0, 0, 0)'\n",
    "        draw.text((x, y), digit, fill=color)\n",
    "    \n",
    "    image.save('digit.png')\n",
    "    \n",
    "    numpy_image = np.array(image)\n",
    "    return numpy_image\n",
    "    "
   ]
  },
  {
   "cell_type": "code",
   "execution_count": null,
   "metadata": {},
   "outputs": [],
   "source": []
  },
  {
   "cell_type": "code",
   "execution_count": 33,
   "metadata": {},
   "outputs": [],
   "source": [
    "val = create_digit_sequence(\"1234\", 400, 2, 10)\n",
    "img = cv2.imread('digit.png')\n",
    "cv2.imshow(\"Digit Sequene\", img)\n",
    "\n",
    "cv2.waitKey(0)\n",
    "cv2.destroyAllWindows()"
   ]
  },
  {
   "cell_type": "code",
   "execution_count": null,
   "metadata": {},
   "outputs": [],
   "source": []
  },
  {
   "cell_type": "code",
   "execution_count": null,
   "metadata": {},
   "outputs": [],
   "source": []
  }
 ],
 "metadata": {
  "kernelspec": {
   "display_name": "Python 3",
   "language": "python",
   "name": "python3"
  },
  "language_info": {
   "codemirror_mode": {
    "name": "ipython",
    "version": 3
   },
   "file_extension": ".py",
   "mimetype": "text/x-python",
   "name": "python",
   "nbconvert_exporter": "python",
   "pygments_lexer": "ipython3",
   "version": "3.7.3"
  }
 },
 "nbformat": 4,
 "nbformat_minor": 2
}
