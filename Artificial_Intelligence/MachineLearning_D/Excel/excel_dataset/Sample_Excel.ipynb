{
 "cells": [
  {
   "cell_type": "code",
   "execution_count": 2,
   "metadata": {},
   "outputs": [],
   "source": [
    "import pandas as pd"
   ]
  },
  {
   "cell_type": "code",
   "execution_count": 3,
   "metadata": {},
   "outputs": [
    {
     "data": {
      "text/plain": [
       "'D:\\\\DataScience\\\\MLGroupPractice\\\\Excel\\\\excel_dataset'"
      ]
     },
     "execution_count": 3,
     "metadata": {},
     "output_type": "execute_result"
    }
   ],
   "source": [
    "pwd"
   ]
  },
  {
   "cell_type": "code",
   "execution_count": 14,
   "metadata": {},
   "outputs": [],
   "source": [
    "path = r'D:\\\\DataScience\\\\MLGroupPractice\\\\Excel\\\\excel_dataset\\\\Data-analysis-with-pandas\\\\datasets\\\\titanic.xls'\n",
    "#Reading Excel file\n",
    "df = pd.read_excel(path)\n"
   ]
  },
  {
   "cell_type": "code",
   "execution_count": 13,
   "metadata": {},
   "outputs": [
    {
     "name": "stdout",
     "output_type": "stream",
     "text": [
      "<class 'pandas.core.frame.DataFrame'>\n",
      "(20, 14)\n",
      "Index(['pclass', 'survived', 'name', 'sex', 'age', 'sibsp', 'parch', 'ticket',\n",
      "       'fare', 'cabin', 'embarked', 'boat', 'body', 'home.dest'],\n",
      "      dtype='object')\n",
      "****************************************************************************************************\n",
      "<class 'pandas.core.frame.DataFrame'>\n",
      "RangeIndex: 20 entries, 0 to 19\n",
      "Data columns (total 14 columns):\n",
      "pclass       20 non-null int64\n",
      "survived     20 non-null int64\n",
      "name         20 non-null object\n",
      "sex          20 non-null object\n",
      "age          20 non-null object\n",
      "sibsp        20 non-null int64\n",
      "parch        20 non-null int64\n",
      "ticket       20 non-null object\n",
      "fare         20 non-null float64\n",
      "cabin        20 non-null object\n",
      "embarked     20 non-null object\n",
      "boat         20 non-null object\n",
      "body         20 non-null object\n",
      "home.dest    20 non-null object\n",
      "dtypes: float64(1), int64(4), object(9)\n",
      "memory usage: 2.3+ KB\n",
      "None\n"
     ]
    }
   ],
   "source": [
    "print(type(df))\n",
    "print(df.shape)\n",
    "print(df.columns)\n",
    "print(\"*\"*100)\n",
    "print(df.info())"
   ]
  },
  {
   "cell_type": "code",
   "execution_count": 15,
   "metadata": {},
   "outputs": [],
   "source": [
    "df1 = pd.read_excel(path,na_values=[None]) \n"
   ]
  },
  {
   "cell_type": "code",
   "execution_count": 16,
   "metadata": {},
   "outputs": [
    {
     "name": "stdout",
     "output_type": "stream",
     "text": [
      "<class 'pandas.core.frame.DataFrame'>\n",
      "(20, 14)\n",
      "Index(['pclass', 'survived', 'name', 'sex', 'age', 'sibsp', 'parch', 'ticket',\n",
      "       'fare', 'cabin', 'embarked', 'boat', 'body', 'home.dest'],\n",
      "      dtype='object')\n",
      "****************************************************************************************************\n",
      "<class 'pandas.core.frame.DataFrame'>\n",
      "RangeIndex: 20 entries, 0 to 19\n",
      "Data columns (total 14 columns):\n",
      "pclass       20 non-null int64\n",
      "survived     20 non-null int64\n",
      "name         20 non-null object\n",
      "sex          20 non-null object\n",
      "age          19 non-null float64\n",
      "sibsp        20 non-null int64\n",
      "parch        20 non-null int64\n",
      "ticket       20 non-null object\n",
      "fare         20 non-null float64\n",
      "cabin        17 non-null object\n",
      "embarked     20 non-null object\n",
      "boat         12 non-null object\n",
      "body         3 non-null float64\n",
      "home.dest    18 non-null object\n",
      "dtypes: float64(3), int64(4), object(7)\n",
      "memory usage: 2.3+ KB\n",
      "None\n"
     ]
    }
   ],
   "source": [
    "print(type(df1))\n",
    "print(df1.shape)\n",
    "print(df1.columns)\n",
    "print(\"*\"*100)\n",
    "print(df1.info())"
   ]
  },
  {
   "cell_type": "code",
   "execution_count": null,
   "metadata": {},
   "outputs": [],
   "source": []
  }
 ],
 "metadata": {
  "kernelspec": {
   "display_name": "Python 3",
   "language": "python",
   "name": "python3"
  },
  "language_info": {
   "codemirror_mode": {
    "name": "ipython",
    "version": 3
   },
   "file_extension": ".py",
   "mimetype": "text/x-python",
   "name": "python",
   "nbconvert_exporter": "python",
   "pygments_lexer": "ipython3",
   "version": "3.7.3"
  }
 },
 "nbformat": 4,
 "nbformat_minor": 2
}
