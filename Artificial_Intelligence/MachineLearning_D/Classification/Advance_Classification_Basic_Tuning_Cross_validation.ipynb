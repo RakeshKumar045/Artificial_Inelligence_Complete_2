{
 "cells": [
  {
   "cell_type": "markdown",
   "metadata": {},
   "source": [
    "Business Case Study: Employee Absenteeism\n",
    "The database was created with records of absenteeism at work from July 2007 to July 2010 at a courier company in Brazil.\n",
    "\n",
    "The business Task\n",
    "The exercise will address Absenteeism at a company during work time.\n",
    "\n",
    "Problem: The problem is that the work environment of today is more:\n",
    "\n",
    "Competitive\n",
    "Managers set unachievable business goals\n",
    "have an elevated risk of becoming unemployed This can be lead to an increase in pressure and stress of the employee. Those factors influence employee health, which is of course indesirable.\n",
    "\n",
    "\n",
    "What is Absenteeism?\n",
    "Absence from work during normal working hours resulting in temporary incapacity to execute a regular working activity.\n",
    "\n",
    "Based on what information should we predict whether an employee is expected to be absent or not?\n",
    "\n",
    "\n",
    "How should we measure absenteeism?\n",
    "Purpose of the business exercise:¶\n",
    "\n",
    "Explore whether a person presenting certain characteristics is expected to be away from work at some point in time or not.\n",
    "\n",
    "We want to know for how many working hours any employee could be away from work based on information like:\n",
    "\n",
    "How far they live from their workplace.\n",
    "\n",
    "\n",
    "How many children and pets they have.\n",
    "Do they have higher education?"
   ]
  },
  {
   "cell_type": "code",
   "execution_count": null,
   "metadata": {},
   "outputs": [],
   "source": []
  },
  {
   "cell_type": "code",
   "execution_count": 1,
   "metadata": {
    "ExecuteTime": {
     "end_time": "2020-02-12T15:52:34.191363Z",
     "start_time": "2020-02-12T15:52:32.784874Z"
    }
   },
   "outputs": [],
   "source": [
    "import pandas as pd\n",
    "import numpy as np\n",
    "import matplotlib.pyplot as plt\n",
    "import seaborn as sns\n",
    "\n",
    "%matplotlib inline\n",
    "sns.set_style(\"whitegrid\")"
   ]
  },
  {
   "cell_type": "code",
   "execution_count": 3,
   "metadata": {
    "ExecuteTime": {
     "end_time": "2020-02-12T15:54:07.062665Z",
     "start_time": "2020-02-12T15:54:06.973108Z"
    }
   },
   "outputs": [
    {
     "data": {
      "text/html": [
       "<div>\n",
       "<style scoped>\n",
       "    .dataframe tbody tr th:only-of-type {\n",
       "        vertical-align: middle;\n",
       "    }\n",
       "\n",
       "    .dataframe tbody tr th {\n",
       "        vertical-align: top;\n",
       "    }\n",
       "\n",
       "    .dataframe thead th {\n",
       "        text-align: right;\n",
       "    }\n",
       "</style>\n",
       "<table border=\"1\" class=\"dataframe\">\n",
       "  <thead>\n",
       "    <tr style=\"text-align: right;\">\n",
       "      <th></th>\n",
       "      <th>ID</th>\n",
       "      <th>Reason for absence</th>\n",
       "      <th>Month of absence</th>\n",
       "      <th>Day of the week</th>\n",
       "      <th>Seasons</th>\n",
       "      <th>Transportation expense</th>\n",
       "      <th>Distance from Residence to Work</th>\n",
       "      <th>Service time</th>\n",
       "      <th>Age</th>\n",
       "      <th>Work load Average/day</th>\n",
       "      <th>...</th>\n",
       "      <th>Disciplinary failure</th>\n",
       "      <th>Education</th>\n",
       "      <th>Son</th>\n",
       "      <th>Social drinker</th>\n",
       "      <th>Social smoker</th>\n",
       "      <th>Pet</th>\n",
       "      <th>Weight</th>\n",
       "      <th>Height</th>\n",
       "      <th>Body mass index</th>\n",
       "      <th>Absenteeism time in hours</th>\n",
       "    </tr>\n",
       "  </thead>\n",
       "  <tbody>\n",
       "    <tr>\n",
       "      <td>0</td>\n",
       "      <td>11</td>\n",
       "      <td>26.0</td>\n",
       "      <td>7.0</td>\n",
       "      <td>3</td>\n",
       "      <td>1</td>\n",
       "      <td>289.0</td>\n",
       "      <td>36.0</td>\n",
       "      <td>13.0</td>\n",
       "      <td>33.0</td>\n",
       "      <td>239554.0</td>\n",
       "      <td>...</td>\n",
       "      <td>0.0</td>\n",
       "      <td>1.0</td>\n",
       "      <td>2.0</td>\n",
       "      <td>1.0</td>\n",
       "      <td>0.0</td>\n",
       "      <td>1.0</td>\n",
       "      <td>90.0</td>\n",
       "      <td>172.0</td>\n",
       "      <td>30.0</td>\n",
       "      <td>4.0</td>\n",
       "    </tr>\n",
       "    <tr>\n",
       "      <td>1</td>\n",
       "      <td>36</td>\n",
       "      <td>0.0</td>\n",
       "      <td>7.0</td>\n",
       "      <td>3</td>\n",
       "      <td>1</td>\n",
       "      <td>118.0</td>\n",
       "      <td>13.0</td>\n",
       "      <td>18.0</td>\n",
       "      <td>50.0</td>\n",
       "      <td>239554.0</td>\n",
       "      <td>...</td>\n",
       "      <td>1.0</td>\n",
       "      <td>1.0</td>\n",
       "      <td>1.0</td>\n",
       "      <td>1.0</td>\n",
       "      <td>0.0</td>\n",
       "      <td>0.0</td>\n",
       "      <td>98.0</td>\n",
       "      <td>178.0</td>\n",
       "      <td>31.0</td>\n",
       "      <td>0.0</td>\n",
       "    </tr>\n",
       "    <tr>\n",
       "      <td>2</td>\n",
       "      <td>3</td>\n",
       "      <td>23.0</td>\n",
       "      <td>7.0</td>\n",
       "      <td>4</td>\n",
       "      <td>1</td>\n",
       "      <td>179.0</td>\n",
       "      <td>51.0</td>\n",
       "      <td>18.0</td>\n",
       "      <td>38.0</td>\n",
       "      <td>239554.0</td>\n",
       "      <td>...</td>\n",
       "      <td>0.0</td>\n",
       "      <td>1.0</td>\n",
       "      <td>0.0</td>\n",
       "      <td>1.0</td>\n",
       "      <td>0.0</td>\n",
       "      <td>0.0</td>\n",
       "      <td>89.0</td>\n",
       "      <td>170.0</td>\n",
       "      <td>31.0</td>\n",
       "      <td>2.0</td>\n",
       "    </tr>\n",
       "    <tr>\n",
       "      <td>3</td>\n",
       "      <td>7</td>\n",
       "      <td>7.0</td>\n",
       "      <td>7.0</td>\n",
       "      <td>5</td>\n",
       "      <td>1</td>\n",
       "      <td>279.0</td>\n",
       "      <td>5.0</td>\n",
       "      <td>14.0</td>\n",
       "      <td>39.0</td>\n",
       "      <td>239554.0</td>\n",
       "      <td>...</td>\n",
       "      <td>0.0</td>\n",
       "      <td>1.0</td>\n",
       "      <td>2.0</td>\n",
       "      <td>1.0</td>\n",
       "      <td>1.0</td>\n",
       "      <td>0.0</td>\n",
       "      <td>68.0</td>\n",
       "      <td>168.0</td>\n",
       "      <td>24.0</td>\n",
       "      <td>4.0</td>\n",
       "    </tr>\n",
       "    <tr>\n",
       "      <td>4</td>\n",
       "      <td>11</td>\n",
       "      <td>23.0</td>\n",
       "      <td>7.0</td>\n",
       "      <td>5</td>\n",
       "      <td>1</td>\n",
       "      <td>289.0</td>\n",
       "      <td>36.0</td>\n",
       "      <td>13.0</td>\n",
       "      <td>33.0</td>\n",
       "      <td>239554.0</td>\n",
       "      <td>...</td>\n",
       "      <td>0.0</td>\n",
       "      <td>1.0</td>\n",
       "      <td>2.0</td>\n",
       "      <td>1.0</td>\n",
       "      <td>0.0</td>\n",
       "      <td>1.0</td>\n",
       "      <td>90.0</td>\n",
       "      <td>172.0</td>\n",
       "      <td>30.0</td>\n",
       "      <td>2.0</td>\n",
       "    </tr>\n",
       "  </tbody>\n",
       "</table>\n",
       "<p>5 rows × 21 columns</p>\n",
       "</div>"
      ],
      "text/plain": [
       "   ID  Reason for absence  Month of absence  Day of the week  Seasons  \\\n",
       "0  11                26.0               7.0                3        1   \n",
       "1  36                 0.0               7.0                3        1   \n",
       "2   3                23.0               7.0                4        1   \n",
       "3   7                 7.0               7.0                5        1   \n",
       "4  11                23.0               7.0                5        1   \n",
       "\n",
       "   Transportation expense  Distance from Residence to Work  Service time  \\\n",
       "0                   289.0                             36.0          13.0   \n",
       "1                   118.0                             13.0          18.0   \n",
       "2                   179.0                             51.0          18.0   \n",
       "3                   279.0                              5.0          14.0   \n",
       "4                   289.0                             36.0          13.0   \n",
       "\n",
       "    Age  Work load Average/day   ...  Disciplinary failure  Education  Son  \\\n",
       "0  33.0                239554.0  ...                   0.0        1.0  2.0   \n",
       "1  50.0                239554.0  ...                   1.0        1.0  1.0   \n",
       "2  38.0                239554.0  ...                   0.0        1.0  0.0   \n",
       "3  39.0                239554.0  ...                   0.0        1.0  2.0   \n",
       "4  33.0                239554.0  ...                   0.0        1.0  2.0   \n",
       "\n",
       "   Social drinker  Social smoker  Pet  Weight  Height  Body mass index  \\\n",
       "0             1.0            0.0  1.0    90.0   172.0             30.0   \n",
       "1             1.0            0.0  0.0    98.0   178.0             31.0   \n",
       "2             1.0            0.0  0.0    89.0   170.0             31.0   \n",
       "3             1.0            1.0  0.0    68.0   168.0             24.0   \n",
       "4             1.0            0.0  1.0    90.0   172.0             30.0   \n",
       "\n",
       "   Absenteeism time in hours  \n",
       "0                        4.0  \n",
       "1                        0.0  \n",
       "2                        2.0  \n",
       "3                        4.0  \n",
       "4                        2.0  \n",
       "\n",
       "[5 rows x 21 columns]"
      ]
     },
     "execution_count": 3,
     "metadata": {},
     "output_type": "execute_result"
    }
   ],
   "source": [
    "data = pd.read_excel('Absenteeism_at_work_Project.xls')\n",
    "data.head()"
   ]
  },
  {
   "cell_type": "code",
   "execution_count": 4,
   "metadata": {
    "ExecuteTime": {
     "end_time": "2020-02-12T15:54:20.678755Z",
     "start_time": "2020-02-12T15:54:20.669781Z"
    }
   },
   "outputs": [
    {
     "name": "stdout",
     "output_type": "stream",
     "text": [
      "<class 'pandas.core.frame.DataFrame'>\n",
      "RangeIndex: 740 entries, 0 to 739\n",
      "Data columns (total 21 columns):\n",
      "ID                                 740 non-null int64\n",
      "Reason for absence                 737 non-null float64\n",
      "Month of absence                   739 non-null float64\n",
      "Day of the week                    740 non-null int64\n",
      "Seasons                            740 non-null int64\n",
      "Transportation expense             733 non-null float64\n",
      "Distance from Residence to Work    737 non-null float64\n",
      "Service time                       737 non-null float64\n",
      "Age                                737 non-null float64\n",
      "Work load Average/day              730 non-null float64\n",
      "Hit target                         734 non-null float64\n",
      "Disciplinary failure               734 non-null float64\n",
      "Education                          730 non-null float64\n",
      "Son                                734 non-null float64\n",
      "Social drinker                     737 non-null float64\n",
      "Social smoker                      736 non-null float64\n",
      "Pet                                738 non-null float64\n",
      "Weight                             739 non-null float64\n",
      "Height                             726 non-null float64\n",
      "Body mass index                    709 non-null float64\n",
      "Absenteeism time in hours          718 non-null float64\n",
      "dtypes: float64(18), int64(3)\n",
      "memory usage: 121.5 KB\n"
     ]
    }
   ],
   "source": [
    "data.info()"
   ]
  },
  {
   "cell_type": "code",
   "execution_count": null,
   "metadata": {},
   "outputs": [],
   "source": []
  },
  {
   "cell_type": "code",
   "execution_count": 8,
   "metadata": {
    "ExecuteTime": {
     "end_time": "2020-02-12T15:55:00.463568Z",
     "start_time": "2020-02-12T15:55:00.410814Z"
    }
   },
   "outputs": [
    {
     "data": {
      "text/html": [
       "<div>\n",
       "<style scoped>\n",
       "    .dataframe tbody tr th:only-of-type {\n",
       "        vertical-align: middle;\n",
       "    }\n",
       "\n",
       "    .dataframe tbody tr th {\n",
       "        vertical-align: top;\n",
       "    }\n",
       "\n",
       "    .dataframe thead th {\n",
       "        text-align: right;\n",
       "    }\n",
       "</style>\n",
       "<table border=\"1\" class=\"dataframe\">\n",
       "  <thead>\n",
       "    <tr style=\"text-align: right;\">\n",
       "      <th></th>\n",
       "      <th>ID</th>\n",
       "      <th>Reason for absence</th>\n",
       "      <th>Month of absence</th>\n",
       "      <th>Day of the week</th>\n",
       "      <th>Seasons</th>\n",
       "      <th>Transportation expense</th>\n",
       "      <th>Distance from Residence to Work</th>\n",
       "      <th>Service time</th>\n",
       "      <th>Age</th>\n",
       "      <th>Work load Average/day</th>\n",
       "      <th>...</th>\n",
       "      <th>Disciplinary failure</th>\n",
       "      <th>Education</th>\n",
       "      <th>Son</th>\n",
       "      <th>Social drinker</th>\n",
       "      <th>Social smoker</th>\n",
       "      <th>Pet</th>\n",
       "      <th>Weight</th>\n",
       "      <th>Height</th>\n",
       "      <th>Body mass index</th>\n",
       "      <th>Absenteeism time in hours</th>\n",
       "    </tr>\n",
       "  </thead>\n",
       "  <tbody>\n",
       "    <tr>\n",
       "      <td>count</td>\n",
       "      <td>740.00</td>\n",
       "      <td>737.00</td>\n",
       "      <td>739.00</td>\n",
       "      <td>740.00</td>\n",
       "      <td>740.00</td>\n",
       "      <td>733.00</td>\n",
       "      <td>737.00</td>\n",
       "      <td>737.00</td>\n",
       "      <td>737.00</td>\n",
       "      <td>730.00</td>\n",
       "      <td>...</td>\n",
       "      <td>734.00</td>\n",
       "      <td>730.00</td>\n",
       "      <td>734.00</td>\n",
       "      <td>737.00</td>\n",
       "      <td>736.00</td>\n",
       "      <td>738.00</td>\n",
       "      <td>739.00</td>\n",
       "      <td>726.00</td>\n",
       "      <td>709.00</td>\n",
       "      <td>718.00</td>\n",
       "    </tr>\n",
       "    <tr>\n",
       "      <td>mean</td>\n",
       "      <td>18.02</td>\n",
       "      <td>19.19</td>\n",
       "      <td>6.32</td>\n",
       "      <td>3.91</td>\n",
       "      <td>2.54</td>\n",
       "      <td>221.04</td>\n",
       "      <td>29.67</td>\n",
       "      <td>12.57</td>\n",
       "      <td>36.45</td>\n",
       "      <td>271188.86</td>\n",
       "      <td>...</td>\n",
       "      <td>0.05</td>\n",
       "      <td>1.30</td>\n",
       "      <td>1.02</td>\n",
       "      <td>0.57</td>\n",
       "      <td>0.07</td>\n",
       "      <td>0.75</td>\n",
       "      <td>79.06</td>\n",
       "      <td>172.15</td>\n",
       "      <td>26.68</td>\n",
       "      <td>6.98</td>\n",
       "    </tr>\n",
       "    <tr>\n",
       "      <td>std</td>\n",
       "      <td>11.02</td>\n",
       "      <td>8.44</td>\n",
       "      <td>3.44</td>\n",
       "      <td>1.42</td>\n",
       "      <td>1.11</td>\n",
       "      <td>66.95</td>\n",
       "      <td>14.85</td>\n",
       "      <td>4.39</td>\n",
       "      <td>6.48</td>\n",
       "      <td>38981.88</td>\n",
       "      <td>...</td>\n",
       "      <td>0.22</td>\n",
       "      <td>0.68</td>\n",
       "      <td>1.09</td>\n",
       "      <td>0.50</td>\n",
       "      <td>0.26</td>\n",
       "      <td>1.32</td>\n",
       "      <td>12.87</td>\n",
       "      <td>6.08</td>\n",
       "      <td>4.29</td>\n",
       "      <td>13.48</td>\n",
       "    </tr>\n",
       "    <tr>\n",
       "      <td>min</td>\n",
       "      <td>1.00</td>\n",
       "      <td>0.00</td>\n",
       "      <td>0.00</td>\n",
       "      <td>2.00</td>\n",
       "      <td>1.00</td>\n",
       "      <td>118.00</td>\n",
       "      <td>5.00</td>\n",
       "      <td>1.00</td>\n",
       "      <td>27.00</td>\n",
       "      <td>205917.00</td>\n",
       "      <td>...</td>\n",
       "      <td>0.00</td>\n",
       "      <td>1.00</td>\n",
       "      <td>0.00</td>\n",
       "      <td>0.00</td>\n",
       "      <td>0.00</td>\n",
       "      <td>0.00</td>\n",
       "      <td>56.00</td>\n",
       "      <td>163.00</td>\n",
       "      <td>19.00</td>\n",
       "      <td>0.00</td>\n",
       "    </tr>\n",
       "    <tr>\n",
       "      <td>25%</td>\n",
       "      <td>9.00</td>\n",
       "      <td>13.00</td>\n",
       "      <td>3.00</td>\n",
       "      <td>3.00</td>\n",
       "      <td>2.00</td>\n",
       "      <td>179.00</td>\n",
       "      <td>16.00</td>\n",
       "      <td>9.00</td>\n",
       "      <td>31.00</td>\n",
       "      <td>244387.00</td>\n",
       "      <td>...</td>\n",
       "      <td>0.00</td>\n",
       "      <td>1.00</td>\n",
       "      <td>0.00</td>\n",
       "      <td>0.00</td>\n",
       "      <td>0.00</td>\n",
       "      <td>0.00</td>\n",
       "      <td>69.00</td>\n",
       "      <td>169.00</td>\n",
       "      <td>24.00</td>\n",
       "      <td>2.00</td>\n",
       "    </tr>\n",
       "    <tr>\n",
       "      <td>50%</td>\n",
       "      <td>18.00</td>\n",
       "      <td>23.00</td>\n",
       "      <td>6.00</td>\n",
       "      <td>4.00</td>\n",
       "      <td>3.00</td>\n",
       "      <td>225.00</td>\n",
       "      <td>26.00</td>\n",
       "      <td>13.00</td>\n",
       "      <td>37.00</td>\n",
       "      <td>264249.00</td>\n",
       "      <td>...</td>\n",
       "      <td>0.00</td>\n",
       "      <td>1.00</td>\n",
       "      <td>1.00</td>\n",
       "      <td>1.00</td>\n",
       "      <td>0.00</td>\n",
       "      <td>0.00</td>\n",
       "      <td>83.00</td>\n",
       "      <td>170.00</td>\n",
       "      <td>25.00</td>\n",
       "      <td>3.00</td>\n",
       "    </tr>\n",
       "    <tr>\n",
       "      <td>75%</td>\n",
       "      <td>28.00</td>\n",
       "      <td>26.00</td>\n",
       "      <td>9.00</td>\n",
       "      <td>5.00</td>\n",
       "      <td>4.00</td>\n",
       "      <td>260.00</td>\n",
       "      <td>50.00</td>\n",
       "      <td>16.00</td>\n",
       "      <td>40.00</td>\n",
       "      <td>284853.00</td>\n",
       "      <td>...</td>\n",
       "      <td>0.00</td>\n",
       "      <td>1.00</td>\n",
       "      <td>2.00</td>\n",
       "      <td>1.00</td>\n",
       "      <td>0.00</td>\n",
       "      <td>1.00</td>\n",
       "      <td>89.00</td>\n",
       "      <td>172.00</td>\n",
       "      <td>31.00</td>\n",
       "      <td>8.00</td>\n",
       "    </tr>\n",
       "    <tr>\n",
       "      <td>max</td>\n",
       "      <td>36.00</td>\n",
       "      <td>28.00</td>\n",
       "      <td>12.00</td>\n",
       "      <td>6.00</td>\n",
       "      <td>4.00</td>\n",
       "      <td>388.00</td>\n",
       "      <td>52.00</td>\n",
       "      <td>29.00</td>\n",
       "      <td>58.00</td>\n",
       "      <td>378884.00</td>\n",
       "      <td>...</td>\n",
       "      <td>1.00</td>\n",
       "      <td>4.00</td>\n",
       "      <td>4.00</td>\n",
       "      <td>1.00</td>\n",
       "      <td>1.00</td>\n",
       "      <td>8.00</td>\n",
       "      <td>108.00</td>\n",
       "      <td>196.00</td>\n",
       "      <td>38.00</td>\n",
       "      <td>120.00</td>\n",
       "    </tr>\n",
       "  </tbody>\n",
       "</table>\n",
       "<p>8 rows × 21 columns</p>\n",
       "</div>"
      ],
      "text/plain": [
       "          ID  Reason for absence  Month of absence  Day of the week  Seasons  \\\n",
       "count 740.00              737.00            739.00           740.00   740.00   \n",
       "mean   18.02               19.19              6.32             3.91     2.54   \n",
       "std    11.02                8.44              3.44             1.42     1.11   \n",
       "min     1.00                0.00              0.00             2.00     1.00   \n",
       "25%     9.00               13.00              3.00             3.00     2.00   \n",
       "50%    18.00               23.00              6.00             4.00     3.00   \n",
       "75%    28.00               26.00              9.00             5.00     4.00   \n",
       "max    36.00               28.00             12.00             6.00     4.00   \n",
       "\n",
       "       Transportation expense  Distance from Residence to Work  Service time  \\\n",
       "count                  733.00                           737.00        737.00   \n",
       "mean                   221.04                            29.67         12.57   \n",
       "std                     66.95                            14.85          4.39   \n",
       "min                    118.00                             5.00          1.00   \n",
       "25%                    179.00                            16.00          9.00   \n",
       "50%                    225.00                            26.00         13.00   \n",
       "75%                    260.00                            50.00         16.00   \n",
       "max                    388.00                            52.00         29.00   \n",
       "\n",
       "         Age  Work load Average/day   ...  Disciplinary failure  Education  \\\n",
       "count 737.00                  730.00  ...                734.00     730.00   \n",
       "mean   36.45               271188.86  ...                  0.05       1.30   \n",
       "std     6.48                38981.88  ...                  0.22       0.68   \n",
       "min    27.00               205917.00  ...                  0.00       1.00   \n",
       "25%    31.00               244387.00  ...                  0.00       1.00   \n",
       "50%    37.00               264249.00  ...                  0.00       1.00   \n",
       "75%    40.00               284853.00  ...                  0.00       1.00   \n",
       "max    58.00               378884.00  ...                  1.00       4.00   \n",
       "\n",
       "         Son  Social drinker  Social smoker    Pet  Weight  Height  \\\n",
       "count 734.00          737.00         736.00 738.00  739.00  726.00   \n",
       "mean    1.02            0.57           0.07   0.75   79.06  172.15   \n",
       "std     1.09            0.50           0.26   1.32   12.87    6.08   \n",
       "min     0.00            0.00           0.00   0.00   56.00  163.00   \n",
       "25%     0.00            0.00           0.00   0.00   69.00  169.00   \n",
       "50%     1.00            1.00           0.00   0.00   83.00  170.00   \n",
       "75%     2.00            1.00           0.00   1.00   89.00  172.00   \n",
       "max     4.00            1.00           1.00   8.00  108.00  196.00   \n",
       "\n",
       "       Body mass index  Absenteeism time in hours  \n",
       "count           709.00                     718.00  \n",
       "mean             26.68                       6.98  \n",
       "std               4.29                      13.48  \n",
       "min              19.00                       0.00  \n",
       "25%              24.00                       2.00  \n",
       "50%              25.00                       3.00  \n",
       "75%              31.00                       8.00  \n",
       "max              38.00                     120.00  \n",
       "\n",
       "[8 rows x 21 columns]"
      ]
     },
     "execution_count": 8,
     "metadata": {},
     "output_type": "execute_result"
    }
   ],
   "source": [
    "pd.set_option(\"display.float_format\", \"{:.2f}\".format)\n",
    "data.describe()\n"
   ]
  },
  {
   "cell_type": "code",
   "execution_count": 9,
   "metadata": {
    "ExecuteTime": {
     "end_time": "2020-02-12T15:56:43.054526Z",
     "start_time": "2020-02-12T15:56:43.030594Z"
    }
   },
   "outputs": [
    {
     "name": "stdout",
     "output_type": "stream",
     "text": [
      "===============Column: ID==============\n",
      "Number of unique values: 36\n",
      "Max: 36\n",
      "Min: 1\n",
      "===============Column: Reason for absence==============\n",
      "Number of unique values: 28\n",
      "Max: 28.0\n",
      "Min: 0.0\n",
      "===============Column: Month of absence==============\n",
      "Number of unique values: 13\n",
      "Max: 12.0\n",
      "Min: 0.0\n",
      "===============Column: Day of the week==============\n",
      "Number of unique values: 5\n",
      "Max: 6\n",
      "Min: 2\n",
      "===============Column: Seasons==============\n",
      "Number of unique values: 4\n",
      "Max: 4\n",
      "Min: 1\n",
      "===============Column: Transportation expense==============\n",
      "Number of unique values: 24\n",
      "Max: 388.0\n",
      "Min: 118.0\n",
      "===============Column: Distance from Residence to Work==============\n",
      "Number of unique values: 25\n",
      "Max: 52.0\n",
      "Min: 5.0\n",
      "===============Column: Service time==============\n",
      "Number of unique values: 18\n",
      "Max: 29.0\n",
      "Min: 1.0\n",
      "===============Column: Age==============\n",
      "Number of unique values: 22\n",
      "Max: 58.0\n",
      "Min: 27.0\n",
      "===============Column: Work load Average/day ==============\n",
      "Number of unique values: 38\n",
      "Max: 378884.0\n",
      "Min: 205917.0\n",
      "===============Column: Hit target==============\n",
      "Number of unique values: 13\n",
      "Max: 100.0\n",
      "Min: 81.0\n",
      "===============Column: Disciplinary failure==============\n",
      "Number of unique values: 2\n",
      "Max: 1.0\n",
      "Min: 0.0\n",
      "===============Column: Education==============\n",
      "Number of unique values: 4\n",
      "Max: 4.0\n",
      "Min: 1.0\n",
      "===============Column: Son==============\n",
      "Number of unique values: 5\n",
      "Max: 4.0\n",
      "Min: 0.0\n",
      "===============Column: Social drinker==============\n",
      "Number of unique values: 2\n",
      "Max: 1.0\n",
      "Min: 0.0\n",
      "===============Column: Social smoker==============\n",
      "Number of unique values: 2\n",
      "Max: 1.0\n",
      "Min: 0.0\n",
      "===============Column: Pet==============\n",
      "Number of unique values: 6\n",
      "Max: 8.0\n",
      "Min: 0.0\n",
      "===============Column: Weight==============\n",
      "Number of unique values: 26\n",
      "Max: 108.0\n",
      "Min: 56.0\n",
      "===============Column: Height==============\n",
      "Number of unique values: 14\n",
      "Max: 196.0\n",
      "Min: 163.0\n",
      "===============Column: Body mass index==============\n",
      "Number of unique values: 17\n",
      "Max: 38.0\n",
      "Min: 19.0\n",
      "===============Column: Absenteeism time in hours==============\n",
      "Number of unique values: 19\n",
      "Max: 120.0\n",
      "Min: 0.0\n"
     ]
    }
   ],
   "source": [
    "    for column in data.columns:\n",
    "        print(f\"===============Column: {column}==============\")\n",
    "        print(f\"Number of unique values: {data[column].nunique()}\")\n",
    "        print(f\"Max: {data[column].max()}\")\n",
    "        print(f\"Min: {data[column].min()}\")"
   ]
  },
  {
   "cell_type": "code",
   "execution_count": 10,
   "metadata": {
    "ExecuteTime": {
     "end_time": "2020-02-12T15:57:05.027384Z",
     "start_time": "2020-02-12T15:57:05.022397Z"
    }
   },
   "outputs": [
    {
     "data": {
      "text/plain": [
       "Index(['ID', 'Reason for absence', 'Month of absence', 'Day of the week',\n",
       "       'Seasons', 'Transportation expense', 'Distance from Residence to Work',\n",
       "       'Service time', 'Age', 'Work load Average/day ', 'Hit target',\n",
       "       'Disciplinary failure', 'Education', 'Son', 'Social drinker',\n",
       "       'Social smoker', 'Pet', 'Weight', 'Height', 'Body mass index',\n",
       "       'Absenteeism time in hours'],\n",
       "      dtype='object')"
      ]
     },
     "execution_count": 10,
     "metadata": {},
     "output_type": "execute_result"
    }
   ],
   "source": [
    "data.columns"
   ]
  },
  {
   "cell_type": "code",
   "execution_count": 12,
   "metadata": {
    "ExecuteTime": {
     "end_time": "2020-02-12T15:57:29.691637Z",
     "start_time": "2020-02-12T15:57:29.683698Z"
    }
   },
   "outputs": [
    {
     "data": {
      "text/plain": [
       "3     113\n",
       "28     76\n",
       "34     55\n",
       "22     46\n",
       "20     42\n",
       "11     40\n",
       "15     37\n",
       "36     34\n",
       "24     30\n",
       "14     29\n",
       "33     24\n",
       "10     24\n",
       "1      23\n",
       "17     20\n",
       "5      19\n",
       "18     16\n",
       "13     15\n",
       "25     10\n",
       "6       8\n",
       "9       8\n",
       "23      8\n",
       "27      7\n",
       "30      7\n",
       "12      7\n",
       "7       6\n",
       "2       6\n",
       "29      5\n",
       "26      5\n",
       "32      5\n",
       "31      3\n",
       "19      3\n",
       "21      3\n",
       "16      2\n",
       "8       2\n",
       "35      1\n",
       "4       1\n",
       "Name: ID, dtype: int64"
      ]
     },
     "execution_count": 12,
     "metadata": {},
     "output_type": "execute_result"
    }
   ],
   "source": [
    "data.ID.value_counts()"
   ]
  },
  {
   "cell_type": "code",
   "execution_count": 13,
   "metadata": {
    "ExecuteTime": {
     "end_time": "2020-02-12T15:57:37.339056Z",
     "start_time": "2020-02-12T15:57:36.988092Z"
    }
   },
   "outputs": [
    {
     "data": {
      "text/plain": [
       "<matplotlib.axes._subplots.AxesSubplot at 0x1b447d9c908>"
      ]
     },
     "execution_count": 13,
     "metadata": {},
     "output_type": "execute_result"
    },
    {
     "data": {
      "image/png": "[encoded data removed]",
      "text/plain": [
       "<Figure size 432x288 with 1 Axes>"
      ]
     },
     "metadata": {
      "needs_background": "light"
     },
     "output_type": "display_data"
    }
   ],
   "source": [
    "data.ID.value_counts().hist(bins=data.ID.nunique())"
   ]
  },
  {
   "cell_type": "code",
   "execution_count": 14,
   "metadata": {
    "ExecuteTime": {
     "end_time": "2020-02-12T15:57:55.241956Z",
     "start_time": "2020-02-12T15:57:54.962702Z"
    }
   },
   "outputs": [
    {
     "data": {
      "text/plain": [
       "<matplotlib.axes._subplots.AxesSubplot at 0x1b4494f0a48>"
      ]
     },
     "execution_count": 14,
     "metadata": {},
     "output_type": "execute_result"
    },
    {
     "data": {
      "image/png": "[encoded data removed]",
      "text/plain": [
       "<Figure size 432x288 with 1 Axes>"
      ]
     },
     "metadata": {
      "needs_background": "light"
     },
     "output_type": "display_data"
    }
   ],
   "source": [
    "data.ID.value_counts().plot.hist(bins=data.ID.nunique())"
   ]
  },
  {
   "cell_type": "code",
   "execution_count": 15,
   "metadata": {
    "ExecuteTime": {
     "end_time": "2020-02-12T15:58:14.939933Z",
     "start_time": "2020-02-12T15:58:14.935912Z"
    }
   },
   "outputs": [],
   "source": [
    "data.drop('ID', axis=1, inplace=True)"
   ]
  },
  {
   "cell_type": "code",
   "execution_count": 16,
   "metadata": {
    "ExecuteTime": {
     "end_time": "2020-02-12T15:58:40.049836Z",
     "start_time": "2020-02-12T15:58:35.364995Z"
    }
   },
   "outputs": [
    {
     "data": {
      "image/png": "[encoded data removed]",
      "text/plain": [
       "<Figure size 1440x1440 with 20 Axes>"
      ]
     },
     "metadata": {
      "needs_background": "light"
     },
     "output_type": "display_data"
    }
   ],
   "source": [
    "# Visulazing the distibution of the data for every feature\n",
    "data.hist(edgecolor='black', linewidth=1.2, figsize=(20, 20));"
   ]
  },
  {
   "cell_type": "code",
   "execution_count": 17,
   "metadata": {
    "ExecuteTime": {
     "end_time": "2020-02-12T15:58:54.153977Z",
     "start_time": "2020-02-12T15:58:54.142009Z"
    }
   },
   "outputs": [
    {
     "name": "stdout",
     "output_type": "stream",
     "text": [
      "8.00      199\n",
      "2.00      155\n",
      "3.00      110\n",
      "1.00       88\n",
      "4.00       60\n",
      "0.00       36\n",
      "16.00      19\n",
      "24.00      16\n",
      "40.00       7\n",
      "5.00        7\n",
      "32.00       5\n",
      "64.00       3\n",
      "80.00       3\n",
      "120.00      3\n",
      "56.00       2\n",
      "112.00      2\n",
      "104.00      1\n",
      "7.00        1\n",
      "48.00       1\n",
      "Name: Absenteeism time in hours, dtype: int64\n",
      "0.4090909090909091\n"
     ]
    }
   ],
   "source": [
    "print(f\"{data['Absenteeism time in hours'].value_counts()}\")\n",
    "print(f\"{data['Absenteeism time in hours'].value_counts()[0] / data['Absenteeism time in hours'].value_counts()[1]}\")"
   ]
  },
  {
   "cell_type": "code",
   "execution_count": 18,
   "metadata": {
    "ExecuteTime": {
     "end_time": "2020-02-12T15:59:05.487750Z",
     "start_time": "2020-02-12T15:59:05.480800Z"
    }
   },
   "outputs": [
    {
     "data": {
      "text/plain": [
       "23.00    149\n",
       "28.00    110\n",
       "27.00     69\n",
       "13.00     55\n",
       "0.00      43\n",
       "19.00     40\n",
       "22.00     37\n",
       "26.00     33\n",
       "25.00     31\n",
       "11.00     26\n",
       "10.00     25\n",
       "18.00     21\n",
       "14.00     19\n",
       "1.00      16\n",
       "7.00      15\n",
       "6.00       8\n",
       "12.00      8\n",
       "8.00       6\n",
       "21.00      6\n",
       "9.00       4\n",
       "24.00      3\n",
       "5.00       3\n",
       "16.00      3\n",
       "15.00      2\n",
       "4.00       2\n",
       "2.00       1\n",
       "17.00      1\n",
       "3.00       1\n",
       "Name: Reason for absence, dtype: int64"
      ]
     },
     "execution_count": 18,
     "metadata": {},
     "output_type": "execute_result"
    }
   ],
   "source": [
    "data[\"Reason for absence\"].value_counts()"
   ]
  },
  {
   "cell_type": "code",
   "execution_count": 21,
   "metadata": {
    "ExecuteTime": {
     "end_time": "2020-02-12T16:01:20.695908Z",
     "start_time": "2020-02-12T16:01:20.687898Z"
    }
   },
   "outputs": [
    {
     "name": "stdout",
     "output_type": "stream",
     "text": [
      "{0: 'Group_1', 1: 'Group_1', 2: 'Group_1', 3: 'Group_1', 4: 'Group_1', 5: 'Group_1', 6: 'Group_1', 7: 'Group_1', 8: 'Group_1', 9: 'Group_1', 10: 'Group_1', 11: 'Group_1', 12: 'Group_1', 13: 'Group_1', 14: 'Group_1', 15: 'Group_2', 16: 'Group_2', 17: 'Group_2', 18: 'Group_3', 19: 'Group_3', 20: 'Group_3', 21: 'Group_3', 22: 'Group_4', 23: 'Group_4', 24: 'Group_4', 25: 'Group_4', 26: 'Group_4', 27: 'Group_4', 28: 'Group_4'}\n"
     ]
    }
   ],
   "source": [
    "reason_dic = {0: \"Group_1\", 1: \"Group_1\", 2: \"Group_1\", 3: \"Group_1\", \n",
    "                                                             4: \"Group_1\", 5: \"Group_1\", 6: \"Group_1\", 7: \"Group_1\", \n",
    "                                                             8: \"Group_1\", 9: \"Group_1\", 10: \"Group_1\", 11: \"Group_1\", \n",
    "                                                             12: \"Group_1\", 13: \"Group_1\", 14: \"Group_1\", 15: \"Group_2\", \n",
    "                                                             16: \"Group_2\", 17: \"Group_2\", 17: \"Group_2\", 18: \"Group_3\", \n",
    "                                                             19: \"Group_3\", 20: \"Group_3\", 21: \"Group_3\", 22: \"Group_4\", \n",
    "                                                             23: \"Group_4\", 24: \"Group_4\", 25: \"Group_4\", 26: \"Group_4\", \n",
    "                                                             27: \"Group_4\", 28: \"Group_4\"}\n",
    "\n",
    "\n",
    "print(reason_dic)"
   ]
  },
  {
   "cell_type": "code",
   "execution_count": 22,
   "metadata": {
    "ExecuteTime": {
     "end_time": "2020-02-12T16:01:57.524531Z",
     "start_time": "2020-02-12T16:01:57.517555Z"
    }
   },
   "outputs": [
    {
     "data": {
      "text/plain": [
       "0      Group_4\n",
       "1      Group_1\n",
       "2      Group_4\n",
       "3      Group_1\n",
       "4      Group_4\n",
       "        ...   \n",
       "735    Group_1\n",
       "736    Group_1\n",
       "737    Group_1\n",
       "738    Group_1\n",
       "739    Group_1\n",
       "Name: Reason for absence, Length: 740, dtype: object"
      ]
     },
     "execution_count": 22,
     "metadata": {},
     "output_type": "execute_result"
    }
   ],
   "source": [
    "data[\"Reason for absence\"].map(reason_dic)"
   ]
  },
  {
   "cell_type": "code",
   "execution_count": 23,
   "metadata": {
    "ExecuteTime": {
     "end_time": "2020-02-12T16:02:03.912372Z",
     "start_time": "2020-02-12T16:02:03.903397Z"
    }
   },
   "outputs": [
    {
     "data": {
      "text/plain": [
       "Group_4    432\n",
       "Group_1    232\n",
       "Group_3     67\n",
       "Group_2      6\n",
       "Name: Reason for absence, dtype: int64"
      ]
     },
     "execution_count": 23,
     "metadata": {},
     "output_type": "execute_result"
    }
   ],
   "source": [
    "data[\"Reason for absence\"] = data[\"Reason for absence\"].map(reason_dic)\n",
    "# data[\"Reason for Absence\"] = data[\"Reason for Absence\"].astype(\"category\").cat.codes\n",
    "data[\"Reason for absence\"].value_counts()"
   ]
  },
  {
   "cell_type": "code",
   "execution_count": 24,
   "metadata": {
    "ExecuteTime": {
     "end_time": "2020-02-12T16:06:47.956208Z",
     "start_time": "2020-02-12T16:06:47.944240Z"
    }
   },
   "outputs": [],
   "source": [
    "data_1 = pd.get_dummies(data, columns=['Reason for absence'])"
   ]
  },
  {
   "cell_type": "code",
   "execution_count": 25,
   "metadata": {
    "ExecuteTime": {
     "end_time": "2020-02-12T16:06:56.063971Z",
     "start_time": "2020-02-12T16:06:56.047016Z"
    }
   },
   "outputs": [
    {
     "data": {
      "text/html": [
       "<div>\n",
       "<style scoped>\n",
       "    .dataframe tbody tr th:only-of-type {\n",
       "        vertical-align: middle;\n",
       "    }\n",
       "\n",
       "    .dataframe tbody tr th {\n",
       "        vertical-align: top;\n",
       "    }\n",
       "\n",
       "    .dataframe thead th {\n",
       "        text-align: right;\n",
       "    }\n",
       "</style>\n",
       "<table border=\"1\" class=\"dataframe\">\n",
       "  <thead>\n",
       "    <tr style=\"text-align: right;\">\n",
       "      <th></th>\n",
       "      <th>Month of absence</th>\n",
       "      <th>Day of the week</th>\n",
       "      <th>Seasons</th>\n",
       "      <th>Transportation expense</th>\n",
       "      <th>Distance from Residence to Work</th>\n",
       "      <th>Service time</th>\n",
       "      <th>Age</th>\n",
       "      <th>Work load Average/day</th>\n",
       "      <th>Hit target</th>\n",
       "      <th>Disciplinary failure</th>\n",
       "      <th>...</th>\n",
       "      <th>Social smoker</th>\n",
       "      <th>Pet</th>\n",
       "      <th>Weight</th>\n",
       "      <th>Height</th>\n",
       "      <th>Body mass index</th>\n",
       "      <th>Absenteeism time in hours</th>\n",
       "      <th>Reason for absence_Group_1</th>\n",
       "      <th>Reason for absence_Group_2</th>\n",
       "      <th>Reason for absence_Group_3</th>\n",
       "      <th>Reason for absence_Group_4</th>\n",
       "    </tr>\n",
       "  </thead>\n",
       "  <tbody>\n",
       "    <tr>\n",
       "      <td>0</td>\n",
       "      <td>7.00</td>\n",
       "      <td>3</td>\n",
       "      <td>1</td>\n",
       "      <td>289.00</td>\n",
       "      <td>36.00</td>\n",
       "      <td>13.00</td>\n",
       "      <td>33.00</td>\n",
       "      <td>239554.00</td>\n",
       "      <td>97.00</td>\n",
       "      <td>0.00</td>\n",
       "      <td>...</td>\n",
       "      <td>0.00</td>\n",
       "      <td>1.00</td>\n",
       "      <td>90.00</td>\n",
       "      <td>172.00</td>\n",
       "      <td>30.00</td>\n",
       "      <td>4.00</td>\n",
       "      <td>0</td>\n",
       "      <td>0</td>\n",
       "      <td>0</td>\n",
       "      <td>1</td>\n",
       "    </tr>\n",
       "    <tr>\n",
       "      <td>1</td>\n",
       "      <td>7.00</td>\n",
       "      <td>3</td>\n",
       "      <td>1</td>\n",
       "      <td>118.00</td>\n",
       "      <td>13.00</td>\n",
       "      <td>18.00</td>\n",
       "      <td>50.00</td>\n",
       "      <td>239554.00</td>\n",
       "      <td>97.00</td>\n",
       "      <td>1.00</td>\n",
       "      <td>...</td>\n",
       "      <td>0.00</td>\n",
       "      <td>0.00</td>\n",
       "      <td>98.00</td>\n",
       "      <td>178.00</td>\n",
       "      <td>31.00</td>\n",
       "      <td>0.00</td>\n",
       "      <td>1</td>\n",
       "      <td>0</td>\n",
       "      <td>0</td>\n",
       "      <td>0</td>\n",
       "    </tr>\n",
       "    <tr>\n",
       "      <td>2</td>\n",
       "      <td>7.00</td>\n",
       "      <td>4</td>\n",
       "      <td>1</td>\n",
       "      <td>179.00</td>\n",
       "      <td>51.00</td>\n",
       "      <td>18.00</td>\n",
       "      <td>38.00</td>\n",
       "      <td>239554.00</td>\n",
       "      <td>97.00</td>\n",
       "      <td>0.00</td>\n",
       "      <td>...</td>\n",
       "      <td>0.00</td>\n",
       "      <td>0.00</td>\n",
       "      <td>89.00</td>\n",
       "      <td>170.00</td>\n",
       "      <td>31.00</td>\n",
       "      <td>2.00</td>\n",
       "      <td>0</td>\n",
       "      <td>0</td>\n",
       "      <td>0</td>\n",
       "      <td>1</td>\n",
       "    </tr>\n",
       "    <tr>\n",
       "      <td>3</td>\n",
       "      <td>7.00</td>\n",
       "      <td>5</td>\n",
       "      <td>1</td>\n",
       "      <td>279.00</td>\n",
       "      <td>5.00</td>\n",
       "      <td>14.00</td>\n",
       "      <td>39.00</td>\n",
       "      <td>239554.00</td>\n",
       "      <td>97.00</td>\n",
       "      <td>0.00</td>\n",
       "      <td>...</td>\n",
       "      <td>1.00</td>\n",
       "      <td>0.00</td>\n",
       "      <td>68.00</td>\n",
       "      <td>168.00</td>\n",
       "      <td>24.00</td>\n",
       "      <td>4.00</td>\n",
       "      <td>1</td>\n",
       "      <td>0</td>\n",
       "      <td>0</td>\n",
       "      <td>0</td>\n",
       "    </tr>\n",
       "    <tr>\n",
       "      <td>4</td>\n",
       "      <td>7.00</td>\n",
       "      <td>5</td>\n",
       "      <td>1</td>\n",
       "      <td>289.00</td>\n",
       "      <td>36.00</td>\n",
       "      <td>13.00</td>\n",
       "      <td>33.00</td>\n",
       "      <td>239554.00</td>\n",
       "      <td>97.00</td>\n",
       "      <td>0.00</td>\n",
       "      <td>...</td>\n",
       "      <td>0.00</td>\n",
       "      <td>1.00</td>\n",
       "      <td>90.00</td>\n",
       "      <td>172.00</td>\n",
       "      <td>30.00</td>\n",
       "      <td>2.00</td>\n",
       "      <td>0</td>\n",
       "      <td>0</td>\n",
       "      <td>0</td>\n",
       "      <td>1</td>\n",
       "    </tr>\n",
       "  </tbody>\n",
       "</table>\n",
       "<p>5 rows × 23 columns</p>\n",
       "</div>"
      ],
      "text/plain": [
       "   Month of absence  Day of the week  Seasons  Transportation expense  \\\n",
       "0              7.00                3        1                  289.00   \n",
       "1              7.00                3        1                  118.00   \n",
       "2              7.00                4        1                  179.00   \n",
       "3              7.00                5        1                  279.00   \n",
       "4              7.00                5        1                  289.00   \n",
       "\n",
       "   Distance from Residence to Work  Service time   Age  \\\n",
       "0                            36.00         13.00 33.00   \n",
       "1                            13.00         18.00 50.00   \n",
       "2                            51.00         18.00 38.00   \n",
       "3                             5.00         14.00 39.00   \n",
       "4                            36.00         13.00 33.00   \n",
       "\n",
       "   Work load Average/day   Hit target  Disciplinary failure  ...  \\\n",
       "0               239554.00       97.00                  0.00  ...   \n",
       "1               239554.00       97.00                  1.00  ...   \n",
       "2               239554.00       97.00                  0.00  ...   \n",
       "3               239554.00       97.00                  0.00  ...   \n",
       "4               239554.00       97.00                  0.00  ...   \n",
       "\n",
       "   Social smoker  Pet  Weight  Height  Body mass index  \\\n",
       "0           0.00 1.00   90.00  172.00            30.00   \n",
       "1           0.00 0.00   98.00  178.00            31.00   \n",
       "2           0.00 0.00   89.00  170.00            31.00   \n",
       "3           1.00 0.00   68.00  168.00            24.00   \n",
       "4           0.00 1.00   90.00  172.00            30.00   \n",
       "\n",
       "   Absenteeism time in hours  Reason for absence_Group_1  \\\n",
       "0                       4.00                           0   \n",
       "1                       0.00                           1   \n",
       "2                       2.00                           0   \n",
       "3                       4.00                           1   \n",
       "4                       2.00                           0   \n",
       "\n",
       "   Reason for absence_Group_2  Reason for absence_Group_3  \\\n",
       "0                           0                           0   \n",
       "1                           0                           0   \n",
       "2                           0                           0   \n",
       "3                           0                           0   \n",
       "4                           0                           0   \n",
       "\n",
       "   Reason for absence_Group_4  \n",
       "0                           1  \n",
       "1                           0  \n",
       "2                           1  \n",
       "3                           0  \n",
       "4                           1  \n",
       "\n",
       "[5 rows x 23 columns]"
      ]
     },
     "execution_count": 25,
     "metadata": {},
     "output_type": "execute_result"
    }
   ],
   "source": [
    "data_1.head()"
   ]
  },
  {
   "cell_type": "code",
   "execution_count": 26,
   "metadata": {
    "ExecuteTime": {
     "end_time": "2020-02-12T16:07:05.725386Z",
     "start_time": "2020-02-12T16:07:05.717407Z"
    },
    "scrolled": true
   },
   "outputs": [
    {
     "data": {
      "text/plain": [
       "Month of absence                   float64\n",
       "Day of the week                      int64\n",
       "Seasons                              int64\n",
       "Transportation expense             float64\n",
       "Distance from Residence to Work    float64\n",
       "Service time                       float64\n",
       "Age                                float64\n",
       "Work load Average/day              float64\n",
       "Hit target                         float64\n",
       "Disciplinary failure               float64\n",
       "Education                          float64\n",
       "Son                                float64\n",
       "Social drinker                     float64\n",
       "Social smoker                      float64\n",
       "Pet                                float64\n",
       "Weight                             float64\n",
       "Height                             float64\n",
       "Body mass index                    float64\n",
       "Absenteeism time in hours          float64\n",
       "Reason for absence_Group_1           uint8\n",
       "Reason for absence_Group_2           uint8\n",
       "Reason for absence_Group_3           uint8\n",
       "Reason for absence_Group_4           uint8\n",
       "dtype: object"
      ]
     },
     "execution_count": 26,
     "metadata": {},
     "output_type": "execute_result"
    }
   ],
   "source": [
    "data_1.dtypes"
   ]
  },
  {
   "cell_type": "code",
   "execution_count": 45,
   "metadata": {
    "ExecuteTime": {
     "end_time": "2020-02-12T16:16:56.924677Z",
     "start_time": "2020-02-12T16:16:56.914728Z"
    }
   },
   "outputs": [
    {
     "data": {
      "text/plain": [
       "Month of absence                   0\n",
       "Day of the week                    0\n",
       "Seasons                            0\n",
       "Transportation expense             0\n",
       "Distance from Residence to Work    0\n",
       "Service time                       0\n",
       "Age                                0\n",
       "Work load Average/day              0\n",
       "Hit target                         0\n",
       "Disciplinary failure               0\n",
       "Education                          0\n",
       "Son                                0\n",
       "Social drinker                     0\n",
       "Social smoker                      0\n",
       "Pet                                0\n",
       "Weight                             0\n",
       "Height                             0\n",
       "Body mass index                    0\n",
       "Absenteeism time in hours          0\n",
       "Reason for absence_Group_1         0\n",
       "Reason for absence_Group_2         0\n",
       "Reason for absence_Group_3         0\n",
       "Reason for absence_Group_4         0\n",
       "dtype: int64"
      ]
     },
     "execution_count": 45,
     "metadata": {},
     "output_type": "execute_result"
    }
   ],
   "source": [
    "data_1.dropna(inplace=True)\n",
    "data_1.isna().sum()"
   ]
  },
  {
   "cell_type": "code",
   "execution_count": null,
   "metadata": {},
   "outputs": [],
   "source": []
  },
  {
   "cell_type": "code",
   "execution_count": 46,
   "metadata": {
    "ExecuteTime": {
     "end_time": "2020-02-12T16:17:00.248466Z",
     "start_time": "2020-02-12T16:17:00.242518Z"
    }
   },
   "outputs": [
    {
     "data": {
      "text/plain": [
       "0.00    525\n",
       "1.00    117\n",
       "Name: Education, dtype: int64"
      ]
     },
     "execution_count": 46,
     "metadata": {},
     "output_type": "execute_result"
    }
   ],
   "source": [
    "data_1.Education.value_counts()"
   ]
  },
  {
   "cell_type": "code",
   "execution_count": 47,
   "metadata": {
    "ExecuteTime": {
     "end_time": "2020-02-12T16:17:01.571700Z",
     "start_time": "2020-02-12T16:17:01.565714Z"
    }
   },
   "outputs": [],
   "source": [
    "data_1[\"Education\"] = data_1.Education.map({1: 0, 2: 1, 3: 1, 4: 1})\n"
   ]
  },
  {
   "cell_type": "code",
   "execution_count": 48,
   "metadata": {
    "ExecuteTime": {
     "end_time": "2020-02-12T16:17:02.576447Z",
     "start_time": "2020-02-12T16:17:02.563521Z"
    }
   },
   "outputs": [
    {
     "data": {
      "text/plain": [
       "0.00    117\n",
       "Name: Education, dtype: int64"
      ]
     },
     "execution_count": 48,
     "metadata": {},
     "output_type": "execute_result"
    }
   ],
   "source": [
    "data_1.Education.value_counts()"
   ]
  },
  {
   "cell_type": "code",
   "execution_count": 49,
   "metadata": {
    "ExecuteTime": {
     "end_time": "2020-02-12T16:17:03.754102Z",
     "start_time": "2020-02-12T16:17:03.745161Z"
    }
   },
   "outputs": [
    {
     "data": {
      "text/plain": [
       "Index(['Month of absence', 'Day of the week', 'Seasons',\n",
       "       'Transportation expense', 'Distance from Residence to Work',\n",
       "       'Service time', 'Age', 'Work load Average/day ', 'Hit target',\n",
       "       'Disciplinary failure', 'Son', 'Social drinker', 'Social smoker', 'Pet',\n",
       "       'Weight', 'Height', 'Body mass index', 'Absenteeism time in hours',\n",
       "       'Reason for absence_Group_1', 'Reason for absence_Group_2',\n",
       "       'Reason for absence_Group_3', 'Reason for absence_Group_4'],\n",
       "      dtype='object')"
      ]
     },
     "execution_count": 49,
     "metadata": {},
     "output_type": "execute_result"
    }
   ],
   "source": [
    "data_2 = pd.get_dummies(data_1, columns=[\"Education\"], drop_first=True)\n",
    "data_2.columns"
   ]
  },
  {
   "cell_type": "code",
   "execution_count": 50,
   "metadata": {
    "ExecuteTime": {
     "end_time": "2020-02-12T16:17:07.882874Z",
     "start_time": "2020-02-12T16:17:05.487307Z"
    }
   },
   "outputs": [
    {
     "data": {
      "text/plain": [
       "<matplotlib.axes._subplots.AxesSubplot at 0x1b44cd80b08>"
      ]
     },
     "execution_count": 50,
     "metadata": {},
     "output_type": "execute_result"
    },
    {
     "data": {
      "image/png": "[encoded data removed]",
      "text/plain": [
       "<Figure size 1440x1080 with 2 Axes>"
      ]
     },
     "metadata": {
      "needs_background": "light"
     },
     "output_type": "display_data"
    }
   ],
   "source": [
    "plt.figure(figsize=(20, 15))\n",
    "sns.heatmap(data_2.corr(), annot=True)"
   ]
  },
  {
   "cell_type": "code",
   "execution_count": 51,
   "metadata": {
    "ExecuteTime": {
     "end_time": "2020-02-12T16:17:22.370522Z",
     "start_time": "2020-02-12T16:17:22.054326Z"
    },
    "scrolled": true
   },
   "outputs": [
    {
     "data": {
      "text/plain": [
       "<matplotlib.axes._subplots.AxesSubplot at 0x1b44d8a3dc8>"
      ]
     },
     "execution_count": 51,
     "metadata": {},
     "output_type": "execute_result"
    },
    {
     "data": {
      "image/png": "[encoded data removed]",
      "text/plain": [
       "<Figure size 432x288 with 1 Axes>"
      ]
     },
     "metadata": {
      "needs_background": "light"
     },
     "output_type": "display_data"
    }
   ],
   "source": [
    "# data_2['Absenteeism time in hours'].hist(bins=data_2['Absenteeism time in hours'].nunique())\n",
    "\n",
    "#or\n",
    "\n",
    "data_2['Absenteeism time in hours'].plot.hist(bins=data_2['Absenteeism time in hours'].nunique())"
   ]
  },
  {
   "cell_type": "code",
   "execution_count": 52,
   "metadata": {
    "ExecuteTime": {
     "end_time": "2020-02-12T16:17:24.033702Z",
     "start_time": "2020-02-12T16:17:24.026722Z"
    }
   },
   "outputs": [
    {
     "data": {
      "text/plain": [
       "Month of absence                     0\n",
       "Day of the week                      0\n",
       "Seasons                              0\n",
       "Transportation expense               0\n",
       "Distance from Residence to Work      0\n",
       "Service time                         0\n",
       "Age                                  0\n",
       "Work load Average/day                0\n",
       "Hit target                           0\n",
       "Disciplinary failure                 0\n",
       "Education                          525\n",
       "Son                                  0\n",
       "Social drinker                       0\n",
       "Social smoker                        0\n",
       "Pet                                  0\n",
       "Weight                               0\n",
       "Height                               0\n",
       "Body mass index                      0\n",
       "Absenteeism time in hours            0\n",
       "Reason for absence_Group_1           0\n",
       "Reason for absence_Group_2           0\n",
       "Reason for absence_Group_3           0\n",
       "Reason for absence_Group_4           0\n",
       "dtype: int64"
      ]
     },
     "execution_count": 52,
     "metadata": {},
     "output_type": "execute_result"
    }
   ],
   "source": [
    "data_1.isna().sum()"
   ]
  },
  {
   "cell_type": "code",
   "execution_count": 53,
   "metadata": {
    "ExecuteTime": {
     "end_time": "2020-02-12T16:17:34.290219Z",
     "start_time": "2020-02-12T16:17:34.287263Z"
    },
    "scrolled": true
   },
   "outputs": [],
   "source": [
    "# data_2.drop([\"Distance to Work\", \"Month of absence\", \"Weekday\", \"Age\", \"Daily Work Load Average\"], axis=1, inplace=True)"
   ]
  },
  {
   "cell_type": "code",
   "execution_count": 54,
   "metadata": {
    "ExecuteTime": {
     "end_time": "2020-02-12T16:17:35.588761Z",
     "start_time": "2020-02-12T16:17:35.573801Z"
    }
   },
   "outputs": [
    {
     "data": {
      "text/html": [
       "<div>\n",
       "<style scoped>\n",
       "    .dataframe tbody tr th:only-of-type {\n",
       "        vertical-align: middle;\n",
       "    }\n",
       "\n",
       "    .dataframe tbody tr th {\n",
       "        vertical-align: top;\n",
       "    }\n",
       "\n",
       "    .dataframe thead th {\n",
       "        text-align: right;\n",
       "    }\n",
       "</style>\n",
       "<table border=\"1\" class=\"dataframe\">\n",
       "  <thead>\n",
       "    <tr style=\"text-align: right;\">\n",
       "      <th></th>\n",
       "      <th>Month of absence</th>\n",
       "      <th>Day of the week</th>\n",
       "      <th>Seasons</th>\n",
       "      <th>Transportation expense</th>\n",
       "      <th>Distance from Residence to Work</th>\n",
       "      <th>Service time</th>\n",
       "      <th>Age</th>\n",
       "      <th>Work load Average/day</th>\n",
       "      <th>Hit target</th>\n",
       "      <th>Disciplinary failure</th>\n",
       "      <th>...</th>\n",
       "      <th>Social smoker</th>\n",
       "      <th>Pet</th>\n",
       "      <th>Weight</th>\n",
       "      <th>Height</th>\n",
       "      <th>Body mass index</th>\n",
       "      <th>Absenteeism time in hours</th>\n",
       "      <th>Reason for absence_Group_1</th>\n",
       "      <th>Reason for absence_Group_2</th>\n",
       "      <th>Reason for absence_Group_3</th>\n",
       "      <th>Reason for absence_Group_4</th>\n",
       "    </tr>\n",
       "  </thead>\n",
       "  <tbody>\n",
       "    <tr>\n",
       "      <td>0</td>\n",
       "      <td>7.00</td>\n",
       "      <td>3</td>\n",
       "      <td>1</td>\n",
       "      <td>289.00</td>\n",
       "      <td>36.00</td>\n",
       "      <td>13.00</td>\n",
       "      <td>33.00</td>\n",
       "      <td>239554.00</td>\n",
       "      <td>97.00</td>\n",
       "      <td>0.00</td>\n",
       "      <td>...</td>\n",
       "      <td>0.00</td>\n",
       "      <td>1.00</td>\n",
       "      <td>90.00</td>\n",
       "      <td>172.00</td>\n",
       "      <td>30.00</td>\n",
       "      <td>4.00</td>\n",
       "      <td>0</td>\n",
       "      <td>0</td>\n",
       "      <td>0</td>\n",
       "      <td>1</td>\n",
       "    </tr>\n",
       "    <tr>\n",
       "      <td>1</td>\n",
       "      <td>7.00</td>\n",
       "      <td>3</td>\n",
       "      <td>1</td>\n",
       "      <td>118.00</td>\n",
       "      <td>13.00</td>\n",
       "      <td>18.00</td>\n",
       "      <td>50.00</td>\n",
       "      <td>239554.00</td>\n",
       "      <td>97.00</td>\n",
       "      <td>1.00</td>\n",
       "      <td>...</td>\n",
       "      <td>0.00</td>\n",
       "      <td>0.00</td>\n",
       "      <td>98.00</td>\n",
       "      <td>178.00</td>\n",
       "      <td>31.00</td>\n",
       "      <td>0.00</td>\n",
       "      <td>1</td>\n",
       "      <td>0</td>\n",
       "      <td>0</td>\n",
       "      <td>0</td>\n",
       "    </tr>\n",
       "  </tbody>\n",
       "</table>\n",
       "<p>2 rows × 22 columns</p>\n",
       "</div>"
      ],
      "text/plain": [
       "   Month of absence  Day of the week  Seasons  Transportation expense  \\\n",
       "0              7.00                3        1                  289.00   \n",
       "1              7.00                3        1                  118.00   \n",
       "\n",
       "   Distance from Residence to Work  Service time   Age  \\\n",
       "0                            36.00         13.00 33.00   \n",
       "1                            13.00         18.00 50.00   \n",
       "\n",
       "   Work load Average/day   Hit target  Disciplinary failure  ...  \\\n",
       "0               239554.00       97.00                  0.00  ...   \n",
       "1               239554.00       97.00                  1.00  ...   \n",
       "\n",
       "   Social smoker  Pet  Weight  Height  Body mass index  \\\n",
       "0           0.00 1.00   90.00  172.00            30.00   \n",
       "1           0.00 0.00   98.00  178.00            31.00   \n",
       "\n",
       "   Absenteeism time in hours  Reason for absence_Group_1  \\\n",
       "0                       4.00                           0   \n",
       "1                       0.00                           1   \n",
       "\n",
       "   Reason for absence_Group_2  Reason for absence_Group_3  \\\n",
       "0                           0                           0   \n",
       "1                           0                           0   \n",
       "\n",
       "   Reason for absence_Group_4  \n",
       "0                           1  \n",
       "1                           0  \n",
       "\n",
       "[2 rows x 22 columns]"
      ]
     },
     "execution_count": 54,
     "metadata": {},
     "output_type": "execute_result"
    }
   ],
   "source": [
    "data_2.head(2)"
   ]
  },
  {
   "cell_type": "code",
   "execution_count": 55,
   "metadata": {
    "ExecuteTime": {
     "end_time": "2020-02-12T16:17:37.424114Z",
     "start_time": "2020-02-12T16:17:37.412180Z"
    }
   },
   "outputs": [
    {
     "name": "stdout",
     "output_type": "stream",
     "text": [
      "(642, 21)\n",
      "(642,)\n"
     ]
    }
   ],
   "source": [
    "X = data_2.drop('Absenteeism time in hours', axis=1)\n",
    "y = np.where(data_2[\"Absenteeism time in hours\"] > data_2[\"Absenteeism time in hours\"].median(), 1, 0)\n",
    "\n",
    "print(X.shape)\n",
    "print(y.shape)"
   ]
  },
  {
   "cell_type": "code",
   "execution_count": 56,
   "metadata": {
    "ExecuteTime": {
     "end_time": "2020-02-12T16:17:38.784112Z",
     "start_time": "2020-02-12T16:17:38.778129Z"
    }
   },
   "outputs": [
    {
     "data": {
      "text/plain": [
       "0.45638629283489096"
      ]
     },
     "execution_count": 56,
     "metadata": {},
     "output_type": "execute_result"
    }
   ],
   "source": [
    "y.sum() / y.shape[0]"
   ]
  },
  {
   "cell_type": "code",
   "execution_count": 59,
   "metadata": {
    "ExecuteTime": {
     "end_time": "2020-02-12T16:17:48.251655Z",
     "start_time": "2020-02-12T16:17:48.236728Z"
    }
   },
   "outputs": [],
   "source": [
    "from sklearn.linear_model import LogisticRegression\n",
    "from sklearn.model_selection import train_test_split, cross_val_score\n",
    "from sklearn.preprocessing import StandardScaler\n",
    "\n",
    "model = LogisticRegression(solver=\"liblinear\")\n",
    "\n",
    "x_sc = StandardScaler()\n",
    "X_std = x_sc.fit_transform(X)\n",
    "\n",
    "X_train, X_test, y_train, y_test = train_test_split(X_std, y, test_size=0.2, random_state=20)\n",
    "\n",
    "\n",
    "# print(y_train)\n",
    "\n",
    "model.fit(X_train, y_train)\n",
    "\n",
    "y_train_pred = model.predict(X_train)\n",
    "y_test_pred = model.predict(X_test)"
   ]
  },
  {
   "cell_type": "code",
   "execution_count": 60,
   "metadata": {
    "ExecuteTime": {
     "end_time": "2020-02-12T16:18:03.853562Z",
     "start_time": "2020-02-12T16:18:03.849573Z"
    }
   },
   "outputs": [],
   "source": [
    "from sklearn.metrics import confusion_matrix, accuracy_score\n",
    "\n",
    "def accuracy_report(y_test, y_test_pred, sample=\"Test\"):\n",
    "    print(f\"========={sample} data============ :\\n=>Accuracy Score {accuracy_score(y_test, y_test_pred)}\")\n",
    "    print(f\"=>Confusion Matrix :\\n{confusion_matrix(y_test, y_test_pred)}\")"
   ]
  },
  {
   "cell_type": "code",
   "execution_count": 61,
   "metadata": {
    "ExecuteTime": {
     "end_time": "2020-02-12T16:18:15.069010Z",
     "start_time": "2020-02-12T16:18:15.061034Z"
    }
   },
   "outputs": [
    {
     "name": "stdout",
     "output_type": "stream",
     "text": [
      "=========Train data============ :\n",
      "=>Accuracy Score 0.7582846003898636\n",
      "=>Confusion Matrix :\n",
      "[[219  60]\n",
      " [ 64 170]]\n"
     ]
    }
   ],
   "source": [
    "accuracy_report(y_train, y_train_pred, \"Train\")"
   ]
  },
  {
   "cell_type": "code",
   "execution_count": 62,
   "metadata": {
    "ExecuteTime": {
     "end_time": "2020-02-12T16:18:54.165689Z",
     "start_time": "2020-02-12T16:18:54.159705Z"
    }
   },
   "outputs": [
    {
     "name": "stdout",
     "output_type": "stream",
     "text": [
      "=========Test data============ :\n",
      "=>Accuracy Score 0.7751937984496124\n",
      "=>Confusion Matrix :\n",
      "[[57 13]\n",
      " [16 43]]\n"
     ]
    }
   ],
   "source": [
    "accuracy_report(y_test, y_test_pred, \"Test\")"
   ]
  },
  {
   "cell_type": "code",
   "execution_count": null,
   "metadata": {},
   "outputs": [],
   "source": []
  },
  {
   "cell_type": "code",
   "execution_count": 63,
   "metadata": {
    "ExecuteTime": {
     "end_time": "2020-02-12T16:19:09.500068Z",
     "start_time": "2020-02-12T16:19:09.491116Z"
    }
   },
   "outputs": [
    {
     "data": {
      "text/plain": [
       "0.7582846003898636"
      ]
     },
     "execution_count": 63,
     "metadata": {},
     "output_type": "execute_result"
    }
   ],
   "source": [
    "model.score(X_train, y_train)"
   ]
  },
  {
   "cell_type": "code",
   "execution_count": 64,
   "metadata": {
    "ExecuteTime": {
     "end_time": "2020-02-12T16:19:22.026886Z",
     "start_time": "2020-02-12T16:19:21.988987Z"
    }
   },
   "outputs": [
    {
     "data": {
      "text/plain": [
       "0.7006249999999999"
      ]
     },
     "execution_count": 64,
     "metadata": {},
     "output_type": "execute_result"
    }
   ],
   "source": [
    "scores = cross_val_score(model, X_std, y, cv=10)\n",
    "scores.mean()"
   ]
  },
  {
   "cell_type": "code",
   "execution_count": 65,
   "metadata": {
    "ExecuteTime": {
     "end_time": "2020-02-12T16:19:31.060153Z",
     "start_time": "2020-02-12T16:19:31.055137Z"
    }
   },
   "outputs": [
    {
     "data": {
      "text/plain": [
       "array([-0.22286639])"
      ]
     },
     "execution_count": 65,
     "metadata": {},
     "output_type": "execute_result"
    }
   ],
   "source": [
    "model.intercept_"
   ]
  },
  {
   "cell_type": "code",
   "execution_count": 66,
   "metadata": {
    "ExecuteTime": {
     "end_time": "2020-02-12T16:19:49.284350Z",
     "start_time": "2020-02-12T16:19:49.279363Z"
    }
   },
   "outputs": [
    {
     "data": {
      "text/plain": [
       "LogisticRegression(C=1.0, class_weight=None, dual=False, fit_intercept=True,\n",
       "                   intercept_scaling=1, l1_ratio=None, max_iter=100,\n",
       "                   multi_class='auto', n_jobs=None, penalty='l2',\n",
       "                   random_state=None, solver='liblinear', tol=0.0001, verbose=0,\n",
       "                   warm_start=False)"
      ]
     },
     "execution_count": 66,
     "metadata": {},
     "output_type": "execute_result"
    }
   ],
   "source": [
    "model"
   ]
  },
  {
   "cell_type": "code",
   "execution_count": 67,
   "metadata": {
    "ExecuteTime": {
     "end_time": "2020-02-12T16:20:16.757972Z",
     "start_time": "2020-02-12T16:20:16.748014Z"
    }
   },
   "outputs": [
    {
     "data": {
      "text/html": [
       "<div>\n",
       "<style scoped>\n",
       "    .dataframe tbody tr th:only-of-type {\n",
       "        vertical-align: middle;\n",
       "    }\n",
       "\n",
       "    .dataframe tbody tr th {\n",
       "        vertical-align: top;\n",
       "    }\n",
       "\n",
       "    .dataframe thead th {\n",
       "        text-align: right;\n",
       "    }\n",
       "</style>\n",
       "<table border=\"1\" class=\"dataframe\">\n",
       "  <thead>\n",
       "    <tr style=\"text-align: right;\">\n",
       "      <th></th>\n",
       "      <th>Features_name</th>\n",
       "      <th>Coefficients</th>\n",
       "    </tr>\n",
       "  </thead>\n",
       "  <tbody>\n",
       "    <tr>\n",
       "      <td>0</td>\n",
       "      <td>Month of absence</td>\n",
       "      <td>0.14</td>\n",
       "    </tr>\n",
       "    <tr>\n",
       "      <td>1</td>\n",
       "      <td>Day of the week</td>\n",
       "      <td>-0.29</td>\n",
       "    </tr>\n",
       "    <tr>\n",
       "      <td>2</td>\n",
       "      <td>Seasons</td>\n",
       "      <td>-0.19</td>\n",
       "    </tr>\n",
       "    <tr>\n",
       "      <td>3</td>\n",
       "      <td>Transportation expense</td>\n",
       "      <td>0.60</td>\n",
       "    </tr>\n",
       "    <tr>\n",
       "      <td>4</td>\n",
       "      <td>Distance from Residence to Work</td>\n",
       "      <td>-0.20</td>\n",
       "    </tr>\n",
       "    <tr>\n",
       "      <td>5</td>\n",
       "      <td>Service time</td>\n",
       "      <td>-0.15</td>\n",
       "    </tr>\n",
       "    <tr>\n",
       "      <td>6</td>\n",
       "      <td>Age</td>\n",
       "      <td>-0.16</td>\n",
       "    </tr>\n",
       "    <tr>\n",
       "      <td>7</td>\n",
       "      <td>Work load Average/day</td>\n",
       "      <td>0.09</td>\n",
       "    </tr>\n",
       "    <tr>\n",
       "      <td>8</td>\n",
       "      <td>Hit target</td>\n",
       "      <td>-0.07</td>\n",
       "    </tr>\n",
       "    <tr>\n",
       "      <td>9</td>\n",
       "      <td>Disciplinary failure</td>\n",
       "      <td>-1.07</td>\n",
       "    </tr>\n",
       "    <tr>\n",
       "      <td>10</td>\n",
       "      <td>Son</td>\n",
       "      <td>0.47</td>\n",
       "    </tr>\n",
       "    <tr>\n",
       "      <td>11</td>\n",
       "      <td>Social drinker</td>\n",
       "      <td>0.30</td>\n",
       "    </tr>\n",
       "    <tr>\n",
       "      <td>12</td>\n",
       "      <td>Social smoker</td>\n",
       "      <td>0.04</td>\n",
       "    </tr>\n",
       "    <tr>\n",
       "      <td>13</td>\n",
       "      <td>Pet</td>\n",
       "      <td>-0.30</td>\n",
       "    </tr>\n",
       "    <tr>\n",
       "      <td>14</td>\n",
       "      <td>Weight</td>\n",
       "      <td>0.46</td>\n",
       "    </tr>\n",
       "    <tr>\n",
       "      <td>15</td>\n",
       "      <td>Height</td>\n",
       "      <td>-0.20</td>\n",
       "    </tr>\n",
       "    <tr>\n",
       "      <td>16</td>\n",
       "      <td>Body mass index</td>\n",
       "      <td>-0.21</td>\n",
       "    </tr>\n",
       "    <tr>\n",
       "      <td>17</td>\n",
       "      <td>Reason for absence_Group_1</td>\n",
       "      <td>0.59</td>\n",
       "    </tr>\n",
       "    <tr>\n",
       "      <td>18</td>\n",
       "      <td>Reason for absence_Group_2</td>\n",
       "      <td>0.02</td>\n",
       "    </tr>\n",
       "    <tr>\n",
       "      <td>19</td>\n",
       "      <td>Reason for absence_Group_3</td>\n",
       "      <td>0.51</td>\n",
       "    </tr>\n",
       "    <tr>\n",
       "      <td>20</td>\n",
       "      <td>Reason for absence_Group_4</td>\n",
       "      <td>-0.23</td>\n",
       "    </tr>\n",
       "  </tbody>\n",
       "</table>\n",
       "</div>"
      ],
      "text/plain": [
       "                      Features_name  Coefficients\n",
       "0                  Month of absence          0.14\n",
       "1                   Day of the week         -0.29\n",
       "2                           Seasons         -0.19\n",
       "3            Transportation expense          0.60\n",
       "4   Distance from Residence to Work         -0.20\n",
       "5                      Service time         -0.15\n",
       "6                               Age         -0.16\n",
       "7            Work load Average/day           0.09\n",
       "8                        Hit target         -0.07\n",
       "9              Disciplinary failure         -1.07\n",
       "10                              Son          0.47\n",
       "11                   Social drinker          0.30\n",
       "12                    Social smoker          0.04\n",
       "13                              Pet         -0.30\n",
       "14                           Weight          0.46\n",
       "15                           Height         -0.20\n",
       "16                  Body mass index         -0.21\n",
       "17       Reason for absence_Group_1          0.59\n",
       "18       Reason for absence_Group_2          0.02\n",
       "19       Reason for absence_Group_3          0.51\n",
       "20       Reason for absence_Group_4         -0.23"
      ]
     },
     "execution_count": 67,
     "metadata": {},
     "output_type": "execute_result"
    }
   ],
   "source": [
    "feature_name = X.columns\n",
    "summary_table = pd.DataFrame(columns=[\"Features_name\"], data=feature_name)\n",
    "summary_table[\"Coefficients\"] = np.transpose(model.coef_)\n",
    "summary_table"
   ]
  },
  {
   "cell_type": "code",
   "execution_count": 68,
   "metadata": {
    "ExecuteTime": {
     "end_time": "2020-02-12T16:20:35.271205Z",
     "start_time": "2020-02-12T16:20:35.262265Z"
    }
   },
   "outputs": [],
   "source": [
    "summary_table.index = summary_table.index + 1\n",
    "summary_table.loc[0] = ['Intercept', model.intercept_[0]]\n",
    "summary_table.sort_index(inplace=True)"
   ]
  },
  {
   "cell_type": "code",
   "execution_count": 69,
   "metadata": {
    "ExecuteTime": {
     "end_time": "2020-02-12T16:20:43.155392Z",
     "start_time": "2020-02-12T16:20:43.142463Z"
    }
   },
   "outputs": [
    {
     "data": {
      "text/html": [
       "<div>\n",
       "<style scoped>\n",
       "    .dataframe tbody tr th:only-of-type {\n",
       "        vertical-align: middle;\n",
       "    }\n",
       "\n",
       "    .dataframe tbody tr th {\n",
       "        vertical-align: top;\n",
       "    }\n",
       "\n",
       "    .dataframe thead th {\n",
       "        text-align: right;\n",
       "    }\n",
       "</style>\n",
       "<table border=\"1\" class=\"dataframe\">\n",
       "  <thead>\n",
       "    <tr style=\"text-align: right;\">\n",
       "      <th></th>\n",
       "      <th>Features_name</th>\n",
       "      <th>Coefficients</th>\n",
       "      <th>Odds_ratio</th>\n",
       "    </tr>\n",
       "  </thead>\n",
       "  <tbody>\n",
       "    <tr>\n",
       "      <td>4</td>\n",
       "      <td>Transportation expense</td>\n",
       "      <td>0.60</td>\n",
       "      <td>1.82</td>\n",
       "    </tr>\n",
       "    <tr>\n",
       "      <td>18</td>\n",
       "      <td>Reason for absence_Group_1</td>\n",
       "      <td>0.59</td>\n",
       "      <td>1.80</td>\n",
       "    </tr>\n",
       "    <tr>\n",
       "      <td>20</td>\n",
       "      <td>Reason for absence_Group_3</td>\n",
       "      <td>0.51</td>\n",
       "      <td>1.66</td>\n",
       "    </tr>\n",
       "    <tr>\n",
       "      <td>11</td>\n",
       "      <td>Son</td>\n",
       "      <td>0.47</td>\n",
       "      <td>1.60</td>\n",
       "    </tr>\n",
       "    <tr>\n",
       "      <td>15</td>\n",
       "      <td>Weight</td>\n",
       "      <td>0.46</td>\n",
       "      <td>1.59</td>\n",
       "    </tr>\n",
       "    <tr>\n",
       "      <td>12</td>\n",
       "      <td>Social drinker</td>\n",
       "      <td>0.30</td>\n",
       "      <td>1.35</td>\n",
       "    </tr>\n",
       "    <tr>\n",
       "      <td>1</td>\n",
       "      <td>Month of absence</td>\n",
       "      <td>0.14</td>\n",
       "      <td>1.15</td>\n",
       "    </tr>\n",
       "    <tr>\n",
       "      <td>8</td>\n",
       "      <td>Work load Average/day</td>\n",
       "      <td>0.09</td>\n",
       "      <td>1.09</td>\n",
       "    </tr>\n",
       "    <tr>\n",
       "      <td>13</td>\n",
       "      <td>Social smoker</td>\n",
       "      <td>0.04</td>\n",
       "      <td>1.04</td>\n",
       "    </tr>\n",
       "    <tr>\n",
       "      <td>19</td>\n",
       "      <td>Reason for absence_Group_2</td>\n",
       "      <td>0.02</td>\n",
       "      <td>1.02</td>\n",
       "    </tr>\n",
       "    <tr>\n",
       "      <td>9</td>\n",
       "      <td>Hit target</td>\n",
       "      <td>-0.07</td>\n",
       "      <td>0.93</td>\n",
       "    </tr>\n",
       "    <tr>\n",
       "      <td>6</td>\n",
       "      <td>Service time</td>\n",
       "      <td>-0.15</td>\n",
       "      <td>0.86</td>\n",
       "    </tr>\n",
       "    <tr>\n",
       "      <td>7</td>\n",
       "      <td>Age</td>\n",
       "      <td>-0.16</td>\n",
       "      <td>0.86</td>\n",
       "    </tr>\n",
       "    <tr>\n",
       "      <td>3</td>\n",
       "      <td>Seasons</td>\n",
       "      <td>-0.19</td>\n",
       "      <td>0.83</td>\n",
       "    </tr>\n",
       "    <tr>\n",
       "      <td>16</td>\n",
       "      <td>Height</td>\n",
       "      <td>-0.20</td>\n",
       "      <td>0.82</td>\n",
       "    </tr>\n",
       "    <tr>\n",
       "      <td>5</td>\n",
       "      <td>Distance from Residence to Work</td>\n",
       "      <td>-0.20</td>\n",
       "      <td>0.82</td>\n",
       "    </tr>\n",
       "    <tr>\n",
       "      <td>17</td>\n",
       "      <td>Body mass index</td>\n",
       "      <td>-0.21</td>\n",
       "      <td>0.81</td>\n",
       "    </tr>\n",
       "    <tr>\n",
       "      <td>0</td>\n",
       "      <td>Intercept</td>\n",
       "      <td>-0.22</td>\n",
       "      <td>0.80</td>\n",
       "    </tr>\n",
       "    <tr>\n",
       "      <td>21</td>\n",
       "      <td>Reason for absence_Group_4</td>\n",
       "      <td>-0.23</td>\n",
       "      <td>0.79</td>\n",
       "    </tr>\n",
       "    <tr>\n",
       "      <td>2</td>\n",
       "      <td>Day of the week</td>\n",
       "      <td>-0.29</td>\n",
       "      <td>0.75</td>\n",
       "    </tr>\n",
       "    <tr>\n",
       "      <td>14</td>\n",
       "      <td>Pet</td>\n",
       "      <td>-0.30</td>\n",
       "      <td>0.74</td>\n",
       "    </tr>\n",
       "    <tr>\n",
       "      <td>10</td>\n",
       "      <td>Disciplinary failure</td>\n",
       "      <td>-1.07</td>\n",
       "      <td>0.34</td>\n",
       "    </tr>\n",
       "  </tbody>\n",
       "</table>\n",
       "</div>"
      ],
      "text/plain": [
       "                      Features_name  Coefficients  Odds_ratio\n",
       "4            Transportation expense          0.60        1.82\n",
       "18       Reason for absence_Group_1          0.59        1.80\n",
       "20       Reason for absence_Group_3          0.51        1.66\n",
       "11                              Son          0.47        1.60\n",
       "15                           Weight          0.46        1.59\n",
       "12                   Social drinker          0.30        1.35\n",
       "1                  Month of absence          0.14        1.15\n",
       "8            Work load Average/day           0.09        1.09\n",
       "13                    Social smoker          0.04        1.04\n",
       "19       Reason for absence_Group_2          0.02        1.02\n",
       "9                        Hit target         -0.07        0.93\n",
       "6                      Service time         -0.15        0.86\n",
       "7                               Age         -0.16        0.86\n",
       "3                           Seasons         -0.19        0.83\n",
       "16                           Height         -0.20        0.82\n",
       "5   Distance from Residence to Work         -0.20        0.82\n",
       "17                  Body mass index         -0.21        0.81\n",
       "0                         Intercept         -0.22        0.80\n",
       "21       Reason for absence_Group_4         -0.23        0.79\n",
       "2                   Day of the week         -0.29        0.75\n",
       "14                              Pet         -0.30        0.74\n",
       "10             Disciplinary failure         -1.07        0.34"
      ]
     },
     "execution_count": 69,
     "metadata": {},
     "output_type": "execute_result"
    }
   ],
   "source": [
    "summary_table[\"Odds_ratio\"] = np.exp(summary_table.Coefficients)\n",
    "summary_table.sort_values(by=\"Odds_ratio\", ascending=False)"
   ]
  },
  {
   "cell_type": "code",
   "execution_count": null,
   "metadata": {},
   "outputs": [],
   "source": []
  },
  {
   "cell_type": "code",
   "execution_count": 70,
   "metadata": {
    "ExecuteTime": {
     "end_time": "2020-02-12T16:21:06.469504Z",
     "start_time": "2020-02-12T16:20:58.822911Z"
    }
   },
   "outputs": [
    {
     "name": "stdout",
     "output_type": "stream",
     "text": [
      "Fitting 3 folds for each of 72 candidates, totalling 216 fits\n"
     ]
    },
    {
     "name": "stderr",
     "output_type": "stream",
     "text": [
      "[Parallel(n_jobs=-1)]: Using backend LokyBackend with 8 concurrent workers.\n",
      "[Parallel(n_jobs=-1)]: Done  34 tasks      | elapsed:    3.4s\n",
      "[Parallel(n_jobs=-1)]: Done 184 tasks      | elapsed:    6.6s\n",
      "[Parallel(n_jobs=-1)]: Done 216 out of 216 | elapsed:    7.4s finished\n",
      "C:\\Users\\Rakesh Kumar\\Anaconda3\\lib\\site-packages\\sklearn\\model_selection\\_search.py:823: FutureWarning: The parameter 'iid' is deprecated in 0.22 and will be removed in 0.24.\n",
      "  \"removed in 0.24.\", FutureWarning\n"
     ]
    }
   ],
   "source": [
    "# Random Forest¶\n",
    "from sklearn.ensemble import RandomForestClassifier\n",
    "from sklearn.model_selection import GridSearchCV\n",
    "\n",
    "rf_model = RandomForestClassifier(n_estimators=100)\n",
    "\n",
    "X_train, X_test, y_train, y_test = train_test_split(X, y, test_size=0.2, random_state=20)\n",
    "\n",
    "param_grid = {'max_depth':[3, None], 'min_samples_split':[2, 3, 10], \n",
    "              'min_samples_leaf':[1, 3, 10], 'bootstrap':[True, False], \n",
    "              'criterion':[\"gini\", \"entropy\"]}\n",
    "\n",
    "random_forest_grid = GridSearchCV(rf_model, param_grid, scoring=\"accuracy\", \n",
    "                                  n_jobs=-1, verbose=1, cv=3, iid=True)\n",
    "\n",
    "random_forest_grid.fit(X_train, y_train)\n",
    "\n",
    "y_train_pred = random_forest_grid.predict(X_train)\n",
    "y_test_pred = random_forest_grid.predict(X_test)"
   ]
  },
  {
   "cell_type": "code",
   "execution_count": 71,
   "metadata": {
    "ExecuteTime": {
     "end_time": "2020-02-12T16:21:28.139775Z",
     "start_time": "2020-02-12T16:21:28.133792Z"
    }
   },
   "outputs": [
    {
     "name": "stdout",
     "output_type": "stream",
     "text": [
      "=========Test data============ :\n",
      "=>Accuracy Score 0.7829457364341085\n",
      "=>Confusion Matrix :\n",
      "[[59 11]\n",
      " [17 42]]\n"
     ]
    }
   ],
   "source": [
    "accuracy_report(y_test, y_test_pred)"
   ]
  },
  {
   "cell_type": "code",
   "execution_count": 72,
   "metadata": {
    "ExecuteTime": {
     "end_time": "2020-02-12T16:21:59.224991Z",
     "start_time": "2020-02-12T16:21:59.218011Z"
    },
    "scrolled": true
   },
   "outputs": [
    {
     "name": "stdout",
     "output_type": "stream",
     "text": [
      "=========Train data============ :\n",
      "=>Accuracy Score 0.8791423001949318\n",
      "=>Confusion Matrix :\n",
      "[[252  27]\n",
      " [ 35 199]]\n"
     ]
    }
   ],
   "source": [
    "accuracy_report(y_train, y_train_pred, \"Train\")"
   ]
  },
  {
   "cell_type": "code",
   "execution_count": null,
   "metadata": {},
   "outputs": [],
   "source": []
  },
  {
   "cell_type": "code",
   "execution_count": 73,
   "metadata": {
    "ExecuteTime": {
     "end_time": "2020-02-12T16:22:19.913537Z",
     "start_time": "2020-02-12T16:22:19.791692Z"
    }
   },
   "outputs": [],
   "source": [
    "# Gradient Boosting Classifier¶\n",
    "\n",
    "\n",
    "from sklearn.ensemble import GradientBoostingClassifier\n",
    "\n",
    "gbm_model = GradientBoostingClassifier()\n",
    "\n",
    "X_train, X_test, y_train, y_test = train_test_split(X, y, test_size=0.2, random_state=20)\n",
    "\n",
    "gbm_model.fit(X_train, y_train)\n",
    "\n",
    "y_train_pred = gbm_model.predict(X_train)\n",
    "y_test_pred = gbm_model.predict(X_test)"
   ]
  },
  {
   "cell_type": "code",
   "execution_count": 74,
   "metadata": {
    "ExecuteTime": {
     "end_time": "2020-02-12T16:22:22.061898Z",
     "start_time": "2020-02-12T16:22:22.053954Z"
    }
   },
   "outputs": [
    {
     "name": "stdout",
     "output_type": "stream",
     "text": [
      "=========Test data============ :\n",
      "=>Accuracy Score 0.7674418604651163\n",
      "=>Confusion Matrix :\n",
      "[[58 12]\n",
      " [18 41]]\n"
     ]
    }
   ],
   "source": [
    "accuracy_report(y_test, y_test_pred)"
   ]
  },
  {
   "cell_type": "code",
   "execution_count": 75,
   "metadata": {
    "ExecuteTime": {
     "end_time": "2020-02-12T16:22:27.240918Z",
     "start_time": "2020-02-12T16:22:27.234903Z"
    }
   },
   "outputs": [
    {
     "name": "stdout",
     "output_type": "stream",
     "text": [
      "=========Train data============ :\n",
      "=>Accuracy Score 0.8869395711500975\n",
      "=>Confusion Matrix :\n",
      "[[254  25]\n",
      " [ 33 201]]\n"
     ]
    }
   ],
   "source": [
    "accuracy_report(y_train, y_train_pred, \"Train\")\n"
   ]
  },
  {
   "cell_type": "code",
   "execution_count": null,
   "metadata": {},
   "outputs": [],
   "source": []
  },
  {
   "cell_type": "code",
   "execution_count": null,
   "metadata": {},
   "outputs": [],
   "source": []
  },
  {
   "cell_type": "code",
   "execution_count": 76,
   "metadata": {
    "ExecuteTime": {
     "end_time": "2020-02-12T16:23:29.435107Z",
     "start_time": "2020-02-12T16:23:11.306149Z"
    }
   },
   "outputs": [
    {
     "name": "stderr",
     "output_type": "stream",
     "text": [
      "[Parallel(n_jobs=-1)]: Using backend LokyBackend with 8 concurrent workers.\n"
     ]
    },
    {
     "name": "stdout",
     "output_type": "stream",
     "text": [
      "Fitting 5 folds for each of 50 candidates, totalling 250 fits\n"
     ]
    },
    {
     "name": "stderr",
     "output_type": "stream",
     "text": [
      "[Parallel(n_jobs=-1)]: Done   2 tasks      | elapsed:    0.6s\n",
      "[Parallel(n_jobs=-1)]: Done  56 tasks      | elapsed:    5.2s\n",
      "[Parallel(n_jobs=-1)]: Done 146 tasks      | elapsed:   10.2s\n",
      "[Parallel(n_jobs=-1)]: Done 250 out of 250 | elapsed:   17.3s finished\n",
      "C:\\Users\\Rakesh Kumar\\Anaconda3\\lib\\site-packages\\sklearn\\model_selection\\_search.py:823: FutureWarning: The parameter 'iid' is deprecated in 0.22 and will be removed in 0.24.\n",
      "  \"removed in 0.24.\", FutureWarning\n"
     ]
    },
    {
     "data": {
      "text/plain": [
       "RandomizedSearchCV(cv=5, error_score=nan,\n",
       "                   estimator=XGBClassifier(base_score=0.5, booster='gbtree',\n",
       "                                           colsample_bylevel=1,\n",
       "                                           colsample_bynode=1,\n",
       "                                           colsample_bytree=1, gamma=0,\n",
       "                                           learning_rate=0.1, max_delta_step=0,\n",
       "                                           max_depth=3, min_child_weight=1,\n",
       "                                           missing=None, n_estimators=100,\n",
       "                                           n_jobs=1, nthread=None,\n",
       "                                           objective='binary:logistic',\n",
       "                                           random_state=0, reg_alpha=0,\n",
       "                                           reg_lambda=1, sc...\n",
       "                   iid=True, n_iter=50, n_jobs=-1,\n",
       "                   param_distributions={'base_score': [0.25, 0.5, 0.75, 0.99],\n",
       "                                        'booster': ['gbtree', 'gblinear'],\n",
       "                                        'learning_rate': [0.05, 0.1, 0.15, 0.2],\n",
       "                                        'max_depth': [2, 3, 5, 10, 15],\n",
       "                                        'min_child_weight': [1, 2, 3, 4],\n",
       "                                        'n_estimators': [100, 500, 900, 1100,\n",
       "                                                         1500]},\n",
       "                   pre_dispatch='2*n_jobs', random_state=42, refit=True,\n",
       "                   return_train_score=True, scoring='accuracy', verbose=5)"
      ]
     },
     "execution_count": 76,
     "metadata": {},
     "output_type": "execute_result"
    }
   ],
   "source": [
    "# XGBoost\n",
    "import xgboost as xgb\n",
    "from sklearn.model_selection import RandomizedSearchCV\n",
    "\n",
    "X_train, X_test, y_train, y_test = train_test_split(X, y, test_size=0.2, random_state=20)\n",
    "\n",
    "n_estimators = [100, 500, 900, 1100, 1500]\n",
    "max_depth = [2, 3, 5, 10, 15]\n",
    "booster = ['gbtree', 'gblinear']\n",
    "base_score = [0.25, 0.5, 0.75, 0.99]\n",
    "learning_rate = [0.05, 0.1, 0.15, 0.20]\n",
    "min_child_weight = [1, 2, 3, 4]\n",
    "\n",
    "hyperparameter_grid = {'n_estimators': n_estimators, 'max_depth': max_depth,\n",
    "                       'learning_rate' : learning_rate, 'min_child_weight' : min_child_weight, \n",
    "                       'booster' : booster, 'base_score' : base_score\n",
    "                      }\n",
    "\n",
    "xgb_model = xgb.XGBClassifier()\n",
    "\n",
    "xgb_cv = RandomizedSearchCV(estimator=xgb_model, param_distributions=hyperparameter_grid,\n",
    "                               cv=5, n_iter=50, scoring = 'accuracy',n_jobs =-1, iid=True,\n",
    "                               verbose = 5, return_train_score = True, random_state=42)\n",
    "\n",
    "\n",
    "xgb_cv.fit(X_train, y_train)"
   ]
  },
  {
   "cell_type": "code",
   "execution_count": 77,
   "metadata": {
    "ExecuteTime": {
     "end_time": "2020-02-12T16:23:50.933803Z",
     "start_time": "2020-02-12T16:23:50.928816Z"
    }
   },
   "outputs": [
    {
     "data": {
      "text/plain": [
       "XGBClassifier(base_score=0.25, booster='gbtree', colsample_bylevel=1,\n",
       "              colsample_bynode=1, colsample_bytree=1, gamma=0,\n",
       "              learning_rate=0.1, max_delta_step=0, max_depth=2,\n",
       "              min_child_weight=1, missing=None, n_estimators=900, n_jobs=1,\n",
       "              nthread=None, objective='binary:logistic', random_state=0,\n",
       "              reg_alpha=0, reg_lambda=1, scale_pos_weight=1, seed=None,\n",
       "              silent=None, subsample=1, verbosity=1)"
      ]
     },
     "execution_count": 77,
     "metadata": {},
     "output_type": "execute_result"
    }
   ],
   "source": [
    "xgb_cv.best_estimator_"
   ]
  },
  {
   "cell_type": "code",
   "execution_count": 78,
   "metadata": {
    "ExecuteTime": {
     "end_time": "2020-02-12T16:24:26.117585Z",
     "start_time": "2020-02-12T16:24:26.111610Z"
    }
   },
   "outputs": [],
   "source": [
    "xgb_best = xgb.XGBClassifier(base_score=0.5, booster='gbtree', colsample_bylevel=1,\n",
    "                         colsample_bynode=1, colsample_bytree=1, gamma=0,\n",
    "                         learning_rate=0.1, max_delta_step=0, max_depth=2,\n",
    "                         min_child_weight=1, missing=None, n_estimators=100, n_jobs=1,\n",
    "                         nthread=None, objective='binary:logistic', random_state=0,\n",
    "                         reg_alpha=0, reg_lambda=1, scale_pos_weight=1, seed=None,\n",
    "                         silent=None, subsample=1, verbosity=1)"
   ]
  },
  {
   "cell_type": "code",
   "execution_count": 79,
   "metadata": {
    "ExecuteTime": {
     "end_time": "2020-02-12T16:24:42.665390Z",
     "start_time": "2020-02-12T16:24:42.613530Z"
    }
   },
   "outputs": [
    {
     "data": {
      "text/plain": [
       "XGBClassifier(base_score=0.5, booster='gbtree', colsample_bylevel=1,\n",
       "              colsample_bynode=1, colsample_bytree=1, gamma=0,\n",
       "              learning_rate=0.1, max_delta_step=0, max_depth=2,\n",
       "              min_child_weight=1, missing=None, n_estimators=100, n_jobs=1,\n",
       "              nthread=None, objective='binary:logistic', random_state=0,\n",
       "              reg_alpha=0, reg_lambda=1, scale_pos_weight=1, seed=None,\n",
       "              silent=None, subsample=1, verbosity=1)"
      ]
     },
     "execution_count": 79,
     "metadata": {},
     "output_type": "execute_result"
    }
   ],
   "source": [
    "xgb_best.fit(X_train, y_train)"
   ]
  },
  {
   "cell_type": "code",
   "execution_count": 80,
   "metadata": {
    "ExecuteTime": {
     "end_time": "2020-02-12T16:24:51.629414Z",
     "start_time": "2020-02-12T16:24:51.621435Z"
    }
   },
   "outputs": [],
   "source": [
    "y_train_pred = xgb_best.predict(X_train)\n",
    "y_test_pred = xgb_best.predict(X_test)"
   ]
  },
  {
   "cell_type": "code",
   "execution_count": 81,
   "metadata": {
    "ExecuteTime": {
     "end_time": "2020-02-12T16:24:57.427153Z",
     "start_time": "2020-02-12T16:24:57.422210Z"
    }
   },
   "outputs": [
    {
     "name": "stdout",
     "output_type": "stream",
     "text": [
      "=========Test data============ :\n",
      "=>Accuracy Score 0.7829457364341085\n",
      "=>Confusion Matrix :\n",
      "[[57 13]\n",
      " [15 44]]\n"
     ]
    }
   ],
   "source": [
    "accuracy_report(y_test, y_test_pred)"
   ]
  },
  {
   "cell_type": "code",
   "execution_count": 82,
   "metadata": {
    "ExecuteTime": {
     "end_time": "2020-02-12T16:25:03.864036Z",
     "start_time": "2020-02-12T16:25:03.858085Z"
    }
   },
   "outputs": [
    {
     "name": "stdout",
     "output_type": "stream",
     "text": [
      "=========Train data============ :\n",
      "=>Accuracy Score 0.8050682261208577\n",
      "=>Confusion Matrix :\n",
      "[[228  51]\n",
      " [ 49 185]]\n"
     ]
    }
   ],
   "source": [
    "accuracy_report(y_train, y_train_pred, \"Train\")"
   ]
  },
  {
   "cell_type": "code",
   "execution_count": null,
   "metadata": {},
   "outputs": [],
   "source": []
  },
  {
   "cell_type": "code",
   "execution_count": null,
   "metadata": {},
   "outputs": [],
   "source": []
  },
  {
   "cell_type": "code",
   "execution_count": 83,
   "metadata": {
    "ExecuteTime": {
     "end_time": "2020-02-12T16:25:21.024311Z",
     "start_time": "2020-02-12T16:25:21.019334Z"
    }
   },
   "outputs": [],
   "source": [
    "# Save the model\n",
    "import pickle\n",
    "\n",
    "with open('model', 'wb') as file:\n",
    "    pickle.dump(xgb_best, file)"
   ]
  },
  {
   "cell_type": "code",
   "execution_count": null,
   "metadata": {},
   "outputs": [],
   "source": []
  }
 ],
 "metadata": {
  "kernelspec": {
   "display_name": "Python 3",
   "language": "python",
   "name": "python3"
  },
  "language_info": {
   "codemirror_mode": {
    "name": "ipython",
    "version": 3
   },
   "file_extension": ".py",
   "mimetype": "text/x-python",
   "name": "python",
   "nbconvert_exporter": "python",
   "pygments_lexer": "ipython3",
   "version": "3.7.4"
  },
  "toc": {
   "base_numbering": 1,
   "nav_menu": {},
   "number_sections": true,
   "sideBar": true,
   "skip_h1_title": false,
   "title_cell": "Table of Contents",
   "title_sidebar": "Contents",
   "toc_cell": false,
   "toc_position": {},
   "toc_section_display": true,
   "toc_window_display": false
  },
  "varInspector": {
   "cols": {
    "lenName": 16,
    "lenType": 16,
    "lenVar": 40
   },
   "kernels_config": {
    "python": {
     "delete_cmd_postfix": "",
     "delete_cmd_prefix": "del ",
     "library": "var_list.py",
     "varRefreshCmd": "print(var_dic_list())"
    },
    "r": {
     "delete_cmd_postfix": ") ",
     "delete_cmd_prefix": "rm(",
     "library": "var_list.r",
     "varRefreshCmd": "cat(var_dic_list()) "
    }
   },
   "types_to_exclude": [
    "module",
    "function",
    "builtin_function_or_method",
    "instance",
    "_Feature"
   ],
   "window_display": false
  }
 },
 "nbformat": 4,
 "nbformat_minor": 2
}
