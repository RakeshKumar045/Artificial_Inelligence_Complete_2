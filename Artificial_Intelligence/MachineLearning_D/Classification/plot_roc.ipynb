{
 "cells": [
  {
   "cell_type": "code",
   "execution_count": 23,
   "metadata": {
    "ExecuteTime": {
     "end_time": "2020-02-04T08:56:58.917797Z",
     "start_time": "2020-02-04T08:56:58.896857Z"
    }
   },
   "outputs": [
    {
     "name": "stdout",
     "output_type": "stream",
     "text": [
      "Automatically created module for IPython interactive environment\n"
     ]
    }
   ],
   "source": [
    "%matplotlib inline\n",
    "\n",
    "\n",
    "\n",
    "\n",
    "print(__doc__)\n",
    "\n",
    "import numpy as np\n",
    "import matplotlib.pyplot as plt\n",
    "from itertools import cycle\n",
    "\n",
    "from sklearn import svm, datasets\n",
    "from sklearn.metrics import roc_curve, auc\n",
    "from sklearn.model_selection import train_test_split\n",
    "from sklearn.preprocessing import label_binarize\n",
    "from sklearn.multiclass import OneVsRestClassifier\n",
    "from scipy import interp\n",
    "from sklearn.metrics import roc_auc_score\n",
    "\n",
    "\n",
    "\n",
    "\n",
    "from matplotlib.pyplot import rcParams\n",
    "\n",
    "rcParams[\"figure.figsize\"] = 14,8"
   ]
  },
  {
   "cell_type": "markdown",
   "metadata": {},
   "source": [
    "\n",
    "=======================================\n",
    "Receiver Operating Characteristic (ROC)\n",
    "=======================================\n",
    "\n",
    "Example of Receiver Operating Characteristic (ROC) metric to evaluate\n",
    "classifier output quality.\n",
    "\n",
    "ROC curves typically feature true positive rate on the Y axis, and false\n",
    "positive rate on the X axis. This means that the top left corner of the plot is\n",
    "the \"ideal\" point - a false positive rate of zero, and a true positive rate of\n",
    "one. This is not very realistic, but it does mean that a larger area under the\n",
    "curve (AUC) is usually better.\n",
    "\n",
    "The \"steepness\" of ROC curves is also important, since it is ideal to maximize\n",
    "the true positive rate while minimizing the false positive rate.\n",
    "\n",
    "ROC curves are typically used in binary classification to study the output of\n",
    "a classifier. In order to extend ROC curve and ROC area to multi-label\n",
    "classification, it is necessary to binarize the output. One ROC\n",
    "curve can be drawn per label, but one can also draw a ROC curve by considering\n",
    "each element of the label indicator matrix as a binary prediction\n",
    "(micro-averaging).\n",
    "\n",
    "Another evaluation measure for multi-label classification is\n",
    "macro-averaging, which gives equal weight to the classification of each\n",
    "label.\n",
    "\n",
    "<div class=\"alert alert-info\"><h4>Note</h4><p>See also :func:`sklearn.metrics.roc_auc_score`,\n",
    "             `sphx_glr_auto_examples_model_selection_plot_roc_crossval.py`</p></div>\n"
   ]
  },
  {
   "cell_type": "code",
   "execution_count": null,
   "metadata": {
    "ExecuteTime": {
     "end_time": "2020-02-04T08:49:52.019362Z",
     "start_time": "2020-02-04T08:49:52.009390Z"
    }
   },
   "outputs": [],
   "source": [
    "\n"
   ]
  },
  {
   "cell_type": "code",
   "execution_count": 9,
   "metadata": {
    "ExecuteTime": {
     "end_time": "2020-02-04T08:50:36.618920Z",
     "start_time": "2020-02-04T08:50:36.609945Z"
    }
   },
   "outputs": [],
   "source": [
    "# Import some data to play with\n",
    "iris = datasets.load_iris()\n",
    "X = iris.data\n",
    "y = iris.target\n",
    "\n"
   ]
  },
  {
   "cell_type": "code",
   "execution_count": 11,
   "metadata": {
    "ExecuteTime": {
     "end_time": "2020-02-04T08:51:10.807106Z",
     "start_time": "2020-02-04T08:51:10.800164Z"
    }
   },
   "outputs": [],
   "source": [
    "# Binarize the output\n",
    "y = label_binarize(y, classes=[0, 1, 2])\n",
    "n_classes = y.shape[1]"
   ]
  },
  {
   "cell_type": "code",
   "execution_count": 12,
   "metadata": {
    "ExecuteTime": {
     "end_time": "2020-02-04T08:51:12.904321Z",
     "start_time": "2020-02-04T08:51:11.154429Z"
    }
   },
   "outputs": [],
   "source": [
    "# Add noisy features to make the problem harder\n",
    "random_state = np.random.RandomState(0)\n",
    "n_samples, n_features = X.shape\n",
    "X = np.c_[X, random_state.randn(n_samples, 200 * n_features)]"
   ]
  },
  {
   "cell_type": "code",
   "execution_count": 13,
   "metadata": {
    "ExecuteTime": {
     "end_time": "2020-02-04T08:51:46.861694Z",
     "start_time": "2020-02-04T08:51:46.626201Z"
    }
   },
   "outputs": [],
   "source": [
    "# shuffle and split training and test sets\n",
    "X_train, X_test, y_train, y_test = train_test_split(X, y, test_size=.5,random_state=0)\n"
   ]
  },
  {
   "cell_type": "code",
   "execution_count": 14,
   "metadata": {
    "ExecuteTime": {
     "end_time": "2020-02-04T08:52:46.231558Z",
     "start_time": "2020-02-04T08:51:57.503436Z"
    }
   },
   "outputs": [],
   "source": [
    "# Learn to predict each class against the other\n",
    "classifier = OneVsRestClassifier(svm.SVC(kernel='linear', probability=True,  random_state=random_state))\n",
    "y_score = classifier.fit(X_train, y_train).decision_function(X_test)"
   ]
  },
  {
   "cell_type": "code",
   "execution_count": 15,
   "metadata": {
    "ExecuteTime": {
     "end_time": "2020-02-04T08:52:46.346241Z",
     "start_time": "2020-02-04T08:52:46.331238Z"
    }
   },
   "outputs": [],
   "source": [
    "# Compute ROC curve and ROC area for each class\n",
    "fpr = dict()\n",
    "tpr = dict()\n",
    "roc_auc = dict()\n",
    "for i in range(n_classes):\n",
    "    fpr[i], tpr[i], _ = roc_curve(y_test[:, i], y_score[:, i])\n",
    "    roc_auc[i] = auc(fpr[i], tpr[i])\n",
    "\n"
   ]
  },
  {
   "cell_type": "code",
   "execution_count": 34,
   "metadata": {
    "ExecuteTime": {
     "end_time": "2020-02-04T09:12:05.116073Z",
     "start_time": "2020-02-04T09:12:05.105104Z"
    }
   },
   "outputs": [
    {
     "data": {
      "text/plain": [
       "(array([0.        , 0.00666667, 0.02      , 0.02      , 0.04      ,\n",
       "        0.04      , 0.06666667, 0.06666667, 0.1       , 0.1       ,\n",
       "        0.10666667, 0.10666667, 0.11333333, 0.11333333, 0.20666667,\n",
       "        0.20666667, 0.21333333, 0.21333333, 0.22666667, 0.22666667,\n",
       "        0.24      , 0.24      , 0.26666667, 0.26666667, 0.28666667,\n",
       "        0.28666667, 0.31333333, 0.31333333, 0.34      , 0.34      ,\n",
       "        0.34666667, 0.34666667, 0.4       , 0.4       , 0.40666667,\n",
       "        0.40666667, 0.41333333, 0.41333333, 0.44      , 0.44      ,\n",
       "        0.45333333, 0.45333333, 0.46      , 0.46      , 0.48      ,\n",
       "        0.48      , 0.5       , 0.5       , 0.54      , 0.54      ,\n",
       "        0.56666667, 0.56666667, 0.58666667, 0.58666667, 0.59333333,\n",
       "        0.59333333, 0.62666667, 0.62666667, 0.68666667, 0.68666667,\n",
       "        0.69333333, 0.69333333, 0.70666667, 0.70666667, 0.71333333,\n",
       "        0.71333333, 0.73333333, 0.73333333, 0.74      , 0.74      ,\n",
       "        0.76666667, 0.76666667, 0.79333333, 0.79333333, 0.80666667,\n",
       "        0.80666667, 0.81333333, 0.81333333, 0.82      , 0.82      ,\n",
       "        0.83333333, 0.83333333, 0.84      , 0.84      , 0.86      ,\n",
       "        0.86      , 0.88666667, 0.88666667, 0.92      , 0.92      ,\n",
       "        0.93333333, 0.93333333, 0.95333333, 0.95333333, 0.96666667,\n",
       "        0.96666667, 0.98      , 0.98      , 0.98666667, 0.98666667,\n",
       "        1.        , 1.        ]),\n",
       " array([0.        , 0.        , 0.        , 0.01333333, 0.01333333,\n",
       "        0.05333333, 0.05333333, 0.12      , 0.12      , 0.13333333,\n",
       "        0.13333333, 0.14666667, 0.14666667, 0.16      , 0.16      ,\n",
       "        0.17333333, 0.17333333, 0.18666667, 0.18666667, 0.2       ,\n",
       "        0.2       , 0.21333333, 0.21333333, 0.24      , 0.24      ,\n",
       "        0.25333333, 0.25333333, 0.26666667, 0.26666667, 0.28      ,\n",
       "        0.28      , 0.29333333, 0.29333333, 0.30666667, 0.30666667,\n",
       "        0.32      , 0.32      , 0.33333333, 0.33333333, 0.37333333,\n",
       "        0.37333333, 0.38666667, 0.38666667, 0.41333333, 0.41333333,\n",
       "        0.44      , 0.44      , 0.46666667, 0.46666667, 0.48      ,\n",
       "        0.48      , 0.49333333, 0.49333333, 0.50666667, 0.50666667,\n",
       "        0.54666667, 0.54666667, 0.56      , 0.56      , 0.57333333,\n",
       "        0.57333333, 0.6       , 0.6       , 0.62666667, 0.62666667,\n",
       "        0.65333333, 0.65333333, 0.66666667, 0.66666667, 0.68      ,\n",
       "        0.68      , 0.70666667, 0.70666667, 0.73333333, 0.73333333,\n",
       "        0.78666667, 0.78666667, 0.8       , 0.8       , 0.81333333,\n",
       "        0.81333333, 0.82666667, 0.82666667, 0.84      , 0.84      ,\n",
       "        0.85333333, 0.85333333, 0.86666667, 0.86666667, 0.88      ,\n",
       "        0.88      , 0.89333333, 0.89333333, 0.92      , 0.92      ,\n",
       "        0.93333333, 0.93333333, 0.94666667, 0.94666667, 0.98666667,\n",
       "        0.98666667, 1.        ]),\n",
       " array([ 0.83215809, -0.16784191, -0.19262838, -0.19321   , -0.20706164,\n",
       "        -0.21030503, -0.21366596, -0.21664558, -0.2212218 , -0.22557628,\n",
       "        -0.22666227, -0.22708567, -0.2275188 , -0.22760227, -0.23787089,\n",
       "        -0.23915209, -0.23922427, -0.24024151, -0.24079711, -0.24179183,\n",
       "        -0.24229247, -0.24436406, -0.24658033, -0.2473635 , -0.2508613 ,\n",
       "        -0.25106173, -0.25663391, -0.25760093, -0.26043525, -0.26161597,\n",
       "        -0.26347396, -0.26371808, -0.27425529, -0.27690046, -0.28078566,\n",
       "        -0.28104101, -0.28360122, -0.28697994, -0.28846708, -0.29105951,\n",
       "        -0.29233676, -0.29255919, -0.29265494, -0.29618696, -0.29691074,\n",
       "        -0.30124692, -0.30273859, -0.30377125, -0.3059833 , -0.30599956,\n",
       "        -0.31016026, -0.31085952, -0.313531  , -0.31369531, -0.31458889,\n",
       "        -0.3201002 , -0.32786897, -0.33030928, -0.34045974, -0.34386857,\n",
       "        -0.34457075, -0.34672084, -0.42513833, -0.4340895 , -0.43478951,\n",
       "        -0.43805197, -0.4395396 , -0.44026387, -0.44085448, -0.4423231 ,\n",
       "        -0.4455861 , -0.4482121 , -0.4508008 , -0.45082804, -0.45236628,\n",
       "        -0.45425002, -0.45500508, -0.45501729, -0.45522907, -0.4559153 ,\n",
       "        -0.4570271 , -0.4571718 , -0.45723339, -0.45779257, -0.45885237,\n",
       "        -0.45890763, -0.46267108, -0.46649783, -0.47128132, -0.472296  ,\n",
       "        -0.47383955, -0.47398047, -0.47930652, -0.48123001, -0.48386376,\n",
       "        -0.48462708, -0.48599033, -0.48671119, -0.48848935, -0.49169916,\n",
       "        -0.49600287, -0.50900152]))"
      ]
     },
     "execution_count": 34,
     "metadata": {},
     "output_type": "execute_result"
    }
   ],
   "source": [
    "roc_curve(y_test.ravel(), y_score.ravel())"
   ]
  },
  {
   "cell_type": "code",
   "execution_count": 16,
   "metadata": {
    "ExecuteTime": {
     "end_time": "2020-02-04T08:53:12.376660Z",
     "start_time": "2020-02-04T08:53:12.368682Z"
    }
   },
   "outputs": [],
   "source": [
    "# Compute micro-average ROC curve and ROC area\n",
    "fpr[\"micro\"], tpr[\"micro\"], _ = roc_curve(y_test.ravel(), y_score.ravel())\n",
    "roc_auc[\"micro\"] = auc(fpr[\"micro\"], tpr[\"micro\"])"
   ]
  },
  {
   "cell_type": "code",
   "execution_count": 27,
   "metadata": {
    "ExecuteTime": {
     "end_time": "2020-02-04T09:09:19.171715Z",
     "start_time": "2020-02-04T09:09:19.163737Z"
    }
   },
   "outputs": [
    {
     "data": {
      "text/plain": [
       "{0: array([0.        , 0.01851852, 0.05555556, 0.05555556, 0.11111111,\n",
       "        0.11111111, 0.18518519, 0.18518519, 0.27777778, 0.27777778,\n",
       "        0.2962963 , 0.2962963 , 0.31481481, 0.31481481, 0.57407407,\n",
       "        0.57407407, 0.59259259, 0.59259259, 0.62962963, 0.62962963,\n",
       "        0.66666667, 0.66666667, 0.72222222, 0.72222222, 0.77777778,\n",
       "        0.77777778, 0.83333333, 0.83333333, 0.90740741, 0.90740741,\n",
       "        1.        ]),\n",
       " 1: array([0.        , 0.02222222, 0.02222222, 0.04444444, 0.04444444,\n",
       "        0.11111111, 0.11111111, 0.13333333, 0.13333333, 0.22222222,\n",
       "        0.22222222, 0.31111111, 0.31111111, 0.35555556, 0.35555556,\n",
       "        0.37777778, 0.37777778, 0.4       , 0.4       , 0.44444444,\n",
       "        0.44444444, 0.46666667, 0.46666667, 0.53333333, 0.53333333,\n",
       "        0.62222222, 0.62222222, 0.73333333, 0.73333333, 0.77777778,\n",
       "        0.77777778, 0.84444444, 0.84444444, 0.88888889, 0.88888889,\n",
       "        0.93333333, 0.93333333, 0.95555556, 0.95555556, 1.        ,\n",
       "        1.        ]),\n",
       " 2: array([0.        , 0.01960784, 0.05882353, 0.05882353, 0.11764706,\n",
       "        0.11764706, 0.1372549 , 0.1372549 , 0.15686275, 0.15686275,\n",
       "        0.23529412, 0.23529412, 0.2745098 , 0.2745098 , 0.29411765,\n",
       "        0.29411765, 0.35294118, 0.35294118, 0.41176471, 0.41176471,\n",
       "        0.52941176, 0.52941176, 0.60784314, 0.60784314, 0.66666667,\n",
       "        0.66666667, 0.68627451, 0.68627451, 0.78431373, 0.78431373,\n",
       "        0.96078431, 0.96078431, 0.98039216, 0.98039216, 1.        ]),\n",
       " 'micro': array([0.        , 0.00666667, 0.02      , 0.02      , 0.04      ,\n",
       "        0.04      , 0.06666667, 0.06666667, 0.1       , 0.1       ,\n",
       "        0.10666667, 0.10666667, 0.11333333, 0.11333333, 0.20666667,\n",
       "        0.20666667, 0.21333333, 0.21333333, 0.22666667, 0.22666667,\n",
       "        0.24      , 0.24      , 0.26666667, 0.26666667, 0.28666667,\n",
       "        0.28666667, 0.31333333, 0.31333333, 0.34      , 0.34      ,\n",
       "        0.34666667, 0.34666667, 0.4       , 0.4       , 0.40666667,\n",
       "        0.40666667, 0.41333333, 0.41333333, 0.44      , 0.44      ,\n",
       "        0.45333333, 0.45333333, 0.46      , 0.46      , 0.48      ,\n",
       "        0.48      , 0.5       , 0.5       , 0.54      , 0.54      ,\n",
       "        0.56666667, 0.56666667, 0.58666667, 0.58666667, 0.59333333,\n",
       "        0.59333333, 0.62666667, 0.62666667, 0.68666667, 0.68666667,\n",
       "        0.69333333, 0.69333333, 0.70666667, 0.70666667, 0.71333333,\n",
       "        0.71333333, 0.73333333, 0.73333333, 0.74      , 0.74      ,\n",
       "        0.76666667, 0.76666667, 0.79333333, 0.79333333, 0.80666667,\n",
       "        0.80666667, 0.81333333, 0.81333333, 0.82      , 0.82      ,\n",
       "        0.83333333, 0.83333333, 0.84      , 0.84      , 0.86      ,\n",
       "        0.86      , 0.88666667, 0.88666667, 0.92      , 0.92      ,\n",
       "        0.93333333, 0.93333333, 0.95333333, 0.95333333, 0.96666667,\n",
       "        0.96666667, 0.98      , 0.98      , 0.98666667, 0.98666667,\n",
       "        1.        , 1.        ]),\n",
       " 'macro': array([0.        , 0.01851852, 0.01960784, 0.02222222, 0.04444444,\n",
       "        0.05555556, 0.05882353, 0.11111111, 0.11764706, 0.13333333,\n",
       "        0.1372549 , 0.15686275, 0.18518519, 0.22222222, 0.23529412,\n",
       "        0.2745098 , 0.27777778, 0.29411765, 0.2962963 , 0.31111111,\n",
       "        0.31481481, 0.35294118, 0.35555556, 0.37777778, 0.4       ,\n",
       "        0.41176471, 0.44444444, 0.46666667, 0.52941176, 0.53333333,\n",
       "        0.57407407, 0.59259259, 0.60784314, 0.62222222, 0.62962963,\n",
       "        0.66666667, 0.68627451, 0.72222222, 0.73333333, 0.77777778,\n",
       "        0.78431373, 0.83333333, 0.84444444, 0.88888889, 0.90740741,\n",
       "        0.93333333, 0.95555556, 0.96078431, 0.98039216, 1.        ])}"
      ]
     },
     "execution_count": 27,
     "metadata": {},
     "output_type": "execute_result"
    }
   ],
   "source": [
    "fpr"
   ]
  },
  {
   "cell_type": "code",
   "execution_count": 29,
   "metadata": {
    "ExecuteTime": {
     "end_time": "2020-02-04T09:09:34.012476Z",
     "start_time": "2020-02-04T09:09:34.007521Z"
    }
   },
   "outputs": [
    {
     "data": {
      "text/plain": [
       "array([0.        , 0.01851852, 0.05555556, 0.05555556, 0.11111111,\n",
       "       0.11111111, 0.18518519, 0.18518519, 0.27777778, 0.27777778,\n",
       "       0.2962963 , 0.2962963 , 0.31481481, 0.31481481, 0.57407407,\n",
       "       0.57407407, 0.59259259, 0.59259259, 0.62962963, 0.62962963,\n",
       "       0.66666667, 0.66666667, 0.72222222, 0.72222222, 0.77777778,\n",
       "       0.77777778, 0.83333333, 0.83333333, 0.90740741, 0.90740741,\n",
       "       1.        ])"
      ]
     },
     "execution_count": 29,
     "metadata": {},
     "output_type": "execute_result"
    }
   ],
   "source": [
    "fpr[0]"
   ]
  },
  {
   "cell_type": "code",
   "execution_count": 31,
   "metadata": {
    "ExecuteTime": {
     "end_time": "2020-02-04T09:10:25.101826Z",
     "start_time": "2020-02-04T09:10:25.095845Z"
    }
   },
   "outputs": [
    {
     "data": {
      "text/plain": [
       "array([0.        , 0.00666667, 0.02      , 0.02      , 0.04      ,\n",
       "       0.04      , 0.06666667, 0.06666667, 0.1       , 0.1       ,\n",
       "       0.10666667, 0.10666667, 0.11333333, 0.11333333, 0.20666667,\n",
       "       0.20666667, 0.21333333, 0.21333333, 0.22666667, 0.22666667,\n",
       "       0.24      , 0.24      , 0.26666667, 0.26666667, 0.28666667,\n",
       "       0.28666667, 0.31333333, 0.31333333, 0.34      , 0.34      ,\n",
       "       0.34666667, 0.34666667, 0.4       , 0.4       , 0.40666667,\n",
       "       0.40666667, 0.41333333, 0.41333333, 0.44      , 0.44      ,\n",
       "       0.45333333, 0.45333333, 0.46      , 0.46      , 0.48      ,\n",
       "       0.48      , 0.5       , 0.5       , 0.54      , 0.54      ,\n",
       "       0.56666667, 0.56666667, 0.58666667, 0.58666667, 0.59333333,\n",
       "       0.59333333, 0.62666667, 0.62666667, 0.68666667, 0.68666667,\n",
       "       0.69333333, 0.69333333, 0.70666667, 0.70666667, 0.71333333,\n",
       "       0.71333333, 0.73333333, 0.73333333, 0.74      , 0.74      ,\n",
       "       0.76666667, 0.76666667, 0.79333333, 0.79333333, 0.80666667,\n",
       "       0.80666667, 0.81333333, 0.81333333, 0.82      , 0.82      ,\n",
       "       0.83333333, 0.83333333, 0.84      , 0.84      , 0.86      ,\n",
       "       0.86      , 0.88666667, 0.88666667, 0.92      , 0.92      ,\n",
       "       0.93333333, 0.93333333, 0.95333333, 0.95333333, 0.96666667,\n",
       "       0.96666667, 0.98      , 0.98      , 0.98666667, 0.98666667,\n",
       "       1.        , 1.        ])"
      ]
     },
     "execution_count": 31,
     "metadata": {},
     "output_type": "execute_result"
    }
   ],
   "source": [
    "fpr[\"micro\"]"
   ]
  },
  {
   "cell_type": "code",
   "execution_count": 30,
   "metadata": {
    "ExecuteTime": {
     "end_time": "2020-02-04T09:09:55.492704Z",
     "start_time": "2020-02-04T09:09:55.482736Z"
    }
   },
   "outputs": [
    {
     "data": {
      "text/plain": [
       "{0: array([0.        , 0.        , 0.        , 0.04761905, 0.04761905,\n",
       "        0.19047619, 0.19047619, 0.42857143, 0.42857143, 0.47619048,\n",
       "        0.47619048, 0.52380952, 0.52380952, 0.57142857, 0.57142857,\n",
       "        0.61904762, 0.61904762, 0.66666667, 0.66666667, 0.71428571,\n",
       "        0.71428571, 0.76190476, 0.76190476, 0.85714286, 0.85714286,\n",
       "        0.9047619 , 0.9047619 , 0.95238095, 0.95238095, 1.        ,\n",
       "        1.        ]),\n",
       " 1: array([0.        , 0.        , 0.06666667, 0.06666667, 0.13333333,\n",
       "        0.13333333, 0.16666667, 0.16666667, 0.2       , 0.2       ,\n",
       "        0.26666667, 0.26666667, 0.33333333, 0.33333333, 0.46666667,\n",
       "        0.46666667, 0.5       , 0.5       , 0.53333333, 0.53333333,\n",
       "        0.56666667, 0.56666667, 0.6       , 0.6       , 0.63333333,\n",
       "        0.63333333, 0.66666667, 0.66666667, 0.7       , 0.7       ,\n",
       "        0.73333333, 0.73333333, 0.8       , 0.8       , 0.83333333,\n",
       "        0.83333333, 0.86666667, 0.86666667, 0.96666667, 0.96666667,\n",
       "        1.        ]),\n",
       " 2: array([0.        , 0.        , 0.        , 0.04166667, 0.04166667,\n",
       "        0.08333333, 0.08333333, 0.125     , 0.125     , 0.16666667,\n",
       "        0.16666667, 0.29166667, 0.29166667, 0.33333333, 0.33333333,\n",
       "        0.41666667, 0.41666667, 0.5       , 0.5       , 0.58333333,\n",
       "        0.58333333, 0.625     , 0.625     , 0.66666667, 0.66666667,\n",
       "        0.70833333, 0.70833333, 0.83333333, 0.83333333, 0.875     ,\n",
       "        0.875     , 0.91666667, 0.91666667, 1.        , 1.        ]),\n",
       " 'micro': array([0.        , 0.        , 0.        , 0.01333333, 0.01333333,\n",
       "        0.05333333, 0.05333333, 0.12      , 0.12      , 0.13333333,\n",
       "        0.13333333, 0.14666667, 0.14666667, 0.16      , 0.16      ,\n",
       "        0.17333333, 0.17333333, 0.18666667, 0.18666667, 0.2       ,\n",
       "        0.2       , 0.21333333, 0.21333333, 0.24      , 0.24      ,\n",
       "        0.25333333, 0.25333333, 0.26666667, 0.26666667, 0.28      ,\n",
       "        0.28      , 0.29333333, 0.29333333, 0.30666667, 0.30666667,\n",
       "        0.32      , 0.32      , 0.33333333, 0.33333333, 0.37333333,\n",
       "        0.37333333, 0.38666667, 0.38666667, 0.41333333, 0.41333333,\n",
       "        0.44      , 0.44      , 0.46666667, 0.46666667, 0.48      ,\n",
       "        0.48      , 0.49333333, 0.49333333, 0.50666667, 0.50666667,\n",
       "        0.54666667, 0.54666667, 0.56      , 0.56      , 0.57333333,\n",
       "        0.57333333, 0.6       , 0.6       , 0.62666667, 0.62666667,\n",
       "        0.65333333, 0.65333333, 0.66666667, 0.66666667, 0.68      ,\n",
       "        0.68      , 0.70666667, 0.70666667, 0.73333333, 0.73333333,\n",
       "        0.78666667, 0.78666667, 0.8       , 0.8       , 0.81333333,\n",
       "        0.81333333, 0.82666667, 0.82666667, 0.84      , 0.84      ,\n",
       "        0.85333333, 0.85333333, 0.86666667, 0.86666667, 0.88      ,\n",
       "        0.88      , 0.89333333, 0.89333333, 0.92      , 0.92      ,\n",
       "        0.93333333, 0.93333333, 0.94666667, 0.94666667, 0.98666667,\n",
       "        0.98666667, 1.        ]),\n",
       " 'macro': array([0.        , 0.        , 0.        , 0.02222222, 0.04444444,\n",
       "        0.06031746, 0.07420635, 0.13293651, 0.1468254 , 0.15793651,\n",
       "        0.1718254 , 0.18571429, 0.26507937, 0.28730159, 0.32896825,\n",
       "        0.34285714, 0.35873016, 0.38650794, 0.40238095, 0.42460317,\n",
       "        0.44047619, 0.46825397, 0.51269841, 0.52380952, 0.53492063,\n",
       "        0.56269841, 0.57380952, 0.58492063, 0.59880952, 0.60992063,\n",
       "        0.62579365, 0.64166667, 0.65555556, 0.66666667, 0.68253968,\n",
       "        0.71230159, 0.75396825, 0.78571429, 0.7968254 , 0.82380952,\n",
       "        0.83769841, 0.85357143, 0.87579365, 0.88690476, 0.90277778,\n",
       "        0.91388889, 0.94722222, 0.96111111, 0.98888889, 1.        ])}"
      ]
     },
     "execution_count": 30,
     "metadata": {},
     "output_type": "execute_result"
    }
   ],
   "source": [
    "tpr"
   ]
  },
  {
   "cell_type": "code",
   "execution_count": 33,
   "metadata": {
    "ExecuteTime": {
     "end_time": "2020-02-04T09:11:29.670199Z",
     "start_time": "2020-02-04T09:11:29.664193Z"
    }
   },
   "outputs": [
    {
     "data": {
      "text/plain": [
       "{0: 0.5890652557319224,\n",
       " 1: 0.5133333333333333,\n",
       " 2: 0.5359477124183006,\n",
       " 'micro': 0.45431111111111117,\n",
       " 'macro': 0.5574286319466059}"
      ]
     },
     "execution_count": 33,
     "metadata": {},
     "output_type": "execute_result"
    }
   ],
   "source": [
    "roc_auc"
   ]
  },
  {
   "cell_type": "code",
   "execution_count": null,
   "metadata": {},
   "outputs": [],
   "source": []
  },
  {
   "cell_type": "markdown",
   "metadata": {},
   "source": [
    "Plot of a ROC curve for a specific class\n",
    "\n"
   ]
  },
  {
   "cell_type": "code",
   "execution_count": 24,
   "metadata": {
    "ExecuteTime": {
     "end_time": "2020-02-04T08:57:09.938218Z",
     "start_time": "2020-02-04T08:57:09.554236Z"
    }
   },
   "outputs": [
    {
     "data": {
      "image/png": "[encoded data removed]",
      "text/plain": [
       "<Figure size 1008x576 with 1 Axes>"
      ]
     },
     "metadata": {
      "needs_background": "light"
     },
     "output_type": "display_data"
    }
   ],
   "source": [
    "plt.figure()\n",
    "lw = 2\n",
    "plt.plot(fpr[2], tpr[2], color='darkorange',lw=lw, label='ROC curve (area = %0.2f)' % roc_auc[2])\n",
    "\n",
    "plt.plot([0, 1], [0, 1], color='navy', lw=lw, linestyle='--')\n",
    "\n",
    "plt.xlim([0.0, 1.0])\n",
    "\n",
    "plt.ylim([0.0, 1.05])\n",
    "\n",
    "plt.xlabel('False Positive Rate')\n",
    "plt.ylabel('True Positive Rate')\n",
    "plt.title('Receiver operating characteristic example')\n",
    "plt.legend(loc=\"lower right\")\n",
    "plt.show()"
   ]
  },
  {
   "cell_type": "markdown",
   "metadata": {},
   "source": [
    "Plot ROC curves for the multilabel problem\n",
    "..........................................\n",
    "Compute macro-average ROC curve and ROC area\n",
    "\n"
   ]
  },
  {
   "cell_type": "code",
   "execution_count": 25,
   "metadata": {
    "ExecuteTime": {
     "end_time": "2020-02-04T08:57:15.071347Z",
     "start_time": "2020-02-04T08:57:14.542799Z"
    }
   },
   "outputs": [
    {
     "data": {
      "image/png": "[encoded data removed]",
      "text/plain": [
       "<Figure size 1008x576 with 1 Axes>"
      ]
     },
     "metadata": {
      "needs_background": "light"
     },
     "output_type": "display_data"
    }
   ],
   "source": [
    "# First aggregate all false positive rates\n",
    "all_fpr = np.unique(np.concatenate([fpr[i] for i in range(n_classes)]))\n",
    "\n",
    "# Then interpolate all ROC curves at this points\n",
    "mean_tpr = np.zeros_like(all_fpr)\n",
    "for i in range(n_classes):\n",
    "    mean_tpr += interp(all_fpr, fpr[i], tpr[i])\n",
    "\n",
    "# Finally average it and compute AUC\n",
    "mean_tpr /= n_classes\n",
    "\n",
    "fpr[\"macro\"] = all_fpr\n",
    "tpr[\"macro\"] = mean_tpr\n",
    "roc_auc[\"macro\"] = auc(fpr[\"macro\"], tpr[\"macro\"])\n",
    "\n",
    "# Plot all ROC curves\n",
    "plt.figure()\n",
    "plt.plot(fpr[\"micro\"], tpr[\"micro\"],\n",
    "         label='micro-average ROC curve (area = {0:0.2f})'\n",
    "               ''.format(roc_auc[\"micro\"]),\n",
    "         color='deeppink', linestyle=':', linewidth=4)\n",
    "\n",
    "plt.plot(fpr[\"macro\"], tpr[\"macro\"],\n",
    "         label='macro-average ROC curve (area = {0:0.2f})'\n",
    "               ''.format(roc_auc[\"macro\"]),\n",
    "         color='navy', linestyle=':', linewidth=4)\n",
    "\n",
    "colors = cycle(['aqua', 'darkorange', 'cornflowerblue'])\n",
    "for i, color in zip(range(n_classes), colors):\n",
    "    plt.plot(fpr[i], tpr[i], color=color, lw=lw,\n",
    "             label='ROC curve of class {0} (area = {1:0.2f})'\n",
    "             ''.format(i, roc_auc[i]))\n",
    "\n",
    "plt.plot([0, 1], [0, 1], 'k--', lw=lw)\n",
    "plt.xlim([0.0, 1.0])\n",
    "plt.ylim([0.0, 1.05])\n",
    "plt.xlabel('False Positive Rate')\n",
    "plt.ylabel('True Positive Rate')\n",
    "plt.title('Some extension of Receiver operating characteristic to multi-class')\n",
    "plt.legend(loc=\"lower right\")\n",
    "plt.show()"
   ]
  },
  {
   "cell_type": "markdown",
   "metadata": {},
   "source": [
    "Area under ROC for the multiclass problem\n",
    ".........................................\n",
    "The :func:`sklearn.metrics.roc_auc_score` function can be used for\n",
    "multi-class classification. The multi-class One-vs-One scheme compares every\n",
    "unique pairwise combination of classes. In this section, we calculate the AUC\n",
    "using the OvR and OvO schemes. We report a macro average, and a\n",
    "prevalence-weighted average.\n",
    "\n"
   ]
  },
  {
   "cell_type": "code",
   "execution_count": 26,
   "metadata": {
    "ExecuteTime": {
     "end_time": "2020-02-04T08:57:31.652362Z",
     "start_time": "2020-02-04T08:57:23.937944Z"
    }
   },
   "outputs": [
    {
     "name": "stdout",
     "output_type": "stream",
     "text": [
      "One-vs-One ROC AUC scores:\n",
      "0.513261 (macro),\n",
      "0.508102 (weighted by prevalence)\n",
      "One-vs-Rest ROC AUC scores:\n",
      "0.513261 (macro),\n",
      "0.508102 (weighted by prevalence)\n"
     ]
    }
   ],
   "source": [
    "y_prob = classifier.predict_proba(X_test)\n",
    "\n",
    "macro_roc_auc_ovo = roc_auc_score(y_test, y_prob, multi_class=\"ovo\",\n",
    "                                  average=\"macro\")\n",
    "weighted_roc_auc_ovo = roc_auc_score(y_test, y_prob, multi_class=\"ovo\",\n",
    "                                     average=\"weighted\")\n",
    "macro_roc_auc_ovr = roc_auc_score(y_test, y_prob, multi_class=\"ovr\",\n",
    "                                  average=\"macro\")\n",
    "weighted_roc_auc_ovr = roc_auc_score(y_test, y_prob, multi_class=\"ovr\",\n",
    "                                     average=\"weighted\")\n",
    "print(\"One-vs-One ROC AUC scores:\\n{:.6f} (macro),\\n{:.6f} \"\n",
    "      \"(weighted by prevalence)\"\n",
    "      .format(macro_roc_auc_ovo, weighted_roc_auc_ovo))\n",
    "print(\"One-vs-Rest ROC AUC scores:\\n{:.6f} (macro),\\n{:.6f} \"\n",
    "      \"(weighted by prevalence)\"\n",
    "      .format(macro_roc_auc_ovr, weighted_roc_auc_ovr))"
   ]
  },
  {
   "cell_type": "code",
   "execution_count": null,
   "metadata": {},
   "outputs": [],
   "source": []
  }
 ],
 "metadata": {
  "hide_input": false,
  "kernelspec": {
   "display_name": "Python 3",
   "language": "python",
   "name": "python3"
  },
  "language_info": {
   "codemirror_mode": {
    "name": "ipython",
    "version": 3
   },
   "file_extension": ".py",
   "mimetype": "text/x-python",
   "name": "python",
   "nbconvert_exporter": "python",
   "pygments_lexer": "ipython3",
   "version": "3.7.4"
  },
  "latex_envs": {
   "LaTeX_envs_menu_present": true,
   "autoclose": false,
   "autocomplete": true,
   "bibliofile": "biblio.bib",
   "cite_by": "apalike",
   "current_citInitial": 1,
   "eqLabelWithNumbers": true,
   "eqNumInitial": 1,
   "hotkeys": {
    "equation": "Ctrl-E",
    "itemize": "Ctrl-I"
   },
   "labels_anchors": false,
   "latex_user_defs": false,
   "report_style_numbering": false,
   "user_envs_cfg": false
  },
  "nbTranslate": {
   "displayLangs": [
    "*"
   ],
   "hotkey": "alt-t",
   "langInMainMenu": true,
   "sourceLang": "en",
   "targetLang": "fr",
   "useGoogleTranslate": true
  },
  "toc": {
   "base_numbering": 1,
   "nav_menu": {},
   "number_sections": true,
   "sideBar": true,
   "skip_h1_title": false,
   "title_cell": "Table of Contents",
   "title_sidebar": "Contents",
   "toc_cell": false,
   "toc_position": {},
   "toc_section_display": true,
   "toc_window_display": false
  },
  "varInspector": {
   "cols": {
    "lenName": 16,
    "lenType": 16,
    "lenVar": 40
   },
   "kernels_config": {
    "python": {
     "delete_cmd_postfix": "",
     "delete_cmd_prefix": "del ",
     "library": "var_list.py",
     "varRefreshCmd": "print(var_dic_list())"
    },
    "r": {
     "delete_cmd_postfix": ") ",
     "delete_cmd_prefix": "rm(",
     "library": "var_list.r",
     "varRefreshCmd": "cat(var_dic_list()) "
    }
   },
   "types_to_exclude": [
    "module",
    "function",
    "builtin_function_or_method",
    "instance",
    "_Feature"
   ],
   "window_display": false
  }
 },
 "nbformat": 4,
 "nbformat_minor": 1
}
