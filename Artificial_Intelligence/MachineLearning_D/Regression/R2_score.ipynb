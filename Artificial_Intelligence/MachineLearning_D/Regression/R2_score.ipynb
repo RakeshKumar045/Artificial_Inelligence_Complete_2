{
 "cells": [
  {
   "cell_type": "markdown",
   "metadata": {},
   "source": [
    "# R-squared = 1 – (First Sum of Errors / Second Sum of Errors)"
   ]
  },
  {
   "cell_type": "code",
   "execution_count": null,
   "metadata": {},
   "outputs": [],
   "source": []
  },
  {
   "cell_type": "code",
   "execution_count": 12,
   "metadata": {
    "ExecuteTime": {
     "end_time": "2020-01-21T13:20:39.116998Z",
     "start_time": "2020-01-21T13:20:39.111011Z"
    }
   },
   "outputs": [
    {
     "name": "stdout",
     "output_type": "stream",
     "text": [
      "0.9486081370449679\n"
     ]
    }
   ],
   "source": [
    ">>> from sklearn.metrics import r2_score\n",
    ">>> y_true = [3, -0.5, 2, 7]\n",
    ">>> y_pred = [2.5, 0.0, 2, 8]\n",
    ">>> print(r2_score(y_true, y_pred))\n"
   ]
  },
  {
   "cell_type": "code",
   "execution_count": 13,
   "metadata": {
    "ExecuteTime": {
     "end_time": "2020-01-21T13:20:40.153810Z",
     "start_time": "2020-01-21T13:20:40.146828Z"
    }
   },
   "outputs": [
    {
     "name": "stdout",
     "output_type": "stream",
     "text": [
      "first :  0.9368005266622779\n",
      "second :  0.9382566585956417\n"
     ]
    }
   ],
   "source": [
    "# 0.948...\n",
    ">>> y_true = [[0.5, 1], [-1, 1], [7, -6]]\n",
    ">>> y_pred = [[0, 2], [-1, 2], [8, -5]]\n",
    "print(\"first : \", r2_score(y_true, y_pred))\n",
    ">>> print(\"second : \", r2_score(y_true, y_pred,multioutput='variance_weighted'))\n",
    "# 0.938..."
   ]
  },
  {
   "cell_type": "code",
   "execution_count": 14,
   "metadata": {
    "ExecuteTime": {
     "end_time": "2020-01-21T13:20:42.813697Z",
     "start_time": "2020-01-21T13:20:42.806737Z"
    }
   },
   "outputs": [
    {
     "data": {
      "text/plain": [
       "1.0"
      ]
     },
     "execution_count": 14,
     "metadata": {},
     "output_type": "execute_result"
    }
   ],
   "source": [
    "\n",
    ">>> y_true = [1, 2, 3]\n",
    ">>> y_pred = [1, 2, 3]\n",
    ">>> r2_score(y_true, y_pred)\n",
    "# 1.0\n"
   ]
  },
  {
   "cell_type": "code",
   "execution_count": 15,
   "metadata": {
    "ExecuteTime": {
     "end_time": "2020-01-21T13:20:44.044084Z",
     "start_time": "2020-01-21T13:20:44.039098Z"
    }
   },
   "outputs": [
    {
     "name": "stdout",
     "output_type": "stream",
     "text": [
      "third :  0.0\n"
     ]
    }
   ],
   "source": [
    ">>> y_true = [1, 2, 3]\n",
    ">>> y_pred = [2, 2, 2]\n",
    "print(\"third : \", r2_score(y_true, y_pred))\n",
    "# 0.0\n"
   ]
  },
  {
   "cell_type": "code",
   "execution_count": 16,
   "metadata": {
    "ExecuteTime": {
     "end_time": "2020-01-21T13:20:49.804943Z",
     "start_time": "2020-01-21T13:20:49.798959Z"
    }
   },
   "outputs": [
    {
     "name": "stdout",
     "output_type": "stream",
     "text": [
      "forth :  -3.0\n"
     ]
    }
   ],
   "source": [
    ">>> y_true = [1, 2, 3]\n",
    ">>> y_pred = [3, 2, 1]\n",
    "print(\"forth : \", r2_score(y_true, y_pred))\n",
    "# -3.0"
   ]
  },
  {
   "cell_type": "code",
   "execution_count": null,
   "metadata": {},
   "outputs": [],
   "source": []
  }
 ],
 "metadata": {
  "kernelspec": {
   "display_name": "Python 3",
   "language": "python",
   "name": "python3"
  },
  "language_info": {
   "codemirror_mode": {
    "name": "ipython",
    "version": 3
   },
   "file_extension": ".py",
   "mimetype": "text/x-python",
   "name": "python",
   "nbconvert_exporter": "python",
   "pygments_lexer": "ipython3",
   "version": "3.7.6"
  },
  "toc": {
   "base_numbering": 1,
   "nav_menu": {},
   "number_sections": true,
   "sideBar": true,
   "skip_h1_title": false,
   "title_cell": "Table of Contents",
   "title_sidebar": "Contents",
   "toc_cell": false,
   "toc_position": {},
   "toc_section_display": true,
   "toc_window_display": false
  },
  "varInspector": {
   "cols": {
    "lenName": 16,
    "lenType": 16,
    "lenVar": 40
   },
   "kernels_config": {
    "python": {
     "delete_cmd_postfix": "",
     "delete_cmd_prefix": "del ",
     "library": "var_list.py",
     "varRefreshCmd": "print(var_dic_list())"
    },
    "r": {
     "delete_cmd_postfix": ") ",
     "delete_cmd_prefix": "rm(",
     "library": "var_list.r",
     "varRefreshCmd": "cat(var_dic_list()) "
    }
   },
   "types_to_exclude": [
    "module",
    "function",
    "builtin_function_or_method",
    "instance",
    "_Feature"
   ],
   "window_display": false
  }
 },
 "nbformat": 4,
 "nbformat_minor": 2
}
