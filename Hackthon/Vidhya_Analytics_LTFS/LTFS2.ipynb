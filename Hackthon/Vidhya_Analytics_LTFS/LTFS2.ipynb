{
 "cells": [
  {
   "cell_type": "markdown",
   "metadata": {},
   "source": [
    "# Library"
   ]
  },
  {
   "cell_type": "code",
   "execution_count": 44,
   "metadata": {
    "ExecuteTime": {
     "end_time": "2020-01-23T14:55:29.112025Z",
     "start_time": "2020-01-23T14:55:29.096071Z"
    }
   },
   "outputs": [],
   "source": [
    "import pandas as pd\n",
    "from pandas import Series as s , DataFrame as df\n",
    "import numpy as np\n",
    "\n",
    "from sklearn.metrics import r2_score, mean_absolute_error, mean_squared_error\n",
    "from sklearn.model_selection import train_test_split\n",
    "from sklearn.preprocessing import LabelEncoder \n",
    "import seaborn as sb\n",
    "from matplotlib import pyplot as plt, rcParams as rc\n",
    "\n",
    "from sklearn.linear_model import LinearRegression\n",
    "from sklearn.tree import DecisionTreeRegressor\n",
    "from sklearn.ensemble import RandomForestRegressor\n",
    "from sklearn.svm import SVR\n",
    "from sklearn.neighbors import KNeighborsRegressor\n",
    "\n",
    "\n",
    "%matplotlib inline\n",
    "rc[\"figure.figsize\"] = 10,6\n",
    "\n",
    "\n",
    "import warnings\n",
    "warnings.filterwarnings(\"ignore\") \n",
    "\n",
    "\n",
    "from sklearn.pipeline import Pipeline\n",
    "\n",
    "\n",
    "\n",
    "from xgboost import XGBRegressor , XGBRFRegressor\n",
    "\n",
    "import lightgbm\n",
    "\n",
    "\n",
    "from catboost import CatBoostRegressor\n",
    "\n",
    "\n",
    "\n",
    "\n",
    "import datetime"
   ]
  },
  {
   "cell_type": "code",
   "execution_count": null,
   "metadata": {},
   "outputs": [],
   "source": []
  },
  {
   "cell_type": "markdown",
   "metadata": {},
   "source": [
    "# Function"
   ]
  },
  {
   "cell_type": "code",
   "execution_count": 45,
   "metadata": {
    "ExecuteTime": {
     "end_time": "2020-01-23T14:55:30.091642Z",
     "start_time": "2020-01-23T14:55:30.085659Z"
    }
   },
   "outputs": [],
   "source": [
    "#Note : y_test = y_true and predict_x = y_pred\n",
    "\n",
    "def mean_absolute_percentage_error(y_true, y_pred) :\n",
    "    \n",
    "    y_true = np.array(y_true)\n",
    "    y_pred = np.array(y_pred)\n",
    "    \n",
    "    return np.mean(          np.abs(  (y_true - y_pred) / 100)         ) * 100\n",
    "\n",
    "\n",
    "\n",
    "def root_mean_sequare_error(y_true, y_pred) :\n",
    "    \n",
    "    mse = mean_squared_error(y_true,  y_pred)\n",
    "    \n",
    "    rmse = np.sqrt(mse)\n",
    "    \n",
    "    return rmse"
   ]
  },
  {
   "cell_type": "code",
   "execution_count": null,
   "metadata": {},
   "outputs": [],
   "source": []
  },
  {
   "cell_type": "markdown",
   "metadata": {},
   "source": [
    "# Data Import "
   ]
  },
  {
   "cell_type": "code",
   "execution_count": 64,
   "metadata": {
    "ExecuteTime": {
     "end_time": "2020-01-23T14:56:49.524876Z",
     "start_time": "2020-01-23T14:56:49.448113Z"
    }
   },
   "outputs": [],
   "source": [
    "test = pd.read_csv(\"test_1eLl9Yf.csv\")\n",
    "train = pd.read_csv(\"train_fwYjLYX.csv\")\n",
    "smaple_submission = pd.read_csv(\"sample_submission_IIzFVsf.csv\")"
   ]
  },
  {
   "cell_type": "code",
   "execution_count": 65,
   "metadata": {
    "ExecuteTime": {
     "end_time": "2020-01-23T14:56:49.833056Z",
     "start_time": "2020-01-23T14:56:49.827069Z"
    }
   },
   "outputs": [
    {
     "name": "stdout",
     "output_type": "stream",
     "text": [
      "<class 'pandas.core.frame.DataFrame'>\n",
      "RangeIndex: 180 entries, 0 to 179\n",
      "Data columns (total 3 columns):\n",
      "id                  180 non-null int64\n",
      "application_date    180 non-null object\n",
      "segment             180 non-null int64\n",
      "dtypes: int64(2), object(1)\n",
      "memory usage: 4.3+ KB\n"
     ]
    }
   ],
   "source": [
    "test.info()"
   ]
  },
  {
   "cell_type": "code",
   "execution_count": 66,
   "metadata": {
    "ExecuteTime": {
     "end_time": "2020-01-23T14:56:50.248438Z",
     "start_time": "2020-01-23T14:56:50.231484Z"
    }
   },
   "outputs": [
    {
     "name": "stdout",
     "output_type": "stream",
     "text": [
      "<class 'pandas.core.frame.DataFrame'>\n",
      "RangeIndex: 80402 entries, 0 to 80401\n",
      "Data columns (total 6 columns):\n",
      "application_date    80402 non-null object\n",
      "segment             80402 non-null int64\n",
      "branch_id           66898 non-null float64\n",
      "state               80402 non-null object\n",
      "zone                66898 non-null object\n",
      "case_count          80402 non-null float64\n",
      "dtypes: float64(2), int64(1), object(3)\n",
      "memory usage: 3.7+ MB\n"
     ]
    }
   ],
   "source": [
    "train.info()"
   ]
  },
  {
   "cell_type": "code",
   "execution_count": 67,
   "metadata": {
    "ExecuteTime": {
     "end_time": "2020-01-23T14:56:50.766539Z",
     "start_time": "2020-01-23T14:56:50.745632Z"
    }
   },
   "outputs": [
    {
     "data": {
      "text/plain": [
       "application_date        0\n",
       "segment                 0\n",
       "branch_id           13504\n",
       "state                   0\n",
       "zone                13504\n",
       "case_count              0\n",
       "dtype: int64"
      ]
     },
     "execution_count": 67,
     "metadata": {},
     "output_type": "execute_result"
    }
   ],
   "source": [
    "train.isna().sum()"
   ]
  },
  {
   "cell_type": "code",
   "execution_count": 68,
   "metadata": {
    "ExecuteTime": {
     "end_time": "2020-01-23T14:56:51.166875Z",
     "start_time": "2020-01-23T14:56:51.161920Z"
    }
   },
   "outputs": [],
   "source": [
    "date_pattern = \"%Y-%m-%d\""
   ]
  },
  {
   "cell_type": "code",
   "execution_count": 69,
   "metadata": {
    "ExecuteTime": {
     "end_time": "2020-01-23T14:56:51.471059Z",
     "start_time": "2020-01-23T14:56:51.453107Z"
    }
   },
   "outputs": [],
   "source": [
    "test[\"year\"] = test.application_date.apply(lambda x : datetime.datetime.strptime(x, date_pattern).year)\n",
    "test[\"month\"] = test.application_date.apply(lambda x : datetime.datetime.strptime(x, date_pattern).month)\n",
    "test[\"day\"] = test.application_date.apply(lambda x : datetime.datetime.strptime(x, date_pattern).day)"
   ]
  },
  {
   "cell_type": "code",
   "execution_count": 70,
   "metadata": {
    "ExecuteTime": {
     "end_time": "2020-01-23T14:56:53.893723Z",
     "start_time": "2020-01-23T14:56:51.828025Z"
    }
   },
   "outputs": [],
   "source": [
    "train[\"year\"] = train.application_date.apply(lambda x : datetime.datetime.strptime(x, date_pattern).year)\n",
    "train[\"month\"] = train.application_date.apply(lambda x : datetime.datetime.strptime(x, date_pattern).month)\n",
    "train[\"day\"] = train.application_date.apply(lambda x : datetime.datetime.strptime(x, date_pattern).day)"
   ]
  },
  {
   "cell_type": "code",
   "execution_count": null,
   "metadata": {},
   "outputs": [],
   "source": []
  },
  {
   "cell_type": "markdown",
   "metadata": {},
   "source": [
    "# Data Split"
   ]
  },
  {
   "cell_type": "code",
   "execution_count": 71,
   "metadata": {
    "ExecuteTime": {
     "end_time": "2020-01-23T14:56:54.160776Z",
     "start_time": "2020-01-23T14:56:54.147809Z"
    }
   },
   "outputs": [
    {
     "data": {
      "text/html": [
       "<div>\n",
       "<style scoped>\n",
       "    .dataframe tbody tr th:only-of-type {\n",
       "        vertical-align: middle;\n",
       "    }\n",
       "\n",
       "    .dataframe tbody tr th {\n",
       "        vertical-align: top;\n",
       "    }\n",
       "\n",
       "    .dataframe thead th {\n",
       "        text-align: right;\n",
       "    }\n",
       "</style>\n",
       "<table border=\"1\" class=\"dataframe\">\n",
       "  <thead>\n",
       "    <tr style=\"text-align: right;\">\n",
       "      <th></th>\n",
       "      <th>application_date</th>\n",
       "      <th>segment</th>\n",
       "      <th>branch_id</th>\n",
       "      <th>state</th>\n",
       "      <th>zone</th>\n",
       "      <th>case_count</th>\n",
       "      <th>year</th>\n",
       "      <th>month</th>\n",
       "      <th>day</th>\n",
       "    </tr>\n",
       "  </thead>\n",
       "  <tbody>\n",
       "    <tr>\n",
       "      <th>0</th>\n",
       "      <td>2017-04-01</td>\n",
       "      <td>1</td>\n",
       "      <td>1.0</td>\n",
       "      <td>WEST BENGAL</td>\n",
       "      <td>EAST</td>\n",
       "      <td>40.0</td>\n",
       "      <td>2017</td>\n",
       "      <td>4</td>\n",
       "      <td>1</td>\n",
       "    </tr>\n",
       "  </tbody>\n",
       "</table>\n",
       "</div>"
      ],
      "text/plain": [
       "  application_date  segment  branch_id        state  zone  case_count  year  \\\n",
       "0       2017-04-01        1        1.0  WEST BENGAL  EAST        40.0  2017   \n",
       "\n",
       "   month  day  \n",
       "0      4    1  "
      ]
     },
     "execution_count": 71,
     "metadata": {},
     "output_type": "execute_result"
    }
   ],
   "source": [
    "train.head(1)"
   ]
  },
  {
   "cell_type": "code",
   "execution_count": 72,
   "metadata": {
    "ExecuteTime": {
     "end_time": "2020-01-23T14:56:54.410772Z",
     "start_time": "2020-01-23T14:56:54.400799Z"
    }
   },
   "outputs": [
    {
     "data": {
      "text/html": [
       "<div>\n",
       "<style scoped>\n",
       "    .dataframe tbody tr th:only-of-type {\n",
       "        vertical-align: middle;\n",
       "    }\n",
       "\n",
       "    .dataframe tbody tr th {\n",
       "        vertical-align: top;\n",
       "    }\n",
       "\n",
       "    .dataframe thead th {\n",
       "        text-align: right;\n",
       "    }\n",
       "</style>\n",
       "<table border=\"1\" class=\"dataframe\">\n",
       "  <thead>\n",
       "    <tr style=\"text-align: right;\">\n",
       "      <th></th>\n",
       "      <th>id</th>\n",
       "      <th>application_date</th>\n",
       "      <th>segment</th>\n",
       "      <th>year</th>\n",
       "      <th>month</th>\n",
       "      <th>day</th>\n",
       "    </tr>\n",
       "  </thead>\n",
       "  <tbody>\n",
       "    <tr>\n",
       "      <th>0</th>\n",
       "      <td>1</td>\n",
       "      <td>2019-07-06</td>\n",
       "      <td>1</td>\n",
       "      <td>2019</td>\n",
       "      <td>7</td>\n",
       "      <td>6</td>\n",
       "    </tr>\n",
       "  </tbody>\n",
       "</table>\n",
       "</div>"
      ],
      "text/plain": [
       "   id application_date  segment  year  month  day\n",
       "0   1       2019-07-06        1  2019      7    6"
      ]
     },
     "execution_count": 72,
     "metadata": {},
     "output_type": "execute_result"
    }
   ],
   "source": [
    "test.head(1)"
   ]
  },
  {
   "cell_type": "code",
   "execution_count": 90,
   "metadata": {
    "ExecuteTime": {
     "end_time": "2020-01-23T15:01:57.423309Z",
     "start_time": "2020-01-23T15:01:57.418323Z"
    }
   },
   "outputs": [
    {
     "data": {
      "text/plain": [
       "(180, 4)"
      ]
     },
     "execution_count": 90,
     "metadata": {},
     "output_type": "execute_result"
    }
   ],
   "source": [
    "x_test.shape"
   ]
  },
  {
   "cell_type": "code",
   "execution_count": 91,
   "metadata": {
    "ExecuteTime": {
     "end_time": "2020-01-23T15:01:57.804584Z",
     "start_time": "2020-01-23T15:01:57.798631Z"
    }
   },
   "outputs": [],
   "source": [
    "test_id = test.loc[:, \"id\"]\n",
    "\n",
    "test_application_date = test.loc[:, \"application_date\"]"
   ]
  },
  {
   "cell_type": "code",
   "execution_count": null,
   "metadata": {},
   "outputs": [],
   "source": []
  },
  {
   "cell_type": "code",
   "execution_count": 95,
   "metadata": {
    "ExecuteTime": {
     "end_time": "2020-01-23T15:03:48.943630Z",
     "start_time": "2020-01-23T15:03:48.932658Z"
    }
   },
   "outputs": [
    {
     "data": {
      "text/html": [
       "<div>\n",
       "<style scoped>\n",
       "    .dataframe tbody tr th:only-of-type {\n",
       "        vertical-align: middle;\n",
       "    }\n",
       "\n",
       "    .dataframe tbody tr th {\n",
       "        vertical-align: top;\n",
       "    }\n",
       "\n",
       "    .dataframe thead th {\n",
       "        text-align: right;\n",
       "    }\n",
       "</style>\n",
       "<table border=\"1\" class=\"dataframe\">\n",
       "  <thead>\n",
       "    <tr style=\"text-align: right;\">\n",
       "      <th></th>\n",
       "      <th>segment</th>\n",
       "      <th>year</th>\n",
       "      <th>month</th>\n",
       "      <th>day</th>\n",
       "    </tr>\n",
       "  </thead>\n",
       "  <tbody>\n",
       "    <tr>\n",
       "      <th>0</th>\n",
       "      <td>1</td>\n",
       "      <td>2017</td>\n",
       "      <td>4</td>\n",
       "      <td>1</td>\n",
       "    </tr>\n",
       "  </tbody>\n",
       "</table>\n",
       "</div>"
      ],
      "text/plain": [
       "   segment  year  month  day\n",
       "0        1  2017      4    1"
      ]
     },
     "execution_count": 95,
     "metadata": {},
     "output_type": "execute_result"
    }
   ],
   "source": [
    "x_test = test.loc[:,   ['segment', 'year', 'month', 'day'] ]\n",
    "\n",
    "\n",
    "x_train = train.loc[:,   ['segment', 'year', 'month', 'day'] ]\n",
    "\n",
    "y_train = train.loc[:,   ['case_count'] ]\n",
    "\n",
    "\n",
    "x_train.head(1)"
   ]
  },
  {
   "cell_type": "code",
   "execution_count": 96,
   "metadata": {
    "ExecuteTime": {
     "end_time": "2020-01-23T15:03:49.947129Z",
     "start_time": "2020-01-23T15:03:49.937155Z"
    }
   },
   "outputs": [
    {
     "data": {
      "text/html": [
       "<div>\n",
       "<style scoped>\n",
       "    .dataframe tbody tr th:only-of-type {\n",
       "        vertical-align: middle;\n",
       "    }\n",
       "\n",
       "    .dataframe tbody tr th {\n",
       "        vertical-align: top;\n",
       "    }\n",
       "\n",
       "    .dataframe thead th {\n",
       "        text-align: right;\n",
       "    }\n",
       "</style>\n",
       "<table border=\"1\" class=\"dataframe\">\n",
       "  <thead>\n",
       "    <tr style=\"text-align: right;\">\n",
       "      <th></th>\n",
       "      <th>segment</th>\n",
       "      <th>year</th>\n",
       "      <th>month</th>\n",
       "      <th>day</th>\n",
       "    </tr>\n",
       "  </thead>\n",
       "  <tbody>\n",
       "    <tr>\n",
       "      <th>0</th>\n",
       "      <td>1</td>\n",
       "      <td>2019</td>\n",
       "      <td>7</td>\n",
       "      <td>6</td>\n",
       "    </tr>\n",
       "  </tbody>\n",
       "</table>\n",
       "</div>"
      ],
      "text/plain": [
       "   segment  year  month  day\n",
       "0        1  2019      7    6"
      ]
     },
     "execution_count": 96,
     "metadata": {},
     "output_type": "execute_result"
    }
   ],
   "source": [
    "x_test.head(1)"
   ]
  },
  {
   "cell_type": "code",
   "execution_count": 97,
   "metadata": {
    "ExecuteTime": {
     "end_time": "2020-01-23T15:03:51.274414Z",
     "start_time": "2020-01-23T15:03:51.267432Z"
    }
   },
   "outputs": [
    {
     "data": {
      "text/html": [
       "<div>\n",
       "<style scoped>\n",
       "    .dataframe tbody tr th:only-of-type {\n",
       "        vertical-align: middle;\n",
       "    }\n",
       "\n",
       "    .dataframe tbody tr th {\n",
       "        vertical-align: top;\n",
       "    }\n",
       "\n",
       "    .dataframe thead th {\n",
       "        text-align: right;\n",
       "    }\n",
       "</style>\n",
       "<table border=\"1\" class=\"dataframe\">\n",
       "  <thead>\n",
       "    <tr style=\"text-align: right;\">\n",
       "      <th></th>\n",
       "      <th>case_count</th>\n",
       "    </tr>\n",
       "  </thead>\n",
       "  <tbody>\n",
       "    <tr>\n",
       "      <th>0</th>\n",
       "      <td>40.0</td>\n",
       "    </tr>\n",
       "  </tbody>\n",
       "</table>\n",
       "</div>"
      ],
      "text/plain": [
       "   case_count\n",
       "0        40.0"
      ]
     },
     "execution_count": 97,
     "metadata": {},
     "output_type": "execute_result"
    }
   ],
   "source": [
    "\n",
    "y_train.head(1)"
   ]
  },
  {
   "cell_type": "code",
   "execution_count": 98,
   "metadata": {
    "ExecuteTime": {
     "end_time": "2020-01-23T15:03:52.517869Z",
     "start_time": "2020-01-23T15:03:52.512945Z"
    }
   },
   "outputs": [
    {
     "data": {
      "text/plain": [
       "((80402, 4), (180, 4), (80402, 1))"
      ]
     },
     "execution_count": 98,
     "metadata": {},
     "output_type": "execute_result"
    }
   ],
   "source": [
    "x_train.shape , x_test.shape , y_train.shape"
   ]
  },
  {
   "cell_type": "code",
   "execution_count": null,
   "metadata": {},
   "outputs": [],
   "source": []
  },
  {
   "cell_type": "markdown",
   "metadata": {},
   "source": [
    "# Feature Engineer"
   ]
  },
  {
   "cell_type": "code",
   "execution_count": 59,
   "metadata": {
    "ExecuteTime": {
     "end_time": "2020-01-23T14:56:14.389951Z",
     "start_time": "2020-01-23T14:56:14.386962Z"
    }
   },
   "outputs": [],
   "source": [
    "\n",
    "# x = train.loc[:,   ['segment', 'year', 'month', 'day'] ]\n",
    "# y = train.loc[:   , \"case_count\"]\n",
    "\n",
    "# x_train, x_test , y_train , y_test = train_test_split(x ,y , test_size = 0.25 , random_state = 10)\n"
   ]
  },
  {
   "cell_type": "code",
   "execution_count": 63,
   "metadata": {
    "ExecuteTime": {
     "end_time": "2020-01-23T14:56:41.801297Z",
     "start_time": "2020-01-23T14:56:41.797308Z"
    }
   },
   "outputs": [],
   "source": [
    "# x_train.shape, x_test.shape, y_train.shape, y_test.shape"
   ]
  },
  {
   "cell_type": "code",
   "execution_count": 61,
   "metadata": {
    "ExecuteTime": {
     "end_time": "2020-01-23T14:56:15.517558Z",
     "start_time": "2020-01-23T14:56:15.509580Z"
    }
   },
   "outputs": [
    {
     "data": {
      "text/html": [
       "<div>\n",
       "<style scoped>\n",
       "    .dataframe tbody tr th:only-of-type {\n",
       "        vertical-align: middle;\n",
       "    }\n",
       "\n",
       "    .dataframe tbody tr th {\n",
       "        vertical-align: top;\n",
       "    }\n",
       "\n",
       "    .dataframe thead th {\n",
       "        text-align: right;\n",
       "    }\n",
       "</style>\n",
       "<table border=\"1\" class=\"dataframe\">\n",
       "  <thead>\n",
       "    <tr style=\"text-align: right;\">\n",
       "      <th></th>\n",
       "      <th>segment</th>\n",
       "      <th>year</th>\n",
       "      <th>month</th>\n",
       "      <th>day</th>\n",
       "    </tr>\n",
       "  </thead>\n",
       "  <tbody>\n",
       "    <tr>\n",
       "      <th>0</th>\n",
       "      <td>1</td>\n",
       "      <td>2017</td>\n",
       "      <td>4</td>\n",
       "      <td>1</td>\n",
       "    </tr>\n",
       "  </tbody>\n",
       "</table>\n",
       "</div>"
      ],
      "text/plain": [
       "   segment  year  month  day\n",
       "0        1  2017      4    1"
      ]
     },
     "execution_count": 61,
     "metadata": {},
     "output_type": "execute_result"
    }
   ],
   "source": [
    "x_train.head(1)"
   ]
  },
  {
   "cell_type": "code",
   "execution_count": 28,
   "metadata": {
    "ExecuteTime": {
     "end_time": "2020-01-23T13:48:58.076332Z",
     "start_time": "2020-01-23T13:48:58.068356Z"
    }
   },
   "outputs": [
    {
     "data": {
      "text/plain": [
       "51573    7.0\n",
       "Name: case_count, dtype: float64"
      ]
     },
     "execution_count": 28,
     "metadata": {},
     "output_type": "execute_result"
    }
   ],
   "source": [
    "y_train.head(1)"
   ]
  },
  {
   "cell_type": "code",
   "execution_count": null,
   "metadata": {},
   "outputs": [],
   "source": []
  },
  {
   "cell_type": "code",
   "execution_count": null,
   "metadata": {},
   "outputs": [],
   "source": []
  },
  {
   "cell_type": "markdown",
   "metadata": {},
   "source": [
    "# Multiple Model"
   ]
  },
  {
   "cell_type": "code",
   "execution_count": null,
   "metadata": {},
   "outputs": [],
   "source": []
  },
  {
   "cell_type": "code",
   "execution_count": 29,
   "metadata": {
    "ExecuteTime": {
     "end_time": "2020-01-23T13:48:59.179011Z",
     "start_time": "2020-01-23T13:48:59.172029Z"
    }
   },
   "outputs": [],
   "source": [
    "rows=[]\n",
    "\n",
    "\n",
    "def addRandomStateForAlgorithm(x,y,names,algorithms,columns_name,random_state_list):    \n",
    "    for j in range(len(algorithms)):\n",
    "        model = algorithms[j]\n",
    "        for i in random_state_list:\n",
    "            \n",
    "            x_train, x_test , y_train , y_test = train_test_split(x ,y , test_size = 0.25 , random_state = i)\n",
    "            \n",
    "            model.fit(x_train,y_train)\n",
    "            y_pred = model.predict(x_test)\n",
    "            \n",
    "            accuracy = r2_score(y_test, y_pred)\n",
    "            accuracy = round(accuracy, 2) * 100\n",
    "            \n",
    "            mape = mean_absolute_percentage_error(y_test, y_pred)\n",
    "            mape = round(mape, 2)\n",
    "            \n",
    "            mae = mean_absolute_error(y_test, y_pred)   \n",
    "            mae = round(mae, 2)\n",
    "            \n",
    "            mse = mean_squared_error(y_test, y_pred)\n",
    "            mse = round(mse, 2)\n",
    "            \n",
    "            rmse = root_mean_sequare_error(y_test, y_pred)\n",
    "            rmse = round(rmse, 2)\n",
    "            \n",
    "            \n",
    "            row = [names[j],   i,   accuracy,   mape,    mae,    mse,    rmse]\n",
    "            \n",
    "            rows.append(row)\n",
    "            \n",
    "    models_df = pd.DataFrame(rows) \n",
    "    \n",
    "    models_df.columns = columns_name\n",
    "    print(models_df)"
   ]
  },
  {
   "cell_type": "code",
   "execution_count": null,
   "metadata": {},
   "outputs": [],
   "source": []
  },
  {
   "cell_type": "code",
   "execution_count": 30,
   "metadata": {
    "ExecuteTime": {
     "end_time": "2020-01-23T13:49:00.702032Z",
     "start_time": "2020-01-23T13:49:00.699078Z"
    }
   },
   "outputs": [],
   "source": [
    "# addRandomStateForAlgorithm(x, y,names_regression ,algorithms,columns_name,random_state_list_up_to_10)"
   ]
  },
  {
   "cell_type": "code",
   "execution_count": null,
   "metadata": {},
   "outputs": [],
   "source": []
  },
  {
   "cell_type": "code",
   "execution_count": null,
   "metadata": {},
   "outputs": [],
   "source": []
  },
  {
   "cell_type": "markdown",
   "metadata": {
    "heading_collapsed": true
   },
   "source": [
    "## Simple Algorithm"
   ]
  },
  {
   "cell_type": "code",
   "execution_count": 31,
   "metadata": {
    "ExecuteTime": {
     "end_time": "2020-01-23T13:51:44.572367Z",
     "start_time": "2020-01-23T13:51:44.565391Z"
    },
    "hidden": true
   },
   "outputs": [],
   "source": [
    "names_regression_1 = [\"Linear\", \"DT\", \"RF\"  ]\n",
    "\n",
    "algorithms_1 = [ LinearRegression(), DecisionTreeRegressor(), RandomForestRegressor()]\n",
    "\n",
    "columns_name_1 = [\"Model_name\",    \"Random_state\",   'Accuracy',     \"  MAPE \",   \" MAE \",   \" MSE \", \" RMSE \"]\n",
    "\n",
    "random_state_list_up_to_5_1 = [0]\n",
    "random_state_list_up_to_10_1 = [0,1,2,3,4,5,6,7,8,9,10]\n",
    "random_state_list_10_up_to_20 = [10,11,12,13,14,15,16,17,18,19,20]"
   ]
  },
  {
   "cell_type": "code",
   "execution_count": 32,
   "metadata": {
    "ExecuteTime": {
     "end_time": "2020-01-23T13:51:49.830061Z",
     "start_time": "2020-01-23T13:51:45.224420Z"
    },
    "hidden": true
   },
   "outputs": [
    {
     "name": "stdout",
     "output_type": "stream",
     "text": [
      "   Model_name  Random_state  Accuracy    MAPE     MAE        MSE    RMSE \n",
      "0      Linear             0      21.0   209.07  209.07  429523.96  655.38\n",
      "1      Linear             1      21.0   216.07  216.07  454422.38  674.11\n",
      "2      Linear             2      21.0   212.26  212.26  450782.04  671.40\n",
      "3      Linear             3      21.0   212.19  212.19  428211.19  654.38\n",
      "4      Linear             4      20.0   211.17  211.17  472039.58  687.05\n",
      "5      Linear             5      21.0   209.84  209.84  408609.04  639.23\n",
      "6      Linear             6      22.0   211.77  211.77  436554.20  660.72\n",
      "7      Linear             7      22.0   205.48  205.48  407534.85  638.38\n",
      "8      Linear             8      21.0   211.10  211.10  425782.91  652.52\n",
      "9      Linear             9      21.0   214.91  214.91  456000.31  675.28\n",
      "10     Linear            10      21.0   211.44  211.44  459858.89  678.13\n",
      "11         DT             0      23.0   179.93  179.93  420605.13  648.54\n",
      "12         DT             1      22.0   188.15  188.15  453354.24  673.32\n",
      "13         DT             2      21.0   183.07  183.07  445669.13  667.58\n",
      "14         DT             3      21.0   185.28  185.28  425425.82  652.25\n",
      "15         DT             4      21.0   184.58  184.58  467170.57  683.50\n",
      "16         DT             5      20.0   182.78  182.78  412807.13  642.50\n",
      "17         DT             6      23.0   184.32  184.32  430745.25  656.31\n",
      "18         DT             7      22.0   179.94  179.94  408626.45  639.24\n",
      "19         DT             8      21.0   182.65  182.65  423667.33  650.90\n",
      "20         DT             9      23.0   187.12  187.12  446845.62  668.47\n",
      "21         DT            10      21.0   185.50  185.50  459245.73  677.68\n",
      "22         RF             0      22.0   180.64  180.64  426079.53  652.75\n",
      "23         RF             1      21.0   188.96  188.96  457316.15  676.25\n",
      "24         RF             2      21.0   184.27  184.27  448985.87  670.06\n",
      "25         RF             3      21.0   185.45  185.45  428426.95  654.54\n",
      "26         RF             4      21.0   184.78  184.78  467591.62  683.81\n",
      "27         RF             5      20.0   183.57  183.57  415524.53  644.61\n",
      "28         RF             6      22.0   184.90  184.90  433673.50  658.54\n",
      "29         RF             7      21.0   180.38  180.38  412010.73  641.88\n",
      "30         RF             8      21.0   182.59  182.59  425345.62  652.19\n",
      "31         RF             9      22.0   187.22  187.22  449596.89  670.52\n",
      "32         RF            10      21.0   185.92  185.92  460843.19  678.85\n"
     ]
    }
   ],
   "source": [
    "addRandomStateForAlgorithm(x, y,names_regression_1 ,algorithms_1,columns_name_1,random_state_list_up_to_10_1)"
   ]
  },
  {
   "cell_type": "code",
   "execution_count": null,
   "metadata": {
    "hidden": true
   },
   "outputs": [],
   "source": []
  },
  {
   "cell_type": "markdown",
   "metadata": {},
   "source": [
    "## Complex Algorithm"
   ]
  },
  {
   "cell_type": "code",
   "execution_count": null,
   "metadata": {},
   "outputs": [],
   "source": []
  },
  {
   "cell_type": "code",
   "execution_count": 33,
   "metadata": {
    "ExecuteTime": {
     "end_time": "2020-01-23T13:52:27.417220Z",
     "start_time": "2020-01-23T13:52:27.406284Z"
    }
   },
   "outputs": [],
   "source": [
    "xgbRegressor = XGBRegressor(base_score=0.5, colsample_bylevel=1, colsample_bytree=0.4,\n",
    "       gamma=0, learning_rate=0.07, max_delta_step=0, max_depth=3,\n",
    "       min_child_weight=1.5, missing=None, n_estimators=10000, nthread=-1,\n",
    "       objective='reg:linear', reg_alpha=0.75, reg_lambda=0.45,\n",
    "       scale_pos_weight=1, seed=42, silent=True, subsample=0.6)\n",
    "\n",
    "\n",
    "\n",
    "lgbm = lightgbm.LGBMRegressor(boosting_type='gbdt', objective='regression', num_leaves=1200,\n",
    "                                learning_rate=0.17, num_boost_round=5000,\n",
    "                                metric='rmse', bagging_fraction=0.8, feature_fraction=0.8, reg_lambda=0.9)\n",
    "\n",
    "catBoostRegressor  = CatBoostRegressor(iterations=50, depth=3, learning_rate=0.17, loss_function='RMSE')\n",
    "\n",
    "\n",
    "names_regression_2 = [\"XGBRegressor\", \"lgbm\" , \"catBoostRegressor\"]\n",
    "algorithms_2 = [  xgbRegressor, lgbm , catBoostRegressor]\n",
    "\n",
    "columns_name_2 = [\"Model_name\",    \"Random_state\",   'Accuracy',     \"  MAPE \",   \" MAE \",   \" MSE \", \" RMSE \"]\n",
    "\n",
    "\n",
    "random_state_list_up_to_5 = [0]\n",
    "random_state_list_up_to_3_2 = [0,1,2,3]\n",
    "random_state_list_up_to_10 = [0,1,2,3,4,5,6,7,8,9,10]\n",
    "random_state_list_10_up_to_20 = [10,11,12,13,14,15,16,17,18,19,20]"
   ]
  },
  {
   "cell_type": "code",
   "execution_count": 34,
   "metadata": {
    "ExecuteTime": {
     "end_time": "2020-01-23T14:43:04.807965Z",
     "start_time": "2020-01-23T13:52:29.730993Z"
    }
   },
   "outputs": [
    {
     "name": "stdout",
     "output_type": "stream",
     "text": [
      "0:\tlearn: 720.5372380\ttotal: 57.7ms\tremaining: 2.83s\n",
      "1:\tlearn: 697.0527144\ttotal: 62.6ms\tremaining: 1.5s\n",
      "2:\tlearn: 679.8992501\ttotal: 68.1ms\tremaining: 1.07s\n",
      "3:\tlearn: 667.1394285\ttotal: 72.4ms\tremaining: 832ms\n",
      "4:\tlearn: 658.2029571\ttotal: 76.6ms\tremaining: 689ms\n",
      "5:\tlearn: 651.1535937\ttotal: 81.8ms\tremaining: 600ms\n",
      "6:\tlearn: 646.5331157\ttotal: 87.4ms\tremaining: 537ms\n",
      "7:\tlearn: 643.0101306\ttotal: 91.7ms\tremaining: 481ms\n",
      "8:\tlearn: 639.9570121\ttotal: 97ms\tremaining: 442ms\n",
      "9:\tlearn: 637.9856929\ttotal: 102ms\tremaining: 410ms\n",
      "10:\tlearn: 636.5674943\ttotal: 107ms\tremaining: 378ms\n",
      "11:\tlearn: 635.3822486\ttotal: 115ms\tremaining: 363ms\n",
      "12:\tlearn: 634.4683884\ttotal: 120ms\tremaining: 341ms\n",
      "13:\tlearn: 633.8240197\ttotal: 125ms\tremaining: 321ms\n",
      "14:\tlearn: 633.0647826\ttotal: 131ms\tremaining: 305ms\n",
      "15:\tlearn: 632.5018898\ttotal: 136ms\tremaining: 290ms\n",
      "16:\tlearn: 632.1014078\ttotal: 141ms\tremaining: 274ms\n",
      "17:\tlearn: 631.8459871\ttotal: 147ms\tremaining: 262ms\n",
      "18:\tlearn: 631.4918924\ttotal: 151ms\tremaining: 247ms\n",
      "19:\tlearn: 631.1936921\ttotal: 156ms\tremaining: 234ms\n",
      "20:\tlearn: 631.0344323\ttotal: 160ms\tremaining: 222ms\n",
      "21:\tlearn: 630.7599329\ttotal: 165ms\tremaining: 210ms\n",
      "22:\tlearn: 630.5547972\ttotal: 169ms\tremaining: 199ms\n",
      "23:\tlearn: 630.3910545\ttotal: 174ms\tremaining: 188ms\n",
      "24:\tlearn: 630.2387467\ttotal: 178ms\tremaining: 178ms\n",
      "25:\tlearn: 630.1335600\ttotal: 183ms\tremaining: 169ms\n",
      "26:\tlearn: 629.9572172\ttotal: 187ms\tremaining: 159ms\n",
      "27:\tlearn: 629.8261609\ttotal: 191ms\tremaining: 150ms\n",
      "28:\tlearn: 629.6979002\ttotal: 195ms\tremaining: 142ms\n",
      "29:\tlearn: 629.6532861\ttotal: 200ms\tremaining: 133ms\n",
      "30:\tlearn: 629.5714607\ttotal: 206ms\tremaining: 126ms\n",
      "31:\tlearn: 629.5097655\ttotal: 210ms\tremaining: 118ms\n",
      "32:\tlearn: 629.5078857\ttotal: 214ms\tremaining: 110ms\n",
      "33:\tlearn: 629.3489754\ttotal: 219ms\tremaining: 103ms\n",
      "34:\tlearn: 629.3102866\ttotal: 224ms\tremaining: 96.2ms\n",
      "35:\tlearn: 629.2683970\ttotal: 229ms\tremaining: 89.2ms\n",
      "36:\tlearn: 629.2128590\ttotal: 235ms\tremaining: 82.5ms\n",
      "37:\tlearn: 629.1224305\ttotal: 240ms\tremaining: 75.7ms\n",
      "38:\tlearn: 629.0702773\ttotal: 245ms\tremaining: 69.2ms\n",
      "39:\tlearn: 629.0064972\ttotal: 251ms\tremaining: 62.7ms\n",
      "40:\tlearn: 628.9854517\ttotal: 255ms\tremaining: 56.1ms\n",
      "41:\tlearn: 628.8736272\ttotal: 260ms\tremaining: 49.5ms\n",
      "42:\tlearn: 628.8479237\ttotal: 265ms\tremaining: 43.1ms\n",
      "43:\tlearn: 628.7163964\ttotal: 269ms\tremaining: 36.7ms\n",
      "44:\tlearn: 628.6266732\ttotal: 273ms\tremaining: 30.3ms\n",
      "45:\tlearn: 628.5536551\ttotal: 278ms\tremaining: 24.2ms\n",
      "46:\tlearn: 628.5332442\ttotal: 283ms\tremaining: 18ms\n",
      "47:\tlearn: 628.5021412\ttotal: 287ms\tremaining: 12ms\n",
      "48:\tlearn: 628.4447878\ttotal: 292ms\tremaining: 5.96ms\n",
      "49:\tlearn: 628.4413326\ttotal: 297ms\tremaining: 0us\n",
      "0:\tlearn: 713.6535623\ttotal: 5.6ms\tremaining: 275ms\n",
      "1:\tlearn: 690.6462762\ttotal: 10.7ms\tremaining: 256ms\n",
      "2:\tlearn: 674.0424736\ttotal: 16ms\tremaining: 250ms\n",
      "3:\tlearn: 661.0001329\ttotal: 21ms\tremaining: 241ms\n",
      "4:\tlearn: 651.8610517\ttotal: 26.7ms\tremaining: 240ms\n",
      "5:\tlearn: 644.9231797\ttotal: 32.4ms\tremaining: 238ms\n",
      "6:\tlearn: 640.1321740\ttotal: 37.1ms\tremaining: 228ms\n",
      "7:\tlearn: 636.8014180\ttotal: 42.7ms\tremaining: 224ms\n",
      "8:\tlearn: 633.6856955\ttotal: 48.7ms\tremaining: 222ms\n",
      "9:\tlearn: 631.6444433\ttotal: 53.8ms\tremaining: 215ms\n",
      "10:\tlearn: 630.0344210\ttotal: 59.9ms\tremaining: 212ms\n",
      "11:\tlearn: 628.8775070\ttotal: 64.5ms\tremaining: 204ms\n",
      "12:\tlearn: 627.8715963\ttotal: 69.6ms\tremaining: 198ms\n",
      "13:\tlearn: 627.1440417\ttotal: 74.6ms\tremaining: 192ms\n",
      "14:\tlearn: 626.3850702\ttotal: 79.5ms\tremaining: 186ms\n",
      "15:\tlearn: 625.8594997\ttotal: 84.2ms\tremaining: 179ms\n",
      "16:\tlearn: 625.4893639\ttotal: 88.7ms\tremaining: 172ms\n",
      "17:\tlearn: 625.0200783\ttotal: 93.2ms\tremaining: 166ms\n",
      "18:\tlearn: 624.7612780\ttotal: 98ms\tremaining: 160ms\n",
      "19:\tlearn: 624.4984660\ttotal: 103ms\tremaining: 154ms\n",
      "20:\tlearn: 624.2202857\ttotal: 108ms\tremaining: 149ms\n",
      "21:\tlearn: 623.9769554\ttotal: 112ms\tremaining: 143ms\n",
      "22:\tlearn: 623.8601936\ttotal: 117ms\tremaining: 137ms\n",
      "23:\tlearn: 623.6640510\ttotal: 122ms\tremaining: 132ms\n",
      "24:\tlearn: 623.6122305\ttotal: 127ms\tremaining: 127ms\n",
      "25:\tlearn: 623.3781845\ttotal: 132ms\tremaining: 122ms\n",
      "26:\tlearn: 623.2534252\ttotal: 136ms\tremaining: 116ms\n",
      "27:\tlearn: 623.1041094\ttotal: 141ms\tremaining: 111ms\n",
      "28:\tlearn: 623.0297480\ttotal: 146ms\tremaining: 106ms\n",
      "29:\tlearn: 622.9857168\ttotal: 150ms\tremaining: 100ms\n",
      "30:\tlearn: 622.8696468\ttotal: 155ms\tremaining: 94.8ms\n",
      "31:\tlearn: 622.7896310\ttotal: 159ms\tremaining: 89.7ms\n",
      "32:\tlearn: 622.7864655\ttotal: 164ms\tremaining: 84.3ms\n",
      "33:\tlearn: 622.6495188\ttotal: 168ms\tremaining: 78.9ms\n",
      "34:\tlearn: 622.5851229\ttotal: 172ms\tremaining: 73.8ms\n",
      "35:\tlearn: 622.5281543\ttotal: 177ms\tremaining: 68.8ms\n",
      "36:\tlearn: 622.4327970\ttotal: 181ms\tremaining: 63.7ms\n",
      "37:\tlearn: 622.3155524\ttotal: 186ms\tremaining: 58.7ms\n",
      "38:\tlearn: 622.2170650\ttotal: 190ms\tremaining: 53.7ms\n",
      "39:\tlearn: 622.1518003\ttotal: 195ms\tremaining: 48.7ms\n",
      "40:\tlearn: 622.1295077\ttotal: 199ms\tremaining: 43.7ms\n",
      "41:\tlearn: 622.0004611\ttotal: 203ms\tremaining: 38.8ms\n",
      "42:\tlearn: 621.9425948\ttotal: 208ms\tremaining: 33.9ms\n",
      "43:\tlearn: 621.9024745\ttotal: 213ms\tremaining: 29ms\n",
      "44:\tlearn: 621.8285506\ttotal: 218ms\tremaining: 24.2ms\n",
      "45:\tlearn: 621.7624721\ttotal: 222ms\tremaining: 19.3ms\n",
      "46:\tlearn: 621.7314283\ttotal: 227ms\tremaining: 14.5ms\n",
      "47:\tlearn: 621.6696677\ttotal: 231ms\tremaining: 9.62ms\n",
      "48:\tlearn: 621.6319087\ttotal: 235ms\tremaining: 4.8ms\n",
      "49:\tlearn: 621.6229593\ttotal: 240ms\tremaining: 0us\n",
      "0:\tlearn: 715.6296435\ttotal: 4.99ms\tremaining: 245ms\n",
      "1:\tlearn: 692.2891484\ttotal: 9.32ms\tremaining: 224ms\n",
      "2:\tlearn: 675.6823498\ttotal: 14.1ms\tremaining: 220ms\n",
      "3:\tlearn: 662.5947950\ttotal: 18.2ms\tremaining: 209ms\n",
      "4:\tlearn: 653.4238981\ttotal: 22.5ms\tremaining: 203ms\n",
      "5:\tlearn: 646.4683171\ttotal: 27.1ms\tremaining: 199ms\n",
      "6:\tlearn: 641.7756937\ttotal: 31.2ms\tremaining: 192ms\n",
      "7:\tlearn: 638.1147666\ttotal: 36.3ms\tremaining: 190ms\n",
      "8:\tlearn: 635.3343310\ttotal: 40.6ms\tremaining: 185ms\n",
      "9:\tlearn: 633.2937212\ttotal: 44.9ms\tremaining: 180ms\n",
      "10:\tlearn: 631.7167710\ttotal: 49.3ms\tremaining: 175ms\n",
      "11:\tlearn: 630.4513501\ttotal: 53.5ms\tremaining: 170ms\n",
      "12:\tlearn: 629.6106582\ttotal: 58ms\tremaining: 165ms\n",
      "13:\tlearn: 628.9151354\ttotal: 62.2ms\tremaining: 160ms\n",
      "14:\tlearn: 628.2555571\ttotal: 66.7ms\tremaining: 156ms\n",
      "15:\tlearn: 627.7465239\ttotal: 70.8ms\tremaining: 151ms\n",
      "16:\tlearn: 627.3951302\ttotal: 75ms\tremaining: 146ms\n",
      "17:\tlearn: 626.9404250\ttotal: 79.7ms\tremaining: 142ms\n",
      "18:\tlearn: 626.6252801\ttotal: 84.5ms\tremaining: 138ms\n",
      "19:\tlearn: 626.3318241\ttotal: 88.9ms\tremaining: 133ms\n",
      "20:\tlearn: 626.0070562\ttotal: 93.6ms\tremaining: 129ms\n",
      "21:\tlearn: 625.6983027\ttotal: 99.2ms\tremaining: 126ms\n",
      "22:\tlearn: 625.5411705\ttotal: 103ms\tremaining: 121ms\n",
      "23:\tlearn: 625.3036710\ttotal: 108ms\tremaining: 117ms\n",
      "24:\tlearn: 625.0994551\ttotal: 113ms\tremaining: 113ms\n",
      "25:\tlearn: 624.9268424\ttotal: 117ms\tremaining: 108ms\n",
      "26:\tlearn: 624.7623487\ttotal: 121ms\tremaining: 103ms\n",
      "27:\tlearn: 624.6607361\ttotal: 126ms\tremaining: 98.8ms\n",
      "28:\tlearn: 624.5073535\ttotal: 130ms\tremaining: 94.4ms\n",
      "29:\tlearn: 624.4362705\ttotal: 135ms\tremaining: 89.7ms\n",
      "30:\tlearn: 624.3063893\ttotal: 139ms\tremaining: 85.1ms\n",
      "31:\tlearn: 624.1984132\ttotal: 144ms\tremaining: 80.8ms\n",
      "32:\tlearn: 624.1962247\ttotal: 148ms\tremaining: 76.1ms\n",
      "33:\tlearn: 624.0866754\ttotal: 152ms\tremaining: 71.5ms\n",
      "34:\tlearn: 624.0351895\ttotal: 156ms\tremaining: 67ms\n",
      "35:\tlearn: 623.9609626\ttotal: 161ms\tremaining: 62.6ms\n",
      "36:\tlearn: 623.8594893\ttotal: 165ms\tremaining: 58.1ms\n",
      "37:\tlearn: 623.6817163\ttotal: 170ms\tremaining: 53.6ms\n",
      "38:\tlearn: 623.6120228\ttotal: 175ms\tremaining: 49.3ms\n",
      "39:\tlearn: 623.5521080\ttotal: 180ms\tremaining: 44.9ms\n",
      "40:\tlearn: 623.5240876\ttotal: 184ms\tremaining: 40.3ms\n",
      "41:\tlearn: 623.4477613\ttotal: 189ms\tremaining: 35.9ms\n",
      "42:\tlearn: 623.3900766\ttotal: 193ms\tremaining: 31.4ms\n",
      "43:\tlearn: 623.3367307\ttotal: 197ms\tremaining: 26.9ms\n",
      "44:\tlearn: 623.2392358\ttotal: 201ms\tremaining: 22.4ms\n",
      "45:\tlearn: 623.1802694\ttotal: 206ms\tremaining: 17.9ms\n",
      "46:\tlearn: 623.1169600\ttotal: 210ms\tremaining: 13.4ms\n",
      "47:\tlearn: 623.0893841\ttotal: 214ms\tremaining: 8.94ms\n",
      "48:\tlearn: 623.0701328\ttotal: 219ms\tremaining: 4.47ms\n",
      "49:\tlearn: 623.0662130\ttotal: 223ms\tremaining: 0us\n",
      "0:\tlearn: 721.2776742\ttotal: 4.67ms\tremaining: 229ms\n",
      "1:\tlearn: 697.5899028\ttotal: 9.53ms\tremaining: 229ms\n",
      "2:\tlearn: 680.5683161\ttotal: 13.8ms\tremaining: 216ms\n",
      "3:\tlearn: 667.3063851\ttotal: 18ms\tremaining: 206ms\n",
      "4:\tlearn: 657.8933021\ttotal: 22ms\tremaining: 198ms\n",
      "5:\tlearn: 650.8306661\ttotal: 26.3ms\tremaining: 193ms\n",
      "6:\tlearn: 646.0418220\ttotal: 30.3ms\tremaining: 186ms\n",
      "7:\tlearn: 642.3462741\ttotal: 34.8ms\tremaining: 183ms\n",
      "8:\tlearn: 639.1886691\ttotal: 39.7ms\tremaining: 181ms\n",
      "9:\tlearn: 637.1201567\ttotal: 44.6ms\tremaining: 178ms\n",
      "10:\tlearn: 635.6409422\ttotal: 49.5ms\tremaining: 175ms\n",
      "11:\tlearn: 634.3377108\ttotal: 54.6ms\tremaining: 173ms\n",
      "12:\tlearn: 633.3955515\ttotal: 61.3ms\tremaining: 175ms\n",
      "13:\tlearn: 632.5510844\ttotal: 66.1ms\tremaining: 170ms\n",
      "14:\tlearn: 631.9592296\ttotal: 70.8ms\tremaining: 165ms\n",
      "15:\tlearn: 631.4772926\ttotal: 75.9ms\tremaining: 161ms\n",
      "16:\tlearn: 630.9091604\ttotal: 80.9ms\tremaining: 157ms\n",
      "17:\tlearn: 630.4532640\ttotal: 85.6ms\tremaining: 152ms\n",
      "18:\tlearn: 630.1329422\ttotal: 92.1ms\tremaining: 150ms\n",
      "19:\tlearn: 629.8298731\ttotal: 97.4ms\tremaining: 146ms\n",
      "20:\tlearn: 629.5717321\ttotal: 102ms\tremaining: 141ms\n",
      "21:\tlearn: 629.3523829\ttotal: 108ms\tremaining: 137ms\n",
      "22:\tlearn: 629.2256155\ttotal: 113ms\tremaining: 132ms\n",
      "23:\tlearn: 629.1562834\ttotal: 117ms\tremaining: 127ms\n",
      "24:\tlearn: 629.1222092\ttotal: 123ms\tremaining: 123ms\n",
      "25:\tlearn: 628.8694724\ttotal: 129ms\tremaining: 119ms\n",
      "26:\tlearn: 628.7198081\ttotal: 133ms\tremaining: 114ms\n",
      "27:\tlearn: 628.6220697\ttotal: 138ms\tremaining: 109ms\n",
      "28:\tlearn: 628.4529309\ttotal: 144ms\tremaining: 104ms\n",
      "29:\tlearn: 628.3606277\ttotal: 150ms\tremaining: 100ms\n",
      "30:\tlearn: 628.2596879\ttotal: 159ms\tremaining: 97.6ms\n",
      "31:\tlearn: 628.1900197\ttotal: 164ms\tremaining: 92.3ms\n",
      "32:\tlearn: 628.0493680\ttotal: 169ms\tremaining: 87ms\n",
      "33:\tlearn: 627.9230434\ttotal: 174ms\tremaining: 81.7ms\n",
      "34:\tlearn: 627.8537423\ttotal: 178ms\tremaining: 76.4ms\n"
     ]
    },
    {
     "name": "stdout",
     "output_type": "stream",
     "text": [
      "35:\tlearn: 627.7664964\ttotal: 184ms\tremaining: 71.4ms\n",
      "36:\tlearn: 627.7379439\ttotal: 192ms\tremaining: 67.3ms\n",
      "37:\tlearn: 627.6708397\ttotal: 197ms\tremaining: 62.2ms\n",
      "38:\tlearn: 627.6170495\ttotal: 202ms\tremaining: 56.9ms\n",
      "39:\tlearn: 627.5871245\ttotal: 206ms\tremaining: 51.5ms\n",
      "40:\tlearn: 627.5152622\ttotal: 211ms\tremaining: 46.3ms\n",
      "41:\tlearn: 627.4929324\ttotal: 216ms\tremaining: 41.1ms\n",
      "42:\tlearn: 627.4571518\ttotal: 224ms\tremaining: 36.5ms\n",
      "43:\tlearn: 627.4359282\ttotal: 229ms\tremaining: 31.2ms\n",
      "44:\tlearn: 627.3959791\ttotal: 234ms\tremaining: 26ms\n",
      "45:\tlearn: 627.3703511\ttotal: 239ms\tremaining: 20.8ms\n",
      "46:\tlearn: 627.3320747\ttotal: 243ms\tremaining: 15.5ms\n",
      "47:\tlearn: 627.2760561\ttotal: 248ms\tremaining: 10.3ms\n",
      "48:\tlearn: 627.2572354\ttotal: 253ms\tremaining: 5.17ms\n",
      "49:\tlearn: 627.1770308\ttotal: 258ms\tremaining: 0us\n",
      "           Model_name  Random_state  Accuracy    MAPE     MAE        MSE   \\\n",
      "0              Linear             0      21.0   209.07  209.07  429523.96   \n",
      "1              Linear             1      21.0   216.07  216.07  454422.38   \n",
      "2              Linear             2      21.0   212.26  212.26  450782.04   \n",
      "3              Linear             3      21.0   212.19  212.19  428211.19   \n",
      "4              Linear             4      20.0   211.17  211.17  472039.58   \n",
      "5              Linear             5      21.0   209.84  209.84  408609.04   \n",
      "6              Linear             6      22.0   211.77  211.77  436554.20   \n",
      "7              Linear             7      22.0   205.48  205.48  407534.85   \n",
      "8              Linear             8      21.0   211.10  211.10  425782.91   \n",
      "9              Linear             9      21.0   214.91  214.91  456000.31   \n",
      "10             Linear            10      21.0   211.44  211.44  459858.89   \n",
      "11                 DT             0      23.0   179.93  179.93  420605.13   \n",
      "12                 DT             1      22.0   188.15  188.15  453354.24   \n",
      "13                 DT             2      21.0   183.07  183.07  445669.13   \n",
      "14                 DT             3      21.0   185.28  185.28  425425.82   \n",
      "15                 DT             4      21.0   184.58  184.58  467170.57   \n",
      "16                 DT             5      20.0   182.78  182.78  412807.13   \n",
      "17                 DT             6      23.0   184.32  184.32  430745.25   \n",
      "18                 DT             7      22.0   179.94  179.94  408626.45   \n",
      "19                 DT             8      21.0   182.65  182.65  423667.33   \n",
      "20                 DT             9      23.0   187.12  187.12  446845.62   \n",
      "21                 DT            10      21.0   185.50  185.50  459245.73   \n",
      "22                 RF             0      22.0   180.64  180.64  426079.53   \n",
      "23                 RF             1      21.0   188.96  188.96  457316.15   \n",
      "24                 RF             2      21.0   184.27  184.27  448985.87   \n",
      "25                 RF             3      21.0   185.45  185.45  428426.95   \n",
      "26                 RF             4      21.0   184.78  184.78  467591.62   \n",
      "27                 RF             5      20.0   183.57  183.57  415524.53   \n",
      "28                 RF             6      22.0   184.90  184.90  433673.50   \n",
      "29                 RF             7      21.0   180.38  180.38  412010.73   \n",
      "30                 RF             8      21.0   182.59  182.59  425345.62   \n",
      "31                 RF             9      22.0   187.22  187.22  449596.89   \n",
      "32                 RF            10      21.0   185.92  185.92  460843.19   \n",
      "33       XGBRegressor             0      22.0   237.42  237.42  423404.99   \n",
      "34       XGBRegressor             1      23.0   242.38  242.38  447579.43   \n",
      "35       XGBRegressor             2      22.0   239.00  239.00  443971.60   \n",
      "36       XGBRegressor             3      22.0   241.91  241.91  422339.56   \n",
      "37               lgbm             0      26.0   186.72  186.72  404468.86   \n",
      "38               lgbm             1      26.0   194.44  194.44  428971.74   \n",
      "39               lgbm             2      25.0   189.99  189.99  423801.90   \n",
      "40               lgbm             3      25.0   191.85  191.85  402705.92   \n",
      "41  catBoostRegressor             0      31.0   176.43  176.43  377950.79   \n",
      "42  catBoostRegressor             1      31.0   182.28  182.28  401293.81   \n",
      "43  catBoostRegressor             2      30.0   178.07  178.07  396621.46   \n",
      "44  catBoostRegressor             3      29.0   179.97  179.97  381661.56   \n",
      "\n",
      "     RMSE   \n",
      "0   655.38  \n",
      "1   674.11  \n",
      "2   671.40  \n",
      "3   654.38  \n",
      "4   687.05  \n",
      "5   639.23  \n",
      "6   660.72  \n",
      "7   638.38  \n",
      "8   652.52  \n",
      "9   675.28  \n",
      "10  678.13  \n",
      "11  648.54  \n",
      "12  673.32  \n",
      "13  667.58  \n",
      "14  652.25  \n",
      "15  683.50  \n",
      "16  642.50  \n",
      "17  656.31  \n",
      "18  639.24  \n",
      "19  650.90  \n",
      "20  668.47  \n",
      "21  677.68  \n",
      "22  652.75  \n",
      "23  676.25  \n",
      "24  670.06  \n",
      "25  654.54  \n",
      "26  683.81  \n",
      "27  644.61  \n",
      "28  658.54  \n",
      "29  641.88  \n",
      "30  652.19  \n",
      "31  670.52  \n",
      "32  678.85  \n",
      "33  650.70  \n",
      "34  669.01  \n",
      "35  666.31  \n",
      "36  649.88  \n",
      "37  635.98  \n",
      "38  654.96  \n",
      "39  651.00  \n",
      "40  634.59  \n",
      "41  614.78  \n",
      "42  633.48  \n",
      "43  629.78  \n",
      "44  617.79  \n"
     ]
    }
   ],
   "source": [
    "addRandomStateForAlgorithm(x, y,names_regression_2 ,algorithms_2,columns_name_2,random_state_list_up_to_3_2)"
   ]
  },
  {
   "cell_type": "code",
   "execution_count": null,
   "metadata": {},
   "outputs": [],
   "source": []
  },
  {
   "cell_type": "code",
   "execution_count": null,
   "metadata": {},
   "outputs": [],
   "source": []
  },
  {
   "cell_type": "code",
   "execution_count": null,
   "metadata": {},
   "outputs": [],
   "source": []
  },
  {
   "cell_type": "markdown",
   "metadata": {},
   "source": [
    "# LTFS"
   ]
  },
  {
   "cell_type": "code",
   "execution_count": 99,
   "metadata": {
    "ExecuteTime": {
     "end_time": "2020-01-23T15:04:13.290869Z",
     "start_time": "2020-01-23T15:04:13.287845Z"
    }
   },
   "outputs": [],
   "source": []
  },
  {
   "cell_type": "code",
   "execution_count": 100,
   "metadata": {
    "ExecuteTime": {
     "end_time": "2020-01-23T15:04:13.705514Z",
     "start_time": "2020-01-23T15:04:13.691525Z"
    }
   },
   "outputs": [
    {
     "data": {
      "text/html": [
       "<div>\n",
       "<style scoped>\n",
       "    .dataframe tbody tr th:only-of-type {\n",
       "        vertical-align: middle;\n",
       "    }\n",
       "\n",
       "    .dataframe tbody tr th {\n",
       "        vertical-align: top;\n",
       "    }\n",
       "\n",
       "    .dataframe thead th {\n",
       "        text-align: right;\n",
       "    }\n",
       "</style>\n",
       "<table border=\"1\" class=\"dataframe\">\n",
       "  <thead>\n",
       "    <tr style=\"text-align: right;\">\n",
       "      <th></th>\n",
       "      <th>segment</th>\n",
       "      <th>year</th>\n",
       "      <th>month</th>\n",
       "      <th>day</th>\n",
       "    </tr>\n",
       "  </thead>\n",
       "  <tbody>\n",
       "    <tr>\n",
       "      <th>0</th>\n",
       "      <td>1</td>\n",
       "      <td>2019</td>\n",
       "      <td>7</td>\n",
       "      <td>6</td>\n",
       "    </tr>\n",
       "  </tbody>\n",
       "</table>\n",
       "</div>"
      ],
      "text/plain": [
       "   segment  year  month  day\n",
       "0        1  2019      7    6"
      ]
     },
     "execution_count": 100,
     "metadata": {},
     "output_type": "execute_result"
    }
   ],
   "source": [
    "x_test.head(1)"
   ]
  },
  {
   "cell_type": "code",
   "execution_count": 101,
   "metadata": {
    "ExecuteTime": {
     "end_time": "2020-01-23T15:04:14.267561Z",
     "start_time": "2020-01-23T15:04:14.259587Z"
    }
   },
   "outputs": [
    {
     "data": {
      "text/plain": [
       "((180, 4), (80402, 4), (80402, 1), (20101,))"
      ]
     },
     "execution_count": 101,
     "metadata": {},
     "output_type": "execute_result"
    }
   ],
   "source": [
    "x_test.shape , x_train.shape ,  y_train.shape ,y_test.shape"
   ]
  },
  {
   "cell_type": "code",
   "execution_count": 102,
   "metadata": {
    "ExecuteTime": {
     "end_time": "2020-01-23T15:04:15.269939Z",
     "start_time": "2020-01-23T15:04:15.262964Z"
    }
   },
   "outputs": [
    {
     "data": {
      "text/html": [
       "<div>\n",
       "<style scoped>\n",
       "    .dataframe tbody tr th:only-of-type {\n",
       "        vertical-align: middle;\n",
       "    }\n",
       "\n",
       "    .dataframe tbody tr th {\n",
       "        vertical-align: top;\n",
       "    }\n",
       "\n",
       "    .dataframe thead th {\n",
       "        text-align: right;\n",
       "    }\n",
       "</style>\n",
       "<table border=\"1\" class=\"dataframe\">\n",
       "  <thead>\n",
       "    <tr style=\"text-align: right;\">\n",
       "      <th></th>\n",
       "      <th>segment</th>\n",
       "      <th>year</th>\n",
       "      <th>month</th>\n",
       "      <th>day</th>\n",
       "    </tr>\n",
       "  </thead>\n",
       "  <tbody>\n",
       "    <tr>\n",
       "      <th>0</th>\n",
       "      <td>1</td>\n",
       "      <td>2017</td>\n",
       "      <td>4</td>\n",
       "      <td>1</td>\n",
       "    </tr>\n",
       "  </tbody>\n",
       "</table>\n",
       "</div>"
      ],
      "text/plain": [
       "   segment  year  month  day\n",
       "0        1  2017      4    1"
      ]
     },
     "execution_count": 102,
     "metadata": {},
     "output_type": "execute_result"
    }
   ],
   "source": [
    "x_train.head(1)"
   ]
  },
  {
   "cell_type": "code",
   "execution_count": 103,
   "metadata": {
    "ExecuteTime": {
     "end_time": "2020-01-23T15:04:15.930984Z",
     "start_time": "2020-01-23T15:04:15.923006Z"
    }
   },
   "outputs": [
    {
     "data": {
      "text/html": [
       "<div>\n",
       "<style scoped>\n",
       "    .dataframe tbody tr th:only-of-type {\n",
       "        vertical-align: middle;\n",
       "    }\n",
       "\n",
       "    .dataframe tbody tr th {\n",
       "        vertical-align: top;\n",
       "    }\n",
       "\n",
       "    .dataframe thead th {\n",
       "        text-align: right;\n",
       "    }\n",
       "</style>\n",
       "<table border=\"1\" class=\"dataframe\">\n",
       "  <thead>\n",
       "    <tr style=\"text-align: right;\">\n",
       "      <th></th>\n",
       "      <th>case_count</th>\n",
       "    </tr>\n",
       "  </thead>\n",
       "  <tbody>\n",
       "    <tr>\n",
       "      <th>0</th>\n",
       "      <td>40.0</td>\n",
       "    </tr>\n",
       "  </tbody>\n",
       "</table>\n",
       "</div>"
      ],
      "text/plain": [
       "   case_count\n",
       "0        40.0"
      ]
     },
     "execution_count": 103,
     "metadata": {},
     "output_type": "execute_result"
    }
   ],
   "source": [
    "y_train.head(1)"
   ]
  },
  {
   "cell_type": "code",
   "execution_count": 113,
   "metadata": {
    "ExecuteTime": {
     "end_time": "2020-01-23T15:16:45.779446Z",
     "start_time": "2020-01-23T15:16:45.434931Z"
    }
   },
   "outputs": [
    {
     "name": "stdout",
     "output_type": "stream",
     "text": [
      "0:\tlearn: 716.9182897\ttotal: 6.01ms\tremaining: 294ms\n",
      "1:\tlearn: 693.5711609\ttotal: 11.8ms\tremaining: 284ms\n",
      "2:\tlearn: 676.5914005\ttotal: 17.8ms\tremaining: 279ms\n",
      "3:\tlearn: 663.7364088\ttotal: 23.2ms\tremaining: 267ms\n",
      "4:\tlearn: 654.7320088\ttotal: 28.9ms\tremaining: 260ms\n",
      "5:\tlearn: 647.7021337\ttotal: 34.7ms\tremaining: 255ms\n",
      "6:\tlearn: 643.0922649\ttotal: 40.2ms\tremaining: 247ms\n",
      "7:\tlearn: 639.5271370\ttotal: 45.6ms\tremaining: 239ms\n",
      "8:\tlearn: 636.4917668\ttotal: 50.8ms\tremaining: 231ms\n",
      "9:\tlearn: 634.5357271\ttotal: 55.8ms\tremaining: 223ms\n",
      "10:\tlearn: 633.0245639\ttotal: 61.6ms\tremaining: 218ms\n",
      "11:\tlearn: 631.8414711\ttotal: 66.9ms\tremaining: 212ms\n",
      "12:\tlearn: 630.9106594\ttotal: 72.7ms\tremaining: 207ms\n",
      "13:\tlearn: 630.0838644\ttotal: 78.1ms\tremaining: 201ms\n",
      "14:\tlearn: 629.5493876\ttotal: 83.5ms\tremaining: 195ms\n",
      "15:\tlearn: 628.9188304\ttotal: 89.6ms\tremaining: 190ms\n",
      "16:\tlearn: 628.5219394\ttotal: 95.2ms\tremaining: 185ms\n",
      "17:\tlearn: 628.0488517\ttotal: 101ms\tremaining: 180ms\n",
      "18:\tlearn: 627.6746601\ttotal: 107ms\tremaining: 175ms\n",
      "19:\tlearn: 627.4508880\ttotal: 115ms\tremaining: 172ms\n",
      "20:\tlearn: 627.1462812\ttotal: 120ms\tremaining: 166ms\n",
      "21:\tlearn: 626.9321396\ttotal: 126ms\tremaining: 161ms\n",
      "22:\tlearn: 626.7682885\ttotal: 131ms\tremaining: 154ms\n",
      "23:\tlearn: 626.6336309\ttotal: 138ms\tremaining: 150ms\n",
      "24:\tlearn: 626.5812548\ttotal: 144ms\tremaining: 144ms\n",
      "25:\tlearn: 626.3679936\ttotal: 150ms\tremaining: 138ms\n",
      "26:\tlearn: 626.2194142\ttotal: 156ms\tremaining: 133ms\n",
      "27:\tlearn: 626.1103971\ttotal: 161ms\tremaining: 126ms\n",
      "28:\tlearn: 626.0418689\ttotal: 165ms\tremaining: 120ms\n",
      "29:\tlearn: 626.0061304\ttotal: 171ms\tremaining: 114ms\n",
      "30:\tlearn: 625.9109225\ttotal: 177ms\tremaining: 108ms\n",
      "31:\tlearn: 625.8134907\ttotal: 183ms\tremaining: 103ms\n",
      "32:\tlearn: 625.7506882\ttotal: 190ms\tremaining: 98ms\n",
      "33:\tlearn: 625.6169378\ttotal: 196ms\tremaining: 92.3ms\n",
      "34:\tlearn: 625.5662149\ttotal: 203ms\tremaining: 87.1ms\n",
      "35:\tlearn: 625.4826326\ttotal: 208ms\tremaining: 81ms\n",
      "36:\tlearn: 625.4066868\ttotal: 213ms\tremaining: 75ms\n",
      "37:\tlearn: 625.2740299\ttotal: 220ms\tremaining: 69.4ms\n",
      "38:\tlearn: 625.2513881\ttotal: 225ms\tremaining: 63.3ms\n",
      "39:\tlearn: 625.2091781\ttotal: 230ms\tremaining: 57.4ms\n",
      "40:\tlearn: 625.1405123\ttotal: 235ms\tremaining: 51.5ms\n",
      "41:\tlearn: 625.0543416\ttotal: 240ms\tremaining: 45.7ms\n",
      "42:\tlearn: 625.0343385\ttotal: 245ms\tremaining: 39.9ms\n",
      "43:\tlearn: 625.0000086\ttotal: 250ms\tremaining: 34.1ms\n",
      "44:\tlearn: 624.9325643\ttotal: 255ms\tremaining: 28.4ms\n",
      "45:\tlearn: 624.9212010\ttotal: 260ms\tremaining: 22.7ms\n",
      "46:\tlearn: 624.8720328\ttotal: 266ms\tremaining: 17ms\n",
      "47:\tlearn: 624.8295324\ttotal: 271ms\tremaining: 11.3ms\n",
      "48:\tlearn: 624.7976758\ttotal: 276ms\tremaining: 5.64ms\n",
      "49:\tlearn: 624.7289278\ttotal: 281ms\tremaining: 0us\n"
     ]
    }
   ],
   "source": [
    "catBoostRegressorModel  = CatBoostRegressor(iterations=50, depth=3, learning_rate=0.17, loss_function='RMSE')\n",
    "catBoostRegressorModel.fit(x_train, y_train)\n",
    "\n",
    "pred_y_catboost = catBoostRegressorModel.predict(x_test)"
   ]
  },
  {
   "cell_type": "code",
   "execution_count": 109,
   "metadata": {
    "ExecuteTime": {
     "end_time": "2020-01-23T15:10:19.198555Z",
     "start_time": "2020-01-23T15:07:31.406874Z"
    }
   },
   "outputs": [],
   "source": [
    "xgbRegressor = XGBRegressor(base_score=0.5, colsample_bylevel=1, colsample_bytree=0.4,\n",
    "       gamma=0, learning_rate=0.07, max_delta_step=0, max_depth=3,\n",
    "       min_child_weight=1.5, missing=None, n_estimators=10000, nthread=-1,\n",
    "       objective='reg:linear', reg_alpha=0.75, reg_lambda=0.45,\n",
    "       scale_pos_weight=1, seed=42, silent=True, subsample=0.6)\n",
    "\n",
    "\n",
    "xgbRegressor.fit(x_train, y_train)\n",
    "\n",
    "pred_y_xgboost = xgbRegressor.predict(x_test)"
   ]
  },
  {
   "cell_type": "code",
   "execution_count": 110,
   "metadata": {
    "ExecuteTime": {
     "end_time": "2020-01-23T15:12:39.792984Z",
     "start_time": "2020-01-23T15:11:51.143110Z"
    }
   },
   "outputs": [],
   "source": [
    "lgbm = lightgbm.LGBMRegressor(boosting_type='gbdt', objective='regression', num_leaves=1200,\n",
    "                                learning_rate=0.17, num_boost_round=5000,\n",
    "                                metric='rmse', bagging_fraction=0.8, feature_fraction=0.8, reg_lambda=0.9)\n",
    "\n",
    "\n",
    "lgbm.fit(x_train, y_train)\n",
    "\n",
    "pred_y_lgbm = xgbRegressor.predict(x_test)"
   ]
  },
  {
   "cell_type": "code",
   "execution_count": null,
   "metadata": {},
   "outputs": [],
   "source": []
  },
  {
   "cell_type": "code",
   "execution_count": 117,
   "metadata": {
    "ExecuteTime": {
     "end_time": "2020-01-23T15:18:22.295752Z",
     "start_time": "2020-01-23T15:18:21.872777Z"
    }
   },
   "outputs": [],
   "source": [
    "randomForestRegressor = RandomForestRegressor()\n",
    "randomForestRegressor.fit(x_train , y_train)\n",
    "\n",
    "predict_y_rf = randomForestRegressor.predict(x_test)"
   ]
  },
  {
   "cell_type": "code",
   "execution_count": null,
   "metadata": {},
   "outputs": [],
   "source": []
  },
  {
   "cell_type": "code",
   "execution_count": 111,
   "metadata": {
    "ExecuteTime": {
     "end_time": "2020-01-23T15:16:13.184385Z",
     "start_time": "2020-01-23T15:16:13.177404Z"
    }
   },
   "outputs": [
    {
     "data": {
      "text/plain": [
       "array([-1.75863285e+01, -1.53770232e+00, -5.46379566e+00,  3.49218059e+00,\n",
       "        1.74516926e+01,  1.05374596e+02,  1.71553543e+02,  1.92352554e+02,\n",
       "        1.82951111e+02,  1.81520508e+02,  1.84977692e+02,  1.96778870e+02,\n",
       "        1.86522095e+02,  1.89973236e+02,  1.99825531e+02,  1.82781418e+02,\n",
       "        1.80253098e+02,  1.58837357e+02,  1.47173172e+02,  1.29895706e+02,\n",
       "        1.15374146e+02,  9.79785995e+01,  6.06691818e+01,  1.91116199e+01,\n",
       "       -6.84409761e+00,  2.75708752e+01, -3.09823742e+01, -3.18851662e+01,\n",
       "       -1.95650158e+01, -1.05492144e+01, -3.76447916e+00, -1.68058186e+01,\n",
       "       -7.57253647e-01, -4.68332624e+00,  4.27267981e+00,  1.82321301e+01,\n",
       "        1.06155289e+02,  1.72334229e+02,  1.93133209e+02,  1.83731873e+02,\n",
       "        1.82301178e+02,  1.85758362e+02,  1.97559616e+02,  1.87302872e+02,\n",
       "        1.90753983e+02,  2.00606247e+02,  1.83562180e+02,  1.81033859e+02,\n",
       "        1.59618027e+02,  1.47953903e+02,  1.30675980e+02,  1.16154854e+02,\n",
       "        9.87592926e+01,  6.14495430e+01,  1.98921852e+01, -6.06358147e+00,\n",
       "        2.83513412e+01, -2.51018238e+01, -2.60046062e+01, -1.36843967e+01,\n",
       "       -4.66849136e+00,  2.11621928e+00, -1.09251976e+01,  5.12343025e+00,\n",
       "        1.19737589e+00,  1.01533184e+01,  2.41128139e+01,  1.12035927e+02,\n",
       "        1.78214828e+02,  1.99013748e+02,  1.89612381e+02,  1.88181686e+02,\n",
       "        1.91638870e+02,  2.03440140e+02,  1.93183441e+02,  1.96634521e+02,\n",
       "        2.06486801e+02,  1.89442688e+02,  1.86914398e+02,  1.65498611e+02,\n",
       "        1.53834427e+02,  1.36556503e+02,  1.22035507e+02,  1.04639961e+02,\n",
       "        6.73303528e+01,  2.57728596e+01, -1.82873487e-01,  1.05671423e+03,\n",
       "        1.03943652e+03,  1.02491907e+03,  1.00752252e+03,  9.70214050e+02,\n",
       "        9.28656982e+02,  9.02701050e+02,  9.37116089e+02,  8.78563843e+02,\n",
       "        8.77661255e+02,  8.89981750e+02,  8.98997437e+02,  9.05782349e+02,\n",
       "        8.92741150e+02,  9.08789062e+02,  9.04863342e+02,  9.13819397e+02,\n",
       "        9.27779175e+02,  1.01570190e+03,  1.08187854e+03,  1.10267664e+03,\n",
       "        1.09328003e+03,  1.09184692e+03,  1.09530115e+03,  1.10710083e+03,\n",
       "        1.09684241e+03,  1.10029431e+03,  1.11014807e+03,  1.09310364e+03,\n",
       "        1.09057568e+03,  1.06916113e+03,  1.05749707e+03,  1.04021936e+03,\n",
       "        1.02570190e+03,  1.00830371e+03,  9.70995117e+02,  9.29438171e+02,\n",
       "        9.03482239e+02,  9.37897278e+02,  8.84446045e+02,  8.83543579e+02,\n",
       "        8.95864136e+02,  9.04879639e+02,  9.11664612e+02,  8.98623413e+02,\n",
       "        9.14671448e+02,  9.10745483e+02,  9.19701782e+02,  9.33661499e+02,\n",
       "        1.02158276e+03,  1.08775879e+03,  1.10855737e+03,  1.09916028e+03,\n",
       "        1.09772742e+03,  1.10118164e+03,  1.11298132e+03,  1.10272290e+03,\n",
       "        1.10617505e+03,  1.11602856e+03,  1.09898389e+03,  1.09645618e+03,\n",
       "        1.07504163e+03,  1.06337732e+03,  1.04609985e+03,  1.03157947e+03,\n",
       "        1.01418610e+03,  9.76877502e+02,  9.35320557e+02,  9.09364502e+02,\n",
       "        8.96696655e+02,  8.95794067e+02,  9.08114624e+02,  9.17130249e+02,\n",
       "        9.23915222e+02,  9.10874146e+02,  9.26921936e+02,  9.22996216e+02,\n",
       "        9.31952271e+02,  9.45912109e+02,  1.03383252e+03,  1.10000964e+03,\n",
       "        1.12080798e+03,  1.11141089e+03,  1.10997827e+03,  1.11343250e+03,\n",
       "        1.12523218e+03,  1.11497375e+03,  1.11842566e+03,  1.12827942e+03,\n",
       "        1.11123450e+03,  1.10870679e+03,  1.08729199e+03,  1.07562842e+03],\n",
       "      dtype=float32)"
      ]
     },
     "execution_count": 111,
     "metadata": {},
     "output_type": "execute_result"
    }
   ],
   "source": [
    "pred_y_xgboost"
   ]
  },
  {
   "cell_type": "code",
   "execution_count": null,
   "metadata": {},
   "outputs": [],
   "source": []
  },
  {
   "cell_type": "code",
   "execution_count": 112,
   "metadata": {
    "ExecuteTime": {
     "end_time": "2020-01-23T15:16:27.124481Z",
     "start_time": "2020-01-23T15:16:27.114511Z"
    }
   },
   "outputs": [
    {
     "data": {
      "text/plain": [
       "array([-1.75863285e+01, -1.53770232e+00, -5.46379566e+00,  3.49218059e+00,\n",
       "        1.74516926e+01,  1.05374596e+02,  1.71553543e+02,  1.92352554e+02,\n",
       "        1.82951111e+02,  1.81520508e+02,  1.84977692e+02,  1.96778870e+02,\n",
       "        1.86522095e+02,  1.89973236e+02,  1.99825531e+02,  1.82781418e+02,\n",
       "        1.80253098e+02,  1.58837357e+02,  1.47173172e+02,  1.29895706e+02,\n",
       "        1.15374146e+02,  9.79785995e+01,  6.06691818e+01,  1.91116199e+01,\n",
       "       -6.84409761e+00,  2.75708752e+01, -3.09823742e+01, -3.18851662e+01,\n",
       "       -1.95650158e+01, -1.05492144e+01, -3.76447916e+00, -1.68058186e+01,\n",
       "       -7.57253647e-01, -4.68332624e+00,  4.27267981e+00,  1.82321301e+01,\n",
       "        1.06155289e+02,  1.72334229e+02,  1.93133209e+02,  1.83731873e+02,\n",
       "        1.82301178e+02,  1.85758362e+02,  1.97559616e+02,  1.87302872e+02,\n",
       "        1.90753983e+02,  2.00606247e+02,  1.83562180e+02,  1.81033859e+02,\n",
       "        1.59618027e+02,  1.47953903e+02,  1.30675980e+02,  1.16154854e+02,\n",
       "        9.87592926e+01,  6.14495430e+01,  1.98921852e+01, -6.06358147e+00,\n",
       "        2.83513412e+01, -2.51018238e+01, -2.60046062e+01, -1.36843967e+01,\n",
       "       -4.66849136e+00,  2.11621928e+00, -1.09251976e+01,  5.12343025e+00,\n",
       "        1.19737589e+00,  1.01533184e+01,  2.41128139e+01,  1.12035927e+02,\n",
       "        1.78214828e+02,  1.99013748e+02,  1.89612381e+02,  1.88181686e+02,\n",
       "        1.91638870e+02,  2.03440140e+02,  1.93183441e+02,  1.96634521e+02,\n",
       "        2.06486801e+02,  1.89442688e+02,  1.86914398e+02,  1.65498611e+02,\n",
       "        1.53834427e+02,  1.36556503e+02,  1.22035507e+02,  1.04639961e+02,\n",
       "        6.73303528e+01,  2.57728596e+01, -1.82873487e-01,  1.05671423e+03,\n",
       "        1.03943652e+03,  1.02491907e+03,  1.00752252e+03,  9.70214050e+02,\n",
       "        9.28656982e+02,  9.02701050e+02,  9.37116089e+02,  8.78563843e+02,\n",
       "        8.77661255e+02,  8.89981750e+02,  8.98997437e+02,  9.05782349e+02,\n",
       "        8.92741150e+02,  9.08789062e+02,  9.04863342e+02,  9.13819397e+02,\n",
       "        9.27779175e+02,  1.01570190e+03,  1.08187854e+03,  1.10267664e+03,\n",
       "        1.09328003e+03,  1.09184692e+03,  1.09530115e+03,  1.10710083e+03,\n",
       "        1.09684241e+03,  1.10029431e+03,  1.11014807e+03,  1.09310364e+03,\n",
       "        1.09057568e+03,  1.06916113e+03,  1.05749707e+03,  1.04021936e+03,\n",
       "        1.02570190e+03,  1.00830371e+03,  9.70995117e+02,  9.29438171e+02,\n",
       "        9.03482239e+02,  9.37897278e+02,  8.84446045e+02,  8.83543579e+02,\n",
       "        8.95864136e+02,  9.04879639e+02,  9.11664612e+02,  8.98623413e+02,\n",
       "        9.14671448e+02,  9.10745483e+02,  9.19701782e+02,  9.33661499e+02,\n",
       "        1.02158276e+03,  1.08775879e+03,  1.10855737e+03,  1.09916028e+03,\n",
       "        1.09772742e+03,  1.10118164e+03,  1.11298132e+03,  1.10272290e+03,\n",
       "        1.10617505e+03,  1.11602856e+03,  1.09898389e+03,  1.09645618e+03,\n",
       "        1.07504163e+03,  1.06337732e+03,  1.04609985e+03,  1.03157947e+03,\n",
       "        1.01418610e+03,  9.76877502e+02,  9.35320557e+02,  9.09364502e+02,\n",
       "        8.96696655e+02,  8.95794067e+02,  9.08114624e+02,  9.17130249e+02,\n",
       "        9.23915222e+02,  9.10874146e+02,  9.26921936e+02,  9.22996216e+02,\n",
       "        9.31952271e+02,  9.45912109e+02,  1.03383252e+03,  1.10000964e+03,\n",
       "        1.12080798e+03,  1.11141089e+03,  1.10997827e+03,  1.11343250e+03,\n",
       "        1.12523218e+03,  1.11497375e+03,  1.11842566e+03,  1.12827942e+03,\n",
       "        1.11123450e+03,  1.10870679e+03,  1.08729199e+03,  1.07562842e+03],\n",
       "      dtype=float32)"
      ]
     },
     "execution_count": 112,
     "metadata": {},
     "output_type": "execute_result"
    }
   ],
   "source": [
    "pred_y_lgbm"
   ]
  },
  {
   "cell_type": "code",
   "execution_count": null,
   "metadata": {},
   "outputs": [],
   "source": []
  },
  {
   "cell_type": "code",
   "execution_count": 114,
   "metadata": {
    "ExecuteTime": {
     "end_time": "2020-01-23T15:16:57.796466Z",
     "start_time": "2020-01-23T15:16:57.789523Z"
    }
   },
   "outputs": [
    {
     "data": {
      "text/plain": [
       "array([  35.79762667,   35.79762667,   35.91663561,   36.24745416,\n",
       "         36.73665083,   40.55412729,   40.35531525,   40.59704794,\n",
       "         40.59704794,   40.59704794,   40.59704794,   40.59704794,\n",
       "         40.59704794,   40.59704794,   40.59704794,   40.59704794,\n",
       "         38.56498429,   37.75313497,   36.10478349,   36.99325163,\n",
       "         39.15496377,   41.34940001,   44.19092159,   52.31098121,\n",
       "         61.83231629,   70.21139127,   33.27788839,   35.02028552,\n",
       "         35.02028552,   38.23336313,   38.23336313,   38.23336313,\n",
       "         38.23336313,   38.35237207,   38.68319062,   39.1723873 ,\n",
       "         42.98986375,   42.79105171,   43.0327844 ,   43.0327844 ,\n",
       "         43.0327844 ,   43.0327844 ,   43.0327844 ,   43.0327844 ,\n",
       "         43.0327844 ,   43.0327844 ,   43.0327844 ,   41.00072075,\n",
       "         40.18887143,   38.54051995,   39.42898809,   41.59070024,\n",
       "         43.78513647,   46.62665805,   54.74671768,   64.26805275,\n",
       "         72.64712773,   33.8741731 ,   35.61657022,   35.61657022,\n",
       "         38.82964783,   38.82964783,   38.82964783,   38.82964783,\n",
       "         38.94865678,   39.27947533,   39.768672  ,   43.58614846,\n",
       "         43.38733641,   43.62906911,   43.62906911,   43.62906911,\n",
       "         43.62906911,   43.62906911,   43.62906911,   43.62906911,\n",
       "         43.62906911,   43.62906911,   41.59700546,   40.78515613,\n",
       "         39.13680465,   40.0252728 ,   42.18698494,   44.38142118,\n",
       "         47.22294276,   55.34300238,   64.86433746, 1563.445472  ,\n",
       "       1439.82990162, 1295.81602349, 1169.11943876,  998.32177337,\n",
       "        683.11821689,  422.16478679,  368.57475989,  407.43482624,\n",
       "        420.58076394,  420.58076394,  456.9810616 ,  456.9810616 ,\n",
       "        456.9810616 ,  456.9810616 ,  484.62847497,  516.79388787,\n",
       "        634.4994279 , 1313.88909088, 1504.03276376, 1618.39743416,\n",
       "       1618.39743416, 1618.39743416, 1618.39743416, 1618.39743416,\n",
       "       1618.39743416, 1618.39743416, 1618.39743416, 1618.39743416,\n",
       "       1594.48702422, 1577.97750378, 1564.87679295, 1441.26122258,\n",
       "       1297.24734444, 1170.55075971,  999.75309432,  684.54953784,\n",
       "        423.59610774,  370.00608084,  403.59872338,  416.74466107,\n",
       "        416.74466107,  453.14495874,  453.14495874,  453.14495874,\n",
       "        453.14495874,  480.79237211,  512.95778501,  630.66332503,\n",
       "       1310.05298802, 1500.1966609 , 1614.5613313 , 1614.5613313 ,\n",
       "       1614.5613313 , 1614.5613313 , 1614.5613313 , 1614.5613313 ,\n",
       "       1614.5613313 , 1614.5613313 , 1614.5613313 , 1590.65092136,\n",
       "       1574.14140092, 1561.04069009, 1437.42511971, 1293.41124158,\n",
       "       1166.71465685,  995.91699146,  680.71343498,  419.76000488,\n",
       "        388.92019512,  402.06613281,  402.06613281,  438.46643048,\n",
       "        438.46643048,  438.46643048,  438.46643048,  466.11384385,\n",
       "        498.27925675,  615.98479678, 1295.37445976, 1485.51813264,\n",
       "       1599.88280304, 1599.88280304, 1599.88280304, 1599.88280304,\n",
       "       1599.88280304, 1599.88280304, 1599.88280304, 1599.88280304,\n",
       "       1599.88280304, 1575.9723931 , 1559.46287266, 1546.36216183])"
      ]
     },
     "execution_count": 114,
     "metadata": {},
     "output_type": "execute_result"
    }
   ],
   "source": [
    "pred_y_catboost"
   ]
  },
  {
   "cell_type": "code",
   "execution_count": null,
   "metadata": {},
   "outputs": [],
   "source": [
    "\n"
   ]
  },
  {
   "cell_type": "code",
   "execution_count": 118,
   "metadata": {
    "ExecuteTime": {
     "end_time": "2020-01-23T15:18:26.584877Z",
     "start_time": "2020-01-23T15:18:26.574906Z"
    }
   },
   "outputs": [
    {
     "data": {
      "text/plain": [
       "array([4.67529674e+00, 5.81002214e+00, 9.99985212e+00, 4.47134365e+00,\n",
       "       1.50563713e+01, 1.64767334e+01, 1.52294447e+01, 1.91718157e+01,\n",
       "       1.70491088e+01, 1.08869971e+01, 1.08291699e+01, 1.54663914e+01,\n",
       "       1.49536335e+01, 1.73822268e+01, 2.05292839e+01, 1.84161187e+01,\n",
       "       1.41984633e+01, 1.16785004e+01, 2.25996151e+01, 1.77539512e+01,\n",
       "       1.92089383e+01, 1.90289359e+01, 1.77397133e+01, 1.48250472e+01,\n",
       "       1.35735866e+01, 4.63107888e+01, 4.64790971e+01, 3.98986241e+01,\n",
       "       4.48849605e+01, 5.15009011e+01, 1.56058917e-01, 4.67529674e+00,\n",
       "       5.81002214e+00, 9.99985212e+00, 4.47134365e+00, 1.49008769e+01,\n",
       "       1.43084877e+01, 1.06736963e+01, 1.92833542e+01, 1.83726091e+01,\n",
       "       1.36692599e+01, 1.31329092e+01, 1.56701636e+01, 1.33511346e+01,\n",
       "       1.40540116e+01, 2.37606653e+01, 2.09334605e+01, 1.72974613e+01,\n",
       "       1.33064198e+01, 2.38613876e+01, 1.89603922e+01, 1.58517426e+01,\n",
       "       2.09587259e+01, 1.85356921e+01, 1.94150515e+01, 1.41471226e+01,\n",
       "       5.69566379e+01, 4.64790971e+01, 3.98986241e+01, 4.48849605e+01,\n",
       "       5.15009011e+01, 1.56058917e-01, 4.67529674e+00, 5.81002214e+00,\n",
       "       9.99985212e+00, 4.30603363e+00, 1.36117171e+01, 1.72528810e+01,\n",
       "       1.93077643e+01, 1.93317752e+01, 1.82403077e+01, 1.55878352e+01,\n",
       "       8.32101938e+00, 1.78320662e+01, 1.63991202e+01, 1.79255145e+01,\n",
       "       2.16791880e+01, 1.95941371e+01, 1.53165945e+01, 1.00904324e+01,\n",
       "       2.24450349e+01, 1.75747157e+01, 1.84810466e+01, 1.87643014e+01,\n",
       "       1.92243572e+01, 1.86093802e+01, 1.49602854e+01, 1.74097562e+03,\n",
       "       1.82961214e+03, 1.43448435e+03, 1.59066780e+03, 1.12121298e+03,\n",
       "       4.43044795e+02, 1.02931977e+02, 9.00663953e+01, 4.28723534e+02,\n",
       "       4.20612494e+02, 3.81037600e+02, 3.87391579e+02, 3.10698102e+02,\n",
       "       2.41541732e+02, 1.73878512e+02, 2.31892110e+02, 2.63104232e+02,\n",
       "       2.95145627e+02, 2.62887002e+02, 1.20116655e+03, 1.43352489e+03,\n",
       "       1.04375176e+03, 1.68599282e+03, 1.99695429e+03, 1.83992847e+03,\n",
       "       1.95486894e+03, 1.40021120e+03, 1.79629053e+03, 9.09815386e+02,\n",
       "       1.63185644e+03, 1.71496091e+03, 1.57120112e+03, 1.53150391e+03,\n",
       "       1.15595342e+03, 1.26464887e+03, 1.10815116e+03, 4.43044795e+02,\n",
       "       1.89303439e+02, 9.26363352e+01, 4.28723534e+02, 4.20612494e+02,\n",
       "       3.81037600e+02, 3.87391579e+02, 3.10698102e+02, 2.41541732e+02,\n",
       "       1.73878512e+02, 2.31892110e+02, 2.63104232e+02, 2.95145627e+02,\n",
       "       1.38908389e+03, 1.24708246e+03, 1.35929270e+03, 1.16726862e+03,\n",
       "       1.84419198e+03, 1.41849923e+03, 1.71552609e+03, 1.87159970e+03,\n",
       "       1.97268522e+03, 1.39045420e+03, 1.19054913e+03, 1.73334897e+03,\n",
       "       1.60072980e+03, 1.79506641e+03, 2.03031314e+03, 1.59985896e+03,\n",
       "       1.43564779e+03, 1.07210974e+03, 4.43044795e+02, 5.66785916e+01,\n",
       "       4.28723534e+02, 4.20612494e+02, 3.81037600e+02, 3.87391579e+02,\n",
       "       3.10698102e+02, 2.41541732e+02, 1.73878512e+02, 2.31892110e+02,\n",
       "       2.63104232e+02, 2.95145627e+02, 1.47239400e+03, 2.00152591e+03,\n",
       "       1.72362513e+03, 7.41117468e+02, 1.53092243e+03, 1.70653200e+03,\n",
       "       1.44732034e+03, 1.01852673e+03, 7.09204652e+02, 1.06682267e+03,\n",
       "       7.53831915e+02, 1.88412204e+03, 1.65126254e+03, 2.07578539e+03])"
      ]
     },
     "execution_count": 118,
     "metadata": {},
     "output_type": "execute_result"
    }
   ],
   "source": [
    "predict_y_rf"
   ]
  },
  {
   "cell_type": "code",
   "execution_count": 122,
   "metadata": {
    "ExecuteTime": {
     "end_time": "2020-01-23T15:20:08.379986Z",
     "start_time": "2020-01-23T15:20:08.374005Z"
    }
   },
   "outputs": [
    {
     "data": {
      "text/plain": [
       "(180, 180, 180, 180)"
      ]
     },
     "execution_count": 122,
     "metadata": {},
     "output_type": "execute_result"
    }
   ],
   "source": [
    "pred_y_catboost.size, pred_y_lgbm.size , pred_y_xgboost.size, predict_y_rf.size "
   ]
  },
  {
   "cell_type": "code",
   "execution_count": null,
   "metadata": {},
   "outputs": [],
   "source": []
  },
  {
   "cell_type": "code",
   "execution_count": null,
   "metadata": {},
   "outputs": [],
   "source": []
  },
  {
   "cell_type": "code",
   "execution_count": 124,
   "metadata": {
    "ExecuteTime": {
     "end_time": "2020-01-23T15:21:38.559415Z",
     "start_time": "2020-01-23T15:21:38.545423Z"
    }
   },
   "outputs": [],
   "source": [
    "final = pd.DataFrame()\n",
    "\n",
    "final['id'] = test_id\n",
    "\n",
    "final['application_date'] = test_application_date\n",
    "\n",
    "final['segment'] = test['segment']\n",
    "\n",
    "final['case_count'] = pred_y_catboost\n",
    "\n",
    "\n",
    "\n",
    "\n",
    "\n",
    "final.to_csv('rakesh.csv', index=False)"
   ]
  },
  {
   "cell_type": "code",
   "execution_count": 125,
   "metadata": {
    "ExecuteTime": {
     "end_time": "2020-01-23T15:21:46.294261Z",
     "start_time": "2020-01-23T15:21:46.289255Z"
    }
   },
   "outputs": [
    {
     "data": {
      "text/plain": [
       "(180, 4)"
      ]
     },
     "execution_count": 125,
     "metadata": {},
     "output_type": "execute_result"
    }
   ],
   "source": [
    "final.shape"
   ]
  },
  {
   "cell_type": "code",
   "execution_count": 126,
   "metadata": {
    "ExecuteTime": {
     "end_time": "2020-01-23T15:21:54.602297Z",
     "start_time": "2020-01-23T15:21:54.597323Z"
    }
   },
   "outputs": [
    {
     "data": {
      "text/plain": [
       "Index(['id', 'application_date', 'segment', 'case_count'], dtype='object')"
      ]
     },
     "execution_count": 126,
     "metadata": {},
     "output_type": "execute_result"
    }
   ],
   "source": [
    "final.columns"
   ]
  },
  {
   "cell_type": "code",
   "execution_count": 136,
   "metadata": {
    "ExecuteTime": {
     "end_time": "2020-01-23T15:25:52.690268Z",
     "start_time": "2020-01-23T15:25:52.679299Z"
    }
   },
   "outputs": [
    {
     "data": {
      "text/html": [
       "<div>\n",
       "<style scoped>\n",
       "    .dataframe tbody tr th:only-of-type {\n",
       "        vertical-align: middle;\n",
       "    }\n",
       "\n",
       "    .dataframe tbody tr th {\n",
       "        vertical-align: top;\n",
       "    }\n",
       "\n",
       "    .dataframe thead th {\n",
       "        text-align: right;\n",
       "    }\n",
       "</style>\n",
       "<table border=\"1\" class=\"dataframe\">\n",
       "  <thead>\n",
       "    <tr style=\"text-align: right;\">\n",
       "      <th></th>\n",
       "      <th>id</th>\n",
       "      <th>application_date</th>\n",
       "      <th>segment</th>\n",
       "      <th>case_count</th>\n",
       "    </tr>\n",
       "  </thead>\n",
       "  <tbody>\n",
       "    <tr>\n",
       "      <th>0</th>\n",
       "      <td>1</td>\n",
       "      <td>2019-07-06</td>\n",
       "      <td>1</td>\n",
       "      <td>35.797627</td>\n",
       "    </tr>\n",
       "    <tr>\n",
       "      <th>1</th>\n",
       "      <td>2</td>\n",
       "      <td>2019-07-07</td>\n",
       "      <td>1</td>\n",
       "      <td>35.797627</td>\n",
       "    </tr>\n",
       "    <tr>\n",
       "      <th>2</th>\n",
       "      <td>3</td>\n",
       "      <td>2019-07-08</td>\n",
       "      <td>1</td>\n",
       "      <td>35.916636</td>\n",
       "    </tr>\n",
       "  </tbody>\n",
       "</table>\n",
       "</div>"
      ],
      "text/plain": [
       "   id application_date  segment  case_count\n",
       "0   1       2019-07-06        1   35.797627\n",
       "1   2       2019-07-07        1   35.797627\n",
       "2   3       2019-07-08        1   35.916636"
      ]
     },
     "execution_count": 136,
     "metadata": {},
     "output_type": "execute_result"
    }
   ],
   "source": [
    "final[0:3]"
   ]
  },
  {
   "cell_type": "code",
   "execution_count": 134,
   "metadata": {
    "ExecuteTime": {
     "end_time": "2020-01-23T15:25:38.090050Z",
     "start_time": "2020-01-23T15:25:38.080078Z"
    }
   },
   "outputs": [],
   "source": [
    "final1 = pd.read_csv(\"rakesh.csv\")"
   ]
  },
  {
   "cell_type": "code",
   "execution_count": 135,
   "metadata": {
    "ExecuteTime": {
     "end_time": "2020-01-23T15:25:46.503339Z",
     "start_time": "2020-01-23T15:25:46.495396Z"
    }
   },
   "outputs": [
    {
     "data": {
      "text/html": [
       "<div>\n",
       "<style scoped>\n",
       "    .dataframe tbody tr th:only-of-type {\n",
       "        vertical-align: middle;\n",
       "    }\n",
       "\n",
       "    .dataframe tbody tr th {\n",
       "        vertical-align: top;\n",
       "    }\n",
       "\n",
       "    .dataframe thead th {\n",
       "        text-align: right;\n",
       "    }\n",
       "</style>\n",
       "<table border=\"1\" class=\"dataframe\">\n",
       "  <thead>\n",
       "    <tr style=\"text-align: right;\">\n",
       "      <th></th>\n",
       "      <th>id</th>\n",
       "      <th>application_date</th>\n",
       "      <th>segment</th>\n",
       "      <th>case_count</th>\n",
       "    </tr>\n",
       "  </thead>\n",
       "  <tbody>\n",
       "    <tr>\n",
       "      <th>0</th>\n",
       "      <td>1</td>\n",
       "      <td>2019-07-06</td>\n",
       "      <td>1</td>\n",
       "      <td>35.797627</td>\n",
       "    </tr>\n",
       "    <tr>\n",
       "      <th>1</th>\n",
       "      <td>2</td>\n",
       "      <td>2019-07-07</td>\n",
       "      <td>1</td>\n",
       "      <td>35.797627</td>\n",
       "    </tr>\n",
       "    <tr>\n",
       "      <th>2</th>\n",
       "      <td>3</td>\n",
       "      <td>2019-07-08</td>\n",
       "      <td>1</td>\n",
       "      <td>35.916636</td>\n",
       "    </tr>\n",
       "  </tbody>\n",
       "</table>\n",
       "</div>"
      ],
      "text/plain": [
       "   id application_date  segment  case_count\n",
       "0   1       2019-07-06        1   35.797627\n",
       "1   2       2019-07-07        1   35.797627\n",
       "2   3       2019-07-08        1   35.916636"
      ]
     },
     "execution_count": 135,
     "metadata": {},
     "output_type": "execute_result"
    }
   ],
   "source": [
    "final1.head(3)"
   ]
  },
  {
   "cell_type": "code",
   "execution_count": null,
   "metadata": {},
   "outputs": [],
   "source": []
  }
 ],
 "metadata": {
  "kernelspec": {
   "display_name": "Python 3",
   "language": "python",
   "name": "python3"
  },
  "language_info": {
   "codemirror_mode": {
    "name": "ipython",
    "version": 3
   },
   "file_extension": ".py",
   "mimetype": "text/x-python",
   "name": "python",
   "nbconvert_exporter": "python",
   "pygments_lexer": "ipython3",
   "version": "3.7.6"
  },
  "toc": {
   "base_numbering": 1,
   "nav_menu": {},
   "number_sections": true,
   "sideBar": true,
   "skip_h1_title": false,
   "title_cell": "Table of Contents",
   "title_sidebar": "Contents",
   "toc_cell": false,
   "toc_position": {},
   "toc_section_display": true,
   "toc_window_display": false
  },
  "varInspector": {
   "cols": {
    "lenName": 16,
    "lenType": 16,
    "lenVar": 40
   },
   "kernels_config": {
    "python": {
     "delete_cmd_postfix": "",
     "delete_cmd_prefix": "del ",
     "library": "var_list.py",
     "varRefreshCmd": "print(var_dic_list())"
    },
    "r": {
     "delete_cmd_postfix": ") ",
     "delete_cmd_prefix": "rm(",
     "library": "var_list.r",
     "varRefreshCmd": "cat(var_dic_list()) "
    }
   },
   "types_to_exclude": [
    "module",
    "function",
    "builtin_function_or_method",
    "instance",
    "_Feature"
   ],
   "window_display": false
  }
 },
 "nbformat": 4,
 "nbformat_minor": 2
}
