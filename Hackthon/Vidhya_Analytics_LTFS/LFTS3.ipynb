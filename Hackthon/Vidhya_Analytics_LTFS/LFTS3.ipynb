{
 "cells": [
  {
   "cell_type": "markdown",
   "metadata": {},
   "source": [
    "# Step1"
   ]
  },
  {
   "cell_type": "code",
   "execution_count": 548,
   "metadata": {
    "ExecuteTime": {
     "end_time": "2020-01-24T18:09:14.316162Z",
     "start_time": "2020-01-24T18:09:14.294758Z"
    }
   },
   "outputs": [],
   "source": [
    "import pandas as pd\n",
    "from pandas import Series as s , DataFrame as df\n",
    "import numpy as np\n",
    "\n",
    "from sklearn.metrics import r2_score, mean_absolute_error, mean_squared_error\n",
    "from sklearn.model_selection import train_test_split\n",
    "from sklearn.preprocessing import LabelEncoder \n",
    "import seaborn as sns\n",
    "from matplotlib import pyplot as plt, rcParams as rc\n",
    "\n",
    "from sklearn.linear_model import LinearRegression\n",
    "from sklearn.tree import DecisionTreeRegressor\n",
    "from sklearn.ensemble import RandomForestRegressor\n",
    "from sklearn.svm import SVR\n",
    "from sklearn.neighbors import KNeighborsRegressor\n",
    "\n",
    "\n",
    "%matplotlib inline\n",
    "rc[\"figure.figsize\"] = 10,6\n",
    "\n",
    "\n",
    "import warnings\n",
    "warnings.filterwarnings(\"ignore\") \n",
    "\n",
    "\n",
    "from sklearn.pipeline import Pipeline\n",
    "\n",
    "\n",
    "\n",
    "from xgboost import XGBRegressor , XGBRFRegressor\n",
    "\n",
    "import lightgbm\n",
    "\n",
    "\n",
    "from catboost import CatBoostRegressor\n",
    "\n",
    "\n",
    "\n",
    "\n",
    "import datetime\n",
    "\n",
    "import datetime as dt"
   ]
  },
  {
   "cell_type": "code",
   "execution_count": 549,
   "metadata": {
    "ExecuteTime": {
     "end_time": "2020-01-24T18:09:15.075711Z",
     "start_time": "2020-01-24T18:09:15.060727Z"
    }
   },
   "outputs": [],
   "source": [
    "#Note : y_test = y_true and predict_x = y_pred\n",
    "\n",
    "def mean_absolute_percentage_error(y_true, y_pred) :\n",
    "    \n",
    "    y_true = np.array(y_true)\n",
    "    y_pred = np.array(y_pred)\n",
    "    \n",
    "    return np.mean(          np.abs(  (y_true - y_pred) / 100)         ) * 100\n",
    "\n",
    "\n",
    "\n",
    "def root_mean_sequare_error(y_true, y_pred) :\n",
    "    \n",
    "    mse = mean_squared_error(y_true,  y_pred)\n",
    "    \n",
    "    rmse = np.sqrt(mse)\n",
    "    \n",
    "    return rmse\n",
    "\n",
    "\n",
    "\n",
    "def create_season1(x):\n",
    "    if x == 2 or x == 3:\n",
    "        season1 = \"spring\"\n",
    "            \n",
    "    elif x == 4 or x == 5 or x ==  6:\n",
    "        season1 = \"summer\"\n",
    "            \n",
    "    elif x == 7 or x == 8 or x == 8:\n",
    "        season1 = \"rainy\"\n",
    "            \n",
    "    elif x == 10 or x == 11 or x == 12 or x == 1:\n",
    "        season1 = \"winter\"\n",
    "           \n",
    "    return season1\n",
    "\n",
    "\n",
    "\n",
    "\n",
    "def create_season(x):\n",
    "    if (x == 3) or (x == 4) or (x == 5):\n",
    "        season = \"spring\"\n",
    "            \n",
    "    elif x == 6 or x == 7 or x ==  8:\n",
    "        season = \"summer\"\n",
    "            \n",
    "    elif x == 9 or x == 10 or x == 11:\n",
    "        season = \"autumn\"\n",
    "            \n",
    "    elif x == 12 or x == 1 or x == 2:\n",
    "        season = \"winter\"\n",
    "        \n",
    "    return season"
   ]
  },
  {
   "cell_type": "code",
   "execution_count": null,
   "metadata": {},
   "outputs": [],
   "source": []
  },
  {
   "cell_type": "code",
   "execution_count": 550,
   "metadata": {
    "ExecuteTime": {
     "end_time": "2020-01-24T18:09:15.768765Z",
     "start_time": "2020-01-24T18:09:15.763817Z"
    }
   },
   "outputs": [],
   "source": [
    "# train_segment_1.month.apply( lambda x : create_season(x))\n",
    "\n",
    "\n",
    "# train_segment_1.month.apply( lambda x : create_season1(x)) # why error?"
   ]
  },
  {
   "cell_type": "code",
   "execution_count": null,
   "metadata": {},
   "outputs": [],
   "source": []
  },
  {
   "cell_type": "code",
   "execution_count": 551,
   "metadata": {
    "ExecuteTime": {
     "end_time": "2020-01-24T18:09:16.422373Z",
     "start_time": "2020-01-24T18:09:16.340181Z"
    }
   },
   "outputs": [],
   "source": [
    "test = pd.read_csv(\"test_1eLl9Yf.csv\")\n",
    "train = pd.read_csv(\"train_fwYjLYX.csv\")\n",
    "smaple_submission = pd.read_csv(\"sample_submission_IIzFVsf.csv\")"
   ]
  },
  {
   "cell_type": "code",
   "execution_count": 552,
   "metadata": {
    "ExecuteTime": {
     "end_time": "2020-01-24T18:09:17.042521Z",
     "start_time": "2020-01-24T18:09:17.035295Z"
    }
   },
   "outputs": [
    {
     "name": "stdout",
     "output_type": "stream",
     "text": [
      "<class 'pandas.core.frame.DataFrame'>\n",
      "RangeIndex: 180 entries, 0 to 179\n",
      "Data columns (total 3 columns):\n",
      "id                  180 non-null int64\n",
      "application_date    180 non-null object\n",
      "segment             180 non-null int64\n",
      "dtypes: int64(2), object(1)\n",
      "memory usage: 4.3+ KB\n"
     ]
    }
   ],
   "source": [
    "test.info()"
   ]
  },
  {
   "cell_type": "code",
   "execution_count": 553,
   "metadata": {
    "ExecuteTime": {
     "end_time": "2020-01-24T18:09:17.598711Z",
     "start_time": "2020-01-24T18:09:17.579634Z"
    }
   },
   "outputs": [
    {
     "name": "stdout",
     "output_type": "stream",
     "text": [
      "<class 'pandas.core.frame.DataFrame'>\n",
      "RangeIndex: 80402 entries, 0 to 80401\n",
      "Data columns (total 6 columns):\n",
      "application_date    80402 non-null object\n",
      "segment             80402 non-null int64\n",
      "branch_id           66898 non-null float64\n",
      "state               80402 non-null object\n",
      "zone                66898 non-null object\n",
      "case_count          80402 non-null float64\n",
      "dtypes: float64(2), int64(1), object(3)\n",
      "memory usage: 3.7+ MB\n"
     ]
    }
   ],
   "source": [
    "train.info()"
   ]
  },
  {
   "cell_type": "code",
   "execution_count": 554,
   "metadata": {
    "ExecuteTime": {
     "end_time": "2020-01-24T18:09:18.212746Z",
     "start_time": "2020-01-24T18:09:18.202803Z"
    }
   },
   "outputs": [
    {
     "data": {
      "text/html": [
       "<div>\n",
       "<style scoped>\n",
       "    .dataframe tbody tr th:only-of-type {\n",
       "        vertical-align: middle;\n",
       "    }\n",
       "\n",
       "    .dataframe tbody tr th {\n",
       "        vertical-align: top;\n",
       "    }\n",
       "\n",
       "    .dataframe thead th {\n",
       "        text-align: right;\n",
       "    }\n",
       "</style>\n",
       "<table border=\"1\" class=\"dataframe\">\n",
       "  <thead>\n",
       "    <tr style=\"text-align: right;\">\n",
       "      <th></th>\n",
       "      <th>id</th>\n",
       "      <th>application_date</th>\n",
       "      <th>segment</th>\n",
       "    </tr>\n",
       "  </thead>\n",
       "  <tbody>\n",
       "    <tr>\n",
       "      <th>0</th>\n",
       "      <td>1</td>\n",
       "      <td>2019-07-06</td>\n",
       "      <td>1</td>\n",
       "    </tr>\n",
       "    <tr>\n",
       "      <th>1</th>\n",
       "      <td>2</td>\n",
       "      <td>2019-07-07</td>\n",
       "      <td>1</td>\n",
       "    </tr>\n",
       "  </tbody>\n",
       "</table>\n",
       "</div>"
      ],
      "text/plain": [
       "   id application_date  segment\n",
       "0   1       2019-07-06        1\n",
       "1   2       2019-07-07        1"
      ]
     },
     "execution_count": 554,
     "metadata": {},
     "output_type": "execute_result"
    }
   ],
   "source": [
    "test.head(2)"
   ]
  },
  {
   "cell_type": "code",
   "execution_count": 555,
   "metadata": {
    "ExecuteTime": {
     "end_time": "2020-01-24T18:09:18.834621Z",
     "start_time": "2020-01-24T18:09:18.818621Z"
    }
   },
   "outputs": [
    {
     "data": {
      "text/html": [
       "<div>\n",
       "<style scoped>\n",
       "    .dataframe tbody tr th:only-of-type {\n",
       "        vertical-align: middle;\n",
       "    }\n",
       "\n",
       "    .dataframe tbody tr th {\n",
       "        vertical-align: top;\n",
       "    }\n",
       "\n",
       "    .dataframe thead th {\n",
       "        text-align: right;\n",
       "    }\n",
       "</style>\n",
       "<table border=\"1\" class=\"dataframe\">\n",
       "  <thead>\n",
       "    <tr style=\"text-align: right;\">\n",
       "      <th></th>\n",
       "      <th>application_date</th>\n",
       "      <th>segment</th>\n",
       "      <th>branch_id</th>\n",
       "      <th>state</th>\n",
       "      <th>zone</th>\n",
       "      <th>case_count</th>\n",
       "    </tr>\n",
       "  </thead>\n",
       "  <tbody>\n",
       "    <tr>\n",
       "      <th>0</th>\n",
       "      <td>2017-04-01</td>\n",
       "      <td>1</td>\n",
       "      <td>1.0</td>\n",
       "      <td>WEST BENGAL</td>\n",
       "      <td>EAST</td>\n",
       "      <td>40.0</td>\n",
       "    </tr>\n",
       "  </tbody>\n",
       "</table>\n",
       "</div>"
      ],
      "text/plain": [
       "  application_date  segment  branch_id        state  zone  case_count\n",
       "0       2017-04-01        1        1.0  WEST BENGAL  EAST        40.0"
      ]
     },
     "execution_count": 555,
     "metadata": {},
     "output_type": "execute_result"
    }
   ],
   "source": [
    "train.head(1)"
   ]
  },
  {
   "cell_type": "code",
   "execution_count": null,
   "metadata": {},
   "outputs": [],
   "source": []
  },
  {
   "cell_type": "code",
   "execution_count": 556,
   "metadata": {
    "ExecuteTime": {
     "end_time": "2020-01-24T18:09:19.529482Z",
     "start_time": "2020-01-24T18:09:19.499619Z"
    }
   },
   "outputs": [],
   "source": [
    "train[\"ds\"] = \"train\"\n",
    "test[\"ds\"] = \"test\"\n",
    "\n",
    "final = pd.concat([  train, test ])"
   ]
  },
  {
   "cell_type": "code",
   "execution_count": 557,
   "metadata": {
    "ExecuteTime": {
     "end_time": "2020-01-24T18:09:20.252609Z",
     "start_time": "2020-01-24T18:09:20.179861Z"
    },
    "scrolled": true
   },
   "outputs": [
    {
     "name": "stdout",
     "output_type": "stream",
     "text": [
      "<class 'pandas.core.frame.DataFrame'>\n",
      "Int64Index: 80582 entries, 0 to 179\n",
      "Data columns (total 8 columns):\n",
      "application_date    80582 non-null object\n",
      "branch_id           66898 non-null float64\n",
      "case_count          80402 non-null float64\n",
      "ds                  80582 non-null object\n",
      "id                  180 non-null float64\n",
      "segment             80582 non-null int64\n",
      "state               80402 non-null object\n",
      "zone                66898 non-null object\n",
      "dtypes: float64(3), int64(1), object(4)\n",
      "memory usage: 5.5+ MB\n"
     ]
    }
   ],
   "source": [
    "final.info()"
   ]
  },
  {
   "cell_type": "code",
   "execution_count": 660,
   "metadata": {
    "ExecuteTime": {
     "end_time": "2020-01-25T06:22:50.633557Z",
     "start_time": "2020-01-25T06:22:50.019340Z"
    }
   },
   "outputs": [
    {
     "data": {
      "text/plain": [
       "application_date        0\n",
       "branch_id           13684\n",
       "case_count            180\n",
       "ds                      0\n",
       "id                  80402\n",
       "segment                 0\n",
       "state                 180\n",
       "zone                13684\n",
       "dtype: int64"
      ]
     },
     "execution_count": 660,
     "metadata": {},
     "output_type": "execute_result"
    }
   ],
   "source": [
    "final.isna().sum()"
   ]
  },
  {
   "cell_type": "code",
   "execution_count": 558,
   "metadata": {
    "ExecuteTime": {
     "end_time": "2020-01-24T18:09:20.982414Z",
     "start_time": "2020-01-24T18:09:20.963463Z"
    },
    "scrolled": true
   },
   "outputs": [
    {
     "data": {
      "text/html": [
       "<div>\n",
       "<style scoped>\n",
       "    .dataframe tbody tr th:only-of-type {\n",
       "        vertical-align: middle;\n",
       "    }\n",
       "\n",
       "    .dataframe tbody tr th {\n",
       "        vertical-align: top;\n",
       "    }\n",
       "\n",
       "    .dataframe thead th {\n",
       "        text-align: right;\n",
       "    }\n",
       "</style>\n",
       "<table border=\"1\" class=\"dataframe\">\n",
       "  <thead>\n",
       "    <tr style=\"text-align: right;\">\n",
       "      <th></th>\n",
       "      <th>application_date</th>\n",
       "      <th>branch_id</th>\n",
       "      <th>case_count</th>\n",
       "      <th>ds</th>\n",
       "      <th>id</th>\n",
       "      <th>segment</th>\n",
       "      <th>state</th>\n",
       "      <th>zone</th>\n",
       "    </tr>\n",
       "  </thead>\n",
       "  <tbody>\n",
       "    <tr>\n",
       "      <th>0</th>\n",
       "      <td>2017-04-01</td>\n",
       "      <td>1.0</td>\n",
       "      <td>40.0</td>\n",
       "      <td>train</td>\n",
       "      <td>NaN</td>\n",
       "      <td>1</td>\n",
       "      <td>WEST BENGAL</td>\n",
       "      <td>EAST</td>\n",
       "    </tr>\n",
       "    <tr>\n",
       "      <th>1</th>\n",
       "      <td>2017-04-03</td>\n",
       "      <td>1.0</td>\n",
       "      <td>5.0</td>\n",
       "      <td>train</td>\n",
       "      <td>NaN</td>\n",
       "      <td>1</td>\n",
       "      <td>WEST BENGAL</td>\n",
       "      <td>EAST</td>\n",
       "    </tr>\n",
       "  </tbody>\n",
       "</table>\n",
       "</div>"
      ],
      "text/plain": [
       "  application_date  branch_id  case_count     ds  id  segment        state  \\\n",
       "0       2017-04-01        1.0        40.0  train NaN        1  WEST BENGAL   \n",
       "1       2017-04-03        1.0         5.0  train NaN        1  WEST BENGAL   \n",
       "\n",
       "   zone  \n",
       "0  EAST  \n",
       "1  EAST  "
      ]
     },
     "execution_count": 558,
     "metadata": {},
     "output_type": "execute_result"
    }
   ],
   "source": [
    "final.head(2)"
   ]
  },
  {
   "cell_type": "code",
   "execution_count": null,
   "metadata": {},
   "outputs": [],
   "source": []
  },
  {
   "cell_type": "code",
   "execution_count": 559,
   "metadata": {
    "ExecuteTime": {
     "end_time": "2020-01-24T18:09:21.600731Z",
     "start_time": "2020-01-24T18:09:21.572733Z"
    }
   },
   "outputs": [
    {
     "data": {
      "text/html": [
       "<div>\n",
       "<style scoped>\n",
       "    .dataframe tbody tr th:only-of-type {\n",
       "        vertical-align: middle;\n",
       "    }\n",
       "\n",
       "    .dataframe tbody tr th {\n",
       "        vertical-align: top;\n",
       "    }\n",
       "\n",
       "    .dataframe thead th {\n",
       "        text-align: right;\n",
       "    }\n",
       "</style>\n",
       "<table border=\"1\" class=\"dataframe\">\n",
       "  <thead>\n",
       "    <tr style=\"text-align: right;\">\n",
       "      <th></th>\n",
       "      <th>application_date</th>\n",
       "      <th>case_count</th>\n",
       "    </tr>\n",
       "  </thead>\n",
       "  <tbody>\n",
       "    <tr>\n",
       "      <th>0</th>\n",
       "      <td>2017-04-01</td>\n",
       "      <td>1196.0</td>\n",
       "    </tr>\n",
       "    <tr>\n",
       "      <th>1</th>\n",
       "      <td>2017-04-02</td>\n",
       "      <td>605.0</td>\n",
       "    </tr>\n",
       "  </tbody>\n",
       "</table>\n",
       "</div>"
      ],
      "text/plain": [
       "  application_date  case_count\n",
       "0       2017-04-01      1196.0\n",
       "1       2017-04-02       605.0"
      ]
     },
     "execution_count": 559,
     "metadata": {},
     "output_type": "execute_result"
    }
   ],
   "source": [
    "final1 = final.groupby(   [\"application_date\"] , as_index=False)[\"case_count\"].sum()\n",
    "final1.head(2)"
   ]
  },
  {
   "cell_type": "code",
   "execution_count": 560,
   "metadata": {
    "ExecuteTime": {
     "end_time": "2020-01-24T18:09:22.223675Z",
     "start_time": "2020-01-24T18:09:22.216799Z"
    }
   },
   "outputs": [
    {
     "data": {
      "text/plain": [
       "(937, 2)"
      ]
     },
     "execution_count": 560,
     "metadata": {},
     "output_type": "execute_result"
    }
   ],
   "source": [
    " final1.shape"
   ]
  },
  {
   "cell_type": "code",
   "execution_count": 561,
   "metadata": {
    "ExecuteTime": {
     "end_time": "2020-01-24T18:09:23.050010Z",
     "start_time": "2020-01-24T18:09:23.018363Z"
    }
   },
   "outputs": [
    {
     "data": {
      "text/html": [
       "<div>\n",
       "<style scoped>\n",
       "    .dataframe tbody tr th:only-of-type {\n",
       "        vertical-align: middle;\n",
       "    }\n",
       "\n",
       "    .dataframe tbody tr th {\n",
       "        vertical-align: top;\n",
       "    }\n",
       "\n",
       "    .dataframe thead th {\n",
       "        text-align: right;\n",
       "    }\n",
       "</style>\n",
       "<table border=\"1\" class=\"dataframe\">\n",
       "  <thead>\n",
       "    <tr style=\"text-align: right;\">\n",
       "      <th></th>\n",
       "      <th>application_date</th>\n",
       "      <th>segment</th>\n",
       "      <th>case_count</th>\n",
       "    </tr>\n",
       "  </thead>\n",
       "  <tbody>\n",
       "    <tr>\n",
       "      <th>0</th>\n",
       "      <td>2017-04-01</td>\n",
       "      <td>1</td>\n",
       "      <td>299.0</td>\n",
       "    </tr>\n",
       "    <tr>\n",
       "      <th>1</th>\n",
       "      <td>2017-04-01</td>\n",
       "      <td>2</td>\n",
       "      <td>897.0</td>\n",
       "    </tr>\n",
       "  </tbody>\n",
       "</table>\n",
       "</div>"
      ],
      "text/plain": [
       "  application_date  segment  case_count\n",
       "0       2017-04-01        1       299.0\n",
       "1       2017-04-01        2       897.0"
      ]
     },
     "execution_count": 561,
     "metadata": {},
     "output_type": "execute_result"
    }
   ],
   "source": [
    "final2 = final.groupby(   [\"application_date\" ,  \"segment\"] , as_index=False)[\"case_count\"].sum()\n",
    "final2.head(2)"
   ]
  },
  {
   "cell_type": "code",
   "execution_count": 562,
   "metadata": {
    "ExecuteTime": {
     "end_time": "2020-01-24T18:09:23.745681Z",
     "start_time": "2020-01-24T18:09:23.741662Z"
    }
   },
   "outputs": [
    {
     "data": {
      "text/plain": [
       "(1830, 3)"
      ]
     },
     "execution_count": 562,
     "metadata": {},
     "output_type": "execute_result"
    }
   ],
   "source": [
    "final2.shape"
   ]
  },
  {
   "cell_type": "code",
   "execution_count": null,
   "metadata": {},
   "outputs": [],
   "source": []
  },
  {
   "cell_type": "code",
   "execution_count": 563,
   "metadata": {
    "ExecuteTime": {
     "end_time": "2020-01-24T18:09:24.526686Z",
     "start_time": "2020-01-24T18:09:24.472880Z"
    }
   },
   "outputs": [
    {
     "data": {
      "text/html": [
       "<div>\n",
       "<style scoped>\n",
       "    .dataframe tbody tr th:only-of-type {\n",
       "        vertical-align: middle;\n",
       "    }\n",
       "\n",
       "    .dataframe tbody tr th {\n",
       "        vertical-align: top;\n",
       "    }\n",
       "\n",
       "    .dataframe thead th {\n",
       "        text-align: right;\n",
       "    }\n",
       "</style>\n",
       "<table border=\"1\" class=\"dataframe\">\n",
       "  <thead>\n",
       "    <tr style=\"text-align: right;\">\n",
       "      <th></th>\n",
       "      <th>application_date</th>\n",
       "      <th>segment</th>\n",
       "      <th>ds</th>\n",
       "      <th>case_count</th>\n",
       "    </tr>\n",
       "  </thead>\n",
       "  <tbody>\n",
       "    <tr>\n",
       "      <th>0</th>\n",
       "      <td>2017-04-01</td>\n",
       "      <td>1</td>\n",
       "      <td>train</td>\n",
       "      <td>299.0</td>\n",
       "    </tr>\n",
       "    <tr>\n",
       "      <th>1</th>\n",
       "      <td>2017-04-01</td>\n",
       "      <td>2</td>\n",
       "      <td>train</td>\n",
       "      <td>897.0</td>\n",
       "    </tr>\n",
       "  </tbody>\n",
       "</table>\n",
       "</div>"
      ],
      "text/plain": [
       "  application_date  segment     ds  case_count\n",
       "0       2017-04-01        1  train       299.0\n",
       "1       2017-04-01        2  train       897.0"
      ]
     },
     "execution_count": 563,
     "metadata": {},
     "output_type": "execute_result"
    }
   ],
   "source": [
    "final3 = final.groupby(   [\"application_date\" ,  \"segment\" , \"ds\"] , as_index=False)[\"case_count\"].sum()\n",
    "final3.head(2)"
   ]
  },
  {
   "cell_type": "code",
   "execution_count": 564,
   "metadata": {
    "ExecuteTime": {
     "end_time": "2020-01-24T18:09:25.362195Z",
     "start_time": "2020-01-24T18:09:25.353222Z"
    }
   },
   "outputs": [
    {
     "data": {
      "text/plain": [
       "(1830, 4)"
      ]
     },
     "execution_count": 564,
     "metadata": {},
     "output_type": "execute_result"
    }
   ],
   "source": [
    "final3.shape"
   ]
  },
  {
   "cell_type": "code",
   "execution_count": 565,
   "metadata": {
    "ExecuteTime": {
     "end_time": "2020-01-24T18:09:26.354504Z",
     "start_time": "2020-01-24T18:09:26.289815Z"
    }
   },
   "outputs": [
    {
     "data": {
      "text/html": [
       "<div>\n",
       "<style scoped>\n",
       "    .dataframe tbody tr th:only-of-type {\n",
       "        vertical-align: middle;\n",
       "    }\n",
       "\n",
       "    .dataframe tbody tr th {\n",
       "        vertical-align: top;\n",
       "    }\n",
       "\n",
       "    .dataframe thead th {\n",
       "        text-align: right;\n",
       "    }\n",
       "</style>\n",
       "<table border=\"1\" class=\"dataframe\">\n",
       "  <thead>\n",
       "    <tr style=\"text-align: right;\">\n",
       "      <th></th>\n",
       "      <th>application_date</th>\n",
       "      <th>segment</th>\n",
       "      <th>state</th>\n",
       "      <th>case_count</th>\n",
       "    </tr>\n",
       "  </thead>\n",
       "  <tbody>\n",
       "    <tr>\n",
       "      <th>0</th>\n",
       "      <td>2017-04-01</td>\n",
       "      <td>1</td>\n",
       "      <td>ANDHRA PRADESH</td>\n",
       "      <td>0.0</td>\n",
       "    </tr>\n",
       "    <tr>\n",
       "      <th>1</th>\n",
       "      <td>2017-04-01</td>\n",
       "      <td>1</td>\n",
       "      <td>ASSAM</td>\n",
       "      <td>17.0</td>\n",
       "    </tr>\n",
       "  </tbody>\n",
       "</table>\n",
       "</div>"
      ],
      "text/plain": [
       "  application_date  segment           state  case_count\n",
       "0       2017-04-01        1  ANDHRA PRADESH         0.0\n",
       "1       2017-04-01        1           ASSAM        17.0"
      ]
     },
     "execution_count": 565,
     "metadata": {},
     "output_type": "execute_result"
    }
   ],
   "source": [
    "final4 = final.groupby(   [\"application_date\" ,  \"segment\" , \"state\"] , as_index=False)[\"case_count\"].sum()\n",
    "final4.head(2)"
   ]
  },
  {
   "cell_type": "code",
   "execution_count": 566,
   "metadata": {
    "ExecuteTime": {
     "end_time": "2020-01-24T18:09:27.159746Z",
     "start_time": "2020-01-24T18:09:27.153572Z"
    }
   },
   "outputs": [
    {
     "data": {
      "text/plain": [
       "(29624, 4)"
      ]
     },
     "execution_count": 566,
     "metadata": {},
     "output_type": "execute_result"
    }
   ],
   "source": [
    "final4.shape"
   ]
  },
  {
   "cell_type": "code",
   "execution_count": null,
   "metadata": {},
   "outputs": [],
   "source": []
  },
  {
   "cell_type": "code",
   "execution_count": 567,
   "metadata": {
    "ExecuteTime": {
     "end_time": "2020-01-24T18:09:28.030860Z",
     "start_time": "2020-01-24T18:09:27.960703Z"
    }
   },
   "outputs": [
    {
     "data": {
      "text/html": [
       "<div>\n",
       "<style scoped>\n",
       "    .dataframe tbody tr th:only-of-type {\n",
       "        vertical-align: middle;\n",
       "    }\n",
       "\n",
       "    .dataframe tbody tr th {\n",
       "        vertical-align: top;\n",
       "    }\n",
       "\n",
       "    .dataframe thead th {\n",
       "        text-align: right;\n",
       "    }\n",
       "</style>\n",
       "<table border=\"1\" class=\"dataframe\">\n",
       "  <thead>\n",
       "    <tr style=\"text-align: right;\">\n",
       "      <th></th>\n",
       "      <th>application_date</th>\n",
       "      <th>segment</th>\n",
       "      <th>state</th>\n",
       "      <th>zone</th>\n",
       "      <th>case_count</th>\n",
       "    </tr>\n",
       "  </thead>\n",
       "  <tbody>\n",
       "    <tr>\n",
       "      <th>0</th>\n",
       "      <td>2017-04-01</td>\n",
       "      <td>1</td>\n",
       "      <td>ANDHRA PRADESH</td>\n",
       "      <td>SOUTH</td>\n",
       "      <td>0.0</td>\n",
       "    </tr>\n",
       "    <tr>\n",
       "      <th>1</th>\n",
       "      <td>2017-04-01</td>\n",
       "      <td>1</td>\n",
       "      <td>ASSAM</td>\n",
       "      <td>EAST</td>\n",
       "      <td>17.0</td>\n",
       "    </tr>\n",
       "  </tbody>\n",
       "</table>\n",
       "</div>"
      ],
      "text/plain": [
       "  application_date  segment           state   zone  case_count\n",
       "0       2017-04-01        1  ANDHRA PRADESH  SOUTH         0.0\n",
       "1       2017-04-01        1           ASSAM   EAST        17.0"
      ]
     },
     "execution_count": 567,
     "metadata": {},
     "output_type": "execute_result"
    }
   ],
   "source": [
    "final5 = final.groupby(   [\"application_date\" ,  \"segment\" , \"state\" , \"zone\"] , as_index=False)[\"case_count\"].sum()\n",
    "final5.head(2)"
   ]
  },
  {
   "cell_type": "code",
   "execution_count": 568,
   "metadata": {
    "ExecuteTime": {
     "end_time": "2020-01-24T18:09:28.790783Z",
     "start_time": "2020-01-24T18:09:28.781726Z"
    }
   },
   "outputs": [
    {
     "data": {
      "text/plain": [
       "(16926, 5)"
      ]
     },
     "execution_count": 568,
     "metadata": {},
     "output_type": "execute_result"
    }
   ],
   "source": [
    "final5.shape"
   ]
  },
  {
   "cell_type": "code",
   "execution_count": null,
   "metadata": {},
   "outputs": [],
   "source": []
  },
  {
   "cell_type": "code",
   "execution_count": 569,
   "metadata": {
    "ExecuteTime": {
     "end_time": "2020-01-24T18:09:29.692445Z",
     "start_time": "2020-01-24T18:09:29.638594Z"
    }
   },
   "outputs": [
    {
     "data": {
      "text/html": [
       "<div>\n",
       "<style scoped>\n",
       "    .dataframe tbody tr th:only-of-type {\n",
       "        vertical-align: middle;\n",
       "    }\n",
       "\n",
       "    .dataframe tbody tr th {\n",
       "        vertical-align: top;\n",
       "    }\n",
       "\n",
       "    .dataframe thead th {\n",
       "        text-align: right;\n",
       "    }\n",
       "</style>\n",
       "<table border=\"1\" class=\"dataframe\">\n",
       "  <thead>\n",
       "    <tr style=\"text-align: right;\">\n",
       "      <th></th>\n",
       "      <th>application_date</th>\n",
       "      <th>segment</th>\n",
       "      <th>zone</th>\n",
       "      <th>case_count</th>\n",
       "    </tr>\n",
       "  </thead>\n",
       "  <tbody>\n",
       "    <tr>\n",
       "      <th>0</th>\n",
       "      <td>2017-04-01</td>\n",
       "      <td>1</td>\n",
       "      <td>CENTRAL</td>\n",
       "      <td>7.0</td>\n",
       "    </tr>\n",
       "    <tr>\n",
       "      <th>1</th>\n",
       "      <td>2017-04-01</td>\n",
       "      <td>1</td>\n",
       "      <td>EAST</td>\n",
       "      <td>117.0</td>\n",
       "    </tr>\n",
       "  </tbody>\n",
       "</table>\n",
       "</div>"
      ],
      "text/plain": [
       "  application_date  segment     zone  case_count\n",
       "0       2017-04-01        1  CENTRAL         7.0\n",
       "1       2017-04-01        1     EAST       117.0"
      ]
     },
     "execution_count": 569,
     "metadata": {},
     "output_type": "execute_result"
    }
   ],
   "source": [
    "final6 = final.groupby(   [\"application_date\" ,  \"segment\" , \"zone\"] , as_index=False)[\"case_count\"].sum()\n",
    "final6.head(2)"
   ]
  },
  {
   "cell_type": "code",
   "execution_count": 570,
   "metadata": {
    "ExecuteTime": {
     "end_time": "2020-01-24T18:09:30.540737Z",
     "start_time": "2020-01-24T18:09:30.533766Z"
    }
   },
   "outputs": [
    {
     "data": {
      "text/plain": [
       "(4030, 4)"
      ]
     },
     "execution_count": 570,
     "metadata": {},
     "output_type": "execute_result"
    }
   ],
   "source": [
    "final6.shape"
   ]
  },
  {
   "cell_type": "code",
   "execution_count": null,
   "metadata": {},
   "outputs": [],
   "source": []
  },
  {
   "cell_type": "code",
   "execution_count": 571,
   "metadata": {
    "ExecuteTime": {
     "end_time": "2020-01-24T18:09:31.405314Z",
     "start_time": "2020-01-24T18:09:31.362083Z"
    }
   },
   "outputs": [
    {
     "data": {
      "text/html": [
       "<div>\n",
       "<style scoped>\n",
       "    .dataframe tbody tr th:only-of-type {\n",
       "        vertical-align: middle;\n",
       "    }\n",
       "\n",
       "    .dataframe tbody tr th {\n",
       "        vertical-align: top;\n",
       "    }\n",
       "\n",
       "    .dataframe thead th {\n",
       "        text-align: right;\n",
       "    }\n",
       "</style>\n",
       "<table border=\"1\" class=\"dataframe\">\n",
       "  <thead>\n",
       "    <tr style=\"text-align: right;\">\n",
       "      <th></th>\n",
       "      <th>application_date</th>\n",
       "      <th>segment</th>\n",
       "      <th>ds</th>\n",
       "      <th>case_count</th>\n",
       "    </tr>\n",
       "  </thead>\n",
       "  <tbody>\n",
       "    <tr>\n",
       "      <th>0</th>\n",
       "      <td>2017-04-01</td>\n",
       "      <td>1</td>\n",
       "      <td>train</td>\n",
       "      <td>299.0</td>\n",
       "    </tr>\n",
       "    <tr>\n",
       "      <th>1</th>\n",
       "      <td>2017-04-01</td>\n",
       "      <td>2</td>\n",
       "      <td>train</td>\n",
       "      <td>897.0</td>\n",
       "    </tr>\n",
       "  </tbody>\n",
       "</table>\n",
       "</div>"
      ],
      "text/plain": [
       "  application_date  segment     ds  case_count\n",
       "0       2017-04-01        1  train       299.0\n",
       "1       2017-04-01        2  train       897.0"
      ]
     },
     "execution_count": 571,
     "metadata": {},
     "output_type": "execute_result"
    }
   ],
   "source": [
    "final_data=final.groupby(['application_date','segment','ds'],as_index=False)['case_count'].sum()\n",
    "final_data.head(2)"
   ]
  },
  {
   "cell_type": "code",
   "execution_count": 572,
   "metadata": {
    "ExecuteTime": {
     "end_time": "2020-01-24T18:09:32.175622Z",
     "start_time": "2020-01-24T18:09:32.169177Z"
    }
   },
   "outputs": [
    {
     "data": {
      "text/plain": [
       "(1830, 4)"
      ]
     },
     "execution_count": 572,
     "metadata": {},
     "output_type": "execute_result"
    }
   ],
   "source": [
    "final_data.shape"
   ]
  },
  {
   "cell_type": "code",
   "execution_count": null,
   "metadata": {},
   "outputs": [],
   "source": []
  },
  {
   "cell_type": "code",
   "execution_count": 573,
   "metadata": {
    "ExecuteTime": {
     "end_time": "2020-01-24T18:09:32.968033Z",
     "start_time": "2020-01-24T18:09:32.957845Z"
    }
   },
   "outputs": [],
   "source": [
    "final_data[\"application_date\"] = pd.to_datetime(final_data[\"application_date\"])"
   ]
  },
  {
   "cell_type": "code",
   "execution_count": null,
   "metadata": {},
   "outputs": [],
   "source": []
  },
  {
   "cell_type": "code",
   "execution_count": 574,
   "metadata": {
    "ExecuteTime": {
     "end_time": "2020-01-24T18:09:33.789380Z",
     "start_time": "2020-01-24T18:09:33.773269Z"
    }
   },
   "outputs": [],
   "source": [
    "final_data[\"year\"] = final_data[\"application_date\"].dt.year\n",
    "\n",
    "final_data[\"month\"] = final_data[\"application_date\"].dt.month\n",
    "\n",
    "final_data[\"week\"] = final_data[\"application_date\"].dt.week\n",
    "\n",
    "final_data[\"day\"] = final_data[\"application_date\"].dt.day"
   ]
  },
  {
   "cell_type": "code",
   "execution_count": null,
   "metadata": {},
   "outputs": [],
   "source": []
  },
  {
   "cell_type": "code",
   "execution_count": 575,
   "metadata": {
    "ExecuteTime": {
     "end_time": "2020-01-24T18:09:34.544407Z",
     "start_time": "2020-01-24T18:09:34.526559Z"
    }
   },
   "outputs": [
    {
     "data": {
      "text/html": [
       "<div>\n",
       "<style scoped>\n",
       "    .dataframe tbody tr th:only-of-type {\n",
       "        vertical-align: middle;\n",
       "    }\n",
       "\n",
       "    .dataframe tbody tr th {\n",
       "        vertical-align: top;\n",
       "    }\n",
       "\n",
       "    .dataframe thead th {\n",
       "        text-align: right;\n",
       "    }\n",
       "</style>\n",
       "<table border=\"1\" class=\"dataframe\">\n",
       "  <thead>\n",
       "    <tr style=\"text-align: right;\">\n",
       "      <th></th>\n",
       "      <th>application_date</th>\n",
       "      <th>segment</th>\n",
       "      <th>ds</th>\n",
       "      <th>case_count</th>\n",
       "      <th>year</th>\n",
       "      <th>month</th>\n",
       "      <th>week</th>\n",
       "      <th>day</th>\n",
       "    </tr>\n",
       "  </thead>\n",
       "  <tbody>\n",
       "    <tr>\n",
       "      <th>0</th>\n",
       "      <td>2017-04-01</td>\n",
       "      <td>1</td>\n",
       "      <td>train</td>\n",
       "      <td>299.0</td>\n",
       "      <td>2017</td>\n",
       "      <td>4</td>\n",
       "      <td>13</td>\n",
       "      <td>1</td>\n",
       "    </tr>\n",
       "    <tr>\n",
       "      <th>1</th>\n",
       "      <td>2017-04-01</td>\n",
       "      <td>2</td>\n",
       "      <td>train</td>\n",
       "      <td>897.0</td>\n",
       "      <td>2017</td>\n",
       "      <td>4</td>\n",
       "      <td>13</td>\n",
       "      <td>1</td>\n",
       "    </tr>\n",
       "  </tbody>\n",
       "</table>\n",
       "</div>"
      ],
      "text/plain": [
       "  application_date  segment     ds  case_count  year  month  week  day\n",
       "0       2017-04-01        1  train       299.0  2017      4    13    1\n",
       "1       2017-04-01        2  train       897.0  2017      4    13    1"
      ]
     },
     "execution_count": 575,
     "metadata": {},
     "output_type": "execute_result"
    }
   ],
   "source": [
    "final_data.head(2)"
   ]
  },
  {
   "cell_type": "code",
   "execution_count": null,
   "metadata": {},
   "outputs": [],
   "source": []
  },
  {
   "cell_type": "code",
   "execution_count": 576,
   "metadata": {
    "ExecuteTime": {
     "end_time": "2020-01-24T18:09:38.537614Z",
     "start_time": "2020-01-24T18:09:38.525647Z"
    }
   },
   "outputs": [],
   "source": [
    "train_segment_1 = final_data[final_data.segment == 1]\n",
    "\n",
    "train_segment_2 = final_data[final_data.segment == 2]"
   ]
  },
  {
   "cell_type": "code",
   "execution_count": 577,
   "metadata": {
    "ExecuteTime": {
     "end_time": "2020-01-24T18:09:39.366386Z",
     "start_time": "2020-01-24T18:09:39.359406Z"
    }
   },
   "outputs": [
    {
     "data": {
      "text/plain": [
       "((893, 8), (937, 8))"
      ]
     },
     "execution_count": 577,
     "metadata": {},
     "output_type": "execute_result"
    }
   ],
   "source": [
    "train_segment_1.shape, train_segment_2.shape"
   ]
  },
  {
   "cell_type": "code",
   "execution_count": 578,
   "metadata": {
    "ExecuteTime": {
     "end_time": "2020-01-24T18:09:40.701224Z",
     "start_time": "2020-01-24T18:09:40.696208Z"
    }
   },
   "outputs": [],
   "source": [
    "# date_pattern = \"%Y-%m-%d\"\n",
    "\n",
    "\n",
    "# train_segment_1[\"year\"] = train_segment_1.application_date.apply(lambda x : datetime.datetime.strptime(x, date_pattern).year)\n",
    "# train_segment_1[\"month\"] = train_segment_1.application_date.apply(lambda x : datetime.datetime.strptime(x, date_pattern).month)\n",
    "# train_segment_1[\"day\"] = train_segment_1.application_date.apply(lambda x : datetime.datetime.strptime(x, date_pattern).day)\n",
    "# train_segment_1[\"week\"] = train_segment_1.application_date.apply(lambda x : datetime.datetime.strptime(x, date_pattern).week)\n",
    "\n",
    "\n",
    "\n"
   ]
  },
  {
   "cell_type": "code",
   "execution_count": 579,
   "metadata": {
    "ExecuteTime": {
     "end_time": "2020-01-24T18:09:41.545004Z",
     "start_time": "2020-01-24T18:09:41.532074Z"
    }
   },
   "outputs": [],
   "source": [
    "list1=[]\n",
    "for x in train_segment_1['month']:\n",
    "    if x==2 or x==3:\n",
    "            y='spring'\n",
    "    elif x==4 or x==5 or x==6:\n",
    "            y='summer'\n",
    "    elif x==7 or x==8 or x==9:\n",
    "           y='rainy'\n",
    "    elif x==10 or x==11 or x==12 or x==1:\n",
    "            y='winter'\n",
    "    list1.append(y)\n",
    "    \n",
    "    \n",
    "list2=[]\n",
    "for x in train_segment_2['month']:\n",
    "    if x==2 or x==3:\n",
    "            y='spring'\n",
    "    elif x==4 or x==5 or x==6:\n",
    "            y='summer'\n",
    "    elif x==7 or x==8 or x==9:\n",
    "           y='rainy'\n",
    "    elif x==10 or x==11 or x==12 or x==1:\n",
    "            y='winter'\n",
    "    list2.append(y)\n",
    "    "
   ]
  },
  {
   "cell_type": "code",
   "execution_count": null,
   "metadata": {},
   "outputs": [],
   "source": []
  },
  {
   "cell_type": "code",
   "execution_count": null,
   "metadata": {},
   "outputs": [],
   "source": []
  },
  {
   "cell_type": "code",
   "execution_count": null,
   "metadata": {},
   "outputs": [],
   "source": []
  },
  {
   "cell_type": "code",
   "execution_count": 580,
   "metadata": {
    "ExecuteTime": {
     "end_time": "2020-01-24T18:09:42.798537Z",
     "start_time": "2020-01-24T18:09:42.787745Z"
    }
   },
   "outputs": [],
   "source": [
    "# train_segment_1[\"season\"] = train_segment_1.month.apply( lambda x : create_season(x))\n",
    "\n",
    "# train_segment_2[\"season\"] = train_segment_2.month.apply( lambda x : create_season(x))\n",
    "\n",
    "\n",
    "\n",
    "\n",
    "\n",
    "\n",
    "train_segment_1[\"season\"] = list1\n",
    "\n",
    "train_segment_2[\"season\"] = list2\n"
   ]
  },
  {
   "cell_type": "code",
   "execution_count": 581,
   "metadata": {
    "ExecuteTime": {
     "end_time": "2020-01-24T18:09:45.175953Z",
     "start_time": "2020-01-24T18:09:45.171000Z"
    }
   },
   "outputs": [
    {
     "data": {
      "text/plain": [
       "((893, 9), (937, 9))"
      ]
     },
     "execution_count": 581,
     "metadata": {},
     "output_type": "execute_result"
    }
   ],
   "source": [
    "train_segment_1.shape, train_segment_2.shape"
   ]
  },
  {
   "cell_type": "code",
   "execution_count": 582,
   "metadata": {
    "ExecuteTime": {
     "end_time": "2020-01-24T18:09:46.042602Z",
     "start_time": "2020-01-24T18:09:46.029592Z"
    }
   },
   "outputs": [
    {
     "data": {
      "text/html": [
       "<div>\n",
       "<style scoped>\n",
       "    .dataframe tbody tr th:only-of-type {\n",
       "        vertical-align: middle;\n",
       "    }\n",
       "\n",
       "    .dataframe tbody tr th {\n",
       "        vertical-align: top;\n",
       "    }\n",
       "\n",
       "    .dataframe thead th {\n",
       "        text-align: right;\n",
       "    }\n",
       "</style>\n",
       "<table border=\"1\" class=\"dataframe\">\n",
       "  <thead>\n",
       "    <tr style=\"text-align: right;\">\n",
       "      <th></th>\n",
       "      <th>application_date</th>\n",
       "      <th>segment</th>\n",
       "      <th>ds</th>\n",
       "      <th>case_count</th>\n",
       "      <th>year</th>\n",
       "      <th>month</th>\n",
       "      <th>week</th>\n",
       "      <th>day</th>\n",
       "      <th>season</th>\n",
       "    </tr>\n",
       "  </thead>\n",
       "  <tbody>\n",
       "    <tr>\n",
       "      <th>0</th>\n",
       "      <td>2017-04-01</td>\n",
       "      <td>1</td>\n",
       "      <td>train</td>\n",
       "      <td>299.0</td>\n",
       "      <td>2017</td>\n",
       "      <td>4</td>\n",
       "      <td>13</td>\n",
       "      <td>1</td>\n",
       "      <td>summer</td>\n",
       "    </tr>\n",
       "    <tr>\n",
       "      <th>3</th>\n",
       "      <td>2017-04-03</td>\n",
       "      <td>1</td>\n",
       "      <td>train</td>\n",
       "      <td>42.0</td>\n",
       "      <td>2017</td>\n",
       "      <td>4</td>\n",
       "      <td>14</td>\n",
       "      <td>3</td>\n",
       "      <td>summer</td>\n",
       "    </tr>\n",
       "  </tbody>\n",
       "</table>\n",
       "</div>"
      ],
      "text/plain": [
       "  application_date  segment     ds  case_count  year  month  week  day  season\n",
       "0       2017-04-01        1  train       299.0  2017      4    13    1  summer\n",
       "3       2017-04-03        1  train        42.0  2017      4    14    3  summer"
      ]
     },
     "execution_count": 582,
     "metadata": {},
     "output_type": "execute_result"
    }
   ],
   "source": [
    "train_segment_1.head(2)"
   ]
  },
  {
   "cell_type": "code",
   "execution_count": null,
   "metadata": {},
   "outputs": [],
   "source": []
  },
  {
   "cell_type": "code",
   "execution_count": 583,
   "metadata": {
    "ExecuteTime": {
     "end_time": "2020-01-24T18:09:47.796445Z",
     "start_time": "2020-01-24T18:09:47.300661Z"
    }
   },
   "outputs": [
    {
     "data": {
      "image/png": "[encoded data removed]",
      "text/plain": [
       "<Figure size 720x360 with 1 Axes>"
      ]
     },
     "metadata": {
      "needs_background": "light"
     },
     "output_type": "display_data"
    }
   ],
   "source": [
    "plt.figure(  figsize=(10, 5))\n",
    "sns.barplot( x = \"season\" , y = \"case_count\" , data=train_segment_1  )\n",
    "plt.show()"
   ]
  },
  {
   "cell_type": "code",
   "execution_count": 584,
   "metadata": {
    "ExecuteTime": {
     "end_time": "2020-01-24T18:09:49.273477Z",
     "start_time": "2020-01-24T18:09:48.548704Z"
    }
   },
   "outputs": [
    {
     "data": {
      "image/png": "[encoded data removed]",
      "text/plain": [
       "<Figure size 720x360 with 1 Axes>"
      ]
     },
     "metadata": {
      "needs_background": "light"
     },
     "output_type": "display_data"
    }
   ],
   "source": [
    "plt.figure(  figsize=(10, 5))\n",
    "sns.barplot( x = \"season\" , y = \"case_count\" , data=train_segment_1, estimator=sum  )\n",
    "plt.show()"
   ]
  },
  {
   "cell_type": "code",
   "execution_count": null,
   "metadata": {},
   "outputs": [],
   "source": []
  },
  {
   "cell_type": "code",
   "execution_count": 585,
   "metadata": {
    "ExecuteTime": {
     "end_time": "2020-01-24T18:09:50.633829Z",
     "start_time": "2020-01-24T18:09:50.123363Z"
    }
   },
   "outputs": [
    {
     "data": {
      "image/png": "[encoded data removed]",
      "text/plain": [
       "<Figure size 720x360 with 1 Axes>"
      ]
     },
     "metadata": {
      "needs_background": "light"
     },
     "output_type": "display_data"
    }
   ],
   "source": [
    "plt.figure(  figsize=(10, 5))\n",
    "sns.barplot( x = \"season\" , y = \"case_count\" , data=train_segment_2  )\n",
    "plt.show()"
   ]
  },
  {
   "cell_type": "code",
   "execution_count": 586,
   "metadata": {
    "ExecuteTime": {
     "end_time": "2020-01-24T18:09:52.192733Z",
     "start_time": "2020-01-24T18:09:51.387472Z"
    }
   },
   "outputs": [
    {
     "data": {
      "image/png": "[encoded data removed]",
      "text/plain": [
       "<Figure size 720x360 with 1 Axes>"
      ]
     },
     "metadata": {
      "needs_background": "light"
     },
     "output_type": "display_data"
    }
   ],
   "source": [
    "plt.figure(  figsize=(10, 5))\n",
    "sns.barplot( x = \"season\" , y = \"case_count\" , data=train_segment_2, estimator=sum  )\n",
    "plt.show()"
   ]
  },
  {
   "cell_type": "code",
   "execution_count": null,
   "metadata": {
    "ExecuteTime": {
     "end_time": "2020-01-24T11:40:07.525464Z",
     "start_time": "2020-01-24T11:40:07.519261Z"
    }
   },
   "outputs": [],
   "source": []
  },
  {
   "cell_type": "code",
   "execution_count": 587,
   "metadata": {
    "ExecuteTime": {
     "end_time": "2020-01-24T18:09:53.090492Z",
     "start_time": "2020-01-24T18:09:53.074763Z"
    }
   },
   "outputs": [
    {
     "data": {
      "text/html": [
       "<div>\n",
       "<style scoped>\n",
       "    .dataframe tbody tr th:only-of-type {\n",
       "        vertical-align: middle;\n",
       "    }\n",
       "\n",
       "    .dataframe tbody tr th {\n",
       "        vertical-align: top;\n",
       "    }\n",
       "\n",
       "    .dataframe thead th {\n",
       "        text-align: right;\n",
       "    }\n",
       "</style>\n",
       "<table border=\"1\" class=\"dataframe\">\n",
       "  <thead>\n",
       "    <tr style=\"text-align: right;\">\n",
       "      <th></th>\n",
       "      <th>rainy</th>\n",
       "      <th>spring</th>\n",
       "      <th>summer</th>\n",
       "      <th>winter</th>\n",
       "    </tr>\n",
       "  </thead>\n",
       "  <tbody>\n",
       "    <tr>\n",
       "      <th>0</th>\n",
       "      <td>0</td>\n",
       "      <td>0</td>\n",
       "      <td>1</td>\n",
       "      <td>0</td>\n",
       "    </tr>\n",
       "    <tr>\n",
       "      <th>3</th>\n",
       "      <td>0</td>\n",
       "      <td>0</td>\n",
       "      <td>1</td>\n",
       "      <td>0</td>\n",
       "    </tr>\n",
       "    <tr>\n",
       "      <th>5</th>\n",
       "      <td>0</td>\n",
       "      <td>0</td>\n",
       "      <td>1</td>\n",
       "      <td>0</td>\n",
       "    </tr>\n",
       "    <tr>\n",
       "      <th>7</th>\n",
       "      <td>0</td>\n",
       "      <td>0</td>\n",
       "      <td>1</td>\n",
       "      <td>0</td>\n",
       "    </tr>\n",
       "    <tr>\n",
       "      <th>10</th>\n",
       "      <td>0</td>\n",
       "      <td>0</td>\n",
       "      <td>1</td>\n",
       "      <td>0</td>\n",
       "    </tr>\n",
       "    <tr>\n",
       "      <th>...</th>\n",
       "      <td>...</td>\n",
       "      <td>...</td>\n",
       "      <td>...</td>\n",
       "      <td>...</td>\n",
       "    </tr>\n",
       "    <tr>\n",
       "      <th>1796</th>\n",
       "      <td>1</td>\n",
       "      <td>0</td>\n",
       "      <td>0</td>\n",
       "      <td>0</td>\n",
       "    </tr>\n",
       "    <tr>\n",
       "      <th>1798</th>\n",
       "      <td>1</td>\n",
       "      <td>0</td>\n",
       "      <td>0</td>\n",
       "      <td>0</td>\n",
       "    </tr>\n",
       "    <tr>\n",
       "      <th>1800</th>\n",
       "      <td>1</td>\n",
       "      <td>0</td>\n",
       "      <td>0</td>\n",
       "      <td>0</td>\n",
       "    </tr>\n",
       "    <tr>\n",
       "      <th>1802</th>\n",
       "      <td>1</td>\n",
       "      <td>0</td>\n",
       "      <td>0</td>\n",
       "      <td>0</td>\n",
       "    </tr>\n",
       "    <tr>\n",
       "      <th>1804</th>\n",
       "      <td>1</td>\n",
       "      <td>0</td>\n",
       "      <td>0</td>\n",
       "      <td>0</td>\n",
       "    </tr>\n",
       "  </tbody>\n",
       "</table>\n",
       "<p>893 rows × 4 columns</p>\n",
       "</div>"
      ],
      "text/plain": [
       "      rainy  spring  summer  winter\n",
       "0         0       0       1       0\n",
       "3         0       0       1       0\n",
       "5         0       0       1       0\n",
       "7         0       0       1       0\n",
       "10        0       0       1       0\n",
       "...     ...     ...     ...     ...\n",
       "1796      1       0       0       0\n",
       "1798      1       0       0       0\n",
       "1800      1       0       0       0\n",
       "1802      1       0       0       0\n",
       "1804      1       0       0       0\n",
       "\n",
       "[893 rows x 4 columns]"
      ]
     },
     "execution_count": 587,
     "metadata": {},
     "output_type": "execute_result"
    }
   ],
   "source": [
    "pd.get_dummies(train_segment_1.season)"
   ]
  },
  {
   "cell_type": "code",
   "execution_count": 588,
   "metadata": {
    "ExecuteTime": {
     "end_time": "2020-01-24T18:09:54.845380Z",
     "start_time": "2020-01-24T18:09:54.832416Z"
    }
   },
   "outputs": [],
   "source": [
    "season_val_1 = pd.get_dummies(train_segment_1.season)\n",
    "\n",
    "train_segment_1 = pd.concat(  [train_segment_1,   season_val_1 ] , axis= 1 )\n",
    "\n",
    "\n"
   ]
  },
  {
   "cell_type": "code",
   "execution_count": 589,
   "metadata": {
    "ExecuteTime": {
     "end_time": "2020-01-24T18:09:55.861442Z",
     "start_time": "2020-01-24T18:09:55.850736Z"
    }
   },
   "outputs": [],
   "source": [
    "season_val_2 = pd.get_dummies(train_segment_2.season)\n",
    "\n",
    "train_segment_2 = pd.concat(  [train_segment_2,   season_val_2 ] , axis= 1 )"
   ]
  },
  {
   "cell_type": "code",
   "execution_count": 590,
   "metadata": {
    "ExecuteTime": {
     "end_time": "2020-01-24T18:09:56.614570Z",
     "start_time": "2020-01-24T18:09:56.589216Z"
    }
   },
   "outputs": [
    {
     "data": {
      "text/html": [
       "<div>\n",
       "<style scoped>\n",
       "    .dataframe tbody tr th:only-of-type {\n",
       "        vertical-align: middle;\n",
       "    }\n",
       "\n",
       "    .dataframe tbody tr th {\n",
       "        vertical-align: top;\n",
       "    }\n",
       "\n",
       "    .dataframe thead th {\n",
       "        text-align: right;\n",
       "    }\n",
       "</style>\n",
       "<table border=\"1\" class=\"dataframe\">\n",
       "  <thead>\n",
       "    <tr style=\"text-align: right;\">\n",
       "      <th></th>\n",
       "      <th>application_date</th>\n",
       "      <th>segment</th>\n",
       "      <th>ds</th>\n",
       "      <th>case_count</th>\n",
       "      <th>year</th>\n",
       "      <th>month</th>\n",
       "      <th>week</th>\n",
       "      <th>day</th>\n",
       "      <th>season</th>\n",
       "      <th>rainy</th>\n",
       "      <th>spring</th>\n",
       "      <th>summer</th>\n",
       "      <th>winter</th>\n",
       "    </tr>\n",
       "  </thead>\n",
       "  <tbody>\n",
       "    <tr>\n",
       "      <th>0</th>\n",
       "      <td>2017-04-01</td>\n",
       "      <td>1</td>\n",
       "      <td>train</td>\n",
       "      <td>299.0</td>\n",
       "      <td>2017</td>\n",
       "      <td>4</td>\n",
       "      <td>13</td>\n",
       "      <td>1</td>\n",
       "      <td>summer</td>\n",
       "      <td>0</td>\n",
       "      <td>0</td>\n",
       "      <td>1</td>\n",
       "      <td>0</td>\n",
       "    </tr>\n",
       "    <tr>\n",
       "      <th>3</th>\n",
       "      <td>2017-04-03</td>\n",
       "      <td>1</td>\n",
       "      <td>train</td>\n",
       "      <td>42.0</td>\n",
       "      <td>2017</td>\n",
       "      <td>4</td>\n",
       "      <td>14</td>\n",
       "      <td>3</td>\n",
       "      <td>summer</td>\n",
       "      <td>0</td>\n",
       "      <td>0</td>\n",
       "      <td>1</td>\n",
       "      <td>0</td>\n",
       "    </tr>\n",
       "  </tbody>\n",
       "</table>\n",
       "</div>"
      ],
      "text/plain": [
       "  application_date  segment     ds  case_count  year  month  week  day  \\\n",
       "0       2017-04-01        1  train       299.0  2017      4    13    1   \n",
       "3       2017-04-03        1  train        42.0  2017      4    14    3   \n",
       "\n",
       "   season  rainy  spring  summer  winter  \n",
       "0  summer      0       0       1       0  \n",
       "3  summer      0       0       1       0  "
      ]
     },
     "execution_count": 590,
     "metadata": {},
     "output_type": "execute_result"
    }
   ],
   "source": [
    "train_segment_1.head(2)"
   ]
  },
  {
   "cell_type": "code",
   "execution_count": 591,
   "metadata": {
    "ExecuteTime": {
     "end_time": "2020-01-24T18:09:57.437276Z",
     "start_time": "2020-01-24T18:09:57.431294Z"
    }
   },
   "outputs": [
    {
     "data": {
      "text/plain": [
       "((893, 13), (937, 13))"
      ]
     },
     "execution_count": 591,
     "metadata": {},
     "output_type": "execute_result"
    }
   ],
   "source": [
    "train_segment_1.shape , train_segment_2.shape"
   ]
  },
  {
   "cell_type": "code",
   "execution_count": 592,
   "metadata": {
    "ExecuteTime": {
     "end_time": "2020-01-24T18:09:58.228376Z",
     "start_time": "2020-01-24T18:09:58.198230Z"
    }
   },
   "outputs": [],
   "source": [
    "train_segment_min_max_1 = train_segment_1.groupby(   [\"week\" ,  \"year\"], as_index=False)[\"case_count\"].agg({ \"week_min\" : np.min , \"week_max\" : np.max })\n",
    "\n",
    "\n",
    "train_segment_min_max_2 = train_segment_2.groupby(   [\"week\" ,  \"year\"], as_index=False)[\"case_count\"].agg({ \"week_min\" : np.min , \"week_max\" : np.max })"
   ]
  },
  {
   "cell_type": "code",
   "execution_count": 593,
   "metadata": {
    "ExecuteTime": {
     "end_time": "2020-01-24T18:10:01.890084Z",
     "start_time": "2020-01-24T18:10:01.882316Z"
    }
   },
   "outputs": [
    {
     "data": {
      "text/plain": [
       "((893, 13), (937, 13))"
      ]
     },
     "execution_count": 593,
     "metadata": {},
     "output_type": "execute_result"
    }
   ],
   "source": [
    "train_segment_1.shape , train_segment_2.shape"
   ]
  },
  {
   "cell_type": "code",
   "execution_count": 594,
   "metadata": {
    "ExecuteTime": {
     "end_time": "2020-01-24T18:10:08.497448Z",
     "start_time": "2020-01-24T18:10:08.482915Z"
    }
   },
   "outputs": [
    {
     "data": {
      "text/html": [
       "<div>\n",
       "<style scoped>\n",
       "    .dataframe tbody tr th:only-of-type {\n",
       "        vertical-align: middle;\n",
       "    }\n",
       "\n",
       "    .dataframe tbody tr th {\n",
       "        vertical-align: top;\n",
       "    }\n",
       "\n",
       "    .dataframe thead th {\n",
       "        text-align: right;\n",
       "    }\n",
       "</style>\n",
       "<table border=\"1\" class=\"dataframe\">\n",
       "  <thead>\n",
       "    <tr style=\"text-align: right;\">\n",
       "      <th></th>\n",
       "      <th>week</th>\n",
       "      <th>year</th>\n",
       "      <th>week_min</th>\n",
       "      <th>week_max</th>\n",
       "    </tr>\n",
       "  </thead>\n",
       "  <tbody>\n",
       "    <tr>\n",
       "      <th>0</th>\n",
       "      <td>1</td>\n",
       "      <td>2018</td>\n",
       "      <td>45.0</td>\n",
       "      <td>8116.0</td>\n",
       "    </tr>\n",
       "    <tr>\n",
       "      <th>1</th>\n",
       "      <td>1</td>\n",
       "      <td>2019</td>\n",
       "      <td>125.0</td>\n",
       "      <td>3946.0</td>\n",
       "    </tr>\n",
       "    <tr>\n",
       "      <th>2</th>\n",
       "      <td>2</td>\n",
       "      <td>2018</td>\n",
       "      <td>81.0</td>\n",
       "      <td>2757.0</td>\n",
       "    </tr>\n",
       "    <tr>\n",
       "      <th>3</th>\n",
       "      <td>2</td>\n",
       "      <td>2019</td>\n",
       "      <td>1815.0</td>\n",
       "      <td>3377.0</td>\n",
       "    </tr>\n",
       "    <tr>\n",
       "      <th>4</th>\n",
       "      <td>3</td>\n",
       "      <td>2018</td>\n",
       "      <td>1108.0</td>\n",
       "      <td>2947.0</td>\n",
       "    </tr>\n",
       "  </tbody>\n",
       "</table>\n",
       "</div>"
      ],
      "text/plain": [
       "   week  year  week_min  week_max\n",
       "0     1  2018      45.0    8116.0\n",
       "1     1  2019     125.0    3946.0\n",
       "2     2  2018      81.0    2757.0\n",
       "3     2  2019    1815.0    3377.0\n",
       "4     3  2018    1108.0    2947.0"
      ]
     },
     "execution_count": 594,
     "metadata": {},
     "output_type": "execute_result"
    }
   ],
   "source": [
    "train_segment_min_max_1.head(5)"
   ]
  },
  {
   "cell_type": "code",
   "execution_count": 595,
   "metadata": {
    "ExecuteTime": {
     "end_time": "2020-01-24T18:10:09.293404Z",
     "start_time": "2020-01-24T18:10:09.285392Z"
    }
   },
   "outputs": [
    {
     "data": {
      "text/plain": [
       "((132, 4), (135, 4))"
      ]
     },
     "execution_count": 595,
     "metadata": {},
     "output_type": "execute_result"
    }
   ],
   "source": [
    "train_segment_min_max_1.shape , train_segment_min_max_2.shape"
   ]
  },
  {
   "cell_type": "code",
   "execution_count": 596,
   "metadata": {
    "ExecuteTime": {
     "end_time": "2020-01-24T18:10:10.040334Z",
     "start_time": "2020-01-24T18:10:10.029377Z"
    }
   },
   "outputs": [
    {
     "data": {
      "text/plain": [
       "((893, 13), (937, 13))"
      ]
     },
     "execution_count": 596,
     "metadata": {},
     "output_type": "execute_result"
    }
   ],
   "source": [
    "train_segment_1.shape , train_segment_2.shape"
   ]
  },
  {
   "cell_type": "code",
   "execution_count": 597,
   "metadata": {
    "ExecuteTime": {
     "end_time": "2020-01-24T18:10:10.891271Z",
     "start_time": "2020-01-24T18:10:10.874375Z"
    }
   },
   "outputs": [],
   "source": [
    "train_segment_1 = pd.merge(train_segment_1 , train_segment_min_max_1 , on = [\"year\" , \"week\"])"
   ]
  },
  {
   "cell_type": "code",
   "execution_count": 598,
   "metadata": {
    "ExecuteTime": {
     "end_time": "2020-01-24T18:10:11.719282Z",
     "start_time": "2020-01-24T18:10:11.699443Z"
    }
   },
   "outputs": [],
   "source": [
    "train_segment_2 = pd.merge(train_segment_2 , train_segment_min_max_2 , on = [\"year\" , \"week\"])"
   ]
  },
  {
   "cell_type": "code",
   "execution_count": null,
   "metadata": {},
   "outputs": [],
   "source": []
  },
  {
   "cell_type": "code",
   "execution_count": 599,
   "metadata": {
    "ExecuteTime": {
     "end_time": "2020-01-24T18:10:12.755924Z",
     "start_time": "2020-01-24T18:10:12.746946Z"
    }
   },
   "outputs": [
    {
     "data": {
      "text/plain": [
       "((893, 15), (937, 15))"
      ]
     },
     "execution_count": 599,
     "metadata": {},
     "output_type": "execute_result"
    }
   ],
   "source": [
    "train_segment_1.shape , train_segment_2.shape"
   ]
  },
  {
   "cell_type": "code",
   "execution_count": 600,
   "metadata": {
    "ExecuteTime": {
     "end_time": "2020-01-24T18:10:18.030645Z",
     "start_time": "2020-01-24T18:10:18.007757Z"
    }
   },
   "outputs": [
    {
     "data": {
      "text/html": [
       "<div>\n",
       "<style scoped>\n",
       "    .dataframe tbody tr th:only-of-type {\n",
       "        vertical-align: middle;\n",
       "    }\n",
       "\n",
       "    .dataframe tbody tr th {\n",
       "        vertical-align: top;\n",
       "    }\n",
       "\n",
       "    .dataframe thead th {\n",
       "        text-align: right;\n",
       "    }\n",
       "</style>\n",
       "<table border=\"1\" class=\"dataframe\">\n",
       "  <thead>\n",
       "    <tr style=\"text-align: right;\">\n",
       "      <th></th>\n",
       "      <th>application_date</th>\n",
       "      <th>segment</th>\n",
       "      <th>ds</th>\n",
       "      <th>case_count</th>\n",
       "      <th>year</th>\n",
       "      <th>month</th>\n",
       "      <th>week</th>\n",
       "      <th>day</th>\n",
       "      <th>season</th>\n",
       "      <th>rainy</th>\n",
       "      <th>spring</th>\n",
       "      <th>summer</th>\n",
       "      <th>winter</th>\n",
       "      <th>week_min</th>\n",
       "      <th>week_max</th>\n",
       "    </tr>\n",
       "  </thead>\n",
       "  <tbody>\n",
       "    <tr>\n",
       "      <th>0</th>\n",
       "      <td>2017-04-01</td>\n",
       "      <td>1</td>\n",
       "      <td>train</td>\n",
       "      <td>299.0</td>\n",
       "      <td>2017</td>\n",
       "      <td>4</td>\n",
       "      <td>13</td>\n",
       "      <td>1</td>\n",
       "      <td>summer</td>\n",
       "      <td>0</td>\n",
       "      <td>0</td>\n",
       "      <td>1</td>\n",
       "      <td>0</td>\n",
       "      <td>299.0</td>\n",
       "      <td>299.0</td>\n",
       "    </tr>\n",
       "    <tr>\n",
       "      <th>1</th>\n",
       "      <td>2017-04-03</td>\n",
       "      <td>1</td>\n",
       "      <td>train</td>\n",
       "      <td>42.0</td>\n",
       "      <td>2017</td>\n",
       "      <td>4</td>\n",
       "      <td>14</td>\n",
       "      <td>3</td>\n",
       "      <td>summer</td>\n",
       "      <td>0</td>\n",
       "      <td>0</td>\n",
       "      <td>1</td>\n",
       "      <td>0</td>\n",
       "      <td>23.0</td>\n",
       "      <td>1530.0</td>\n",
       "    </tr>\n",
       "  </tbody>\n",
       "</table>\n",
       "</div>"
      ],
      "text/plain": [
       "  application_date  segment     ds  case_count  year  month  week  day  \\\n",
       "0       2017-04-01        1  train       299.0  2017      4    13    1   \n",
       "1       2017-04-03        1  train        42.0  2017      4    14    3   \n",
       "\n",
       "   season  rainy  spring  summer  winter  week_min  week_max  \n",
       "0  summer      0       0       1       0     299.0     299.0  \n",
       "1  summer      0       0       1       0      23.0    1530.0  "
      ]
     },
     "execution_count": 600,
     "metadata": {},
     "output_type": "execute_result"
    }
   ],
   "source": [
    "train_segment_1.head(2)"
   ]
  },
  {
   "cell_type": "code",
   "execution_count": null,
   "metadata": {},
   "outputs": [],
   "source": []
  },
  {
   "cell_type": "code",
   "execution_count": 601,
   "metadata": {
    "ExecuteTime": {
     "end_time": "2020-01-24T18:10:19.495527Z",
     "start_time": "2020-01-24T18:10:19.486590Z"
    }
   },
   "outputs": [
    {
     "data": {
      "text/plain": [
       "((893, 15), (937, 15))"
      ]
     },
     "execution_count": 601,
     "metadata": {},
     "output_type": "execute_result"
    }
   ],
   "source": [
    "train_segment_1.shape , train_segment_2.shape"
   ]
  },
  {
   "cell_type": "code",
   "execution_count": 602,
   "metadata": {
    "ExecuteTime": {
     "end_time": "2020-01-24T18:10:25.827638Z",
     "start_time": "2020-01-24T18:10:25.801631Z"
    }
   },
   "outputs": [],
   "source": [
    "train_segment_min_max_1 = train_segment_1.groupby(   [\"month\" ,  \"year\"], as_index=False)[\"case_count\"].agg({ \"month_min\" : np.min , \"month_max\" : np.max })\n",
    "\n",
    "\n",
    "train_segment_min_max_2 = train_segment_2.groupby(   [\"month\" ,  \"year\"], as_index=False)[\"case_count\"].agg({ \"month_min\" : np.min , \"month_max\" : np.max })"
   ]
  },
  {
   "cell_type": "code",
   "execution_count": 603,
   "metadata": {
    "ExecuteTime": {
     "end_time": "2020-01-24T18:10:28.514854Z",
     "start_time": "2020-01-24T18:10:28.507867Z"
    }
   },
   "outputs": [
    {
     "data": {
      "text/plain": [
       "((30, 4), (31, 4))"
      ]
     },
     "execution_count": 603,
     "metadata": {},
     "output_type": "execute_result"
    }
   ],
   "source": [
    "train_segment_min_max_1.shape , train_segment_min_max_2.shape"
   ]
  },
  {
   "cell_type": "code",
   "execution_count": 604,
   "metadata": {
    "ExecuteTime": {
     "end_time": "2020-01-24T18:10:29.848752Z",
     "start_time": "2020-01-24T18:10:29.841727Z"
    }
   },
   "outputs": [
    {
     "data": {
      "text/plain": [
       "((893, 15), (937, 15))"
      ]
     },
     "execution_count": 604,
     "metadata": {},
     "output_type": "execute_result"
    }
   ],
   "source": [
    "train_segment_1.shape , train_segment_2.shape"
   ]
  },
  {
   "cell_type": "code",
   "execution_count": 605,
   "metadata": {
    "ExecuteTime": {
     "end_time": "2020-01-24T18:10:32.741994Z",
     "start_time": "2020-01-24T18:10:32.711723Z"
    }
   },
   "outputs": [],
   "source": [
    "train_segment_1 = pd.merge(train_segment_1 , train_segment_min_max_1 , on = [\"year\" , \"month\"])\n",
    "\n",
    "train_segment_2 = pd.merge(train_segment_2 , train_segment_min_max_2 , on = [\"year\" , \"month\"])"
   ]
  },
  {
   "cell_type": "code",
   "execution_count": 606,
   "metadata": {
    "ExecuteTime": {
     "end_time": "2020-01-24T18:10:35.811320Z",
     "start_time": "2020-01-24T18:10:35.801346Z"
    }
   },
   "outputs": [
    {
     "data": {
      "text/plain": [
       "((893, 17), (937, 17))"
      ]
     },
     "execution_count": 606,
     "metadata": {},
     "output_type": "execute_result"
    }
   ],
   "source": [
    "train_segment_1.shape , train_segment_2.shape"
   ]
  },
  {
   "cell_type": "code",
   "execution_count": null,
   "metadata": {},
   "outputs": [],
   "source": []
  },
  {
   "cell_type": "markdown",
   "metadata": {},
   "source": [
    "# Step2"
   ]
  },
  {
   "cell_type": "code",
   "execution_count": 607,
   "metadata": {
    "ExecuteTime": {
     "end_time": "2020-01-24T18:10:39.701721Z",
     "start_time": "2020-01-24T18:10:39.693777Z"
    }
   },
   "outputs": [
    {
     "data": {
      "text/plain": [
       "((893, 17), (937, 17))"
      ]
     },
     "execution_count": 607,
     "metadata": {},
     "output_type": "execute_result"
    }
   ],
   "source": [
    "train_segment_1.shape, train_segment_2.shape"
   ]
  },
  {
   "cell_type": "code",
   "execution_count": null,
   "metadata": {},
   "outputs": [],
   "source": []
  },
  {
   "cell_type": "code",
   "execution_count": 608,
   "metadata": {
    "ExecuteTime": {
     "end_time": "2020-01-24T18:10:43.234721Z",
     "start_time": "2020-01-24T18:10:43.225987Z"
    }
   },
   "outputs": [
    {
     "data": {
      "text/plain": [
       "Index(['application_date', 'segment', 'ds', 'case_count', 'year', 'month',\n",
       "       'week', 'day', 'season', 'rainy', 'spring', 'summer', 'winter',\n",
       "       'week_min', 'week_max', 'month_min', 'month_max'],\n",
       "      dtype='object')"
      ]
     },
     "execution_count": 608,
     "metadata": {},
     "output_type": "execute_result"
    }
   ],
   "source": [
    "train_segment_1.columns"
   ]
  },
  {
   "cell_type": "code",
   "execution_count": 609,
   "metadata": {
    "ExecuteTime": {
     "end_time": "2020-01-24T18:10:49.543703Z",
     "start_time": "2020-01-24T18:10:49.531595Z"
    }
   },
   "outputs": [],
   "source": [
    "train_segment_1.drop(\"season\", axis=1, inplace=True)"
   ]
  },
  {
   "cell_type": "code",
   "execution_count": null,
   "metadata": {},
   "outputs": [],
   "source": []
  },
  {
   "cell_type": "code",
   "execution_count": 610,
   "metadata": {
    "ExecuteTime": {
     "end_time": "2020-01-24T18:10:51.573275Z",
     "start_time": "2020-01-24T18:10:51.544856Z"
    }
   },
   "outputs": [
    {
     "data": {
      "text/html": [
       "<div>\n",
       "<style scoped>\n",
       "    .dataframe tbody tr th:only-of-type {\n",
       "        vertical-align: middle;\n",
       "    }\n",
       "\n",
       "    .dataframe tbody tr th {\n",
       "        vertical-align: top;\n",
       "    }\n",
       "\n",
       "    .dataframe thead th {\n",
       "        text-align: right;\n",
       "    }\n",
       "</style>\n",
       "<table border=\"1\" class=\"dataframe\">\n",
       "  <thead>\n",
       "    <tr style=\"text-align: right;\">\n",
       "      <th></th>\n",
       "      <th>application_date</th>\n",
       "      <th>segment</th>\n",
       "      <th>ds</th>\n",
       "      <th>case_count</th>\n",
       "      <th>year</th>\n",
       "      <th>month</th>\n",
       "      <th>week</th>\n",
       "      <th>day</th>\n",
       "      <th>rainy</th>\n",
       "      <th>spring</th>\n",
       "      <th>summer</th>\n",
       "      <th>winter</th>\n",
       "      <th>week_min</th>\n",
       "      <th>week_max</th>\n",
       "      <th>month_min</th>\n",
       "      <th>month_max</th>\n",
       "    </tr>\n",
       "  </thead>\n",
       "  <tbody>\n",
       "    <tr>\n",
       "      <th>0</th>\n",
       "      <td>2017-04-01</td>\n",
       "      <td>2</td>\n",
       "      <td>train</td>\n",
       "      <td>897.0</td>\n",
       "      <td>2017</td>\n",
       "      <td>4</td>\n",
       "      <td>13</td>\n",
       "      <td>1</td>\n",
       "      <td>0</td>\n",
       "      <td>0</td>\n",
       "      <td>1</td>\n",
       "      <td>0</td>\n",
       "      <td>605.0</td>\n",
       "      <td>897.0</td>\n",
       "      <td>605.0</td>\n",
       "      <td>12384.0</td>\n",
       "    </tr>\n",
       "    <tr>\n",
       "      <th>1</th>\n",
       "      <td>2017-04-02</td>\n",
       "      <td>2</td>\n",
       "      <td>train</td>\n",
       "      <td>605.0</td>\n",
       "      <td>2017</td>\n",
       "      <td>4</td>\n",
       "      <td>13</td>\n",
       "      <td>2</td>\n",
       "      <td>0</td>\n",
       "      <td>0</td>\n",
       "      <td>1</td>\n",
       "      <td>0</td>\n",
       "      <td>605.0</td>\n",
       "      <td>897.0</td>\n",
       "      <td>605.0</td>\n",
       "      <td>12384.0</td>\n",
       "    </tr>\n",
       "  </tbody>\n",
       "</table>\n",
       "</div>"
      ],
      "text/plain": [
       "  application_date  segment     ds  case_count  year  month  week  day  rainy  \\\n",
       "0       2017-04-01        2  train       897.0  2017      4    13    1      0   \n",
       "1       2017-04-02        2  train       605.0  2017      4    13    2      0   \n",
       "\n",
       "   spring  summer  winter  week_min  week_max  month_min  month_max  \n",
       "0       0       1       0     605.0     897.0      605.0    12384.0  \n",
       "1       0       1       0     605.0     897.0      605.0    12384.0  "
      ]
     },
     "execution_count": 610,
     "metadata": {},
     "output_type": "execute_result"
    }
   ],
   "source": [
    "train_segment_2.drop(\"season\", axis=1).head(2)"
   ]
  },
  {
   "cell_type": "code",
   "execution_count": 611,
   "metadata": {
    "ExecuteTime": {
     "end_time": "2020-01-24T18:11:01.338283Z",
     "start_time": "2020-01-24T18:11:01.329362Z"
    }
   },
   "outputs": [],
   "source": [
    "train_segment_2.drop(\"season\", axis=1, inplace=True)"
   ]
  },
  {
   "cell_type": "code",
   "execution_count": null,
   "metadata": {},
   "outputs": [],
   "source": []
  },
  {
   "cell_type": "code",
   "execution_count": 612,
   "metadata": {
    "ExecuteTime": {
     "end_time": "2020-01-24T18:11:07.006630Z",
     "start_time": "2020-01-24T18:11:06.969926Z"
    }
   },
   "outputs": [
    {
     "data": {
      "text/html": [
       "<div>\n",
       "<style scoped>\n",
       "    .dataframe tbody tr th:only-of-type {\n",
       "        vertical-align: middle;\n",
       "    }\n",
       "\n",
       "    .dataframe tbody tr th {\n",
       "        vertical-align: top;\n",
       "    }\n",
       "\n",
       "    .dataframe thead th {\n",
       "        text-align: right;\n",
       "    }\n",
       "</style>\n",
       "<table border=\"1\" class=\"dataframe\">\n",
       "  <thead>\n",
       "    <tr style=\"text-align: right;\">\n",
       "      <th></th>\n",
       "      <th>application_date</th>\n",
       "      <th>segment</th>\n",
       "      <th>ds</th>\n",
       "      <th>case_count</th>\n",
       "      <th>year</th>\n",
       "      <th>month</th>\n",
       "      <th>week</th>\n",
       "      <th>day</th>\n",
       "      <th>rainy</th>\n",
       "      <th>spring</th>\n",
       "      <th>summer</th>\n",
       "      <th>winter</th>\n",
       "      <th>week_min</th>\n",
       "      <th>week_max</th>\n",
       "      <th>month_min</th>\n",
       "      <th>month_max</th>\n",
       "    </tr>\n",
       "  </thead>\n",
       "  <tbody>\n",
       "    <tr>\n",
       "      <th>0</th>\n",
       "      <td>2017-04-01</td>\n",
       "      <td>1</td>\n",
       "      <td>train</td>\n",
       "      <td>299.0</td>\n",
       "      <td>2017</td>\n",
       "      <td>4</td>\n",
       "      <td>13</td>\n",
       "      <td>1</td>\n",
       "      <td>0</td>\n",
       "      <td>0</td>\n",
       "      <td>1</td>\n",
       "      <td>0</td>\n",
       "      <td>299.0</td>\n",
       "      <td>299.0</td>\n",
       "      <td>23.0</td>\n",
       "      <td>6472.0</td>\n",
       "    </tr>\n",
       "    <tr>\n",
       "      <th>1</th>\n",
       "      <td>2017-04-03</td>\n",
       "      <td>1</td>\n",
       "      <td>train</td>\n",
       "      <td>42.0</td>\n",
       "      <td>2017</td>\n",
       "      <td>4</td>\n",
       "      <td>14</td>\n",
       "      <td>3</td>\n",
       "      <td>0</td>\n",
       "      <td>0</td>\n",
       "      <td>1</td>\n",
       "      <td>0</td>\n",
       "      <td>23.0</td>\n",
       "      <td>1530.0</td>\n",
       "      <td>23.0</td>\n",
       "      <td>6472.0</td>\n",
       "    </tr>\n",
       "  </tbody>\n",
       "</table>\n",
       "</div>"
      ],
      "text/plain": [
       "  application_date  segment     ds  case_count  year  month  week  day  rainy  \\\n",
       "0       2017-04-01        1  train       299.0  2017      4    13    1      0   \n",
       "1       2017-04-03        1  train        42.0  2017      4    14    3      0   \n",
       "\n",
       "   spring  summer  winter  week_min  week_max  month_min  month_max  \n",
       "0       0       1       0     299.0     299.0       23.0     6472.0  \n",
       "1       0       1       0      23.0    1530.0       23.0     6472.0  "
      ]
     },
     "execution_count": 612,
     "metadata": {},
     "output_type": "execute_result"
    }
   ],
   "source": [
    "train_segment_1[ train_segment_1.ds == \"train\"  ].head(2)"
   ]
  },
  {
   "cell_type": "code",
   "execution_count": null,
   "metadata": {},
   "outputs": [],
   "source": []
  },
  {
   "cell_type": "code",
   "execution_count": 613,
   "metadata": {
    "ExecuteTime": {
     "end_time": "2020-01-24T18:11:13.694613Z",
     "start_time": "2020-01-24T18:11:13.679528Z"
    }
   },
   "outputs": [],
   "source": [
    "new_train_segment_1 = train_segment_1[ train_segment_1.ds == \"train\"  ]\n",
    "\n",
    "new_test_segment_1 = train_segment_1[ train_segment_1.ds == \"test\"  ]\n",
    "\n",
    "\n",
    "\n",
    "\n",
    "\n",
    "new_train_segment_2 = train_segment_2[ train_segment_2.ds == \"train\"  ]\n",
    "\n",
    "new_test_segment_2 = train_segment_2[ train_segment_2.ds == \"test\"  ]"
   ]
  },
  {
   "cell_type": "code",
   "execution_count": 614,
   "metadata": {
    "ExecuteTime": {
     "end_time": "2020-01-24T18:11:15.507153Z",
     "start_time": "2020-01-24T18:11:15.501136Z"
    }
   },
   "outputs": [
    {
     "data": {
      "text/plain": [
       "((87, 16), (806, 16))"
      ]
     },
     "execution_count": 614,
     "metadata": {},
     "output_type": "execute_result"
    }
   ],
   "source": [
    "new_test_segment_1.shape , new_train_segment_1.shape"
   ]
  },
  {
   "cell_type": "code",
   "execution_count": null,
   "metadata": {},
   "outputs": [],
   "source": []
  },
  {
   "cell_type": "code",
   "execution_count": 615,
   "metadata": {
    "ExecuteTime": {
     "end_time": "2020-01-24T18:11:18.895945Z",
     "start_time": "2020-01-24T18:11:18.887010Z"
    }
   },
   "outputs": [
    {
     "data": {
      "text/plain": [
       "((93, 16), (844, 16))"
      ]
     },
     "execution_count": 615,
     "metadata": {},
     "output_type": "execute_result"
    }
   ],
   "source": [
    "new_test_segment_2.shape , new_train_segment_2.shape"
   ]
  },
  {
   "cell_type": "code",
   "execution_count": null,
   "metadata": {},
   "outputs": [],
   "source": []
  },
  {
   "cell_type": "code",
   "execution_count": 616,
   "metadata": {
    "ExecuteTime": {
     "end_time": "2020-01-24T18:11:22.474870Z",
     "start_time": "2020-01-24T18:11:22.459022Z"
    }
   },
   "outputs": [],
   "source": []
  },
  {
   "cell_type": "code",
   "execution_count": 617,
   "metadata": {
    "ExecuteTime": {
     "end_time": "2020-01-24T18:11:23.388211Z",
     "start_time": "2020-01-24T18:11:23.367244Z"
    }
   },
   "outputs": [
    {
     "data": {
      "text/html": [
       "<div>\n",
       "<style scoped>\n",
       "    .dataframe tbody tr th:only-of-type {\n",
       "        vertical-align: middle;\n",
       "    }\n",
       "\n",
       "    .dataframe tbody tr th {\n",
       "        vertical-align: top;\n",
       "    }\n",
       "\n",
       "    .dataframe thead th {\n",
       "        text-align: right;\n",
       "    }\n",
       "</style>\n",
       "<table border=\"1\" class=\"dataframe\">\n",
       "  <thead>\n",
       "    <tr style=\"text-align: right;\">\n",
       "      <th></th>\n",
       "      <th>id</th>\n",
       "      <th>application_date</th>\n",
       "      <th>segment</th>\n",
       "      <th>ds</th>\n",
       "    </tr>\n",
       "  </thead>\n",
       "  <tbody>\n",
       "    <tr>\n",
       "      <th>87</th>\n",
       "      <td>88</td>\n",
       "      <td>2019-07-24</td>\n",
       "      <td>2</td>\n",
       "      <td>test</td>\n",
       "    </tr>\n",
       "    <tr>\n",
       "      <th>88</th>\n",
       "      <td>89</td>\n",
       "      <td>2019-07-25</td>\n",
       "      <td>2</td>\n",
       "      <td>test</td>\n",
       "    </tr>\n",
       "    <tr>\n",
       "      <th>89</th>\n",
       "      <td>90</td>\n",
       "      <td>2019-07-26</td>\n",
       "      <td>2</td>\n",
       "      <td>test</td>\n",
       "    </tr>\n",
       "    <tr>\n",
       "      <th>90</th>\n",
       "      <td>91</td>\n",
       "      <td>2019-07-27</td>\n",
       "      <td>2</td>\n",
       "      <td>test</td>\n",
       "    </tr>\n",
       "    <tr>\n",
       "      <th>91</th>\n",
       "      <td>92</td>\n",
       "      <td>2019-07-28</td>\n",
       "      <td>2</td>\n",
       "      <td>test</td>\n",
       "    </tr>\n",
       "    <tr>\n",
       "      <th>...</th>\n",
       "      <td>...</td>\n",
       "      <td>...</td>\n",
       "      <td>...</td>\n",
       "      <td>...</td>\n",
       "    </tr>\n",
       "    <tr>\n",
       "      <th>174</th>\n",
       "      <td>175</td>\n",
       "      <td>2019-10-19</td>\n",
       "      <td>2</td>\n",
       "      <td>test</td>\n",
       "    </tr>\n",
       "    <tr>\n",
       "      <th>175</th>\n",
       "      <td>176</td>\n",
       "      <td>2019-10-20</td>\n",
       "      <td>2</td>\n",
       "      <td>test</td>\n",
       "    </tr>\n",
       "    <tr>\n",
       "      <th>176</th>\n",
       "      <td>177</td>\n",
       "      <td>2019-10-21</td>\n",
       "      <td>2</td>\n",
       "      <td>test</td>\n",
       "    </tr>\n",
       "    <tr>\n",
       "      <th>177</th>\n",
       "      <td>178</td>\n",
       "      <td>2019-10-22</td>\n",
       "      <td>2</td>\n",
       "      <td>test</td>\n",
       "    </tr>\n",
       "    <tr>\n",
       "      <th>178</th>\n",
       "      <td>179</td>\n",
       "      <td>2019-10-23</td>\n",
       "      <td>2</td>\n",
       "      <td>test</td>\n",
       "    </tr>\n",
       "  </tbody>\n",
       "</table>\n",
       "<p>92 rows × 4 columns</p>\n",
       "</div>"
      ],
      "text/plain": [
       "      id application_date  segment    ds\n",
       "87    88       2019-07-24        2  test\n",
       "88    89       2019-07-25        2  test\n",
       "89    90       2019-07-26        2  test\n",
       "90    91       2019-07-27        2  test\n",
       "91    92       2019-07-28        2  test\n",
       "..   ...              ...      ...   ...\n",
       "174  175       2019-10-19        2  test\n",
       "175  176       2019-10-20        2  test\n",
       "176  177       2019-10-21        2  test\n",
       "177  178       2019-10-22        2  test\n",
       "178  179       2019-10-23        2  test\n",
       "\n",
       "[92 rows x 4 columns]"
      ]
     },
     "execution_count": 617,
     "metadata": {},
     "output_type": "execute_result"
    }
   ],
   "source": [
    "test[87:179]"
   ]
  },
  {
   "cell_type": "code",
   "execution_count": 618,
   "metadata": {
    "ExecuteTime": {
     "end_time": "2020-01-24T18:11:26.223577Z",
     "start_time": "2020-01-24T18:11:26.214602Z"
    }
   },
   "outputs": [
    {
     "data": {
      "text/plain": [
       "((93, 2), (87, 2))"
      ]
     },
     "execution_count": 618,
     "metadata": {},
     "output_type": "execute_result"
    }
   ],
   "source": [
    "submission_segment_2.shape, submission_segment_1.shape"
   ]
  },
  {
   "cell_type": "code",
   "execution_count": null,
   "metadata": {},
   "outputs": [],
   "source": []
  },
  {
   "cell_type": "markdown",
   "metadata": {},
   "source": [
    "# Step3"
   ]
  },
  {
   "cell_type": "code",
   "execution_count": 619,
   "metadata": {
    "ExecuteTime": {
     "end_time": "2020-01-24T18:11:33.602386Z",
     "start_time": "2020-01-24T18:11:33.595118Z"
    }
   },
   "outputs": [
    {
     "data": {
      "text/plain": [
       "(893, 16)"
      ]
     },
     "execution_count": 619,
     "metadata": {},
     "output_type": "execute_result"
    }
   ],
   "source": [
    "train_segment_1.shape"
   ]
  },
  {
   "cell_type": "code",
   "execution_count": 620,
   "metadata": {
    "ExecuteTime": {
     "end_time": "2020-01-24T18:11:34.473382Z",
     "start_time": "2020-01-24T18:11:34.464406Z"
    },
    "scrolled": true
   },
   "outputs": [
    {
     "data": {
      "text/plain": [
       "Index(['application_date', 'segment', 'ds', 'case_count', 'year', 'month',\n",
       "       'week', 'day', 'rainy', 'spring', 'summer', 'winter', 'week_min',\n",
       "       'week_max', 'month_min', 'month_max'],\n",
       "      dtype='object')"
      ]
     },
     "execution_count": 620,
     "metadata": {},
     "output_type": "execute_result"
    }
   ],
   "source": [
    "train_segment_1.columns"
   ]
  },
  {
   "cell_type": "code",
   "execution_count": null,
   "metadata": {},
   "outputs": [],
   "source": [
    "[ 'segment', 'year', 'month','week', 'day', 'rainy', 'spring', 'summer', 'winter', 'week_min','week_max', 'month_min', 'month_max']"
   ]
  },
  {
   "cell_type": "code",
   "execution_count": null,
   "metadata": {},
   "outputs": [],
   "source": []
  },
  {
   "cell_type": "code",
   "execution_count": 545,
   "metadata": {
    "ExecuteTime": {
     "end_time": "2020-01-24T18:02:47.736218Z",
     "start_time": "2020-01-24T18:02:47.720210Z"
    }
   },
   "outputs": [
    {
     "data": {
      "text/html": [
       "<div>\n",
       "<style scoped>\n",
       "    .dataframe tbody tr th:only-of-type {\n",
       "        vertical-align: middle;\n",
       "    }\n",
       "\n",
       "    .dataframe tbody tr th {\n",
       "        vertical-align: top;\n",
       "    }\n",
       "\n",
       "    .dataframe thead th {\n",
       "        text-align: right;\n",
       "    }\n",
       "</style>\n",
       "<table border=\"1\" class=\"dataframe\">\n",
       "  <thead>\n",
       "    <tr style=\"text-align: right;\">\n",
       "      <th></th>\n",
       "      <th>application_date</th>\n",
       "      <th>segment</th>\n",
       "      <th>ds</th>\n",
       "      <th>case_count</th>\n",
       "      <th>year</th>\n",
       "      <th>month</th>\n",
       "      <th>week</th>\n",
       "      <th>day</th>\n",
       "      <th>rainy</th>\n",
       "      <th>spring</th>\n",
       "      <th>summer</th>\n",
       "      <th>winter</th>\n",
       "      <th>week_min</th>\n",
       "      <th>week_max</th>\n",
       "    </tr>\n",
       "  </thead>\n",
       "  <tbody>\n",
       "    <tr>\n",
       "      <th>0</th>\n",
       "      <td>2017-04-01</td>\n",
       "      <td>1</td>\n",
       "      <td>train</td>\n",
       "      <td>299.0</td>\n",
       "      <td>2017</td>\n",
       "      <td>4</td>\n",
       "      <td>13</td>\n",
       "      <td>1</td>\n",
       "      <td>0</td>\n",
       "      <td>0</td>\n",
       "      <td>1</td>\n",
       "      <td>0</td>\n",
       "      <td>299.0</td>\n",
       "      <td>299.0</td>\n",
       "    </tr>\n",
       "    <tr>\n",
       "      <th>1</th>\n",
       "      <td>2017-04-03</td>\n",
       "      <td>1</td>\n",
       "      <td>train</td>\n",
       "      <td>42.0</td>\n",
       "      <td>2017</td>\n",
       "      <td>4</td>\n",
       "      <td>14</td>\n",
       "      <td>3</td>\n",
       "      <td>0</td>\n",
       "      <td>0</td>\n",
       "      <td>1</td>\n",
       "      <td>0</td>\n",
       "      <td>23.0</td>\n",
       "      <td>1530.0</td>\n",
       "    </tr>\n",
       "  </tbody>\n",
       "</table>\n",
       "</div>"
      ],
      "text/plain": [
       "  application_date  segment     ds  case_count  year  month  week  day  rainy  \\\n",
       "0       2017-04-01        1  train       299.0  2017      4    13    1      0   \n",
       "1       2017-04-03        1  train        42.0  2017      4    14    3      0   \n",
       "\n",
       "   spring  summer  winter  week_min  week_max  \n",
       "0       0       1       0     299.0     299.0  \n",
       "1       0       1       0      23.0    1530.0  "
      ]
     },
     "execution_count": 545,
     "metadata": {},
     "output_type": "execute_result"
    }
   ],
   "source": [
    "train_segment_1.head(2)"
   ]
  },
  {
   "cell_type": "code",
   "execution_count": 623,
   "metadata": {
    "ExecuteTime": {
     "end_time": "2020-01-24T19:39:52.351989Z",
     "start_time": "2020-01-24T19:39:52.345968Z"
    }
   },
   "outputs": [],
   "source": [
    "feature1 = [ 'segment', 'year', 'month','week', 'day', 'rainy', 'spring', 'summer', 'winter', 'week_min','week_max', 'month_min', 'month_max'] \n"
   ]
  },
  {
   "cell_type": "code",
   "execution_count": 624,
   "metadata": {
    "ExecuteTime": {
     "end_time": "2020-01-24T19:39:53.249700Z",
     "start_time": "2020-01-24T19:39:53.240688Z"
    }
   },
   "outputs": [],
   "source": [
    "x1 = train_segment_1.loc[: , feature1]\n",
    "y1 = train_segment_1.loc[:, \"case_count\"]\n",
    "\n",
    "\n",
    "x2 =  train_segment_2.loc[: , feature1]\n",
    "y2 =  train_segment_2.loc[:, \"case_count\"]\n"
   ]
  },
  {
   "cell_type": "code",
   "execution_count": 636,
   "metadata": {
    "ExecuteTime": {
     "end_time": "2020-01-25T05:59:03.785907Z",
     "start_time": "2020-01-25T05:59:03.762980Z"
    }
   },
   "outputs": [
    {
     "data": {
      "text/html": [
       "<div>\n",
       "<style scoped>\n",
       "    .dataframe tbody tr th:only-of-type {\n",
       "        vertical-align: middle;\n",
       "    }\n",
       "\n",
       "    .dataframe tbody tr th {\n",
       "        vertical-align: top;\n",
       "    }\n",
       "\n",
       "    .dataframe thead th {\n",
       "        text-align: right;\n",
       "    }\n",
       "</style>\n",
       "<table border=\"1\" class=\"dataframe\">\n",
       "  <thead>\n",
       "    <tr style=\"text-align: right;\">\n",
       "      <th></th>\n",
       "      <th>segment</th>\n",
       "      <th>year</th>\n",
       "      <th>month</th>\n",
       "      <th>week</th>\n",
       "      <th>day</th>\n",
       "      <th>rainy</th>\n",
       "      <th>spring</th>\n",
       "      <th>summer</th>\n",
       "      <th>winter</th>\n",
       "      <th>week_min</th>\n",
       "      <th>week_max</th>\n",
       "      <th>month_min</th>\n",
       "      <th>month_max</th>\n",
       "    </tr>\n",
       "  </thead>\n",
       "  <tbody>\n",
       "    <tr>\n",
       "      <th>0</th>\n",
       "      <td>2</td>\n",
       "      <td>2017</td>\n",
       "      <td>4</td>\n",
       "      <td>13</td>\n",
       "      <td>1</td>\n",
       "      <td>0</td>\n",
       "      <td>0</td>\n",
       "      <td>1</td>\n",
       "      <td>0</td>\n",
       "      <td>605.0</td>\n",
       "      <td>897.0</td>\n",
       "      <td>605.0</td>\n",
       "      <td>12384.0</td>\n",
       "    </tr>\n",
       "  </tbody>\n",
       "</table>\n",
       "</div>"
      ],
      "text/plain": [
       "   segment  year  month  week  day  rainy  spring  summer  winter  week_min  \\\n",
       "0        2  2017      4    13    1      0       0       1       0     605.0   \n",
       "\n",
       "   week_max  month_min  month_max  \n",
       "0     897.0      605.0    12384.0  "
      ]
     },
     "execution_count": 636,
     "metadata": {},
     "output_type": "execute_result"
    }
   ],
   "source": [
    "x2.head(1)"
   ]
  },
  {
   "cell_type": "code",
   "execution_count": 637,
   "metadata": {
    "ExecuteTime": {
     "end_time": "2020-01-25T05:59:13.430520Z",
     "start_time": "2020-01-25T05:59:13.420441Z"
    }
   },
   "outputs": [
    {
     "data": {
      "text/plain": [
       "0    897.0\n",
       "Name: case_count, dtype: float64"
      ]
     },
     "execution_count": 637,
     "metadata": {},
     "output_type": "execute_result"
    }
   ],
   "source": [
    "y2.head(1)"
   ]
  },
  {
   "cell_type": "code",
   "execution_count": 625,
   "metadata": {
    "ExecuteTime": {
     "end_time": "2020-01-24T19:40:25.631976Z",
     "start_time": "2020-01-24T19:40:25.621316Z"
    }
   },
   "outputs": [
    {
     "data": {
      "text/plain": [
       "((893, 13), (937, 13), (893,), (937,))"
      ]
     },
     "execution_count": 625,
     "metadata": {},
     "output_type": "execute_result"
    }
   ],
   "source": [
    "x1.shape , x2.shape , y1.shape, y2.shape"
   ]
  },
  {
   "cell_type": "code",
   "execution_count": 628,
   "metadata": {
    "ExecuteTime": {
     "end_time": "2020-01-25T05:52:08.151807Z",
     "start_time": "2020-01-25T05:52:08.121892Z"
    }
   },
   "outputs": [],
   "source": [
    "x_train1, x_test1 , y_train1 , y_test1 = train_test_split(x1, y1, random_state = 20, test_size = .25)\n",
    "\n",
    "x_train2, x_test2 , y_train2 , y_test2 = train_test_split(x2, y2, random_state = 20, test_size = .25)"
   ]
  },
  {
   "cell_type": "code",
   "execution_count": 632,
   "metadata": {
    "ExecuteTime": {
     "end_time": "2020-01-25T05:56:07.042300Z",
     "start_time": "2020-01-25T05:56:07.033361Z"
    }
   },
   "outputs": [
    {
     "data": {
      "text/plain": [
       "((669, 13), (224, 13), (669,), (224,))"
      ]
     },
     "execution_count": 632,
     "metadata": {},
     "output_type": "execute_result"
    }
   ],
   "source": [
    "x_train1.shape , x_test1.shape , y_train1.shape, y_test1.shape"
   ]
  },
  {
   "cell_type": "code",
   "execution_count": 633,
   "metadata": {
    "ExecuteTime": {
     "end_time": "2020-01-25T05:56:25.784521Z",
     "start_time": "2020-01-25T05:56:25.776565Z"
    }
   },
   "outputs": [
    {
     "data": {
      "text/plain": [
       "((702, 13), (235, 13), (702,), (235,))"
      ]
     },
     "execution_count": 633,
     "metadata": {},
     "output_type": "execute_result"
    }
   ],
   "source": [
    "x_train2.shape , x_test2.shape , y_train2.shape, y_test2.shape"
   ]
  },
  {
   "cell_type": "code",
   "execution_count": 643,
   "metadata": {
    "ExecuteTime": {
     "end_time": "2020-01-25T06:08:23.892052Z",
     "start_time": "2020-01-25T06:08:23.811321Z"
    }
   },
   "outputs": [
    {
     "name": "stdout",
     "output_type": "stream",
     "text": [
      "\n",
      " mae_1            :  634.1843749999999\n",
      "\n",
      " mpae_1           :  634.1843749999999\n",
      "\n",
      " mse_1            :  1098203.6211160715\n",
      "\n",
      " rmse_1           :  1047.9521082168171\n",
      "\n",
      " accuracy_1       :  0.7829592745892614\n"
     ]
    }
   ],
   "source": [
    "rf1 = RandomForestRegressor()\n",
    "rf1.fit(x_train1, y_train1)\n",
    "pred_y_1 = rf1.predict(x_test1)\n",
    "\n",
    "\n",
    "mae_1 = mean_absolute_error(y_test1 , pred_y_1)\n",
    "mpae_1 = mean_absolute_percentage_error(y_test1 , pred_y_1)\n",
    "mse_1 = mean_squared_error(y_test1 , pred_y_1)\n",
    "rmse_1 = root_mean_sequare_error(y_test1 , pred_y_1)\n",
    "accuracy_1 = r2_score(y_test1 , pred_y_1)\n",
    "\n",
    "\n",
    "\n",
    "print(\"\\n mae_1            : \", mae_1)\n",
    "print(\"\\n mpae_1           : \", mpae_1)\n",
    "print(\"\\n mse_1            : \", mse_1)\n",
    "print(\"\\n rmse_1           : \", rmse_1)\n",
    "print(\"\\n accuracy_1       : \", accuracy_1)"
   ]
  },
  {
   "cell_type": "code",
   "execution_count": null,
   "metadata": {},
   "outputs": [],
   "source": []
  },
  {
   "cell_type": "code",
   "execution_count": 644,
   "metadata": {
    "ExecuteTime": {
     "end_time": "2020-01-25T06:10:39.366809Z",
     "start_time": "2020-01-25T06:10:39.300926Z"
    }
   },
   "outputs": [
    {
     "name": "stdout",
     "output_type": "stream",
     "text": [
      "\n",
      " mae_2            :  2432.8051063829785\n",
      "\n",
      " mpae_2           :  634.1843749999999\n",
      "\n",
      " mse_2            :  14605607.12774468\n",
      "\n",
      " rmse_2           :  3821.7282906748724\n",
      "\n",
      " accuracy_2       :  0.8770284262064166\n"
     ]
    }
   ],
   "source": [
    "rf2 = RandomForestRegressor()\n",
    "rf2.fit(x_train2, y_train2)\n",
    "pred_y_2 = rf2.predict(x_test2)\n",
    "\n",
    "\n",
    "mae_2 = mean_absolute_error(y_test2 , pred_y_2)\n",
    "mpae_2 = mean_absolute_percentage_error(y_test1 , pred_y_1)\n",
    "mse_2 = mean_squared_error(y_test2 , pred_y_2)\n",
    "rmse_2 = root_mean_sequare_error(y_test2 , pred_y_2)\n",
    "accuracy_2 = r2_score(y_test2 , pred_y_2)\n",
    "\n",
    "\n",
    "\n",
    "print(\"\\n mae_2            : \", mae_2)\n",
    "print(\"\\n mpae_2           : \", mpae_2)\n",
    "print(\"\\n mse_2            : \", mse_2)\n",
    "print(\"\\n rmse_2           : \", rmse_2)\n",
    "print(\"\\n accuracy_2       : \", accuracy_2)"
   ]
  },
  {
   "cell_type": "code",
   "execution_count": null,
   "metadata": {},
   "outputs": [],
   "source": []
  },
  {
   "cell_type": "markdown",
   "metadata": {},
   "source": [
    "# Step 4"
   ]
  },
  {
   "cell_type": "code",
   "execution_count": 655,
   "metadata": {
    "ExecuteTime": {
     "end_time": "2020-01-25T06:16:29.760643Z",
     "start_time": "2020-01-25T06:16:29.745890Z"
    }
   },
   "outputs": [],
   "source": [
    "submission_segment_1 = pd.DataFrame()\n",
    "\n",
    "submission_segment_1[\"id\"] = test[0:87][\"id\"]\n",
    "\n",
    "submission_segment_1[\"application_date\"] = test[0:87][\"application_date\"]\n",
    "\n",
    "\n",
    "\n",
    "submission_segment_2 = pd.DataFrame()\n",
    "\n",
    "submission_segment_2[\"id\"] = test[87:180][\"id\"]\n",
    "\n",
    "submission_segment_2[\"application_date\"] = test[87:180][\"application_date\"]\n"
   ]
  },
  {
   "cell_type": "code",
   "execution_count": 656,
   "metadata": {
    "ExecuteTime": {
     "end_time": "2020-01-25T06:16:31.860819Z",
     "start_time": "2020-01-25T06:16:31.838334Z"
    }
   },
   "outputs": [
    {
     "data": {
      "text/html": [
       "<div>\n",
       "<style scoped>\n",
       "    .dataframe tbody tr th:only-of-type {\n",
       "        vertical-align: middle;\n",
       "    }\n",
       "\n",
       "    .dataframe tbody tr th {\n",
       "        vertical-align: top;\n",
       "    }\n",
       "\n",
       "    .dataframe thead th {\n",
       "        text-align: right;\n",
       "    }\n",
       "</style>\n",
       "<table border=\"1\" class=\"dataframe\">\n",
       "  <thead>\n",
       "    <tr style=\"text-align: right;\">\n",
       "      <th></th>\n",
       "      <th>id</th>\n",
       "      <th>application_date</th>\n",
       "      <th>segment</th>\n",
       "      <th>ds</th>\n",
       "    </tr>\n",
       "  </thead>\n",
       "  <tbody>\n",
       "    <tr>\n",
       "      <th>87</th>\n",
       "      <td>88</td>\n",
       "      <td>2019-07-24</td>\n",
       "      <td>2</td>\n",
       "      <td>test</td>\n",
       "    </tr>\n",
       "    <tr>\n",
       "      <th>88</th>\n",
       "      <td>89</td>\n",
       "      <td>2019-07-25</td>\n",
       "      <td>2</td>\n",
       "      <td>test</td>\n",
       "    </tr>\n",
       "    <tr>\n",
       "      <th>89</th>\n",
       "      <td>90</td>\n",
       "      <td>2019-07-26</td>\n",
       "      <td>2</td>\n",
       "      <td>test</td>\n",
       "    </tr>\n",
       "    <tr>\n",
       "      <th>90</th>\n",
       "      <td>91</td>\n",
       "      <td>2019-07-27</td>\n",
       "      <td>2</td>\n",
       "      <td>test</td>\n",
       "    </tr>\n",
       "    <tr>\n",
       "      <th>91</th>\n",
       "      <td>92</td>\n",
       "      <td>2019-07-28</td>\n",
       "      <td>2</td>\n",
       "      <td>test</td>\n",
       "    </tr>\n",
       "    <tr>\n",
       "      <th>...</th>\n",
       "      <td>...</td>\n",
       "      <td>...</td>\n",
       "      <td>...</td>\n",
       "      <td>...</td>\n",
       "    </tr>\n",
       "    <tr>\n",
       "      <th>175</th>\n",
       "      <td>176</td>\n",
       "      <td>2019-10-20</td>\n",
       "      <td>2</td>\n",
       "      <td>test</td>\n",
       "    </tr>\n",
       "    <tr>\n",
       "      <th>176</th>\n",
       "      <td>177</td>\n",
       "      <td>2019-10-21</td>\n",
       "      <td>2</td>\n",
       "      <td>test</td>\n",
       "    </tr>\n",
       "    <tr>\n",
       "      <th>177</th>\n",
       "      <td>178</td>\n",
       "      <td>2019-10-22</td>\n",
       "      <td>2</td>\n",
       "      <td>test</td>\n",
       "    </tr>\n",
       "    <tr>\n",
       "      <th>178</th>\n",
       "      <td>179</td>\n",
       "      <td>2019-10-23</td>\n",
       "      <td>2</td>\n",
       "      <td>test</td>\n",
       "    </tr>\n",
       "    <tr>\n",
       "      <th>179</th>\n",
       "      <td>180</td>\n",
       "      <td>2019-10-24</td>\n",
       "      <td>2</td>\n",
       "      <td>test</td>\n",
       "    </tr>\n",
       "  </tbody>\n",
       "</table>\n",
       "<p>93 rows × 4 columns</p>\n",
       "</div>"
      ],
      "text/plain": [
       "      id application_date  segment    ds\n",
       "87    88       2019-07-24        2  test\n",
       "88    89       2019-07-25        2  test\n",
       "89    90       2019-07-26        2  test\n",
       "90    91       2019-07-27        2  test\n",
       "91    92       2019-07-28        2  test\n",
       "..   ...              ...      ...   ...\n",
       "175  176       2019-10-20        2  test\n",
       "176  177       2019-10-21        2  test\n",
       "177  178       2019-10-22        2  test\n",
       "178  179       2019-10-23        2  test\n",
       "179  180       2019-10-24        2  test\n",
       "\n",
       "[93 rows x 4 columns]"
      ]
     },
     "execution_count": 656,
     "metadata": {},
     "output_type": "execute_result"
    }
   ],
   "source": [
    "test[87: 180 ]"
   ]
  },
  {
   "cell_type": "code",
   "execution_count": 657,
   "metadata": {
    "ExecuteTime": {
     "end_time": "2020-01-25T06:16:33.304248Z",
     "start_time": "2020-01-25T06:16:33.295654Z"
    }
   },
   "outputs": [
    {
     "data": {
      "text/plain": [
       "Index(['id', 'application_date', 'segment', 'case_count'], dtype='object')"
      ]
     },
     "execution_count": 657,
     "metadata": {},
     "output_type": "execute_result"
    }
   ],
   "source": [
    "smaple_submission.columns"
   ]
  },
  {
   "cell_type": "code",
   "execution_count": 659,
   "metadata": {
    "ExecuteTime": {
     "end_time": "2020-01-25T06:16:50.709346Z",
     "start_time": "2020-01-25T06:16:50.702396Z"
    }
   },
   "outputs": [
    {
     "data": {
      "text/plain": [
       "224"
      ]
     },
     "execution_count": 659,
     "metadata": {},
     "output_type": "execute_result"
    }
   ],
   "source": [
    "pred_y_1.size"
   ]
  },
  {
   "cell_type": "code",
   "execution_count": 662,
   "metadata": {
    "ExecuteTime": {
     "end_time": "2020-01-25T06:34:11.704202Z",
     "start_time": "2020-01-25T06:34:11.698217Z"
    }
   },
   "outputs": [],
   "source": [
    "# submission_segment_1[\"case_count\"] = pred_y_1\n",
    "\n",
    "# submission_segment_2[\"case_count\"] = pred_y_2"
   ]
  },
  {
   "cell_type": "code",
   "execution_count": null,
   "metadata": {},
   "outputs": [],
   "source": []
  },
  {
   "cell_type": "markdown",
   "metadata": {},
   "source": [
    "# Submit"
   ]
  },
  {
   "cell_type": "code",
   "execution_count": 684,
   "metadata": {
    "ExecuteTime": {
     "end_time": "2020-01-25T06:56:32.965065Z",
     "start_time": "2020-01-25T06:56:32.958123Z"
    }
   },
   "outputs": [],
   "source": [
    "xgbRegressor_1 = XGBRegressor(base_score=0.5, colsample_bylevel=1, colsample_bytree=0.4,\n",
    "       gamma=0, learning_rate=0.07, max_delta_step=0, max_depth=3,\n",
    "       min_child_weight=1.5, missing=None, n_estimators=10000, nthread=-1,\n",
    "       objective='reg:linear', reg_alpha=0.75, reg_lambda=0.45,\n",
    "       scale_pos_weight=1, seed=42, silent=True, subsample=0.6)\n",
    "\n",
    "xgbRegressor_2 = XGBRegressor(base_score=0.5, colsample_bylevel=1, colsample_bytree=0.4,\n",
    "       gamma=0, learning_rate=0.07, max_delta_step=0, max_depth=3,\n",
    "       min_child_weight=1.5, missing=None, n_estimators=10000, nthread=-1,\n",
    "       objective='reg:linear', reg_alpha=0.75, reg_lambda=0.45,\n",
    "       scale_pos_weight=1, seed=42, silent=True, subsample=0.6)"
   ]
  },
  {
   "cell_type": "code",
   "execution_count": null,
   "metadata": {},
   "outputs": [],
   "source": []
  },
  {
   "cell_type": "code",
   "execution_count": 713,
   "metadata": {
    "ExecuteTime": {
     "end_time": "2020-01-25T07:13:27.893163Z",
     "start_time": "2020-01-25T07:13:27.887780Z"
    }
   },
   "outputs": [],
   "source": [
    "lgbm_1 = lightgbm.LGBMRegressor(boosting_type='gbdt', objective='regression', num_leaves=1200,\n",
    "                                learning_rate=0.17, num_boost_round=5000,\n",
    "                                metric='rmse', bagging_fraction=0.8, feature_fraction=0.8, reg_lambda=0.9)"
   ]
  },
  {
   "cell_type": "code",
   "execution_count": null,
   "metadata": {},
   "outputs": [],
   "source": []
  },
  {
   "cell_type": "code",
   "execution_count": null,
   "metadata": {},
   "outputs": [],
   "source": []
  },
  {
   "cell_type": "code",
   "execution_count": null,
   "metadata": {},
   "outputs": [],
   "source": []
  },
  {
   "cell_type": "code",
   "execution_count": 697,
   "metadata": {
    "ExecuteTime": {
     "end_time": "2020-01-25T07:05:31.392919Z",
     "start_time": "2020-01-25T07:05:31.374989Z"
    }
   },
   "outputs": [],
   "source": [
    "new_train_segment_1 = train_segment_1[ train_segment_1.ds == \"train\"  ]\n",
    "\n",
    "new_test_segment_1 = train_segment_1[ train_segment_1.ds == \"test\"  ]\n",
    "\n",
    "\n",
    "\n",
    "\n",
    "\n",
    "new_train_segment_2 = train_segment_2[ train_segment_2.ds == \"train\"  ]\n",
    "\n",
    "new_test_segment_2 = train_segment_2[ train_segment_2.ds == \"test\"  ]"
   ]
  },
  {
   "cell_type": "code",
   "execution_count": 699,
   "metadata": {
    "ExecuteTime": {
     "end_time": "2020-01-25T07:06:02.084657Z",
     "start_time": "2020-01-25T07:06:02.077781Z"
    }
   },
   "outputs": [
    {
     "data": {
      "text/plain": [
       "(87, 16)"
      ]
     },
     "execution_count": 699,
     "metadata": {},
     "output_type": "execute_result"
    }
   ],
   "source": [
    "new_test_segment_1.shape"
   ]
  },
  {
   "cell_type": "code",
   "execution_count": 698,
   "metadata": {
    "ExecuteTime": {
     "end_time": "2020-01-25T07:05:44.451846Z",
     "start_time": "2020-01-25T07:05:44.434740Z"
    }
   },
   "outputs": [
    {
     "data": {
      "text/html": [
       "<div>\n",
       "<style scoped>\n",
       "    .dataframe tbody tr th:only-of-type {\n",
       "        vertical-align: middle;\n",
       "    }\n",
       "\n",
       "    .dataframe tbody tr th {\n",
       "        vertical-align: top;\n",
       "    }\n",
       "\n",
       "    .dataframe thead th {\n",
       "        text-align: right;\n",
       "    }\n",
       "</style>\n",
       "<table border=\"1\" class=\"dataframe\">\n",
       "  <thead>\n",
       "    <tr style=\"text-align: right;\">\n",
       "      <th></th>\n",
       "      <th>application_date</th>\n",
       "      <th>segment</th>\n",
       "      <th>ds</th>\n",
       "      <th>case_count</th>\n",
       "      <th>year</th>\n",
       "      <th>month</th>\n",
       "      <th>week</th>\n",
       "      <th>day</th>\n",
       "      <th>rainy</th>\n",
       "      <th>spring</th>\n",
       "      <th>summer</th>\n",
       "      <th>winter</th>\n",
       "      <th>week_min</th>\n",
       "      <th>week_max</th>\n",
       "      <th>month_min</th>\n",
       "      <th>month_max</th>\n",
       "    </tr>\n",
       "  </thead>\n",
       "  <tbody>\n",
       "    <tr>\n",
       "      <th>806</th>\n",
       "      <td>2019-07-06</td>\n",
       "      <td>1</td>\n",
       "      <td>test</td>\n",
       "      <td>0.0</td>\n",
       "      <td>2019</td>\n",
       "      <td>7</td>\n",
       "      <td>27</td>\n",
       "      <td>6</td>\n",
       "      <td>1</td>\n",
       "      <td>0</td>\n",
       "      <td>0</td>\n",
       "      <td>0</td>\n",
       "      <td>0.0</td>\n",
       "      <td>4240.0</td>\n",
       "      <td>0.0</td>\n",
       "      <td>4240.0</td>\n",
       "    </tr>\n",
       "  </tbody>\n",
       "</table>\n",
       "</div>"
      ],
      "text/plain": [
       "    application_date  segment    ds  case_count  year  month  week  day  \\\n",
       "806       2019-07-06        1  test         0.0  2019      7    27    6   \n",
       "\n",
       "     rainy  spring  summer  winter  week_min  week_max  month_min  month_max  \n",
       "806      1       0       0       0       0.0    4240.0        0.0     4240.0  "
      ]
     },
     "execution_count": 698,
     "metadata": {},
     "output_type": "execute_result"
    }
   ],
   "source": [
    "new_test_segment_1.head(1)"
   ]
  },
  {
   "cell_type": "code",
   "execution_count": null,
   "metadata": {},
   "outputs": [],
   "source": []
  },
  {
   "cell_type": "code",
   "execution_count": 682,
   "metadata": {
    "ExecuteTime": {
     "end_time": "2020-01-25T06:53:21.730264Z",
     "start_time": "2020-01-25T06:53:21.724280Z"
    }
   },
   "outputs": [
    {
     "data": {
      "text/plain": [
       "((87, 4), (93, 4))"
      ]
     },
     "execution_count": 682,
     "metadata": {},
     "output_type": "execute_result"
    }
   ],
   "source": [
    "test_segment_final_1.shape , test_segment_final_2.shape"
   ]
  },
  {
   "cell_type": "code",
   "execution_count": 667,
   "metadata": {
    "ExecuteTime": {
     "end_time": "2020-01-25T06:40:12.984230Z",
     "start_time": "2020-01-25T06:39:37.364227Z"
    }
   },
   "outputs": [
    {
     "name": "stdout",
     "output_type": "stream",
     "text": [
      "      Model_name  Random_state  Accuracy    MAPE     MAE         MSE     RMSE \n",
      "0   XGBRegressor             0      72.0   625.09  625.09   901940.97   949.71\n",
      "1   XGBRegressor             1      45.0   882.75  882.75  2613684.16  1616.69\n",
      "2   XGBRegressor             2      70.0   821.07  821.07  1961351.70  1400.48\n",
      "3   XGBRegressor             3      77.0   723.66  723.66  1259322.76  1122.20\n",
      "4   XGBRegressor             4      51.0   676.55  676.55  1482148.88  1217.44\n",
      "5   XGBRegressor             5      37.0   797.44  797.44  1941529.82  1393.39\n",
      "6   XGBRegressor             6      55.0   830.19  830.19  1970419.11  1403.72\n",
      "7   XGBRegressor             7      60.0   856.21  856.21  2332650.67  1527.30\n",
      "8   XGBRegressor             8      16.0   856.67  856.67  2334865.10  1528.03\n",
      "9   XGBRegressor             9      45.0   712.34  712.34  1560242.02  1249.10\n",
      "10  XGBRegressor            10      61.0   778.16  778.16  1607921.16  1268.04\n"
     ]
    }
   ],
   "source": [
    "addRandxomStateForAlgorithm(x1, y1,names_regression_xgb ,algorithms_xgb,columns_name_2,random_state_list_up_to_10)"
   ]
  },
  {
   "cell_type": "markdown",
   "metadata": {},
   "source": [
    "## fianl Segment 1"
   ]
  },
  {
   "cell_type": "code",
   "execution_count": 683,
   "metadata": {
    "ExecuteTime": {
     "end_time": "2020-01-25T06:55:46.508497Z",
     "start_time": "2020-01-25T06:55:46.500549Z"
    }
   },
   "outputs": [],
   "source": [
    "submission_segment_1 = pd.DataFrame()\n",
    "\n",
    "submission_segment_1[\"id\"] = test[0:87][\"id\"]\n",
    "\n",
    "submission_segment_1[\"application_date\"] = test[0:87][\"application_date\"]"
   ]
  },
  {
   "cell_type": "code",
   "execution_count": 667,
   "metadata": {
    "ExecuteTime": {
     "end_time": "2020-01-25T06:40:12.984230Z",
     "start_time": "2020-01-25T06:39:37.364227Z"
    }
   },
   "outputs": [
    {
     "name": "stdout",
     "output_type": "stream",
     "text": [
      "      Model_name  Random_state  Accuracy    MAPE     MAE         MSE     RMSE \n",
      "0   XGBRegressor             0      72.0   625.09  625.09   901940.97   949.71\n",
      "1   XGBRegressor             1      45.0   882.75  882.75  2613684.16  1616.69\n",
      "2   XGBRegressor             2      70.0   821.07  821.07  1961351.70  1400.48\n",
      "3   XGBRegressor             3      77.0   723.66  723.66  1259322.76  1122.20\n",
      "4   XGBRegressor             4      51.0   676.55  676.55  1482148.88  1217.44\n",
      "5   XGBRegressor             5      37.0   797.44  797.44  1941529.82  1393.39\n",
      "6   XGBRegressor             6      55.0   830.19  830.19  1970419.11  1403.72\n",
      "7   XGBRegressor             7      60.0   856.21  856.21  2332650.67  1527.30\n",
      "8   XGBRegressor             8      16.0   856.67  856.67  2334865.10  1528.03\n",
      "9   XGBRegressor             9      45.0   712.34  712.34  1560242.02  1249.10\n",
      "10  XGBRegressor            10      61.0   778.16  778.16  1607921.16  1268.04\n"
     ]
    }
   ],
   "source": [
    "addRandxomStateForAlgorithm(x1, y1,names_regression_xgb ,algorithms_xgb,columns_name_2,random_state_list_up_to_10)"
   ]
  },
  {
   "cell_type": "code",
   "execution_count": 685,
   "metadata": {
    "ExecuteTime": {
     "end_time": "2020-01-25T06:56:54.234733Z",
     "start_time": "2020-01-25T06:56:54.229746Z"
    }
   },
   "outputs": [
    {
     "data": {
      "text/plain": [
       "(893, 16)"
      ]
     },
     "execution_count": 685,
     "metadata": {},
     "output_type": "execute_result"
    }
   ],
   "source": [
    "train_segment_1.shape"
   ]
  },
  {
   "cell_type": "code",
   "execution_count": 686,
   "metadata": {
    "ExecuteTime": {
     "end_time": "2020-01-25T06:57:07.269122Z",
     "start_time": "2020-01-25T06:57:07.256156Z"
    },
    "scrolled": true
   },
   "outputs": [
    {
     "data": {
      "text/html": [
       "<div>\n",
       "<style scoped>\n",
       "    .dataframe tbody tr th:only-of-type {\n",
       "        vertical-align: middle;\n",
       "    }\n",
       "\n",
       "    .dataframe tbody tr th {\n",
       "        vertical-align: top;\n",
       "    }\n",
       "\n",
       "    .dataframe thead th {\n",
       "        text-align: right;\n",
       "    }\n",
       "</style>\n",
       "<table border=\"1\" class=\"dataframe\">\n",
       "  <thead>\n",
       "    <tr style=\"text-align: right;\">\n",
       "      <th></th>\n",
       "      <th>application_date</th>\n",
       "      <th>segment</th>\n",
       "      <th>ds</th>\n",
       "      <th>case_count</th>\n",
       "      <th>year</th>\n",
       "      <th>month</th>\n",
       "      <th>week</th>\n",
       "      <th>day</th>\n",
       "      <th>rainy</th>\n",
       "      <th>spring</th>\n",
       "      <th>summer</th>\n",
       "      <th>winter</th>\n",
       "      <th>week_min</th>\n",
       "      <th>week_max</th>\n",
       "      <th>month_min</th>\n",
       "      <th>month_max</th>\n",
       "    </tr>\n",
       "  </thead>\n",
       "  <tbody>\n",
       "    <tr>\n",
       "      <th>0</th>\n",
       "      <td>2017-04-01</td>\n",
       "      <td>1</td>\n",
       "      <td>train</td>\n",
       "      <td>299.0</td>\n",
       "      <td>2017</td>\n",
       "      <td>4</td>\n",
       "      <td>13</td>\n",
       "      <td>1</td>\n",
       "      <td>0</td>\n",
       "      <td>0</td>\n",
       "      <td>1</td>\n",
       "      <td>0</td>\n",
       "      <td>299.0</td>\n",
       "      <td>299.0</td>\n",
       "      <td>23.0</td>\n",
       "      <td>6472.0</td>\n",
       "    </tr>\n",
       "  </tbody>\n",
       "</table>\n",
       "</div>"
      ],
      "text/plain": [
       "  application_date  segment     ds  case_count  year  month  week  day  rainy  \\\n",
       "0       2017-04-01        1  train       299.0  2017      4    13    1      0   \n",
       "\n",
       "   spring  summer  winter  week_min  week_max  month_min  month_max  \n",
       "0       0       1       0     299.0     299.0       23.0     6472.0  "
      ]
     },
     "execution_count": 686,
     "metadata": {},
     "output_type": "execute_result"
    }
   ],
   "source": [
    "train_segment_1.head(1)"
   ]
  },
  {
   "cell_type": "code",
   "execution_count": 700,
   "metadata": {
    "ExecuteTime": {
     "end_time": "2020-01-25T07:08:37.718421Z",
     "start_time": "2020-01-25T07:08:37.712403Z"
    }
   },
   "outputs": [
    {
     "data": {
      "text/plain": [
       "Index(['application_date', 'segment', 'ds', 'case_count', 'year', 'month',\n",
       "       'week', 'day', 'rainy', 'spring', 'summer', 'winter', 'week_min',\n",
       "       'week_max', 'month_min', 'month_max'],\n",
       "      dtype='object')"
      ]
     },
     "execution_count": 700,
     "metadata": {},
     "output_type": "execute_result"
    }
   ],
   "source": [
    "train_segment_1.columns"
   ]
  },
  {
   "cell_type": "code",
   "execution_count": 688,
   "metadata": {
    "ExecuteTime": {
     "end_time": "2020-01-25T06:58:02.309131Z",
     "start_time": "2020-01-25T06:58:02.293133Z"
    }
   },
   "outputs": [
    {
     "data": {
      "text/html": [
       "<div>\n",
       "<style scoped>\n",
       "    .dataframe tbody tr th:only-of-type {\n",
       "        vertical-align: middle;\n",
       "    }\n",
       "\n",
       "    .dataframe tbody tr th {\n",
       "        vertical-align: top;\n",
       "    }\n",
       "\n",
       "    .dataframe thead th {\n",
       "        text-align: right;\n",
       "    }\n",
       "</style>\n",
       "<table border=\"1\" class=\"dataframe\">\n",
       "  <thead>\n",
       "    <tr style=\"text-align: right;\">\n",
       "      <th></th>\n",
       "      <th>segment</th>\n",
       "      <th>year</th>\n",
       "      <th>month</th>\n",
       "      <th>week</th>\n",
       "      <th>day</th>\n",
       "      <th>rainy</th>\n",
       "      <th>spring</th>\n",
       "      <th>summer</th>\n",
       "      <th>winter</th>\n",
       "      <th>week_min</th>\n",
       "      <th>week_max</th>\n",
       "      <th>month_min</th>\n",
       "      <th>month_max</th>\n",
       "    </tr>\n",
       "  </thead>\n",
       "  <tbody>\n",
       "    <tr>\n",
       "      <th>0</th>\n",
       "      <td>1</td>\n",
       "      <td>2017</td>\n",
       "      <td>4</td>\n",
       "      <td>13</td>\n",
       "      <td>1</td>\n",
       "      <td>0</td>\n",
       "      <td>0</td>\n",
       "      <td>1</td>\n",
       "      <td>0</td>\n",
       "      <td>299.0</td>\n",
       "      <td>299.0</td>\n",
       "      <td>23.0</td>\n",
       "      <td>6472.0</td>\n",
       "    </tr>\n",
       "    <tr>\n",
       "      <th>1</th>\n",
       "      <td>1</td>\n",
       "      <td>2017</td>\n",
       "      <td>4</td>\n",
       "      <td>14</td>\n",
       "      <td>3</td>\n",
       "      <td>0</td>\n",
       "      <td>0</td>\n",
       "      <td>1</td>\n",
       "      <td>0</td>\n",
       "      <td>23.0</td>\n",
       "      <td>1530.0</td>\n",
       "      <td>23.0</td>\n",
       "      <td>6472.0</td>\n",
       "    </tr>\n",
       "  </tbody>\n",
       "</table>\n",
       "</div>"
      ],
      "text/plain": [
       "   segment  year  month  week  day  rainy  spring  summer  winter  week_min  \\\n",
       "0        1  2017      4    13    1      0       0       1       0     299.0   \n",
       "1        1  2017      4    14    3      0       0       1       0      23.0   \n",
       "\n",
       "   week_max  month_min  month_max  \n",
       "0     299.0       23.0     6472.0  \n",
       "1    1530.0       23.0     6472.0  "
      ]
     },
     "execution_count": 688,
     "metadata": {},
     "output_type": "execute_result"
    }
   ],
   "source": [
    "train_segment_1.loc[:, feature1].head(2)"
   ]
  },
  {
   "cell_type": "code",
   "execution_count": 705,
   "metadata": {
    "ExecuteTime": {
     "end_time": "2020-01-25T07:11:03.343141Z",
     "start_time": "2020-01-25T07:11:03.337158Z"
    }
   },
   "outputs": [],
   "source": [
    "x_train_segment_1 = train_segment_1.loc[:, feature1]\n",
    "\n",
    "y_train_segment_1 = train_segment_1.loc[:, \"case_count\"]\n",
    "\n",
    "test_segment_final_1 = new_test_segment_1.drop([\"application_date\", \"ds\", \"case_count\"] , axis=1)"
   ]
  },
  {
   "cell_type": "code",
   "execution_count": 706,
   "metadata": {
    "ExecuteTime": {
     "end_time": "2020-01-25T07:11:04.215200Z",
     "start_time": "2020-01-25T07:11:04.203233Z"
    }
   },
   "outputs": [
    {
     "data": {
      "text/html": [
       "<div>\n",
       "<style scoped>\n",
       "    .dataframe tbody tr th:only-of-type {\n",
       "        vertical-align: middle;\n",
       "    }\n",
       "\n",
       "    .dataframe tbody tr th {\n",
       "        vertical-align: top;\n",
       "    }\n",
       "\n",
       "    .dataframe thead th {\n",
       "        text-align: right;\n",
       "    }\n",
       "</style>\n",
       "<table border=\"1\" class=\"dataframe\">\n",
       "  <thead>\n",
       "    <tr style=\"text-align: right;\">\n",
       "      <th></th>\n",
       "      <th>segment</th>\n",
       "      <th>year</th>\n",
       "      <th>month</th>\n",
       "      <th>week</th>\n",
       "      <th>day</th>\n",
       "      <th>rainy</th>\n",
       "      <th>spring</th>\n",
       "      <th>summer</th>\n",
       "      <th>winter</th>\n",
       "      <th>week_min</th>\n",
       "      <th>week_max</th>\n",
       "      <th>month_min</th>\n",
       "      <th>month_max</th>\n",
       "    </tr>\n",
       "  </thead>\n",
       "  <tbody>\n",
       "    <tr>\n",
       "      <th>0</th>\n",
       "      <td>1</td>\n",
       "      <td>2017</td>\n",
       "      <td>4</td>\n",
       "      <td>13</td>\n",
       "      <td>1</td>\n",
       "      <td>0</td>\n",
       "      <td>0</td>\n",
       "      <td>1</td>\n",
       "      <td>0</td>\n",
       "      <td>299.0</td>\n",
       "      <td>299.0</td>\n",
       "      <td>23.0</td>\n",
       "      <td>6472.0</td>\n",
       "    </tr>\n",
       "  </tbody>\n",
       "</table>\n",
       "</div>"
      ],
      "text/plain": [
       "   segment  year  month  week  day  rainy  spring  summer  winter  week_min  \\\n",
       "0        1  2017      4    13    1      0       0       1       0     299.0   \n",
       "\n",
       "   week_max  month_min  month_max  \n",
       "0     299.0       23.0     6472.0  "
      ]
     },
     "execution_count": 706,
     "metadata": {},
     "output_type": "execute_result"
    }
   ],
   "source": [
    "x_train_segment_1.head(1)"
   ]
  },
  {
   "cell_type": "code",
   "execution_count": 707,
   "metadata": {
    "ExecuteTime": {
     "end_time": "2020-01-25T07:11:05.042040Z",
     "start_time": "2020-01-25T07:11:05.028538Z"
    }
   },
   "outputs": [
    {
     "data": {
      "text/html": [
       "<div>\n",
       "<style scoped>\n",
       "    .dataframe tbody tr th:only-of-type {\n",
       "        vertical-align: middle;\n",
       "    }\n",
       "\n",
       "    .dataframe tbody tr th {\n",
       "        vertical-align: top;\n",
       "    }\n",
       "\n",
       "    .dataframe thead th {\n",
       "        text-align: right;\n",
       "    }\n",
       "</style>\n",
       "<table border=\"1\" class=\"dataframe\">\n",
       "  <thead>\n",
       "    <tr style=\"text-align: right;\">\n",
       "      <th></th>\n",
       "      <th>segment</th>\n",
       "      <th>year</th>\n",
       "      <th>month</th>\n",
       "      <th>week</th>\n",
       "      <th>day</th>\n",
       "      <th>rainy</th>\n",
       "      <th>spring</th>\n",
       "      <th>summer</th>\n",
       "      <th>winter</th>\n",
       "      <th>week_min</th>\n",
       "      <th>week_max</th>\n",
       "      <th>month_min</th>\n",
       "      <th>month_max</th>\n",
       "    </tr>\n",
       "  </thead>\n",
       "  <tbody>\n",
       "    <tr>\n",
       "      <th>806</th>\n",
       "      <td>1</td>\n",
       "      <td>2019</td>\n",
       "      <td>7</td>\n",
       "      <td>27</td>\n",
       "      <td>6</td>\n",
       "      <td>1</td>\n",
       "      <td>0</td>\n",
       "      <td>0</td>\n",
       "      <td>0</td>\n",
       "      <td>0.0</td>\n",
       "      <td>4240.0</td>\n",
       "      <td>0.0</td>\n",
       "      <td>4240.0</td>\n",
       "    </tr>\n",
       "  </tbody>\n",
       "</table>\n",
       "</div>"
      ],
      "text/plain": [
       "     segment  year  month  week  day  rainy  spring  summer  winter  week_min  \\\n",
       "806        1  2019      7    27    6      1       0       0       0       0.0   \n",
       "\n",
       "     week_max  month_min  month_max  \n",
       "806    4240.0        0.0     4240.0  "
      ]
     },
     "execution_count": 707,
     "metadata": {},
     "output_type": "execute_result"
    }
   ],
   "source": [
    "test_segment_final_1.head(1)"
   ]
  },
  {
   "cell_type": "code",
   "execution_count": 708,
   "metadata": {
    "ExecuteTime": {
     "end_time": "2020-01-25T07:11:09.185095Z",
     "start_time": "2020-01-25T07:11:09.177120Z"
    }
   },
   "outputs": [
    {
     "data": {
      "text/plain": [
       "((893, 13), (87, 13))"
      ]
     },
     "execution_count": 708,
     "metadata": {},
     "output_type": "execute_result"
    }
   ],
   "source": [
    "x_train_segment_1.shape , test_segment_final_1.shape"
   ]
  },
  {
   "cell_type": "code",
   "execution_count": null,
   "metadata": {},
   "outputs": [],
   "source": []
  },
  {
   "cell_type": "code",
   "execution_count": null,
   "metadata": {},
   "outputs": [],
   "source": []
  },
  {
   "cell_type": "code",
   "execution_count": 667,
   "metadata": {
    "ExecuteTime": {
     "end_time": "2020-01-25T06:40:12.984230Z",
     "start_time": "2020-01-25T06:39:37.364227Z"
    }
   },
   "outputs": [
    {
     "name": "stdout",
     "output_type": "stream",
     "text": [
      "      Model_name  Random_state  Accuracy    MAPE     MAE         MSE     RMSE \n",
      "0   XGBRegressor             0      72.0   625.09  625.09   901940.97   949.71\n",
      "1   XGBRegressor             1      45.0   882.75  882.75  2613684.16  1616.69\n",
      "2   XGBRegressor             2      70.0   821.07  821.07  1961351.70  1400.48\n",
      "3   XGBRegressor             3      77.0   723.66  723.66  1259322.76  1122.20\n",
      "4   XGBRegressor             4      51.0   676.55  676.55  1482148.88  1217.44\n",
      "5   XGBRegressor             5      37.0   797.44  797.44  1941529.82  1393.39\n",
      "6   XGBRegressor             6      55.0   830.19  830.19  1970419.11  1403.72\n",
      "7   XGBRegressor             7      60.0   856.21  856.21  2332650.67  1527.30\n",
      "8   XGBRegressor             8      16.0   856.67  856.67  2334865.10  1528.03\n",
      "9   XGBRegressor             9      45.0   712.34  712.34  1560242.02  1249.10\n",
      "10  XGBRegressor            10      61.0   778.16  778.16  1607921.16  1268.04\n"
     ]
    }
   ],
   "source": [
    "addRandxomStateForAlgorithm(x1, y1,names_regression_xgb ,algorithms_xgb,columns_name_2,random_state_list_up_to_10)"
   ]
  },
  {
   "cell_type": "code",
   "execution_count": 692,
   "metadata": {
    "ExecuteTime": {
     "end_time": "2020-01-25T06:59:51.168156Z",
     "start_time": "2020-01-25T06:59:51.164132Z"
    }
   },
   "outputs": [
    {
     "data": {
      "text/plain": [
       "((893, 13), (893,))"
      ]
     },
     "execution_count": 692,
     "metadata": {},
     "output_type": "execute_result"
    }
   ],
   "source": [
    "x_train_segment_1.shape, y_train_segment_2.shape"
   ]
  },
  {
   "cell_type": "code",
   "execution_count": null,
   "metadata": {},
   "outputs": [],
   "source": []
  },
  {
   "cell_type": "code",
   "execution_count": 694,
   "metadata": {
    "ExecuteTime": {
     "end_time": "2020-01-25T07:01:15.777539Z",
     "start_time": "2020-01-25T07:01:12.038017Z"
    },
    "scrolled": true
   },
   "outputs": [
    {
     "data": {
      "text/plain": [
       "XGBRegressor(base_score=0.5, booster='gbtree', colsample_bylevel=1,\n",
       "             colsample_bynode=1, colsample_bytree=0.4, gamma=0,\n",
       "             importance_type='gain', learning_rate=0.07, max_delta_step=0,\n",
       "             max_depth=3, min_child_weight=1.5, missing=None,\n",
       "             n_estimators=10000, n_jobs=1, nthread=-1, objective='reg:linear',\n",
       "             random_state=0, reg_alpha=0.75, reg_lambda=0.45,\n",
       "             scale_pos_weight=1, seed=42, silent=True, subsample=0.6,\n",
       "             verbosity=1)"
      ]
     },
     "execution_count": 694,
     "metadata": {},
     "output_type": "execute_result"
    }
   ],
   "source": [
    "xgbRegressor_1.fit( x_train_segment_1, y_train_segment_1 )\n"
   ]
  },
  {
   "cell_type": "code",
   "execution_count": 696,
   "metadata": {
    "ExecuteTime": {
     "end_time": "2020-01-25T07:01:45.023445Z",
     "start_time": "2020-01-25T07:01:45.014442Z"
    }
   },
   "outputs": [
    {
     "data": {
      "text/html": [
       "<div>\n",
       "<style scoped>\n",
       "    .dataframe tbody tr th:only-of-type {\n",
       "        vertical-align: middle;\n",
       "    }\n",
       "\n",
       "    .dataframe tbody tr th {\n",
       "        vertical-align: top;\n",
       "    }\n",
       "\n",
       "    .dataframe thead th {\n",
       "        text-align: right;\n",
       "    }\n",
       "</style>\n",
       "<table border=\"1\" class=\"dataframe\">\n",
       "  <thead>\n",
       "    <tr style=\"text-align: right;\">\n",
       "      <th></th>\n",
       "      <th>id</th>\n",
       "      <th>application_date</th>\n",
       "      <th>segment</th>\n",
       "      <th>ds</th>\n",
       "    </tr>\n",
       "  </thead>\n",
       "  <tbody>\n",
       "    <tr>\n",
       "      <th>0</th>\n",
       "      <td>1</td>\n",
       "      <td>2019-07-06</td>\n",
       "      <td>1</td>\n",
       "      <td>test</td>\n",
       "    </tr>\n",
       "  </tbody>\n",
       "</table>\n",
       "</div>"
      ],
      "text/plain": [
       "   id application_date  segment    ds\n",
       "0   1       2019-07-06        1  test"
      ]
     },
     "execution_count": 696,
     "metadata": {},
     "output_type": "execute_result"
    }
   ],
   "source": [
    "test_segment_final_1.head(1)"
   ]
  },
  {
   "cell_type": "code",
   "execution_count": null,
   "metadata": {},
   "outputs": [],
   "source": []
  },
  {
   "cell_type": "code",
   "execution_count": 709,
   "metadata": {
    "ExecuteTime": {
     "end_time": "2020-01-25T07:11:16.168451Z",
     "start_time": "2020-01-25T07:11:16.147550Z"
    }
   },
   "outputs": [],
   "source": [
    "pred_y_segment_1 = xgbRegressor_1.predict(test_segment_final_1)"
   ]
  },
  {
   "cell_type": "code",
   "execution_count": 710,
   "metadata": {
    "ExecuteTime": {
     "end_time": "2020-01-25T07:11:23.117011Z",
     "start_time": "2020-01-25T07:11:23.112024Z"
    }
   },
   "outputs": [
    {
     "data": {
      "text/plain": [
       "87"
      ]
     },
     "execution_count": 710,
     "metadata": {},
     "output_type": "execute_result"
    }
   ],
   "source": [
    "pred_y_segment_1.size"
   ]
  },
  {
   "cell_type": "code",
   "execution_count": 711,
   "metadata": {
    "ExecuteTime": {
     "end_time": "2020-01-25T07:11:28.263546Z",
     "start_time": "2020-01-25T07:11:28.258558Z"
    }
   },
   "outputs": [
    {
     "data": {
      "text/plain": [
       "array([ 161.526    ,  137.16388  ,  -81.278854 ,   88.9906   ,\n",
       "         11.715826 ,  118.03638  ,  -83.54993  ,  -39.18578  ,\n",
       "        -78.27199  ,  -87.399536 ,   23.308582 ,   37.26343  ,\n",
       "         82.38045  ,  -45.39094  , -102.091705 ,  -73.6788   ,\n",
       "          7.190526 ,   19.498165 ,  155.55534  ,  161.84746  ,\n",
       "        -61.13806  ,   59.994537 ,   -4.3717685,   92.62335  ,\n",
       "       -368.9775   ,   41.114872 ,  139.89143  , -146.90526  ,\n",
       "         86.68075  ,  177.16241  , -185.83197  , -151.75586  ,\n",
       "       -112.41624  ,  137.12733  ,   62.070267 ,   70.95179  ,\n",
       "        164.74232  ,    2.8415112,   82.65188  ,   60.61234  ,\n",
       "       -153.89601  ,  -36.521107 ,  -38.708748 ,  -46.360615 ,\n",
       "        -37.748802 ,  -60.433235 ,   27.58826  ,  -27.603073 ,\n",
       "        -13.094127 ,  122.79803  ,   77.61988  ,  -98.19669  ,\n",
       "         18.846483 ,   41.47765  ,  172.86565  , -331.71646  ,\n",
       "         13.791038 ,    9.550161 ,  -90.990425 ,  259.8311   ,\n",
       "        355.21658  , -216.54453  , -178.9432   ,  -78.547966 ,\n",
       "        180.97716  , -116.750755 , -130.65666  ,   73.81927  ,\n",
       "        -29.999575 ,   67.67281  ,   12.447284 , -187.67377  ,\n",
       "         54.48606  ,   61.091095 ,  104.04685  ,   -9.86925  ,\n",
       "        -86.10021  ,    9.946808 ,  -35.128628 ,  -54.84698  ,\n",
       "         68.88035  ,   -4.2310257, -190.28947  ,  -57.84413  ,\n",
       "        -55.34327  ,   38.080563 ,  104.2734   ], dtype=float32)"
      ]
     },
     "execution_count": 711,
     "metadata": {},
     "output_type": "execute_result"
    }
   ],
   "source": [
    "pred_y_segment_1"
   ]
  },
  {
   "cell_type": "code",
   "execution_count": null,
   "metadata": {},
   "outputs": [],
   "source": []
  },
  {
   "cell_type": "code",
   "execution_count": 714,
   "metadata": {
    "ExecuteTime": {
     "end_time": "2020-01-25T07:13:42.612904Z",
     "start_time": "2020-01-25T07:13:37.463019Z"
    }
   },
   "outputs": [
    {
     "data": {
      "text/plain": [
       "LGBMRegressor(bagging_fraction=0.8, boosting_type='gbdt', class_weight=None,\n",
       "              colsample_bytree=1.0, feature_fraction=0.8,\n",
       "              importance_type='split', learning_rate=0.17, max_depth=-1,\n",
       "              metric='rmse', min_child_samples=20, min_child_weight=0.001,\n",
       "              min_split_gain=0.0, n_estimators=100, n_jobs=-1,\n",
       "              num_boost_round=5000, num_leaves=1200, objective='regression',\n",
       "              random_state=None, reg_alpha=0.0, reg_lambda=0.9, silent=True,\n",
       "              subsample=1.0, subsample_for_bin=200000, subsample_freq=0)"
      ]
     },
     "execution_count": 714,
     "metadata": {},
     "output_type": "execute_result"
    }
   ],
   "source": [
    "lgbm_1.fit( x_train_segment_1, y_train_segment_1 )\n"
   ]
  },
  {
   "cell_type": "code",
   "execution_count": 715,
   "metadata": {
    "ExecuteTime": {
     "end_time": "2020-01-25T07:14:11.865222Z",
     "start_time": "2020-01-25T07:14:11.826327Z"
    }
   },
   "outputs": [],
   "source": [
    "lgbm_pred_y_segment_1 = lgbm_1.predict(test_segment_final_1)"
   ]
  },
  {
   "cell_type": "code",
   "execution_count": 716,
   "metadata": {
    "ExecuteTime": {
     "end_time": "2020-01-25T07:14:17.916376Z",
     "start_time": "2020-01-25T07:14:17.910393Z"
    }
   },
   "outputs": [
    {
     "data": {
      "text/plain": [
       "array([ -9.72137564,   4.40295304,   1.10043725,  -1.34114126,\n",
       "         3.58595699,  -7.08653138,   6.5917412 ,  -1.01416584,\n",
       "        -3.6954067 ,   5.1191719 ,  -5.20501968,   3.58274189,\n",
       "        -0.88189187,  -1.40630505,   3.55011163,  -3.36346302,\n",
       "         5.76740225,  -5.16066251,   1.20902285,  -1.83433226,\n",
       "         1.22527179,   0.13781734,  -0.93322665,   0.39572759,\n",
       "        -0.15601078,  -0.15601078,  20.98192168, -24.87830574,\n",
       "         5.66816891,  -1.79648862,   5.73769302,  -0.62226028,\n",
       "        -0.1116941 ,  -3.61599788,  -0.87263159,   3.01200743,\n",
       "        -1.60781545,  -1.1398834 ,   1.60175223,   7.98264563,\n",
       "       -12.55512179,   7.55796749,  -4.67908702,   1.53375518,\n",
       "         3.54151492,  -1.37262326,  -1.10972421,  -3.88165619,\n",
       "         2.62888933,   1.2796383 ,  -0.5221196 ,   0.74121292,\n",
       "         2.54019966,  -8.71940999,  11.97449824,  -3.220866  ,\n",
       "        -3.220866  ,  -6.34143169,   4.24697818,   1.54915423,\n",
       "         8.2893137 , -17.55626708,   7.58275605,  -3.66197747,\n",
       "         4.5528216 ,   0.4044893 ,  -4.90101282,   7.67018765,\n",
       "        -4.11391897,  -1.60700497,  -4.17898011,   6.58334519,\n",
       "        -1.10066122,  -0.90946234,   1.53004801,  -3.04474568,\n",
       "        -2.93748388,   5.75180968,  -1.22985019,  -2.00915256,\n",
       "         1.12063745,  -0.15683374,  -2.7192289 ,   2.44582445,\n",
       "         2.72454732,  -3.15745806,   1.45853326])"
      ]
     },
     "execution_count": 716,
     "metadata": {},
     "output_type": "execute_result"
    }
   ],
   "source": [
    "lgbm_pred_y_segment_1"
   ]
  },
  {
   "cell_type": "code",
   "execution_count": null,
   "metadata": {},
   "outputs": [],
   "source": []
  },
  {
   "cell_type": "code",
   "execution_count": 717,
   "metadata": {
    "ExecuteTime": {
     "end_time": "2020-01-25T07:15:01.328125Z",
     "start_time": "2020-01-25T07:15:01.324102Z"
    }
   },
   "outputs": [],
   "source": [
    "model_rf_1 = RandomForestRegressor()"
   ]
  },
  {
   "cell_type": "code",
   "execution_count": 718,
   "metadata": {
    "ExecuteTime": {
     "end_time": "2020-01-25T07:15:37.359001Z",
     "start_time": "2020-01-25T07:15:37.299672Z"
    }
   },
   "outputs": [
    {
     "data": {
      "text/plain": [
       "RandomForestRegressor(bootstrap=True, criterion='mse', max_depth=None,\n",
       "                      max_features='auto', max_leaf_nodes=None,\n",
       "                      min_impurity_decrease=0.0, min_impurity_split=None,\n",
       "                      min_samples_leaf=1, min_samples_split=2,\n",
       "                      min_weight_fraction_leaf=0.0, n_estimators=10,\n",
       "                      n_jobs=None, oob_score=False, random_state=None,\n",
       "                      verbose=0, warm_start=False)"
      ]
     },
     "execution_count": 718,
     "metadata": {},
     "output_type": "execute_result"
    }
   ],
   "source": [
    "model_rf_1.fit( x_train_segment_1, y_train_segment_1 )\n"
   ]
  },
  {
   "cell_type": "code",
   "execution_count": 719,
   "metadata": {
    "ExecuteTime": {
     "end_time": "2020-01-25T07:15:44.413410Z",
     "start_time": "2020-01-25T07:15:44.407458Z"
    }
   },
   "outputs": [],
   "source": [
    "rf_pred_y_segment_1 = model_rf_1.predict(test_segment_final_1)"
   ]
  },
  {
   "cell_type": "code",
   "execution_count": 720,
   "metadata": {
    "ExecuteTime": {
     "end_time": "2020-01-25T07:15:51.445890Z",
     "start_time": "2020-01-25T07:15:51.437534Z"
    }
   },
   "outputs": [
    {
     "data": {
      "text/plain": [
       "array([848., 424.,   0.,   0.,   0.,   0.,   0.,   0.,   0.,   0.,   0.,\n",
       "         0.,   0.,   0.,   0.,   0.,   0.,   0.,   0.,   0.,   0.,   0.,\n",
       "         0.,   0.,   0.,   0.,   0.,   0.,   0.,   0.,   0.,   0.,   0.,\n",
       "         0.,   0.,   0.,   0.,   0.,   0.,   0.,   0.,   0.,   0.,   0.,\n",
       "         0.,   0.,   0.,   0.,   0.,   0.,   0.,   0.,   0.,   0.,   0.,\n",
       "         0.,   0.,   0.,   0.,   0.,   0.,   0.,   0.,   0.,   0.,   0.,\n",
       "         0.,   0.,   0.,   0.,   0.,   0.,   0.,   0.,   0.,   0.,   0.,\n",
       "         0.,   0.,   0.,   0.,   0.,   0.,   0.,   0.,   0.,   0.])"
      ]
     },
     "execution_count": 720,
     "metadata": {},
     "output_type": "execute_result"
    }
   ],
   "source": [
    "rf_pred_y_segment_1"
   ]
  },
  {
   "cell_type": "code",
   "execution_count": 725,
   "metadata": {
    "ExecuteTime": {
     "end_time": "2020-01-25T07:30:14.453846Z",
     "start_time": "2020-01-25T07:30:14.435895Z"
    }
   },
   "outputs": [
    {
     "data": {
      "text/html": [
       "<div>\n",
       "<style scoped>\n",
       "    .dataframe tbody tr th:only-of-type {\n",
       "        vertical-align: middle;\n",
       "    }\n",
       "\n",
       "    .dataframe tbody tr th {\n",
       "        vertical-align: top;\n",
       "    }\n",
       "\n",
       "    .dataframe thead th {\n",
       "        text-align: right;\n",
       "    }\n",
       "</style>\n",
       "<table border=\"1\" class=\"dataframe\">\n",
       "  <thead>\n",
       "    <tr style=\"text-align: right;\">\n",
       "      <th></th>\n",
       "      <th>segment</th>\n",
       "      <th>year</th>\n",
       "      <th>month</th>\n",
       "      <th>week</th>\n",
       "      <th>day</th>\n",
       "      <th>rainy</th>\n",
       "      <th>spring</th>\n",
       "      <th>summer</th>\n",
       "      <th>winter</th>\n",
       "      <th>week_min</th>\n",
       "      <th>week_max</th>\n",
       "      <th>month_min</th>\n",
       "      <th>month_max</th>\n",
       "    </tr>\n",
       "  </thead>\n",
       "  <tbody>\n",
       "    <tr>\n",
       "      <th>856</th>\n",
       "      <td>1</td>\n",
       "      <td>2019</td>\n",
       "      <td>8</td>\n",
       "      <td>34</td>\n",
       "      <td>25</td>\n",
       "      <td>1</td>\n",
       "      <td>0</td>\n",
       "      <td>0</td>\n",
       "      <td>0</td>\n",
       "      <td>0.0</td>\n",
       "      <td>0.0</td>\n",
       "      <td>0.0</td>\n",
       "      <td>0.0</td>\n",
       "    </tr>\n",
       "    <tr>\n",
       "      <th>857</th>\n",
       "      <td>1</td>\n",
       "      <td>2019</td>\n",
       "      <td>8</td>\n",
       "      <td>35</td>\n",
       "      <td>26</td>\n",
       "      <td>1</td>\n",
       "      <td>0</td>\n",
       "      <td>0</td>\n",
       "      <td>0</td>\n",
       "      <td>0.0</td>\n",
       "      <td>0.0</td>\n",
       "      <td>0.0</td>\n",
       "      <td>0.0</td>\n",
       "    </tr>\n",
       "    <tr>\n",
       "      <th>858</th>\n",
       "      <td>1</td>\n",
       "      <td>2019</td>\n",
       "      <td>8</td>\n",
       "      <td>35</td>\n",
       "      <td>27</td>\n",
       "      <td>1</td>\n",
       "      <td>0</td>\n",
       "      <td>0</td>\n",
       "      <td>0</td>\n",
       "      <td>0.0</td>\n",
       "      <td>0.0</td>\n",
       "      <td>0.0</td>\n",
       "      <td>0.0</td>\n",
       "    </tr>\n",
       "    <tr>\n",
       "      <th>859</th>\n",
       "      <td>1</td>\n",
       "      <td>2019</td>\n",
       "      <td>8</td>\n",
       "      <td>35</td>\n",
       "      <td>28</td>\n",
       "      <td>1</td>\n",
       "      <td>0</td>\n",
       "      <td>0</td>\n",
       "      <td>0</td>\n",
       "      <td>0.0</td>\n",
       "      <td>0.0</td>\n",
       "      <td>0.0</td>\n",
       "      <td>0.0</td>\n",
       "    </tr>\n",
       "    <tr>\n",
       "      <th>860</th>\n",
       "      <td>1</td>\n",
       "      <td>2019</td>\n",
       "      <td>8</td>\n",
       "      <td>35</td>\n",
       "      <td>29</td>\n",
       "      <td>1</td>\n",
       "      <td>0</td>\n",
       "      <td>0</td>\n",
       "      <td>0</td>\n",
       "      <td>0.0</td>\n",
       "      <td>0.0</td>\n",
       "      <td>0.0</td>\n",
       "      <td>0.0</td>\n",
       "    </tr>\n",
       "    <tr>\n",
       "      <th>861</th>\n",
       "      <td>1</td>\n",
       "      <td>2019</td>\n",
       "      <td>8</td>\n",
       "      <td>35</td>\n",
       "      <td>30</td>\n",
       "      <td>1</td>\n",
       "      <td>0</td>\n",
       "      <td>0</td>\n",
       "      <td>0</td>\n",
       "      <td>0.0</td>\n",
       "      <td>0.0</td>\n",
       "      <td>0.0</td>\n",
       "      <td>0.0</td>\n",
       "    </tr>\n",
       "    <tr>\n",
       "      <th>862</th>\n",
       "      <td>1</td>\n",
       "      <td>2019</td>\n",
       "      <td>8</td>\n",
       "      <td>35</td>\n",
       "      <td>31</td>\n",
       "      <td>1</td>\n",
       "      <td>0</td>\n",
       "      <td>0</td>\n",
       "      <td>0</td>\n",
       "      <td>0.0</td>\n",
       "      <td>0.0</td>\n",
       "      <td>0.0</td>\n",
       "      <td>0.0</td>\n",
       "    </tr>\n",
       "    <tr>\n",
       "      <th>863</th>\n",
       "      <td>1</td>\n",
       "      <td>2019</td>\n",
       "      <td>9</td>\n",
       "      <td>35</td>\n",
       "      <td>1</td>\n",
       "      <td>1</td>\n",
       "      <td>0</td>\n",
       "      <td>0</td>\n",
       "      <td>0</td>\n",
       "      <td>0.0</td>\n",
       "      <td>0.0</td>\n",
       "      <td>0.0</td>\n",
       "      <td>0.0</td>\n",
       "    </tr>\n",
       "    <tr>\n",
       "      <th>864</th>\n",
       "      <td>1</td>\n",
       "      <td>2019</td>\n",
       "      <td>9</td>\n",
       "      <td>36</td>\n",
       "      <td>2</td>\n",
       "      <td>1</td>\n",
       "      <td>0</td>\n",
       "      <td>0</td>\n",
       "      <td>0</td>\n",
       "      <td>0.0</td>\n",
       "      <td>0.0</td>\n",
       "      <td>0.0</td>\n",
       "      <td>0.0</td>\n",
       "    </tr>\n",
       "    <tr>\n",
       "      <th>865</th>\n",
       "      <td>1</td>\n",
       "      <td>2019</td>\n",
       "      <td>9</td>\n",
       "      <td>36</td>\n",
       "      <td>3</td>\n",
       "      <td>1</td>\n",
       "      <td>0</td>\n",
       "      <td>0</td>\n",
       "      <td>0</td>\n",
       "      <td>0.0</td>\n",
       "      <td>0.0</td>\n",
       "      <td>0.0</td>\n",
       "      <td>0.0</td>\n",
       "    </tr>\n",
       "    <tr>\n",
       "      <th>866</th>\n",
       "      <td>1</td>\n",
       "      <td>2019</td>\n",
       "      <td>9</td>\n",
       "      <td>36</td>\n",
       "      <td>4</td>\n",
       "      <td>1</td>\n",
       "      <td>0</td>\n",
       "      <td>0</td>\n",
       "      <td>0</td>\n",
       "      <td>0.0</td>\n",
       "      <td>0.0</td>\n",
       "      <td>0.0</td>\n",
       "      <td>0.0</td>\n",
       "    </tr>\n",
       "    <tr>\n",
       "      <th>867</th>\n",
       "      <td>1</td>\n",
       "      <td>2019</td>\n",
       "      <td>9</td>\n",
       "      <td>36</td>\n",
       "      <td>5</td>\n",
       "      <td>1</td>\n",
       "      <td>0</td>\n",
       "      <td>0</td>\n",
       "      <td>0</td>\n",
       "      <td>0.0</td>\n",
       "      <td>0.0</td>\n",
       "      <td>0.0</td>\n",
       "      <td>0.0</td>\n",
       "    </tr>\n",
       "    <tr>\n",
       "      <th>868</th>\n",
       "      <td>1</td>\n",
       "      <td>2019</td>\n",
       "      <td>9</td>\n",
       "      <td>36</td>\n",
       "      <td>6</td>\n",
       "      <td>1</td>\n",
       "      <td>0</td>\n",
       "      <td>0</td>\n",
       "      <td>0</td>\n",
       "      <td>0.0</td>\n",
       "      <td>0.0</td>\n",
       "      <td>0.0</td>\n",
       "      <td>0.0</td>\n",
       "    </tr>\n",
       "    <tr>\n",
       "      <th>869</th>\n",
       "      <td>1</td>\n",
       "      <td>2019</td>\n",
       "      <td>9</td>\n",
       "      <td>36</td>\n",
       "      <td>7</td>\n",
       "      <td>1</td>\n",
       "      <td>0</td>\n",
       "      <td>0</td>\n",
       "      <td>0</td>\n",
       "      <td>0.0</td>\n",
       "      <td>0.0</td>\n",
       "      <td>0.0</td>\n",
       "      <td>0.0</td>\n",
       "    </tr>\n",
       "    <tr>\n",
       "      <th>870</th>\n",
       "      <td>1</td>\n",
       "      <td>2019</td>\n",
       "      <td>9</td>\n",
       "      <td>36</td>\n",
       "      <td>8</td>\n",
       "      <td>1</td>\n",
       "      <td>0</td>\n",
       "      <td>0</td>\n",
       "      <td>0</td>\n",
       "      <td>0.0</td>\n",
       "      <td>0.0</td>\n",
       "      <td>0.0</td>\n",
       "      <td>0.0</td>\n",
       "    </tr>\n",
       "    <tr>\n",
       "      <th>871</th>\n",
       "      <td>1</td>\n",
       "      <td>2019</td>\n",
       "      <td>9</td>\n",
       "      <td>37</td>\n",
       "      <td>9</td>\n",
       "      <td>1</td>\n",
       "      <td>0</td>\n",
       "      <td>0</td>\n",
       "      <td>0</td>\n",
       "      <td>0.0</td>\n",
       "      <td>0.0</td>\n",
       "      <td>0.0</td>\n",
       "      <td>0.0</td>\n",
       "    </tr>\n",
       "    <tr>\n",
       "      <th>872</th>\n",
       "      <td>1</td>\n",
       "      <td>2019</td>\n",
       "      <td>9</td>\n",
       "      <td>37</td>\n",
       "      <td>10</td>\n",
       "      <td>1</td>\n",
       "      <td>0</td>\n",
       "      <td>0</td>\n",
       "      <td>0</td>\n",
       "      <td>0.0</td>\n",
       "      <td>0.0</td>\n",
       "      <td>0.0</td>\n",
       "      <td>0.0</td>\n",
       "    </tr>\n",
       "    <tr>\n",
       "      <th>873</th>\n",
       "      <td>1</td>\n",
       "      <td>2019</td>\n",
       "      <td>9</td>\n",
       "      <td>37</td>\n",
       "      <td>11</td>\n",
       "      <td>1</td>\n",
       "      <td>0</td>\n",
       "      <td>0</td>\n",
       "      <td>0</td>\n",
       "      <td>0.0</td>\n",
       "      <td>0.0</td>\n",
       "      <td>0.0</td>\n",
       "      <td>0.0</td>\n",
       "    </tr>\n",
       "    <tr>\n",
       "      <th>874</th>\n",
       "      <td>1</td>\n",
       "      <td>2019</td>\n",
       "      <td>9</td>\n",
       "      <td>37</td>\n",
       "      <td>12</td>\n",
       "      <td>1</td>\n",
       "      <td>0</td>\n",
       "      <td>0</td>\n",
       "      <td>0</td>\n",
       "      <td>0.0</td>\n",
       "      <td>0.0</td>\n",
       "      <td>0.0</td>\n",
       "      <td>0.0</td>\n",
       "    </tr>\n",
       "    <tr>\n",
       "      <th>875</th>\n",
       "      <td>1</td>\n",
       "      <td>2019</td>\n",
       "      <td>9</td>\n",
       "      <td>37</td>\n",
       "      <td>13</td>\n",
       "      <td>1</td>\n",
       "      <td>0</td>\n",
       "      <td>0</td>\n",
       "      <td>0</td>\n",
       "      <td>0.0</td>\n",
       "      <td>0.0</td>\n",
       "      <td>0.0</td>\n",
       "      <td>0.0</td>\n",
       "    </tr>\n",
       "    <tr>\n",
       "      <th>876</th>\n",
       "      <td>1</td>\n",
       "      <td>2019</td>\n",
       "      <td>9</td>\n",
       "      <td>37</td>\n",
       "      <td>14</td>\n",
       "      <td>1</td>\n",
       "      <td>0</td>\n",
       "      <td>0</td>\n",
       "      <td>0</td>\n",
       "      <td>0.0</td>\n",
       "      <td>0.0</td>\n",
       "      <td>0.0</td>\n",
       "      <td>0.0</td>\n",
       "    </tr>\n",
       "    <tr>\n",
       "      <th>877</th>\n",
       "      <td>1</td>\n",
       "      <td>2019</td>\n",
       "      <td>9</td>\n",
       "      <td>37</td>\n",
       "      <td>15</td>\n",
       "      <td>1</td>\n",
       "      <td>0</td>\n",
       "      <td>0</td>\n",
       "      <td>0</td>\n",
       "      <td>0.0</td>\n",
       "      <td>0.0</td>\n",
       "      <td>0.0</td>\n",
       "      <td>0.0</td>\n",
       "    </tr>\n",
       "    <tr>\n",
       "      <th>878</th>\n",
       "      <td>1</td>\n",
       "      <td>2019</td>\n",
       "      <td>9</td>\n",
       "      <td>38</td>\n",
       "      <td>16</td>\n",
       "      <td>1</td>\n",
       "      <td>0</td>\n",
       "      <td>0</td>\n",
       "      <td>0</td>\n",
       "      <td>0.0</td>\n",
       "      <td>0.0</td>\n",
       "      <td>0.0</td>\n",
       "      <td>0.0</td>\n",
       "    </tr>\n",
       "    <tr>\n",
       "      <th>879</th>\n",
       "      <td>1</td>\n",
       "      <td>2019</td>\n",
       "      <td>9</td>\n",
       "      <td>38</td>\n",
       "      <td>17</td>\n",
       "      <td>1</td>\n",
       "      <td>0</td>\n",
       "      <td>0</td>\n",
       "      <td>0</td>\n",
       "      <td>0.0</td>\n",
       "      <td>0.0</td>\n",
       "      <td>0.0</td>\n",
       "      <td>0.0</td>\n",
       "    </tr>\n",
       "    <tr>\n",
       "      <th>880</th>\n",
       "      <td>1</td>\n",
       "      <td>2019</td>\n",
       "      <td>9</td>\n",
       "      <td>38</td>\n",
       "      <td>18</td>\n",
       "      <td>1</td>\n",
       "      <td>0</td>\n",
       "      <td>0</td>\n",
       "      <td>0</td>\n",
       "      <td>0.0</td>\n",
       "      <td>0.0</td>\n",
       "      <td>0.0</td>\n",
       "      <td>0.0</td>\n",
       "    </tr>\n",
       "    <tr>\n",
       "      <th>881</th>\n",
       "      <td>1</td>\n",
       "      <td>2019</td>\n",
       "      <td>9</td>\n",
       "      <td>38</td>\n",
       "      <td>19</td>\n",
       "      <td>1</td>\n",
       "      <td>0</td>\n",
       "      <td>0</td>\n",
       "      <td>0</td>\n",
       "      <td>0.0</td>\n",
       "      <td>0.0</td>\n",
       "      <td>0.0</td>\n",
       "      <td>0.0</td>\n",
       "    </tr>\n",
       "    <tr>\n",
       "      <th>882</th>\n",
       "      <td>1</td>\n",
       "      <td>2019</td>\n",
       "      <td>9</td>\n",
       "      <td>38</td>\n",
       "      <td>20</td>\n",
       "      <td>1</td>\n",
       "      <td>0</td>\n",
       "      <td>0</td>\n",
       "      <td>0</td>\n",
       "      <td>0.0</td>\n",
       "      <td>0.0</td>\n",
       "      <td>0.0</td>\n",
       "      <td>0.0</td>\n",
       "    </tr>\n",
       "    <tr>\n",
       "      <th>883</th>\n",
       "      <td>1</td>\n",
       "      <td>2019</td>\n",
       "      <td>9</td>\n",
       "      <td>38</td>\n",
       "      <td>21</td>\n",
       "      <td>1</td>\n",
       "      <td>0</td>\n",
       "      <td>0</td>\n",
       "      <td>0</td>\n",
       "      <td>0.0</td>\n",
       "      <td>0.0</td>\n",
       "      <td>0.0</td>\n",
       "      <td>0.0</td>\n",
       "    </tr>\n",
       "    <tr>\n",
       "      <th>884</th>\n",
       "      <td>1</td>\n",
       "      <td>2019</td>\n",
       "      <td>9</td>\n",
       "      <td>38</td>\n",
       "      <td>22</td>\n",
       "      <td>1</td>\n",
       "      <td>0</td>\n",
       "      <td>0</td>\n",
       "      <td>0</td>\n",
       "      <td>0.0</td>\n",
       "      <td>0.0</td>\n",
       "      <td>0.0</td>\n",
       "      <td>0.0</td>\n",
       "    </tr>\n",
       "    <tr>\n",
       "      <th>885</th>\n",
       "      <td>1</td>\n",
       "      <td>2019</td>\n",
       "      <td>9</td>\n",
       "      <td>39</td>\n",
       "      <td>23</td>\n",
       "      <td>1</td>\n",
       "      <td>0</td>\n",
       "      <td>0</td>\n",
       "      <td>0</td>\n",
       "      <td>0.0</td>\n",
       "      <td>0.0</td>\n",
       "      <td>0.0</td>\n",
       "      <td>0.0</td>\n",
       "    </tr>\n",
       "  </tbody>\n",
       "</table>\n",
       "</div>"
      ],
      "text/plain": [
       "     segment  year  month  week  day  rainy  spring  summer  winter  week_min  \\\n",
       "856        1  2019      8    34   25      1       0       0       0       0.0   \n",
       "857        1  2019      8    35   26      1       0       0       0       0.0   \n",
       "858        1  2019      8    35   27      1       0       0       0       0.0   \n",
       "859        1  2019      8    35   28      1       0       0       0       0.0   \n",
       "860        1  2019      8    35   29      1       0       0       0       0.0   \n",
       "861        1  2019      8    35   30      1       0       0       0       0.0   \n",
       "862        1  2019      8    35   31      1       0       0       0       0.0   \n",
       "863        1  2019      9    35    1      1       0       0       0       0.0   \n",
       "864        1  2019      9    36    2      1       0       0       0       0.0   \n",
       "865        1  2019      9    36    3      1       0       0       0       0.0   \n",
       "866        1  2019      9    36    4      1       0       0       0       0.0   \n",
       "867        1  2019      9    36    5      1       0       0       0       0.0   \n",
       "868        1  2019      9    36    6      1       0       0       0       0.0   \n",
       "869        1  2019      9    36    7      1       0       0       0       0.0   \n",
       "870        1  2019      9    36    8      1       0       0       0       0.0   \n",
       "871        1  2019      9    37    9      1       0       0       0       0.0   \n",
       "872        1  2019      9    37   10      1       0       0       0       0.0   \n",
       "873        1  2019      9    37   11      1       0       0       0       0.0   \n",
       "874        1  2019      9    37   12      1       0       0       0       0.0   \n",
       "875        1  2019      9    37   13      1       0       0       0       0.0   \n",
       "876        1  2019      9    37   14      1       0       0       0       0.0   \n",
       "877        1  2019      9    37   15      1       0       0       0       0.0   \n",
       "878        1  2019      9    38   16      1       0       0       0       0.0   \n",
       "879        1  2019      9    38   17      1       0       0       0       0.0   \n",
       "880        1  2019      9    38   18      1       0       0       0       0.0   \n",
       "881        1  2019      9    38   19      1       0       0       0       0.0   \n",
       "882        1  2019      9    38   20      1       0       0       0       0.0   \n",
       "883        1  2019      9    38   21      1       0       0       0       0.0   \n",
       "884        1  2019      9    38   22      1       0       0       0       0.0   \n",
       "885        1  2019      9    39   23      1       0       0       0       0.0   \n",
       "\n",
       "     week_max  month_min  month_max  \n",
       "856       0.0        0.0        0.0  \n",
       "857       0.0        0.0        0.0  \n",
       "858       0.0        0.0        0.0  \n",
       "859       0.0        0.0        0.0  \n",
       "860       0.0        0.0        0.0  \n",
       "861       0.0        0.0        0.0  \n",
       "862       0.0        0.0        0.0  \n",
       "863       0.0        0.0        0.0  \n",
       "864       0.0        0.0        0.0  \n",
       "865       0.0        0.0        0.0  \n",
       "866       0.0        0.0        0.0  \n",
       "867       0.0        0.0        0.0  \n",
       "868       0.0        0.0        0.0  \n",
       "869       0.0        0.0        0.0  \n",
       "870       0.0        0.0        0.0  \n",
       "871       0.0        0.0        0.0  \n",
       "872       0.0        0.0        0.0  \n",
       "873       0.0        0.0        0.0  \n",
       "874       0.0        0.0        0.0  \n",
       "875       0.0        0.0        0.0  \n",
       "876       0.0        0.0        0.0  \n",
       "877       0.0        0.0        0.0  \n",
       "878       0.0        0.0        0.0  \n",
       "879       0.0        0.0        0.0  \n",
       "880       0.0        0.0        0.0  \n",
       "881       0.0        0.0        0.0  \n",
       "882       0.0        0.0        0.0  \n",
       "883       0.0        0.0        0.0  \n",
       "884       0.0        0.0        0.0  \n",
       "885       0.0        0.0        0.0  "
      ]
     },
     "execution_count": 725,
     "metadata": {},
     "output_type": "execute_result"
    }
   ],
   "source": [
    "test_segment_final_1[50 : 80]"
   ]
  },
  {
   "cell_type": "code",
   "execution_count": 721,
   "metadata": {
    "ExecuteTime": {
     "end_time": "2020-01-25T07:29:25.570175Z",
     "start_time": "2020-01-25T07:29:25.531388Z"
    }
   },
   "outputs": [],
   "source": [
    "rf2 = RandomForestRegressor()\n",
    "rf2.fit(x_train1, y_train1)\n",
    "pred_y_1 = rf2.predict(test_segment_final_1)"
   ]
  },
  {
   "cell_type": "code",
   "execution_count": 722,
   "metadata": {
    "ExecuteTime": {
     "end_time": "2020-01-25T07:29:30.501539Z",
     "start_time": "2020-01-25T07:29:30.495713Z"
    }
   },
   "outputs": [
    {
     "data": {
      "text/plain": [
       "array([5.5, 2.6, 0. , 0. , 0. , 0. , 0. , 0. , 0. , 0. , 0. , 0. , 0. ,\n",
       "       0. , 0. , 0. , 0. , 0. , 0. , 0. , 0. , 0. , 0. , 0. , 0. , 0. ,\n",
       "       0. , 0. , 0. , 0. , 0. , 0. , 0. , 0. , 0. , 0. , 0. , 0. , 0. ,\n",
       "       0. , 0. , 0. , 0. , 0. , 0. , 0. , 0. , 0. , 0. , 0. , 0. , 0. ,\n",
       "       0. , 0. , 0. , 0. , 0. , 0. , 0. , 0. , 0. , 0. , 0. , 0. , 0. ,\n",
       "       0. , 0. , 0. , 0. , 0. , 0. , 0. , 0. , 0. , 0. , 0. , 0. , 0. ,\n",
       "       0. , 0. , 0. , 0. , 0. , 0. , 0. , 0. , 0. ])"
      ]
     },
     "execution_count": 722,
     "metadata": {},
     "output_type": "execute_result"
    }
   ],
   "source": [
    "pred_y_1"
   ]
  },
  {
   "cell_type": "markdown",
   "metadata": {
    "heading_collapsed": true
   },
   "source": [
    "# Step 5"
   ]
  },
  {
   "cell_type": "code",
   "execution_count": 663,
   "metadata": {
    "ExecuteTime": {
     "end_time": "2020-01-25T06:34:35.271666Z",
     "start_time": "2020-01-25T06:34:35.259274Z"
    },
    "hidden": true
   },
   "outputs": [],
   "source": [
    "rows=[]\n",
    "\n",
    "\n",
    "def addRandomStateForAlgorithm(x,y,names,algorithms,columns_name,random_state_list):    \n",
    "    for j in range(len(algorithms)):\n",
    "        model = algorithms[j]\n",
    "        for i in random_state_list:\n",
    "            \n",
    "            x_train, x_test , y_train , y_test = train_test_split(x ,y , test_size = 0.25 , random_state = i)\n",
    "            \n",
    "            model.fit(x_train,y_train)\n",
    "            y_pred = model.predict(x_test)\n",
    "            \n",
    "            accuracy = r2_score(y_test, y_pred)\n",
    "            accuracy = round(accuracy, 2) * 100\n",
    "            \n",
    "            mape = mean_absolute_percentage_error(y_test, y_pred)\n",
    "            mape = round(mape, 2)\n",
    "            \n",
    "            mae = mean_absolute_error(y_test, y_pred)   \n",
    "            mae = round(mae, 2)\n",
    "            \n",
    "            mse = mean_squared_error(y_test, y_pred)\n",
    "            mse = round(mse, 2)\n",
    "            \n",
    "            rmse = root_mean_sequare_error(y_test, y_pred)\n",
    "            rmse = round(rmse, 2)\n",
    "            \n",
    "            \n",
    "            row = [names[j],   i,   accuracy,   mape,    mae,    mse,    rmse]\n",
    "            \n",
    "            rows.append(row)\n",
    "            \n",
    "    models_df = pd.DataFrame(rows) \n",
    "    \n",
    "    models_df.columns = columns_name\n",
    "    print(models_df)"
   ]
  },
  {
   "cell_type": "code",
   "execution_count": 671,
   "metadata": {
    "ExecuteTime": {
     "end_time": "2020-01-25T06:43:34.402045Z",
     "start_time": "2020-01-25T06:43:34.394066Z"
    },
    "hidden": true
   },
   "outputs": [],
   "source": [
    "columns_name_2 = [\"Model_name\",    \"Random_state\",   'Accuracy',     \"  MAPE \",   \" MAE \",   \" MSE \", \" RMSE \"]\n",
    "\n",
    "\n",
    "random_state_list_up_to_5 = [0]\n",
    "random_state_list_up_to_3_2 = [0,1,2,3]\n",
    "random_state_list_up_to_10 = [0,1,2,3,4,5,6,7,8,9,10]\n",
    "random_state_list_10_up_to_20 = [10,11,12,13,14,15,16,17,18,19,20]\n",
    "\n",
    "random_state_list_0_up_to_20 = [0,1,2,3,4,5,6,7,8,9,10,11,12,13,14,15,16,17,18,19,20]"
   ]
  },
  {
   "cell_type": "code",
   "execution_count": 673,
   "metadata": {
    "ExecuteTime": {
     "end_time": "2020-01-25T06:45:45.809811Z",
     "start_time": "2020-01-25T06:45:45.802795Z"
    },
    "hidden": true
   },
   "outputs": [],
   "source": [
    "xgbRegressor = XGBRegressor(base_score=0.5, colsample_bylevel=1, colsample_bytree=0.4,\n",
    "       gamma=0, learning_rate=0.07, max_delta_step=0, max_depth=3,\n",
    "       min_child_weight=1.5, missing=None, n_estimators=10000, nthread=-1,\n",
    "       objective='reg:linear', reg_alpha=0.75, reg_lambda=0.45,\n",
    "       scale_pos_weight=1, seed=42, silent=True, subsample=0.6)\n",
    "\n",
    "\n",
    "\n",
    "lgbm = lightgbm.LGBMRegressor(boosting_type='gbdt', objective='regression', num_leaves=1200,\n",
    "                                learning_rate=0.17, num_boost_round=5000,\n",
    "                                metric='rmse', bagging_fraction=0.8, feature_fraction=0.8, reg_lambda=0.9)\n",
    "\n",
    "catBoostRegressor  = CatBoostRegressor(iterations=50, depth=3, learning_rate=0.17, loss_function='RMSE')\n",
    "\n",
    "\n",
    "names_regression_xgb = [\"XGBRegressor\",]\n",
    "algorithms_xgb = [  xgbRegressor]\n",
    "\n",
    "\n",
    "\n",
    "names_regression_lgbm = [ \"lgbm\" ]\n",
    "algorithms_lgbm = [  lgbm ]\n",
    "\n",
    "\n",
    "\n",
    "names_regression_catboost = [\"catBoostRegressor\"]\n",
    "algorithms_catboost = [ catBoostRegressor]\n",
    "\n",
    "\n",
    "names_regression_rf = [\"RandomForestRegressor\"]\n",
    "algorithms_rf = [ RandomForestRegressor()]\n"
   ]
  },
  {
   "cell_type": "code",
   "execution_count": null,
   "metadata": {
    "hidden": true
   },
   "outputs": [],
   "source": []
  },
  {
   "cell_type": "code",
   "execution_count": null,
   "metadata": {
    "hidden": true
   },
   "outputs": [],
   "source": []
  },
  {
   "cell_type": "code",
   "execution_count": null,
   "metadata": {
    "hidden": true
   },
   "outputs": [],
   "source": []
  },
  {
   "cell_type": "code",
   "execution_count": null,
   "metadata": {
    "hidden": true
   },
   "outputs": [],
   "source": []
  },
  {
   "cell_type": "code",
   "execution_count": null,
   "metadata": {
    "hidden": true
   },
   "outputs": [],
   "source": []
  },
  {
   "cell_type": "code",
   "execution_count": null,
   "metadata": {
    "hidden": true
   },
   "outputs": [],
   "source": []
  },
  {
   "cell_type": "code",
   "execution_count": null,
   "metadata": {
    "hidden": true
   },
   "outputs": [],
   "source": []
  },
  {
   "cell_type": "markdown",
   "metadata": {
    "heading_collapsed": true
   },
   "source": [
    "# Model Training"
   ]
  },
  {
   "cell_type": "markdown",
   "metadata": {
    "hidden": true
   },
   "source": [
    "## Segment 1"
   ]
  },
  {
   "cell_type": "code",
   "execution_count": 676,
   "metadata": {
    "ExecuteTime": {
     "end_time": "2020-01-25T06:48:25.450397Z",
     "start_time": "2020-01-25T06:47:16.572436Z"
    },
    "hidden": true
   },
   "outputs": [
    {
     "name": "stdout",
     "output_type": "stream",
     "text": [
      "       Model_name  Random_state  Accuracy    MAPE     MAE         MSE   \\\n",
      "0    XGBRegressor             0      72.0   625.09  625.09   901940.97   \n",
      "1    XGBRegressor             1      45.0   882.75  882.75  2613684.16   \n",
      "2    XGBRegressor             2      70.0   821.07  821.07  1961351.70   \n",
      "3    XGBRegressor             3      77.0   723.66  723.66  1259322.76   \n",
      "4    XGBRegressor             4      51.0   676.55  676.55  1482148.88   \n",
      "..            ...           ...       ...      ...     ...         ...   \n",
      "101  XGBRegressor            16      59.0   673.22  673.22  1352712.14   \n",
      "102  XGBRegressor            17      58.0   757.08  757.08  1536331.46   \n",
      "103  XGBRegressor            18      73.0   700.34  700.34  1104829.07   \n",
      "104  XGBRegressor            19      57.0   801.48  801.48  2093682.84   \n",
      "105  XGBRegressor            20      79.0   688.17  688.17  1076388.40   \n",
      "\n",
      "       RMSE   \n",
      "0     949.71  \n",
      "1    1616.69  \n",
      "2    1400.48  \n",
      "3    1122.20  \n",
      "4    1217.44  \n",
      "..       ...  \n",
      "101  1163.06  \n",
      "102  1239.49  \n",
      "103  1051.11  \n",
      "104  1446.96  \n",
      "105  1037.49  \n",
      "\n",
      "[106 rows x 7 columns]\n"
     ]
    }
   ],
   "source": [
    "addRandomStateForAlgorithm(x1, y1,names_regression_xgb ,algorithms_xgb,columns_name_2,random_state_list_0_up_to_20)"
   ]
  },
  {
   "cell_type": "code",
   "execution_count": null,
   "metadata": {
    "hidden": true
   },
   "outputs": [],
   "source": []
  },
  {
   "cell_type": "code",
   "execution_count": null,
   "metadata": {
    "hidden": true
   },
   "outputs": [],
   "source": []
  },
  {
   "cell_type": "code",
   "execution_count": 669,
   "metadata": {
    "ExecuteTime": {
     "end_time": "2020-01-25T06:41:54.051668Z",
     "start_time": "2020-01-25T06:41:18.357512Z"
    },
    "hidden": true
   },
   "outputs": [
    {
     "name": "stdout",
     "output_type": "stream",
     "text": [
      "      Model_name  Random_state  Accuracy    MAPE     MAE         MSE     RMSE \n",
      "0   XGBRegressor             0      72.0   625.09  625.09   901940.97   949.71\n",
      "1   XGBRegressor             1      45.0   882.75  882.75  2613684.16  1616.69\n",
      "2   XGBRegressor             2      70.0   821.07  821.07  1961351.70  1400.48\n",
      "3   XGBRegressor             3      77.0   723.66  723.66  1259322.76  1122.20\n",
      "4   XGBRegressor             4      51.0   676.55  676.55  1482148.88  1217.44\n",
      "5   XGBRegressor             5      37.0   797.44  797.44  1941529.82  1393.39\n",
      "6   XGBRegressor             6      55.0   830.19  830.19  1970419.11  1403.72\n",
      "7   XGBRegressor             7      60.0   856.21  856.21  2332650.67  1527.30\n",
      "8   XGBRegressor             8      16.0   856.67  856.67  2334865.10  1528.03\n",
      "9   XGBRegressor             9      45.0   712.34  712.34  1560242.02  1249.10\n",
      "10  XGBRegressor            10      61.0   778.16  778.16  1607921.16  1268.04\n",
      "11  XGBRegressor            10      61.0   778.16  778.16  1607921.16  1268.04\n",
      "12  XGBRegressor            11      49.0   774.67  774.67  1683534.78  1297.51\n",
      "13  XGBRegressor            12      72.0   662.27  662.27   942438.21   970.79\n",
      "14  XGBRegressor            13      55.0   799.94  799.94  1617677.38  1271.88\n",
      "15  XGBRegressor            14      59.0   694.38  694.38  2120910.43  1456.33\n",
      "16  XGBRegressor            15      59.0   812.52  812.52  2277625.73  1509.18\n",
      "17  XGBRegressor            16      59.0   673.22  673.22  1352712.14  1163.06\n",
      "18  XGBRegressor            17      58.0   757.08  757.08  1536331.46  1239.49\n",
      "19  XGBRegressor            18      73.0   700.34  700.34  1104829.07  1051.11\n",
      "20  XGBRegressor            19      57.0   801.48  801.48  2093682.84  1446.96\n",
      "21  XGBRegressor            20      79.0   688.17  688.17  1076388.40  1037.49\n"
     ]
    }
   ],
   "source": [
    "addRandomStateForAlgorithm(x1, y1,names_regression_xgb ,algorithms_xgb,columns_name_2,random_state_list_0_up_to_20)"
   ]
  },
  {
   "cell_type": "code",
   "execution_count": null,
   "metadata": {
    "hidden": true
   },
   "outputs": [],
   "source": []
  },
  {
   "cell_type": "code",
   "execution_count": null,
   "metadata": {
    "hidden": true
   },
   "outputs": [],
   "source": []
  },
  {
   "cell_type": "code",
   "execution_count": 672,
   "metadata": {
    "ExecuteTime": {
     "end_time": "2020-01-25T06:45:12.292808Z",
     "start_time": "2020-01-25T06:43:41.799578Z"
    },
    "hidden": true
   },
   "outputs": [
    {
     "name": "stdout",
     "output_type": "stream",
     "text": [
      "      Model_name  Random_state  Accuracy    MAPE      MAE         MSE   \\\n",
      "0   XGBRegressor             0      72.0   625.09   625.09   901940.97   \n",
      "1   XGBRegressor             1      45.0   882.75   882.75  2613684.16   \n",
      "2   XGBRegressor             2      70.0   821.07   821.07  1961351.70   \n",
      "3   XGBRegressor             3      77.0   723.66   723.66  1259322.76   \n",
      "4   XGBRegressor             4      51.0   676.55   676.55  1482148.88   \n",
      "5   XGBRegressor             5      37.0   797.44   797.44  1941529.82   \n",
      "6   XGBRegressor             6      55.0   830.19   830.19  1970419.11   \n",
      "7   XGBRegressor             7      60.0   856.21   856.21  2332650.67   \n",
      "8   XGBRegressor             8      16.0   856.67   856.67  2334865.10   \n",
      "9   XGBRegressor             9      45.0   712.34   712.34  1560242.02   \n",
      "10  XGBRegressor            10      61.0   778.16   778.16  1607921.16   \n",
      "11  XGBRegressor            10      61.0   778.16   778.16  1607921.16   \n",
      "12  XGBRegressor            11      49.0   774.67   774.67  1683534.78   \n",
      "13  XGBRegressor            12      72.0   662.27   662.27   942438.21   \n",
      "14  XGBRegressor            13      55.0   799.94   799.94  1617677.38   \n",
      "15  XGBRegressor            14      59.0   694.38   694.38  2120910.43   \n",
      "16  XGBRegressor            15      59.0   812.52   812.52  2277625.73   \n",
      "17  XGBRegressor            16      59.0   673.22   673.22  1352712.14   \n",
      "18  XGBRegressor            17      58.0   757.08   757.08  1536331.46   \n",
      "19  XGBRegressor            18      73.0   700.34   700.34  1104829.07   \n",
      "20  XGBRegressor            19      57.0   801.48   801.48  2093682.84   \n",
      "21  XGBRegressor            20      79.0   688.17   688.17  1076388.40   \n",
      "22          lgbm             0       5.0   798.15   798.15  3049295.06   \n",
      "23          lgbm             1      23.0   916.68   916.68  3629811.26   \n",
      "24          lgbm             2      35.0   916.82   916.82  4280287.67   \n",
      "25          lgbm             3      45.0   859.02   859.02  2962677.56   \n",
      "26          lgbm             4     -19.0   806.70   806.70  3620818.04   \n",
      "27          lgbm             5     -22.0   921.48   921.48  3774558.70   \n",
      "28          lgbm             6      -1.0   938.98   938.98  4365161.23   \n",
      "29          lgbm             7      36.0   878.54   878.54  3697162.62   \n",
      "30          lgbm             8      24.0   830.76   830.76  2104802.10   \n",
      "31          lgbm             9      18.0   794.84   794.84  2311482.72   \n",
      "32          lgbm            10     -23.0   941.72   941.72  5065033.39   \n",
      "33          lgbm            11      49.0   742.37   742.37  1667733.69   \n",
      "34          lgbm            12      58.0   687.32   687.32  1403387.86   \n",
      "35          lgbm            13       2.0   900.15   900.15  3517437.19   \n",
      "36          lgbm            14      53.0   746.44   746.44  2423373.71   \n",
      "37          lgbm            15       3.0  1008.58  1008.58  5437855.10   \n",
      "38          lgbm            16      40.0   761.12   761.12  1974123.54   \n",
      "39          lgbm            17      39.0   829.62   829.62  2240297.63   \n",
      "40          lgbm            18      34.0   849.11   849.11  2721198.69   \n",
      "41          lgbm            19       9.0   912.54   912.54  4437234.83   \n",
      "42          lgbm            20      33.0   865.23   865.23  3404502.39   \n",
      "\n",
      "      RMSE   \n",
      "0    949.71  \n",
      "1   1616.69  \n",
      "2   1400.48  \n",
      "3   1122.20  \n",
      "4   1217.44  \n",
      "5   1393.39  \n",
      "6   1403.72  \n",
      "7   1527.30  \n",
      "8   1528.03  \n",
      "9   1249.10  \n",
      "10  1268.04  \n",
      "11  1268.04  \n",
      "12  1297.51  \n",
      "13   970.79  \n",
      "14  1271.88  \n",
      "15  1456.33  \n",
      "16  1509.18  \n",
      "17  1163.06  \n",
      "18  1239.49  \n",
      "19  1051.11  \n",
      "20  1446.96  \n",
      "21  1037.49  \n",
      "22  1746.22  \n",
      "23  1905.21  \n",
      "24  2068.89  \n",
      "25  1721.24  \n",
      "26  1902.84  \n",
      "27  1942.82  \n",
      "28  2089.30  \n",
      "29  1922.80  \n",
      "30  1450.79  \n",
      "31  1520.36  \n",
      "32  2250.56  \n",
      "33  1291.41  \n",
      "34  1184.65  \n",
      "35  1875.48  \n",
      "36  1556.72  \n",
      "37  2331.92  \n",
      "38  1405.04  \n",
      "39  1496.76  \n",
      "40  1649.61  \n",
      "41  2106.47  \n",
      "42  1845.13  \n"
     ]
    }
   ],
   "source": [
    "addRandomStateForAlgorithm(x1, y1,names_regression_lgbm ,algorithms_lgbm,columns_name_2,random_state_list_0_up_to_20)"
   ]
  },
  {
   "cell_type": "code",
   "execution_count": null,
   "metadata": {
    "hidden": true
   },
   "outputs": [],
   "source": []
  },
  {
   "cell_type": "code",
   "execution_count": null,
   "metadata": {
    "hidden": true
   },
   "outputs": [],
   "source": []
  },
  {
   "cell_type": "code",
   "execution_count": 674,
   "metadata": {
    "ExecuteTime": {
     "end_time": "2020-01-25T06:46:04.986107Z",
     "start_time": "2020-01-25T06:46:03.420800Z"
    },
    "hidden": true
   },
   "outputs": [
    {
     "name": "stdout",
     "output_type": "stream",
     "text": [
      "0:\tlearn: 2055.4209749\ttotal: 63.1ms\tremaining: 3.09s\n",
      "1:\tlearn: 1954.8074359\ttotal: 63.9ms\tremaining: 1.53s\n",
      "2:\tlearn: 1860.0002643\ttotal: 64.5ms\tremaining: 1.01s\n",
      "3:\tlearn: 1765.1490855\ttotal: 65ms\tremaining: 748ms\n",
      "4:\tlearn: 1706.3847929\ttotal: 65.6ms\tremaining: 590ms\n",
      "5:\tlearn: 1665.4359753\ttotal: 66.1ms\tremaining: 485ms\n",
      "6:\tlearn: 1611.3442416\ttotal: 66.6ms\tremaining: 409ms\n",
      "7:\tlearn: 1560.3550591\ttotal: 67.1ms\tremaining: 352ms\n",
      "8:\tlearn: 1512.6182628\ttotal: 67.6ms\tremaining: 308ms\n",
      "9:\tlearn: 1484.0026723\ttotal: 68ms\tremaining: 272ms\n",
      "10:\tlearn: 1441.5816904\ttotal: 68.6ms\tremaining: 243ms\n",
      "11:\tlearn: 1411.6326559\ttotal: 69.1ms\tremaining: 219ms\n",
      "12:\tlearn: 1368.6018426\ttotal: 69.8ms\tremaining: 199ms\n",
      "13:\tlearn: 1349.6797268\ttotal: 70.3ms\tremaining: 181ms\n",
      "14:\tlearn: 1329.8036779\ttotal: 70.7ms\tremaining: 165ms\n",
      "15:\tlearn: 1308.2825904\ttotal: 71.2ms\tremaining: 151ms\n",
      "16:\tlearn: 1294.8961259\ttotal: 71.7ms\tremaining: 139ms\n",
      "17:\tlearn: 1277.0306340\ttotal: 72.2ms\tremaining: 128ms\n",
      "18:\tlearn: 1263.6966064\ttotal: 72.7ms\tremaining: 119ms\n",
      "19:\tlearn: 1248.8219095\ttotal: 73.3ms\tremaining: 110ms\n",
      "20:\tlearn: 1229.1291351\ttotal: 73.9ms\tremaining: 102ms\n",
      "21:\tlearn: 1219.1428474\ttotal: 74.3ms\tremaining: 94.6ms\n",
      "22:\tlearn: 1208.8730974\ttotal: 74.8ms\tremaining: 87.8ms\n",
      "23:\tlearn: 1194.5573112\ttotal: 75.4ms\tremaining: 81.6ms\n",
      "24:\tlearn: 1180.6768028\ttotal: 75.9ms\tremaining: 75.9ms\n",
      "25:\tlearn: 1172.1641888\ttotal: 76.3ms\tremaining: 70.4ms\n",
      "26:\tlearn: 1161.1306810\ttotal: 76.8ms\tremaining: 65.4ms\n",
      "27:\tlearn: 1151.8737970\ttotal: 77.4ms\tremaining: 60.8ms\n",
      "28:\tlearn: 1144.0171266\ttotal: 77.9ms\tremaining: 56.4ms\n",
      "29:\tlearn: 1140.9199645\ttotal: 78.4ms\tremaining: 52.3ms\n",
      "30:\tlearn: 1130.3468253\ttotal: 78.9ms\tremaining: 48.4ms\n",
      "31:\tlearn: 1121.1960836\ttotal: 79.4ms\tremaining: 44.6ms\n",
      "32:\tlearn: 1113.7690445\ttotal: 79.9ms\tremaining: 41.1ms\n",
      "33:\tlearn: 1108.9828383\ttotal: 80.3ms\tremaining: 37.8ms\n",
      "34:\tlearn: 1104.7227418\ttotal: 80.8ms\tremaining: 34.6ms\n",
      "35:\tlearn: 1100.3045108\ttotal: 81.3ms\tremaining: 31.6ms\n",
      "36:\tlearn: 1096.6264116\ttotal: 81.9ms\tremaining: 28.8ms\n",
      "37:\tlearn: 1089.8652629\ttotal: 82.4ms\tremaining: 26ms\n",
      "38:\tlearn: 1085.9141811\ttotal: 83ms\tremaining: 23.4ms\n",
      "39:\tlearn: 1082.6603803\ttotal: 83.5ms\tremaining: 20.9ms\n",
      "40:\tlearn: 1081.1525182\ttotal: 83.9ms\tremaining: 18.4ms\n",
      "41:\tlearn: 1074.3120026\ttotal: 84.4ms\tremaining: 16.1ms\n",
      "42:\tlearn: 1071.4469375\ttotal: 84.9ms\tremaining: 13.8ms\n",
      "43:\tlearn: 1065.0815241\ttotal: 85.5ms\tremaining: 11.7ms\n",
      "44:\tlearn: 1059.3630839\ttotal: 86ms\tremaining: 9.55ms\n",
      "45:\tlearn: 1056.8061617\ttotal: 86.4ms\tremaining: 7.52ms\n",
      "46:\tlearn: 1055.3788306\ttotal: 87.1ms\tremaining: 5.56ms\n",
      "47:\tlearn: 1051.9855783\ttotal: 88ms\tremaining: 3.67ms\n",
      "48:\tlearn: 1049.6944330\ttotal: 88.6ms\tremaining: 1.81ms\n",
      "49:\tlearn: 1044.5599879\ttotal: 89.3ms\tremaining: 0us\n",
      "0:\tlearn: 1950.7889780\ttotal: 655us\tremaining: 32.1ms\n",
      "1:\tlearn: 1846.9525000\ttotal: 1.33ms\tremaining: 32ms\n",
      "2:\tlearn: 1761.9202404\ttotal: 1.89ms\tremaining: 29.5ms\n",
      "3:\tlearn: 1677.4439851\ttotal: 2.41ms\tremaining: 27.7ms\n",
      "4:\tlearn: 1620.1552910\ttotal: 2.93ms\tremaining: 26.4ms\n",
      "5:\tlearn: 1571.4894601\ttotal: 3.44ms\tremaining: 25.2ms\n",
      "6:\tlearn: 1533.3249373\ttotal: 3.96ms\tremaining: 24.3ms\n",
      "7:\tlearn: 1485.6881078\ttotal: 4.5ms\tremaining: 23.7ms\n",
      "8:\tlearn: 1457.4490050\ttotal: 5.02ms\tremaining: 22.9ms\n",
      "9:\tlearn: 1427.3447082\ttotal: 5.57ms\tremaining: 22.3ms\n",
      "10:\tlearn: 1392.0415494\ttotal: 6.04ms\tremaining: 21.4ms\n",
      "11:\tlearn: 1360.7908911\ttotal: 6.57ms\tremaining: 20.8ms\n",
      "12:\tlearn: 1335.8944339\ttotal: 7.09ms\tremaining: 20.2ms\n",
      "13:\tlearn: 1321.9725681\ttotal: 7.7ms\tremaining: 19.8ms\n",
      "14:\tlearn: 1294.4678749\ttotal: 8.21ms\tremaining: 19.2ms\n",
      "15:\tlearn: 1279.0519378\ttotal: 8.73ms\tremaining: 18.6ms\n",
      "16:\tlearn: 1268.9076153\ttotal: 9.27ms\tremaining: 18ms\n",
      "17:\tlearn: 1255.8700769\ttotal: 9.78ms\tremaining: 17.4ms\n",
      "18:\tlearn: 1240.6113629\ttotal: 10.2ms\tremaining: 16.7ms\n",
      "19:\tlearn: 1224.6814665\ttotal: 10.7ms\tremaining: 16.1ms\n",
      "20:\tlearn: 1213.5971729\ttotal: 11.2ms\tremaining: 15.5ms\n",
      "21:\tlearn: 1207.8753884\ttotal: 11.7ms\tremaining: 14.9ms\n",
      "22:\tlearn: 1197.9558730\ttotal: 12.2ms\tremaining: 14.4ms\n",
      "23:\tlearn: 1189.0947968\ttotal: 12.7ms\tremaining: 13.8ms\n",
      "24:\tlearn: 1175.7549823\ttotal: 13.2ms\tremaining: 13.2ms\n",
      "25:\tlearn: 1164.4445921\ttotal: 13.7ms\tremaining: 12.7ms\n",
      "26:\tlearn: 1151.5677050\ttotal: 14.3ms\tremaining: 12.2ms\n",
      "27:\tlearn: 1140.6052504\ttotal: 14.8ms\tremaining: 11.6ms\n",
      "28:\tlearn: 1129.1782865\ttotal: 15.3ms\tremaining: 11.1ms\n",
      "29:\tlearn: 1111.9135207\ttotal: 15.9ms\tremaining: 10.6ms\n",
      "30:\tlearn: 1101.1650148\ttotal: 16.4ms\tremaining: 10.1ms\n",
      "31:\tlearn: 1093.7079825\ttotal: 16.9ms\tremaining: 9.52ms\n",
      "32:\tlearn: 1079.8164189\ttotal: 17.5ms\tremaining: 8.99ms\n",
      "33:\tlearn: 1075.5945318\ttotal: 18ms\tremaining: 8.46ms\n",
      "34:\tlearn: 1069.2918981\ttotal: 18.5ms\tremaining: 7.92ms\n",
      "35:\tlearn: 1064.8572805\ttotal: 19ms\tremaining: 7.37ms\n",
      "36:\tlearn: 1061.7266084\ttotal: 19.5ms\tremaining: 6.84ms\n",
      "37:\tlearn: 1058.0285639\ttotal: 20ms\tremaining: 6.32ms\n",
      "38:\tlearn: 1055.3583149\ttotal: 20.5ms\tremaining: 5.79ms\n",
      "39:\tlearn: 1047.5006559\ttotal: 21.1ms\tremaining: 5.27ms\n",
      "40:\tlearn: 1043.7807380\ttotal: 21.6ms\tremaining: 4.74ms\n",
      "41:\tlearn: 1036.4548278\ttotal: 22.1ms\tremaining: 4.22ms\n",
      "42:\tlearn: 1031.2037642\ttotal: 22.7ms\tremaining: 3.69ms\n",
      "43:\tlearn: 1021.0495979\ttotal: 23.2ms\tremaining: 3.16ms\n",
      "44:\tlearn: 1012.3286512\ttotal: 23.8ms\tremaining: 2.64ms\n",
      "45:\tlearn: 1005.9206502\ttotal: 24.3ms\tremaining: 2.12ms\n",
      "46:\tlearn: 1001.1489560\ttotal: 24.9ms\tremaining: 1.59ms\n",
      "47:\tlearn: 996.0706231\ttotal: 25.4ms\tremaining: 1.06ms\n",
      "48:\tlearn: 993.7485018\ttotal: 25.9ms\tremaining: 528us\n",
      "49:\tlearn: 984.3526605\ttotal: 26.4ms\tremaining: 0us\n",
      "0:\tlearn: 1815.0612666\ttotal: 1.44ms\tremaining: 70.5ms\n",
      "1:\tlearn: 1735.9418721\ttotal: 2.92ms\tremaining: 70ms\n",
      "2:\tlearn: 1648.5648613\ttotal: 4.26ms\tremaining: 66.7ms\n",
      "3:\tlearn: 1575.1744323\ttotal: 5.35ms\tremaining: 61.5ms\n",
      "4:\tlearn: 1522.6731949\ttotal: 6.43ms\tremaining: 57.9ms\n",
      "5:\tlearn: 1484.3018493\ttotal: 7.49ms\tremaining: 54.9ms\n",
      "6:\tlearn: 1449.1254196\ttotal: 8.5ms\tremaining: 52.2ms\n",
      "7:\tlearn: 1421.4259028\ttotal: 9.43ms\tremaining: 49.5ms\n",
      "8:\tlearn: 1388.7931185\ttotal: 10.4ms\tremaining: 47.2ms\n",
      "9:\tlearn: 1362.5606673\ttotal: 11.2ms\tremaining: 44.9ms\n",
      "10:\tlearn: 1343.8024339\ttotal: 12ms\tremaining: 42.6ms\n",
      "11:\tlearn: 1322.9413231\ttotal: 12.8ms\tremaining: 40.6ms\n",
      "12:\tlearn: 1302.6292702\ttotal: 13.6ms\tremaining: 38.6ms\n",
      "13:\tlearn: 1289.5187072\ttotal: 14.3ms\tremaining: 36.7ms\n",
      "14:\tlearn: 1275.4251520\ttotal: 15ms\tremaining: 34.9ms\n",
      "15:\tlearn: 1259.7077366\ttotal: 15.7ms\tremaining: 33.4ms\n",
      "16:\tlearn: 1248.3188041\ttotal: 16.4ms\tremaining: 31.9ms\n",
      "17:\tlearn: 1234.9516573\ttotal: 17.1ms\tremaining: 30.4ms\n",
      "18:\tlearn: 1220.5221545\ttotal: 17.7ms\tremaining: 28.9ms\n",
      "19:\tlearn: 1208.9274191\ttotal: 18.3ms\tremaining: 27.4ms\n",
      "20:\tlearn: 1201.7995433\ttotal: 18.9ms\tremaining: 26.1ms\n",
      "21:\tlearn: 1192.7968979\ttotal: 19.5ms\tremaining: 24.8ms\n",
      "22:\tlearn: 1185.0326384\ttotal: 20ms\tremaining: 23.5ms\n",
      "23:\tlearn: 1176.1563889\ttotal: 20.6ms\tremaining: 22.4ms\n",
      "24:\tlearn: 1165.9471619\ttotal: 21.2ms\tremaining: 21.2ms\n",
      "25:\tlearn: 1154.7352296\ttotal: 21.8ms\tremaining: 20.1ms\n",
      "26:\tlearn: 1146.3246608\ttotal: 22.4ms\tremaining: 19ms\n",
      "27:\tlearn: 1138.3348651\ttotal: 22.8ms\tremaining: 17.9ms\n",
      "28:\tlearn: 1129.3005725\ttotal: 23.4ms\tremaining: 16.9ms\n",
      "29:\tlearn: 1120.9124640\ttotal: 24.1ms\tremaining: 16ms\n",
      "30:\tlearn: 1114.6055347\ttotal: 24.6ms\tremaining: 15.1ms\n",
      "31:\tlearn: 1110.7164515\ttotal: 25.2ms\tremaining: 14.2ms\n",
      "32:\tlearn: 1095.9531604\ttotal: 25.7ms\tremaining: 13.3ms\n",
      "33:\tlearn: 1091.4560559\ttotal: 26.3ms\tremaining: 12.4ms\n",
      "34:\tlearn: 1087.2147986\ttotal: 26.8ms\tremaining: 11.5ms\n",
      "35:\tlearn: 1078.9721615\ttotal: 27.4ms\tremaining: 10.6ms\n",
      "36:\tlearn: 1075.0264748\ttotal: 27.9ms\tremaining: 9.8ms\n",
      "37:\tlearn: 1067.9357191\ttotal: 28.4ms\tremaining: 8.97ms\n",
      "38:\tlearn: 1061.9800775\ttotal: 29ms\tremaining: 8.17ms\n",
      "39:\tlearn: 1055.5339997\ttotal: 29.5ms\tremaining: 7.37ms\n",
      "40:\tlearn: 1048.6866093\ttotal: 30ms\tremaining: 6.59ms\n",
      "41:\tlearn: 1043.8765585\ttotal: 30.6ms\tremaining: 5.82ms\n",
      "42:\tlearn: 1041.5147777\ttotal: 31.1ms\tremaining: 5.07ms\n",
      "43:\tlearn: 1035.6071120\ttotal: 31.6ms\tremaining: 4.32ms\n",
      "44:\tlearn: 1030.4809846\ttotal: 32.2ms\tremaining: 3.58ms\n",
      "45:\tlearn: 1025.4643137\ttotal: 32.8ms\tremaining: 2.85ms\n",
      "46:\tlearn: 1017.1829980\ttotal: 33.3ms\tremaining: 2.12ms\n",
      "47:\tlearn: 1013.8714643\ttotal: 33.8ms\tremaining: 1.41ms\n",
      "48:\tlearn: 1009.0967856\ttotal: 34.4ms\tremaining: 701us\n",
      "49:\tlearn: 1003.8161769\ttotal: 34.9ms\tremaining: 0us\n",
      "0:\tlearn: 1894.1237581\ttotal: 807us\tremaining: 39.6ms\n"
     ]
    },
    {
     "name": "stdout",
     "output_type": "stream",
     "text": [
      "1:\tlearn: 1799.7052642\ttotal: 1.86ms\tremaining: 44.6ms\n",
      "2:\tlearn: 1745.4578705\ttotal: 2.64ms\tremaining: 41.3ms\n",
      "3:\tlearn: 1673.5293710\ttotal: 3.08ms\tremaining: 35.5ms\n",
      "4:\tlearn: 1619.1780391\ttotal: 3.61ms\tremaining: 32.5ms\n",
      "5:\tlearn: 1578.5766690\ttotal: 4.06ms\tremaining: 29.8ms\n",
      "6:\tlearn: 1543.2280446\ttotal: 4.61ms\tremaining: 28.3ms\n",
      "7:\tlearn: 1501.9891707\ttotal: 5.14ms\tremaining: 27ms\n",
      "8:\tlearn: 1463.6958111\ttotal: 5.66ms\tremaining: 25.8ms\n",
      "9:\tlearn: 1433.1393405\ttotal: 6.11ms\tremaining: 24.5ms\n",
      "10:\tlearn: 1391.1975710\ttotal: 6.63ms\tremaining: 23.5ms\n",
      "11:\tlearn: 1358.6248478\ttotal: 7.17ms\tremaining: 22.7ms\n",
      "12:\tlearn: 1335.1850147\ttotal: 7.7ms\tremaining: 21.9ms\n",
      "13:\tlearn: 1310.3999867\ttotal: 8.27ms\tremaining: 21.3ms\n",
      "14:\tlearn: 1290.1100716\ttotal: 8.83ms\tremaining: 20.6ms\n",
      "15:\tlearn: 1274.2157685\ttotal: 9.3ms\tremaining: 19.8ms\n",
      "16:\tlearn: 1262.1913541\ttotal: 9.76ms\tremaining: 18.9ms\n",
      "17:\tlearn: 1244.2169505\ttotal: 10.3ms\tremaining: 18.3ms\n",
      "18:\tlearn: 1228.1668779\ttotal: 10.8ms\tremaining: 17.6ms\n",
      "19:\tlearn: 1211.8821360\ttotal: 11.3ms\tremaining: 16.9ms\n",
      "20:\tlearn: 1199.3331818\ttotal: 11.8ms\tremaining: 16.3ms\n",
      "21:\tlearn: 1188.9934694\ttotal: 12.3ms\tremaining: 15.6ms\n",
      "22:\tlearn: 1176.3338214\ttotal: 12.7ms\tremaining: 15ms\n",
      "23:\tlearn: 1168.2463973\ttotal: 13.3ms\tremaining: 14.4ms\n",
      "24:\tlearn: 1156.3741389\ttotal: 13.8ms\tremaining: 13.8ms\n",
      "25:\tlearn: 1147.7587447\ttotal: 14.3ms\tremaining: 13.2ms\n",
      "26:\tlearn: 1138.1518331\ttotal: 15.1ms\tremaining: 12.8ms\n",
      "27:\tlearn: 1129.5908097\ttotal: 15.5ms\tremaining: 12.2ms\n",
      "28:\tlearn: 1118.2712087\ttotal: 16.1ms\tremaining: 11.6ms\n",
      "29:\tlearn: 1109.8720944\ttotal: 16.6ms\tremaining: 11.1ms\n",
      "30:\tlearn: 1104.1274171\ttotal: 17.2ms\tremaining: 10.6ms\n",
      "31:\tlearn: 1096.9879258\ttotal: 17.7ms\tremaining: 9.95ms\n",
      "32:\tlearn: 1093.9962152\ttotal: 18.1ms\tremaining: 9.35ms\n",
      "33:\tlearn: 1092.4600857\ttotal: 18.7ms\tremaining: 8.8ms\n",
      "34:\tlearn: 1086.8072357\ttotal: 19.2ms\tremaining: 8.23ms\n",
      "35:\tlearn: 1080.5427260\ttotal: 19.7ms\tremaining: 7.65ms\n",
      "36:\tlearn: 1072.1031446\ttotal: 20.1ms\tremaining: 7.07ms\n",
      "37:\tlearn: 1065.6465687\ttotal: 20.7ms\tremaining: 6.53ms\n",
      "38:\tlearn: 1060.3296845\ttotal: 21.2ms\tremaining: 5.99ms\n",
      "39:\tlearn: 1053.7706408\ttotal: 21.8ms\tremaining: 5.45ms\n",
      "40:\tlearn: 1049.1134029\ttotal: 22.3ms\tremaining: 4.9ms\n",
      "41:\tlearn: 1042.9058623\ttotal: 22.8ms\tremaining: 4.35ms\n",
      "42:\tlearn: 1037.5699754\ttotal: 23.3ms\tremaining: 3.79ms\n",
      "43:\tlearn: 1032.5609903\ttotal: 23.9ms\tremaining: 3.26ms\n",
      "44:\tlearn: 1028.2452443\ttotal: 24.4ms\tremaining: 2.71ms\n",
      "45:\tlearn: 1025.8794497\ttotal: 24.8ms\tremaining: 2.16ms\n",
      "46:\tlearn: 1022.2122940\ttotal: 25.4ms\tremaining: 1.62ms\n",
      "47:\tlearn: 1019.9273330\ttotal: 25.9ms\tremaining: 1.08ms\n",
      "48:\tlearn: 1013.9650124\ttotal: 26.5ms\tremaining: 539us\n",
      "49:\tlearn: 1008.3309574\ttotal: 27ms\tremaining: 0us\n",
      "0:\tlearn: 2066.6386211\ttotal: 572us\tremaining: 28.1ms\n",
      "1:\tlearn: 1961.7037785\ttotal: 1.21ms\tremaining: 29.1ms\n",
      "2:\tlearn: 1867.7445289\ttotal: 1.71ms\tremaining: 26.9ms\n",
      "3:\tlearn: 1776.1841559\ttotal: 2.22ms\tremaining: 25.5ms\n",
      "4:\tlearn: 1712.2292549\ttotal: 2.72ms\tremaining: 24.5ms\n",
      "5:\tlearn: 1671.7959177\ttotal: 3.25ms\tremaining: 23.8ms\n",
      "6:\tlearn: 1626.4314302\ttotal: 3.75ms\tremaining: 23ms\n",
      "7:\tlearn: 1573.7668267\ttotal: 4.24ms\tremaining: 22.3ms\n",
      "8:\tlearn: 1532.9117505\ttotal: 4.74ms\tremaining: 21.6ms\n",
      "9:\tlearn: 1488.6919468\ttotal: 5.24ms\tremaining: 21ms\n",
      "10:\tlearn: 1450.0581178\ttotal: 5.74ms\tremaining: 20.4ms\n",
      "11:\tlearn: 1412.2116846\ttotal: 6.17ms\tremaining: 19.5ms\n",
      "12:\tlearn: 1383.4406324\ttotal: 6.68ms\tremaining: 19ms\n",
      "13:\tlearn: 1358.9291450\ttotal: 7.29ms\tremaining: 18.7ms\n",
      "14:\tlearn: 1340.4147872\ttotal: 7.9ms\tremaining: 18.4ms\n",
      "15:\tlearn: 1320.7250445\ttotal: 8.54ms\tremaining: 18.1ms\n",
      "16:\tlearn: 1300.6045995\ttotal: 9.15ms\tremaining: 17.8ms\n",
      "17:\tlearn: 1281.1107347\ttotal: 9.6ms\tremaining: 17.1ms\n",
      "18:\tlearn: 1268.2611383\ttotal: 10.2ms\tremaining: 16.7ms\n",
      "19:\tlearn: 1248.4144794\ttotal: 10.7ms\tremaining: 16.1ms\n",
      "20:\tlearn: 1222.6268238\ttotal: 11.2ms\tremaining: 15.5ms\n",
      "21:\tlearn: 1214.0274885\ttotal: 11.8ms\tremaining: 15ms\n",
      "22:\tlearn: 1206.8139149\ttotal: 12.4ms\tremaining: 14.5ms\n",
      "23:\tlearn: 1193.3472863\ttotal: 12.9ms\tremaining: 13.9ms\n",
      "24:\tlearn: 1184.8617049\ttotal: 13.5ms\tremaining: 13.5ms\n",
      "25:\tlearn: 1179.5891744\ttotal: 14ms\tremaining: 12.9ms\n",
      "26:\tlearn: 1166.4911997\ttotal: 14.5ms\tremaining: 12.3ms\n",
      "27:\tlearn: 1157.1303938\ttotal: 15ms\tremaining: 11.8ms\n",
      "28:\tlearn: 1144.6462944\ttotal: 15.5ms\tremaining: 11.2ms\n",
      "29:\tlearn: 1139.8913948\ttotal: 16ms\tremaining: 10.6ms\n",
      "30:\tlearn: 1135.0813286\ttotal: 16.5ms\tremaining: 10.1ms\n",
      "31:\tlearn: 1129.1271287\ttotal: 17ms\tremaining: 9.58ms\n",
      "32:\tlearn: 1110.0269016\ttotal: 17.7ms\tremaining: 9.11ms\n",
      "33:\tlearn: 1104.6860380\ttotal: 18.2ms\tremaining: 8.57ms\n",
      "34:\tlearn: 1099.4274320\ttotal: 18.7ms\tremaining: 8.03ms\n",
      "35:\tlearn: 1088.0519733\ttotal: 19.2ms\tremaining: 7.48ms\n",
      "36:\tlearn: 1078.3008609\ttotal: 19.7ms\tremaining: 6.94ms\n",
      "37:\tlearn: 1074.1381429\ttotal: 20.3ms\tremaining: 6.41ms\n",
      "38:\tlearn: 1068.9449215\ttotal: 20.8ms\tremaining: 5.86ms\n",
      "39:\tlearn: 1057.7704946\ttotal: 21.3ms\tremaining: 5.33ms\n",
      "40:\tlearn: 1053.3325907\ttotal: 21.9ms\tremaining: 4.8ms\n",
      "41:\tlearn: 1048.4856341\ttotal: 22.4ms\tremaining: 4.26ms\n",
      "42:\tlearn: 1038.4914430\ttotal: 22.9ms\tremaining: 3.73ms\n",
      "43:\tlearn: 1034.4120811\ttotal: 23.4ms\tremaining: 3.19ms\n",
      "44:\tlearn: 1029.5417868\ttotal: 24ms\tremaining: 2.67ms\n",
      "45:\tlearn: 1024.1142845\ttotal: 24.5ms\tremaining: 2.13ms\n",
      "46:\tlearn: 1017.8540393\ttotal: 25.1ms\tremaining: 1.6ms\n",
      "47:\tlearn: 1013.5877592\ttotal: 25.6ms\tremaining: 1.06ms\n",
      "48:\tlearn: 1006.4736455\ttotal: 26.1ms\tremaining: 532us\n",
      "49:\tlearn: 1002.0910094\ttotal: 26.6ms\tremaining: 0us\n",
      "0:\tlearn: 2065.1955083\ttotal: 623us\tremaining: 30.5ms\n",
      "1:\tlearn: 1957.9906092\ttotal: 1.41ms\tremaining: 33.9ms\n",
      "2:\tlearn: 1860.2807293\ttotal: 2.03ms\tremaining: 31.7ms\n",
      "3:\tlearn: 1771.6280596\ttotal: 2.55ms\tremaining: 29.4ms\n",
      "4:\tlearn: 1714.2440965\ttotal: 3.05ms\tremaining: 27.4ms\n",
      "5:\tlearn: 1668.4465132\ttotal: 3.49ms\tremaining: 25.6ms\n",
      "6:\tlearn: 1607.7792420\ttotal: 4.01ms\tremaining: 24.6ms\n",
      "7:\tlearn: 1558.0482463\ttotal: 4.53ms\tremaining: 23.8ms\n",
      "8:\tlearn: 1528.0068838\ttotal: 5.04ms\tremaining: 23ms\n",
      "9:\tlearn: 1483.6286198\ttotal: 5.54ms\tremaining: 22.2ms\n",
      "10:\tlearn: 1449.2543514\ttotal: 6.04ms\tremaining: 21.4ms\n",
      "11:\tlearn: 1416.3963126\ttotal: 6.53ms\tremaining: 20.7ms\n",
      "12:\tlearn: 1378.5283546\ttotal: 7.05ms\tremaining: 20.1ms\n",
      "13:\tlearn: 1351.9255966\ttotal: 7.49ms\tremaining: 19.3ms\n",
      "14:\tlearn: 1327.5027251\ttotal: 8.01ms\tremaining: 18.7ms\n",
      "15:\tlearn: 1305.1702290\ttotal: 8.51ms\tremaining: 18.1ms\n",
      "16:\tlearn: 1291.6648781\ttotal: 9.02ms\tremaining: 17.5ms\n",
      "17:\tlearn: 1275.2085510\ttotal: 9.46ms\tremaining: 16.8ms\n",
      "18:\tlearn: 1259.9223019\ttotal: 10ms\tremaining: 16.3ms\n",
      "19:\tlearn: 1243.5443550\ttotal: 10.4ms\tremaining: 15.7ms\n",
      "20:\tlearn: 1231.4861567\ttotal: 11ms\tremaining: 15.1ms\n",
      "21:\tlearn: 1214.8673827\ttotal: 11.5ms\tremaining: 14.6ms\n",
      "22:\tlearn: 1205.5722421\ttotal: 12ms\tremaining: 14.1ms\n",
      "23:\tlearn: 1187.4371420\ttotal: 12.5ms\tremaining: 13.5ms\n",
      "24:\tlearn: 1167.0903001\ttotal: 13ms\tremaining: 13ms\n",
      "25:\tlearn: 1156.2912733\ttotal: 13.5ms\tremaining: 12.5ms\n",
      "26:\tlearn: 1147.7559706\ttotal: 14.2ms\tremaining: 12.1ms\n",
      "27:\tlearn: 1136.0357759\ttotal: 15.1ms\tremaining: 11.9ms\n",
      "28:\tlearn: 1127.0200027\ttotal: 15.7ms\tremaining: 11.4ms\n",
      "29:\tlearn: 1118.6640122\ttotal: 16.3ms\tremaining: 10.8ms\n",
      "30:\tlearn: 1113.9554074\ttotal: 16.8ms\tremaining: 10.3ms\n",
      "31:\tlearn: 1106.0757314\ttotal: 17.3ms\tremaining: 9.72ms\n",
      "32:\tlearn: 1103.8849785\ttotal: 17.8ms\tremaining: 9.16ms\n",
      "33:\tlearn: 1097.5595025\ttotal: 18.3ms\tremaining: 8.62ms\n",
      "34:\tlearn: 1088.8572559\ttotal: 18.8ms\tremaining: 8.06ms\n",
      "35:\tlearn: 1084.0643085\ttotal: 19.3ms\tremaining: 7.51ms\n",
      "36:\tlearn: 1079.5329104\ttotal: 19.8ms\tremaining: 6.97ms\n",
      "37:\tlearn: 1073.4892612\ttotal: 20.3ms\tremaining: 6.42ms\n",
      "38:\tlearn: 1068.6912340\ttotal: 20.8ms\tremaining: 5.88ms\n",
      "39:\tlearn: 1060.6283791\ttotal: 21.3ms\tremaining: 5.33ms\n",
      "40:\tlearn: 1058.4951007\ttotal: 21.9ms\tremaining: 4.8ms\n",
      "41:\tlearn: 1053.0894104\ttotal: 22.4ms\tremaining: 4.26ms\n",
      "42:\tlearn: 1043.1099779\ttotal: 22.9ms\tremaining: 3.72ms\n",
      "43:\tlearn: 1035.7657104\ttotal: 23.3ms\tremaining: 3.18ms\n",
      "44:\tlearn: 1032.4581477\ttotal: 23.9ms\tremaining: 2.65ms\n",
      "45:\tlearn: 1025.7494550\ttotal: 24.3ms\tremaining: 2.12ms\n",
      "46:\tlearn: 1019.6214725\ttotal: 24.9ms\tremaining: 1.59ms\n",
      "47:\tlearn: 1015.8697080\ttotal: 25.4ms\tremaining: 1.06ms\n",
      "48:\tlearn: 1013.4383810\ttotal: 25.9ms\tremaining: 527us\n",
      "49:\tlearn: 1006.9695006\ttotal: 26.4ms\tremaining: 0us\n",
      "0:\tlearn: 1991.9289320\ttotal: 2.27ms\tremaining: 111ms\n"
     ]
    },
    {
     "name": "stdout",
     "output_type": "stream",
     "text": [
      "1:\tlearn: 1885.9174617\ttotal: 5.94ms\tremaining: 143ms\n",
      "2:\tlearn: 1791.3154326\ttotal: 8.8ms\tremaining: 138ms\n",
      "3:\tlearn: 1701.8941316\ttotal: 10.7ms\tremaining: 123ms\n",
      "4:\tlearn: 1643.6875922\ttotal: 12.8ms\tremaining: 116ms\n",
      "5:\tlearn: 1599.9750478\ttotal: 14.4ms\tremaining: 105ms\n",
      "6:\tlearn: 1553.8066704\ttotal: 15.9ms\tremaining: 98ms\n",
      "7:\tlearn: 1512.8460871\ttotal: 17.4ms\tremaining: 91.2ms\n",
      "8:\tlearn: 1475.5451120\ttotal: 18.5ms\tremaining: 84.2ms\n",
      "9:\tlearn: 1443.2720447\ttotal: 19.5ms\tremaining: 78.1ms\n",
      "10:\tlearn: 1409.6616811\ttotal: 20.6ms\tremaining: 73ms\n",
      "11:\tlearn: 1379.6276368\ttotal: 21.7ms\tremaining: 68.6ms\n",
      "12:\tlearn: 1353.6442649\ttotal: 22.9ms\tremaining: 65.2ms\n",
      "13:\tlearn: 1333.3427267\ttotal: 23.8ms\tremaining: 61.3ms\n",
      "14:\tlearn: 1312.5412452\ttotal: 24.7ms\tremaining: 57.6ms\n",
      "15:\tlearn: 1297.0652504\ttotal: 25.7ms\tremaining: 54.5ms\n",
      "16:\tlearn: 1285.6450640\ttotal: 26.4ms\tremaining: 51.3ms\n",
      "17:\tlearn: 1271.3120801\ttotal: 27.3ms\tremaining: 48.5ms\n",
      "18:\tlearn: 1251.2360120\ttotal: 28.2ms\tremaining: 46ms\n",
      "19:\tlearn: 1239.4271037\ttotal: 29.1ms\tremaining: 43.6ms\n",
      "20:\tlearn: 1228.0919827\ttotal: 29.9ms\tremaining: 41.3ms\n",
      "21:\tlearn: 1219.6098524\ttotal: 30.7ms\tremaining: 39ms\n",
      "22:\tlearn: 1209.1315215\ttotal: 31.4ms\tremaining: 36.9ms\n",
      "23:\tlearn: 1201.0540864\ttotal: 32.3ms\tremaining: 35ms\n",
      "24:\tlearn: 1189.2533200\ttotal: 33.3ms\tremaining: 33.3ms\n",
      "25:\tlearn: 1184.7721109\ttotal: 34.1ms\tremaining: 31.5ms\n",
      "26:\tlearn: 1177.7055815\ttotal: 34.8ms\tremaining: 29.7ms\n",
      "27:\tlearn: 1169.4976464\ttotal: 35.5ms\tremaining: 27.9ms\n",
      "28:\tlearn: 1163.5817143\ttotal: 36.1ms\tremaining: 26.1ms\n",
      "29:\tlearn: 1156.6182921\ttotal: 36.7ms\tremaining: 24.5ms\n",
      "30:\tlearn: 1146.0841271\ttotal: 37.3ms\tremaining: 22.9ms\n",
      "31:\tlearn: 1137.9647427\ttotal: 38ms\tremaining: 21.4ms\n",
      "32:\tlearn: 1119.4559774\ttotal: 38.6ms\tremaining: 19.9ms\n",
      "33:\tlearn: 1113.4037494\ttotal: 39.2ms\tremaining: 18.5ms\n",
      "34:\tlearn: 1107.4185116\ttotal: 40ms\tremaining: 17.1ms\n",
      "35:\tlearn: 1095.7787863\ttotal: 40.6ms\tremaining: 15.8ms\n",
      "36:\tlearn: 1091.6078405\ttotal: 41.2ms\tremaining: 14.5ms\n",
      "37:\tlearn: 1084.9872048\ttotal: 41.7ms\tremaining: 13.2ms\n",
      "38:\tlearn: 1076.7685511\ttotal: 42.3ms\tremaining: 11.9ms\n",
      "39:\tlearn: 1073.9310490\ttotal: 42.9ms\tremaining: 10.7ms\n",
      "40:\tlearn: 1070.4587975\ttotal: 43.4ms\tremaining: 9.54ms\n",
      "41:\tlearn: 1062.5058114\ttotal: 44ms\tremaining: 8.38ms\n",
      "42:\tlearn: 1053.4413563\ttotal: 44.6ms\tremaining: 7.26ms\n",
      "43:\tlearn: 1046.1111700\ttotal: 45.1ms\tremaining: 6.15ms\n",
      "44:\tlearn: 1041.7530029\ttotal: 45.7ms\tremaining: 5.08ms\n",
      "45:\tlearn: 1039.1632514\ttotal: 46.3ms\tremaining: 4.03ms\n",
      "46:\tlearn: 1033.1891884\ttotal: 46.9ms\tremaining: 2.99ms\n",
      "47:\tlearn: 1026.7360184\ttotal: 47.4ms\tremaining: 1.97ms\n",
      "48:\tlearn: 1024.1274400\ttotal: 47.9ms\tremaining: 977us\n",
      "49:\tlearn: 1023.1442876\ttotal: 48.4ms\tremaining: 0us\n",
      "0:\tlearn: 1881.4258848\ttotal: 1.69ms\tremaining: 82.8ms\n",
      "1:\tlearn: 1794.0753087\ttotal: 2.17ms\tremaining: 52ms\n",
      "2:\tlearn: 1737.3830341\ttotal: 2.65ms\tremaining: 41.5ms\n",
      "3:\tlearn: 1663.0554453\ttotal: 3.11ms\tremaining: 35.8ms\n",
      "4:\tlearn: 1606.5634575\ttotal: 3.56ms\tremaining: 32.1ms\n",
      "5:\tlearn: 1577.7795967\ttotal: 4.02ms\tremaining: 29.5ms\n",
      "6:\tlearn: 1549.1658257\ttotal: 4.46ms\tremaining: 27.4ms\n",
      "7:\tlearn: 1494.9429143\ttotal: 4.92ms\tremaining: 25.8ms\n",
      "8:\tlearn: 1452.3168350\ttotal: 5.39ms\tremaining: 24.6ms\n",
      "9:\tlearn: 1423.1013230\ttotal: 5.85ms\tremaining: 23.4ms\n",
      "10:\tlearn: 1392.2149660\ttotal: 6.29ms\tremaining: 22.3ms\n",
      "11:\tlearn: 1357.2371315\ttotal: 6.72ms\tremaining: 21.3ms\n",
      "12:\tlearn: 1321.5492224\ttotal: 7.22ms\tremaining: 20.6ms\n",
      "13:\tlearn: 1293.2208685\ttotal: 7.68ms\tremaining: 19.8ms\n",
      "14:\tlearn: 1273.9445200\ttotal: 8.15ms\tremaining: 19ms\n",
      "15:\tlearn: 1259.8708811\ttotal: 8.68ms\tremaining: 18.5ms\n",
      "16:\tlearn: 1243.7773378\ttotal: 9.2ms\tremaining: 17.9ms\n",
      "17:\tlearn: 1231.6392136\ttotal: 9.66ms\tremaining: 17.2ms\n",
      "18:\tlearn: 1219.9312713\ttotal: 10.1ms\tremaining: 16.5ms\n",
      "19:\tlearn: 1209.7503363\ttotal: 10.7ms\tremaining: 16ms\n",
      "20:\tlearn: 1201.3520088\ttotal: 11.1ms\tremaining: 15.3ms\n",
      "21:\tlearn: 1189.0991741\ttotal: 11.6ms\tremaining: 14.8ms\n",
      "22:\tlearn: 1180.7071830\ttotal: 12.1ms\tremaining: 14.2ms\n",
      "23:\tlearn: 1166.9798131\ttotal: 12.5ms\tremaining: 13.5ms\n",
      "24:\tlearn: 1154.3830248\ttotal: 13ms\tremaining: 13ms\n",
      "25:\tlearn: 1139.1155544\ttotal: 13.5ms\tremaining: 12.5ms\n",
      "26:\tlearn: 1130.8791357\ttotal: 14ms\tremaining: 11.9ms\n",
      "27:\tlearn: 1123.0661630\ttotal: 14.5ms\tremaining: 11.4ms\n",
      "28:\tlearn: 1113.3816650\ttotal: 15ms\tremaining: 10.9ms\n",
      "29:\tlearn: 1106.5435613\ttotal: 15.4ms\tremaining: 10.3ms\n",
      "30:\tlearn: 1102.2801189\ttotal: 15.9ms\tremaining: 9.73ms\n",
      "31:\tlearn: 1097.7657627\ttotal: 16.4ms\tremaining: 9.21ms\n",
      "32:\tlearn: 1083.9186821\ttotal: 16.9ms\tremaining: 8.7ms\n",
      "33:\tlearn: 1078.5524385\ttotal: 17.4ms\tremaining: 8.18ms\n",
      "34:\tlearn: 1074.5292793\ttotal: 18ms\tremaining: 7.7ms\n",
      "35:\tlearn: 1069.6116581\ttotal: 18.5ms\tremaining: 7.17ms\n",
      "36:\tlearn: 1055.9817065\ttotal: 18.9ms\tremaining: 6.64ms\n",
      "37:\tlearn: 1052.0970934\ttotal: 19.3ms\tremaining: 6.11ms\n",
      "38:\tlearn: 1044.5331371\ttotal: 19.8ms\tremaining: 5.59ms\n",
      "39:\tlearn: 1035.0316430\ttotal: 20.3ms\tremaining: 5.07ms\n",
      "40:\tlearn: 1030.7210916\ttotal: 20.7ms\tremaining: 4.55ms\n",
      "41:\tlearn: 1026.4577498\ttotal: 21.2ms\tremaining: 4.04ms\n",
      "42:\tlearn: 1022.2582356\ttotal: 21.6ms\tremaining: 3.52ms\n",
      "43:\tlearn: 1013.5782644\ttotal: 22.1ms\tremaining: 3.01ms\n",
      "44:\tlearn: 1011.4674229\ttotal: 22.6ms\tremaining: 2.51ms\n",
      "45:\tlearn: 1008.4348407\ttotal: 23ms\tremaining: 2ms\n",
      "46:\tlearn: 1005.1698414\ttotal: 23.5ms\tremaining: 1.5ms\n",
      "47:\tlearn: 1001.0364595\ttotal: 24.1ms\tremaining: 1ms\n",
      "48:\tlearn: 995.2484256\ttotal: 24.6ms\tremaining: 501us\n",
      "49:\tlearn: 987.8895660\ttotal: 25ms\tremaining: 0us\n",
      "0:\tlearn: 2076.1448979\ttotal: 1.09ms\tremaining: 53.3ms\n",
      "1:\tlearn: 1958.1177835\ttotal: 1.95ms\tremaining: 46.9ms\n",
      "2:\tlearn: 1865.6554089\ttotal: 2.85ms\tremaining: 44.7ms\n",
      "3:\tlearn: 1780.0242131\ttotal: 3.75ms\tremaining: 43.1ms\n",
      "4:\tlearn: 1720.0530687\ttotal: 4.58ms\tremaining: 41.2ms\n",
      "5:\tlearn: 1667.4941571\ttotal: 5.47ms\tremaining: 40.1ms\n",
      "6:\tlearn: 1616.5417038\ttotal: 6.8ms\tremaining: 41.8ms\n",
      "7:\tlearn: 1563.3664803\ttotal: 7.86ms\tremaining: 41.2ms\n",
      "8:\tlearn: 1512.1723686\ttotal: 8.75ms\tremaining: 39.9ms\n",
      "9:\tlearn: 1472.4540021\ttotal: 9.63ms\tremaining: 38.5ms\n",
      "10:\tlearn: 1430.1100503\ttotal: 10.7ms\tremaining: 37.9ms\n",
      "11:\tlearn: 1402.8424476\ttotal: 11.6ms\tremaining: 36.6ms\n",
      "12:\tlearn: 1369.1194988\ttotal: 12.4ms\tremaining: 35.3ms\n",
      "13:\tlearn: 1339.5868848\ttotal: 13.4ms\tremaining: 34.4ms\n",
      "14:\tlearn: 1319.1181879\ttotal: 14.2ms\tremaining: 33.2ms\n",
      "15:\tlearn: 1301.2213653\ttotal: 15.3ms\tremaining: 32.5ms\n",
      "16:\tlearn: 1285.3882579\ttotal: 16.2ms\tremaining: 31.5ms\n",
      "17:\tlearn: 1268.3883898\ttotal: 17.1ms\tremaining: 30.4ms\n",
      "18:\tlearn: 1242.5049121\ttotal: 18.2ms\tremaining: 29.7ms\n",
      "19:\tlearn: 1227.8042232\ttotal: 19.1ms\tremaining: 28.7ms\n",
      "20:\tlearn: 1210.1222167\ttotal: 19.8ms\tremaining: 27.4ms\n",
      "21:\tlearn: 1201.6019457\ttotal: 21.1ms\tremaining: 26.9ms\n",
      "22:\tlearn: 1189.5937956\ttotal: 22.1ms\tremaining: 25.9ms\n",
      "23:\tlearn: 1172.7890390\ttotal: 22.8ms\tremaining: 24.7ms\n",
      "24:\tlearn: 1163.5912593\ttotal: 23.4ms\tremaining: 23.4ms\n",
      "25:\tlearn: 1152.3402465\ttotal: 24.1ms\tremaining: 22.2ms\n",
      "26:\tlearn: 1145.7359142\ttotal: 24.7ms\tremaining: 21.1ms\n",
      "27:\tlearn: 1142.7176945\ttotal: 25.4ms\tremaining: 19.9ms\n",
      "28:\tlearn: 1132.7478495\ttotal: 26ms\tremaining: 18.8ms\n",
      "29:\tlearn: 1123.9340300\ttotal: 26.6ms\tremaining: 17.7ms\n",
      "30:\tlearn: 1117.4292651\ttotal: 27.3ms\tremaining: 16.7ms\n",
      "31:\tlearn: 1112.5191350\ttotal: 27.9ms\tremaining: 15.7ms\n",
      "32:\tlearn: 1105.5760754\ttotal: 28.5ms\tremaining: 14.7ms\n",
      "33:\tlearn: 1098.7551591\ttotal: 29.1ms\tremaining: 13.7ms\n",
      "34:\tlearn: 1090.5995571\ttotal: 29.6ms\tremaining: 12.7ms\n",
      "35:\tlearn: 1085.8563952\ttotal: 30.2ms\tremaining: 11.7ms\n",
      "36:\tlearn: 1075.8248550\ttotal: 30.7ms\tremaining: 10.8ms\n",
      "37:\tlearn: 1069.9653834\ttotal: 31.2ms\tremaining: 9.86ms\n",
      "38:\tlearn: 1065.6635883\ttotal: 31.7ms\tremaining: 8.95ms\n",
      "39:\tlearn: 1057.5538014\ttotal: 32.3ms\tremaining: 8.06ms\n",
      "40:\tlearn: 1052.7436777\ttotal: 32.8ms\tremaining: 7.2ms\n",
      "41:\tlearn: 1048.6678664\ttotal: 33.3ms\tremaining: 6.34ms\n",
      "42:\tlearn: 1040.1129501\ttotal: 33.8ms\tremaining: 5.5ms\n",
      "43:\tlearn: 1035.4961697\ttotal: 34.2ms\tremaining: 4.67ms\n",
      "44:\tlearn: 1033.4482047\ttotal: 34.7ms\tremaining: 3.85ms\n",
      "45:\tlearn: 1029.1612800\ttotal: 35.2ms\tremaining: 3.06ms\n",
      "46:\tlearn: 1022.0166585\ttotal: 35.8ms\tremaining: 2.29ms\n",
      "47:\tlearn: 1015.1922467\ttotal: 36.3ms\tremaining: 1.51ms\n",
      "48:\tlearn: 1008.5867044\ttotal: 36.8ms\tremaining: 751us\n",
      "49:\tlearn: 999.9267626\ttotal: 37.4ms\tremaining: 0us\n",
      "0:\tlearn: 2069.5019945\ttotal: 863us\tremaining: 42.3ms\n",
      "1:\tlearn: 1939.0059147\ttotal: 1.31ms\tremaining: 31.5ms\n",
      "2:\tlearn: 1849.5841987\ttotal: 1.76ms\tremaining: 27.5ms\n",
      "3:\tlearn: 1743.9772281\ttotal: 2.2ms\tremaining: 25.3ms\n",
      "4:\tlearn: 1684.1980765\ttotal: 2.81ms\tremaining: 25.3ms\n",
      "5:\tlearn: 1636.1682997\ttotal: 3.42ms\tremaining: 25.1ms\n",
      "6:\tlearn: 1573.6570648\ttotal: 3.94ms\tremaining: 24.2ms\n",
      "7:\tlearn: 1517.3411829\ttotal: 4.39ms\tremaining: 23ms\n",
      "8:\tlearn: 1484.6714975\ttotal: 4.84ms\tremaining: 22.1ms\n",
      "9:\tlearn: 1447.7369272\ttotal: 5.28ms\tremaining: 21.1ms\n",
      "10:\tlearn: 1417.3399968\ttotal: 5.79ms\tremaining: 20.5ms\n",
      "11:\tlearn: 1385.2712636\ttotal: 6.24ms\tremaining: 19.7ms\n",
      "12:\tlearn: 1353.1706028\ttotal: 6.82ms\tremaining: 19.4ms\n",
      "13:\tlearn: 1327.2785837\ttotal: 7.35ms\tremaining: 18.9ms\n",
      "14:\tlearn: 1304.7677095\ttotal: 7.86ms\tremaining: 18.3ms\n",
      "15:\tlearn: 1280.9527259\ttotal: 8.36ms\tremaining: 17.8ms\n",
      "16:\tlearn: 1267.1232767\ttotal: 8.81ms\tremaining: 17.1ms\n",
      "17:\tlearn: 1246.8056906\ttotal: 9.24ms\tremaining: 16.4ms\n",
      "18:\tlearn: 1225.2190010\ttotal: 9.67ms\tremaining: 15.8ms\n",
      "19:\tlearn: 1212.1033099\ttotal: 10.2ms\tremaining: 15.3ms\n",
      "20:\tlearn: 1191.9933194\ttotal: 10.7ms\tremaining: 14.8ms\n",
      "21:\tlearn: 1176.0698360\ttotal: 11.2ms\tremaining: 14.3ms\n",
      "22:\tlearn: 1163.9759073\ttotal: 11.7ms\tremaining: 13.7ms\n",
      "23:\tlearn: 1154.7011008\ttotal: 12.3ms\tremaining: 13.3ms\n",
      "24:\tlearn: 1144.7555004\ttotal: 12.8ms\tremaining: 12.8ms\n",
      "25:\tlearn: 1133.9194107\ttotal: 13.2ms\tremaining: 12.2ms\n",
      "26:\tlearn: 1125.9506835\ttotal: 13.7ms\tremaining: 11.7ms\n",
      "27:\tlearn: 1119.2267189\ttotal: 14.2ms\tremaining: 11.2ms\n",
      "28:\tlearn: 1115.4605623\ttotal: 14.6ms\tremaining: 10.6ms\n",
      "29:\tlearn: 1105.7397473\ttotal: 15.1ms\tremaining: 10.1ms\n",
      "30:\tlearn: 1100.0428017\ttotal: 15.5ms\tremaining: 9.53ms\n",
      "31:\tlearn: 1092.4715017\ttotal: 16ms\tremaining: 9ms\n",
      "32:\tlearn: 1081.4503320\ttotal: 16.4ms\tremaining: 8.47ms\n",
      "33:\tlearn: 1074.6520965\ttotal: 17ms\tremaining: 7.98ms\n",
      "34:\tlearn: 1066.7312060\ttotal: 17.4ms\tremaining: 7.46ms\n",
      "35:\tlearn: 1060.8302334\ttotal: 17.9ms\tremaining: 6.96ms\n",
      "36:\tlearn: 1057.0414583\ttotal: 18.4ms\tremaining: 6.46ms\n",
      "37:\tlearn: 1052.5296346\ttotal: 18.8ms\tremaining: 5.95ms\n",
      "38:\tlearn: 1049.0603526\ttotal: 19.3ms\tremaining: 5.44ms\n",
      "39:\tlearn: 1039.5671757\ttotal: 19.7ms\tremaining: 4.93ms\n",
      "40:\tlearn: 1038.4400386\ttotal: 20.2ms\tremaining: 4.44ms\n",
      "41:\tlearn: 1031.4124065\ttotal: 20.7ms\tremaining: 3.94ms\n",
      "42:\tlearn: 1024.1452912\ttotal: 21.1ms\tremaining: 3.44ms\n",
      "43:\tlearn: 1017.3231123\ttotal: 21.7ms\tremaining: 2.96ms\n",
      "44:\tlearn: 1011.5590505\ttotal: 22.2ms\tremaining: 2.46ms\n",
      "45:\tlearn: 1005.2294837\ttotal: 22.6ms\tremaining: 1.97ms\n",
      "46:\tlearn: 999.7947519\ttotal: 23.2ms\tremaining: 1.48ms\n",
      "47:\tlearn: 994.0712629\ttotal: 23.7ms\tremaining: 985us\n",
      "48:\tlearn: 988.9010545\ttotal: 24.1ms\tremaining: 491us\n",
      "49:\tlearn: 984.1983124\ttotal: 24.8ms\tremaining: 0us\n",
      "0:\tlearn: 1999.5413963\ttotal: 588us\tremaining: 28.8ms\n",
      "1:\tlearn: 1910.6587988\ttotal: 1.02ms\tremaining: 24.5ms\n",
      "2:\tlearn: 1808.0209942\ttotal: 1.46ms\tremaining: 22.9ms\n",
      "3:\tlearn: 1720.7440567\ttotal: 1.9ms\tremaining: 21.8ms\n",
      "4:\tlearn: 1654.1733023\ttotal: 2.4ms\tremaining: 21.6ms\n",
      "5:\tlearn: 1603.8833207\ttotal: 2.83ms\tremaining: 20.7ms\n",
      "6:\tlearn: 1559.9308293\ttotal: 3.26ms\tremaining: 20ms\n",
      "7:\tlearn: 1511.2911479\ttotal: 3.75ms\tremaining: 19.7ms\n",
      "8:\tlearn: 1481.8758731\ttotal: 4.18ms\tremaining: 19ms\n",
      "9:\tlearn: 1429.7377888\ttotal: 4.68ms\tremaining: 18.7ms\n",
      "10:\tlearn: 1386.8406826\ttotal: 5.16ms\tremaining: 18.3ms\n",
      "11:\tlearn: 1362.5309928\ttotal: 5.59ms\tremaining: 17.7ms\n",
      "12:\tlearn: 1332.1701041\ttotal: 6.04ms\tremaining: 17.2ms\n",
      "13:\tlearn: 1302.5191806\ttotal: 6.59ms\tremaining: 16.9ms\n",
      "14:\tlearn: 1274.8201301\ttotal: 7.04ms\tremaining: 16.4ms\n",
      "15:\tlearn: 1251.9755319\ttotal: 7.53ms\tremaining: 16ms\n",
      "16:\tlearn: 1241.6575870\ttotal: 8.05ms\tremaining: 15.6ms\n",
      "17:\tlearn: 1222.8214407\ttotal: 8.54ms\tremaining: 15.2ms\n",
      "18:\tlearn: 1206.2133858\ttotal: 8.95ms\tremaining: 14.6ms\n",
      "19:\tlearn: 1187.7904784\ttotal: 9.44ms\tremaining: 14.2ms\n",
      "20:\tlearn: 1178.6525649\ttotal: 9.86ms\tremaining: 13.6ms\n",
      "21:\tlearn: 1169.4122577\ttotal: 10.4ms\tremaining: 13.2ms\n",
      "22:\tlearn: 1160.0047439\ttotal: 10.9ms\tremaining: 12.8ms\n",
      "23:\tlearn: 1143.1376852\ttotal: 11.4ms\tremaining: 12.3ms\n",
      "24:\tlearn: 1131.7654552\ttotal: 11.8ms\tremaining: 11.8ms\n",
      "25:\tlearn: 1116.2761924\ttotal: 12.2ms\tremaining: 11.3ms\n",
      "26:\tlearn: 1105.3213746\ttotal: 12.7ms\tremaining: 10.8ms\n",
      "27:\tlearn: 1092.2247193\ttotal: 13.2ms\tremaining: 10.4ms\n",
      "28:\tlearn: 1080.0699871\ttotal: 13.6ms\tremaining: 9.87ms\n",
      "29:\tlearn: 1070.7687281\ttotal: 14.1ms\tremaining: 9.37ms\n",
      "30:\tlearn: 1061.1603435\ttotal: 14.6ms\tremaining: 8.92ms\n",
      "31:\tlearn: 1059.3130905\ttotal: 15ms\tremaining: 8.44ms\n",
      "32:\tlearn: 1049.8610530\ttotal: 15.4ms\tremaining: 7.94ms\n",
      "33:\tlearn: 1045.8681153\ttotal: 15.8ms\tremaining: 7.46ms\n",
      "34:\tlearn: 1040.8075288\ttotal: 16.4ms\tremaining: 7.01ms\n",
      "35:\tlearn: 1035.5509974\ttotal: 16.8ms\tremaining: 6.52ms\n",
      "36:\tlearn: 1030.2016116\ttotal: 17.2ms\tremaining: 6.05ms\n",
      "37:\tlearn: 1024.3367444\ttotal: 17.7ms\tremaining: 5.58ms\n",
      "38:\tlearn: 1018.4541011\ttotal: 18.1ms\tremaining: 5.11ms\n",
      "39:\tlearn: 1008.9346040\ttotal: 18.6ms\tremaining: 4.64ms\n",
      "40:\tlearn: 1005.9137524\ttotal: 19.1ms\tremaining: 4.2ms\n",
      "41:\tlearn: 998.3799284\ttotal: 19.6ms\tremaining: 3.73ms\n",
      "42:\tlearn: 991.2761168\ttotal: 20ms\tremaining: 3.26ms\n",
      "43:\tlearn: 985.1790575\ttotal: 20.6ms\tremaining: 2.81ms\n",
      "44:\tlearn: 982.1702396\ttotal: 21.2ms\tremaining: 2.36ms\n",
      "45:\tlearn: 975.3953127\ttotal: 21.7ms\tremaining: 1.89ms\n",
      "46:\tlearn: 972.0951315\ttotal: 22.1ms\tremaining: 1.41ms\n",
      "47:\tlearn: 967.4042335\ttotal: 22.6ms\tremaining: 942us\n",
      "48:\tlearn: 963.7490704\ttotal: 23.1ms\tremaining: 470us\n",
      "49:\tlearn: 959.9640452\ttotal: 23.6ms\tremaining: 0us\n",
      "0:\tlearn: 2053.8785759\ttotal: 780us\tremaining: 38.2ms\n",
      "1:\tlearn: 1943.9164810\ttotal: 1.23ms\tremaining: 29.6ms\n",
      "2:\tlearn: 1845.9544912\ttotal: 1.67ms\tremaining: 26.1ms\n",
      "3:\tlearn: 1760.0965201\ttotal: 2.1ms\tremaining: 24.1ms\n",
      "4:\tlearn: 1710.5570850\ttotal: 2.75ms\tremaining: 24.7ms\n",
      "5:\tlearn: 1651.4605261\ttotal: 3.19ms\tremaining: 23.4ms\n",
      "6:\tlearn: 1614.0817494\ttotal: 3.61ms\tremaining: 22.2ms\n",
      "7:\tlearn: 1563.3669593\ttotal: 4.09ms\tremaining: 21.5ms\n",
      "8:\tlearn: 1525.4267601\ttotal: 4.59ms\tremaining: 20.9ms\n",
      "9:\tlearn: 1491.8633176\ttotal: 5.03ms\tremaining: 20.1ms\n",
      "10:\tlearn: 1464.4138028\ttotal: 5.47ms\tremaining: 19.4ms\n",
      "11:\tlearn: 1426.5281868\ttotal: 5.89ms\tremaining: 18.6ms\n",
      "12:\tlearn: 1399.1404002\ttotal: 6.32ms\tremaining: 18ms\n",
      "13:\tlearn: 1374.9051221\ttotal: 6.81ms\tremaining: 17.5ms\n",
      "14:\tlearn: 1352.3964980\ttotal: 7.29ms\tremaining: 17ms\n",
      "15:\tlearn: 1338.7900179\ttotal: 7.72ms\tremaining: 16.4ms\n",
      "16:\tlearn: 1329.7728386\ttotal: 8.21ms\tremaining: 15.9ms\n",
      "17:\tlearn: 1316.5215313\ttotal: 8.63ms\tremaining: 15.4ms\n",
      "18:\tlearn: 1299.1634668\ttotal: 9.12ms\tremaining: 14.9ms\n",
      "19:\tlearn: 1283.6003239\ttotal: 9.56ms\tremaining: 14.3ms\n",
      "20:\tlearn: 1275.4281985\ttotal: 10.1ms\tremaining: 14ms\n",
      "21:\tlearn: 1261.3140089\ttotal: 10.6ms\tremaining: 13.5ms\n",
      "22:\tlearn: 1250.0357307\ttotal: 11ms\tremaining: 12.9ms\n",
      "23:\tlearn: 1244.3672262\ttotal: 11.5ms\tremaining: 12.5ms\n",
      "24:\tlearn: 1230.3907816\ttotal: 12ms\tremaining: 12ms\n",
      "25:\tlearn: 1225.6923671\ttotal: 12.5ms\tremaining: 11.5ms\n",
      "26:\tlearn: 1216.9375343\ttotal: 12.9ms\tremaining: 11ms\n",
      "27:\tlearn: 1206.9859095\ttotal: 13.3ms\tremaining: 10.5ms\n",
      "28:\tlearn: 1197.7536681\ttotal: 13.8ms\tremaining: 10ms\n",
      "29:\tlearn: 1182.8451657\ttotal: 14.3ms\tremaining: 9.52ms\n",
      "30:\tlearn: 1172.9638214\ttotal: 14.9ms\tremaining: 9.11ms\n",
      "31:\tlearn: 1168.3219837\ttotal: 15.3ms\tremaining: 8.6ms\n",
      "32:\tlearn: 1159.7665493\ttotal: 15.8ms\tremaining: 8.14ms\n",
      "33:\tlearn: 1157.5994636\ttotal: 16.5ms\tremaining: 7.75ms\n",
      "34:\tlearn: 1154.1782899\ttotal: 16.9ms\tremaining: 7.24ms\n",
      "35:\tlearn: 1149.3883462\ttotal: 17.3ms\tremaining: 6.73ms\n",
      "36:\tlearn: 1140.2867736\ttotal: 17.7ms\tremaining: 6.23ms\n",
      "37:\tlearn: 1135.7953018\ttotal: 18.2ms\tremaining: 5.73ms\n",
      "38:\tlearn: 1132.8424819\ttotal: 18.6ms\tremaining: 5.24ms\n",
      "39:\tlearn: 1120.8230012\ttotal: 19ms\tremaining: 4.75ms\n",
      "40:\tlearn: 1118.3466138\ttotal: 19.4ms\tremaining: 4.27ms\n",
      "41:\tlearn: 1110.4630447\ttotal: 19.9ms\tremaining: 3.78ms\n",
      "42:\tlearn: 1106.6597295\ttotal: 20.3ms\tremaining: 3.3ms\n"
     ]
    },
    {
     "name": "stdout",
     "output_type": "stream",
     "text": [
      "43:\tlearn: 1099.3121928\ttotal: 20.9ms\tremaining: 2.86ms\n",
      "44:\tlearn: 1089.0367742\ttotal: 21.4ms\tremaining: 2.38ms\n",
      "45:\tlearn: 1084.8476821\ttotal: 21.9ms\tremaining: 1.91ms\n",
      "46:\tlearn: 1079.0788001\ttotal: 22.5ms\tremaining: 1.43ms\n",
      "47:\tlearn: 1071.3199430\ttotal: 23ms\tremaining: 957us\n",
      "48:\tlearn: 1065.0807369\ttotal: 23.5ms\tremaining: 479us\n",
      "49:\tlearn: 1061.5669302\ttotal: 23.9ms\tremaining: 0us\n",
      "0:\tlearn: 2041.5343751\ttotal: 984us\tremaining: 48.2ms\n",
      "1:\tlearn: 1931.9722089\ttotal: 1.47ms\tremaining: 35.4ms\n",
      "2:\tlearn: 1847.7960206\ttotal: 2.2ms\tremaining: 34.5ms\n",
      "3:\tlearn: 1755.9649330\ttotal: 2.75ms\tremaining: 31.6ms\n",
      "4:\tlearn: 1695.3863744\ttotal: 3.33ms\tremaining: 29.9ms\n",
      "5:\tlearn: 1645.2841466\ttotal: 3.8ms\tremaining: 27.9ms\n",
      "6:\tlearn: 1586.4065298\ttotal: 4.24ms\tremaining: 26.1ms\n",
      "7:\tlearn: 1546.4396064\ttotal: 4.72ms\tremaining: 24.8ms\n",
      "8:\tlearn: 1502.1902534\ttotal: 5.19ms\tremaining: 23.7ms\n",
      "9:\tlearn: 1481.1755508\ttotal: 5.69ms\tremaining: 22.8ms\n",
      "10:\tlearn: 1444.7640968\ttotal: 6.15ms\tremaining: 21.8ms\n",
      "11:\tlearn: 1406.0836259\ttotal: 6.66ms\tremaining: 21.1ms\n",
      "12:\tlearn: 1383.7228520\ttotal: 7.13ms\tremaining: 20.3ms\n",
      "13:\tlearn: 1355.1083651\ttotal: 7.59ms\tremaining: 19.5ms\n",
      "14:\tlearn: 1331.3237256\ttotal: 8.11ms\tremaining: 18.9ms\n",
      "15:\tlearn: 1319.0996923\ttotal: 8.58ms\tremaining: 18.2ms\n",
      "16:\tlearn: 1308.1148825\ttotal: 9.25ms\tremaining: 18ms\n",
      "17:\tlearn: 1295.5667850\ttotal: 9.82ms\tremaining: 17.5ms\n",
      "18:\tlearn: 1272.8857409\ttotal: 10.4ms\tremaining: 17ms\n",
      "19:\tlearn: 1257.1732514\ttotal: 11ms\tremaining: 16.5ms\n",
      "20:\tlearn: 1247.6460911\ttotal: 11.5ms\tremaining: 15.9ms\n",
      "21:\tlearn: 1236.7306321\ttotal: 12ms\tremaining: 15.2ms\n",
      "22:\tlearn: 1224.9703972\ttotal: 12.5ms\tremaining: 14.7ms\n",
      "23:\tlearn: 1211.3892828\ttotal: 13ms\tremaining: 14.1ms\n",
      "24:\tlearn: 1205.8291482\ttotal: 13.4ms\tremaining: 13.4ms\n",
      "25:\tlearn: 1197.4749819\ttotal: 14ms\tremaining: 12.9ms\n",
      "26:\tlearn: 1185.6884183\ttotal: 14.4ms\tremaining: 12.3ms\n",
      "27:\tlearn: 1174.6458192\ttotal: 14.9ms\tremaining: 11.7ms\n",
      "28:\tlearn: 1164.8808225\ttotal: 15.4ms\tremaining: 11.2ms\n",
      "29:\tlearn: 1156.0813279\ttotal: 15.9ms\tremaining: 10.6ms\n",
      "30:\tlearn: 1152.7084546\ttotal: 16.4ms\tremaining: 10.1ms\n",
      "31:\tlearn: 1146.3718105\ttotal: 16.9ms\tremaining: 9.49ms\n",
      "32:\tlearn: 1132.6985228\ttotal: 17.4ms\tremaining: 8.94ms\n",
      "33:\tlearn: 1126.0593651\ttotal: 17.9ms\tremaining: 8.41ms\n",
      "34:\tlearn: 1119.8415974\ttotal: 18.4ms\tremaining: 7.88ms\n",
      "35:\tlearn: 1113.7519193\ttotal: 18.9ms\tremaining: 7.36ms\n",
      "36:\tlearn: 1104.8817658\ttotal: 19.4ms\tremaining: 6.8ms\n",
      "37:\tlearn: 1096.6674445\ttotal: 19.8ms\tremaining: 6.26ms\n",
      "38:\tlearn: 1093.3178383\ttotal: 20.4ms\tremaining: 5.75ms\n",
      "39:\tlearn: 1087.0334924\ttotal: 20.9ms\tremaining: 5.23ms\n",
      "40:\tlearn: 1083.4609385\ttotal: 21.4ms\tremaining: 4.69ms\n",
      "41:\tlearn: 1075.8351747\ttotal: 21.9ms\tremaining: 4.17ms\n",
      "42:\tlearn: 1070.7259325\ttotal: 22.4ms\tremaining: 3.65ms\n",
      "43:\tlearn: 1063.8845492\ttotal: 22.9ms\tremaining: 3.12ms\n",
      "44:\tlearn: 1057.4775329\ttotal: 23.5ms\tremaining: 2.61ms\n",
      "45:\tlearn: 1051.6990724\ttotal: 24.2ms\tremaining: 2.11ms\n",
      "46:\tlearn: 1045.9818798\ttotal: 24.7ms\tremaining: 1.58ms\n",
      "47:\tlearn: 1040.8606744\ttotal: 25.2ms\tremaining: 1.05ms\n",
      "48:\tlearn: 1035.8752028\ttotal: 25.7ms\tremaining: 524us\n",
      "49:\tlearn: 1032.2359000\ttotal: 26.2ms\tremaining: 0us\n",
      "0:\tlearn: 2022.1505745\ttotal: 1.16ms\tremaining: 56.8ms\n",
      "1:\tlearn: 1906.7374798\ttotal: 2.08ms\tremaining: 50ms\n",
      "2:\tlearn: 1807.6624515\ttotal: 3.2ms\tremaining: 50.1ms\n",
      "3:\tlearn: 1700.5435330\ttotal: 4.22ms\tremaining: 48.5ms\n",
      "4:\tlearn: 1632.4108326\ttotal: 5.18ms\tremaining: 46.6ms\n",
      "5:\tlearn: 1581.4895304\ttotal: 6.16ms\tremaining: 45.2ms\n",
      "6:\tlearn: 1526.6265159\ttotal: 7.25ms\tremaining: 44.5ms\n",
      "7:\tlearn: 1480.0045238\ttotal: 8.31ms\tremaining: 43.7ms\n",
      "8:\tlearn: 1441.1634321\ttotal: 9.31ms\tremaining: 42.4ms\n",
      "9:\tlearn: 1413.8576923\ttotal: 10.2ms\tremaining: 41ms\n",
      "10:\tlearn: 1372.9285016\ttotal: 11.2ms\tremaining: 39.6ms\n",
      "11:\tlearn: 1338.9760189\ttotal: 12.2ms\tremaining: 38.6ms\n",
      "12:\tlearn: 1309.6578611\ttotal: 13.2ms\tremaining: 37.5ms\n",
      "13:\tlearn: 1285.9145450\ttotal: 14.1ms\tremaining: 36.2ms\n",
      "14:\tlearn: 1263.6212188\ttotal: 15.1ms\tremaining: 35.2ms\n",
      "15:\tlearn: 1245.8172368\ttotal: 16.1ms\tremaining: 34.2ms\n",
      "16:\tlearn: 1234.8329421\ttotal: 17ms\tremaining: 33ms\n",
      "17:\tlearn: 1224.8432433\ttotal: 17.9ms\tremaining: 31.8ms\n",
      "18:\tlearn: 1211.6003066\ttotal: 18.7ms\tremaining: 30.6ms\n",
      "19:\tlearn: 1199.6263634\ttotal: 19.5ms\tremaining: 29.2ms\n",
      "20:\tlearn: 1191.8916183\ttotal: 20.1ms\tremaining: 27.8ms\n",
      "21:\tlearn: 1187.3818160\ttotal: 20.8ms\tremaining: 26.5ms\n",
      "22:\tlearn: 1174.6204478\ttotal: 21.5ms\tremaining: 25.2ms\n",
      "23:\tlearn: 1163.9509750\ttotal: 22.2ms\tremaining: 24ms\n",
      "24:\tlearn: 1146.0527787\ttotal: 22.8ms\tremaining: 22.8ms\n",
      "25:\tlearn: 1141.9466400\ttotal: 23.5ms\tremaining: 21.7ms\n",
      "26:\tlearn: 1135.3600806\ttotal: 24.1ms\tremaining: 20.6ms\n",
      "27:\tlearn: 1126.3468687\ttotal: 24.8ms\tremaining: 19.4ms\n",
      "28:\tlearn: 1117.5694522\ttotal: 25.3ms\tremaining: 18.3ms\n",
      "29:\tlearn: 1107.4550946\ttotal: 25.8ms\tremaining: 17.2ms\n",
      "30:\tlearn: 1094.8908096\ttotal: 26.4ms\tremaining: 16.2ms\n",
      "31:\tlearn: 1092.0437894\ttotal: 27ms\tremaining: 15.2ms\n",
      "32:\tlearn: 1087.7910440\ttotal: 27.5ms\tremaining: 14.2ms\n",
      "33:\tlearn: 1080.9836318\ttotal: 28.1ms\tremaining: 13.2ms\n",
      "34:\tlearn: 1073.3200252\ttotal: 29.1ms\tremaining: 12.5ms\n",
      "35:\tlearn: 1067.7032052\ttotal: 29.6ms\tremaining: 11.5ms\n",
      "36:\tlearn: 1061.4903969\ttotal: 30.1ms\tremaining: 10.6ms\n",
      "37:\tlearn: 1054.2168638\ttotal: 30.6ms\tremaining: 9.67ms\n",
      "38:\tlearn: 1052.1425701\ttotal: 31.1ms\tremaining: 8.77ms\n",
      "39:\tlearn: 1044.2422292\ttotal: 31.6ms\tremaining: 7.89ms\n",
      "40:\tlearn: 1040.7796641\ttotal: 32ms\tremaining: 7.03ms\n",
      "41:\tlearn: 1034.1914776\ttotal: 32.5ms\tremaining: 6.18ms\n",
      "42:\tlearn: 1025.2736731\ttotal: 32.9ms\tremaining: 5.36ms\n",
      "43:\tlearn: 1020.3691641\ttotal: 33.4ms\tremaining: 4.55ms\n",
      "44:\tlearn: 1016.0199886\ttotal: 33.9ms\tremaining: 3.77ms\n",
      "45:\tlearn: 1010.9098632\ttotal: 34.4ms\tremaining: 2.99ms\n",
      "46:\tlearn: 999.2834034\ttotal: 34.9ms\tremaining: 2.23ms\n",
      "47:\tlearn: 994.8888182\ttotal: 35.4ms\tremaining: 1.47ms\n",
      "48:\tlearn: 992.2891382\ttotal: 35.8ms\tremaining: 731us\n",
      "49:\tlearn: 987.6331022\ttotal: 36.3ms\tremaining: 0us\n",
      "0:\tlearn: 1914.2257761\ttotal: 1.87ms\tremaining: 91.5ms\n",
      "1:\tlearn: 1809.1130501\ttotal: 2.34ms\tremaining: 56.2ms\n",
      "2:\tlearn: 1725.0190710\ttotal: 2.8ms\tremaining: 43.9ms\n",
      "3:\tlearn: 1657.1195357\ttotal: 3.26ms\tremaining: 37.5ms\n",
      "4:\tlearn: 1608.8760904\ttotal: 3.74ms\tremaining: 33.7ms\n",
      "5:\tlearn: 1549.4639274\ttotal: 4.27ms\tremaining: 31.3ms\n",
      "6:\tlearn: 1509.1468882\ttotal: 4.75ms\tremaining: 29.2ms\n",
      "7:\tlearn: 1471.7492436\ttotal: 5.21ms\tremaining: 27.4ms\n",
      "8:\tlearn: 1439.0324181\ttotal: 5.68ms\tremaining: 25.9ms\n",
      "9:\tlearn: 1400.9742676\ttotal: 6.16ms\tremaining: 24.6ms\n",
      "10:\tlearn: 1356.0304783\ttotal: 6.63ms\tremaining: 23.5ms\n",
      "11:\tlearn: 1333.6567670\ttotal: 7.29ms\tremaining: 23.1ms\n",
      "12:\tlearn: 1308.9377715\ttotal: 7.81ms\tremaining: 22.2ms\n",
      "13:\tlearn: 1291.7443431\ttotal: 8.27ms\tremaining: 21.3ms\n",
      "14:\tlearn: 1261.6024274\ttotal: 8.72ms\tremaining: 20.4ms\n",
      "15:\tlearn: 1247.5056540\ttotal: 9.18ms\tremaining: 19.5ms\n",
      "16:\tlearn: 1235.6387282\ttotal: 9.7ms\tremaining: 18.8ms\n",
      "17:\tlearn: 1216.3870375\ttotal: 10.3ms\tremaining: 18.3ms\n",
      "18:\tlearn: 1202.4065440\ttotal: 10.8ms\tremaining: 17.6ms\n",
      "19:\tlearn: 1184.5467119\ttotal: 11.4ms\tremaining: 17.1ms\n",
      "20:\tlearn: 1160.4609536\ttotal: 11.9ms\tremaining: 16.5ms\n",
      "21:\tlearn: 1152.6253047\ttotal: 12.4ms\tremaining: 15.8ms\n",
      "22:\tlearn: 1142.2490369\ttotal: 12.9ms\tremaining: 15.1ms\n",
      "23:\tlearn: 1130.6219378\ttotal: 13.4ms\tremaining: 14.5ms\n",
      "24:\tlearn: 1111.8722653\ttotal: 14ms\tremaining: 14ms\n",
      "25:\tlearn: 1104.8394013\ttotal: 14.4ms\tremaining: 13.3ms\n",
      "26:\tlearn: 1095.5471019\ttotal: 14.9ms\tremaining: 12.7ms\n",
      "27:\tlearn: 1091.0956317\ttotal: 15.5ms\tremaining: 12.1ms\n",
      "28:\tlearn: 1084.2608826\ttotal: 16ms\tremaining: 11.6ms\n",
      "29:\tlearn: 1076.2746510\ttotal: 16.4ms\tremaining: 11ms\n",
      "30:\tlearn: 1072.0477173\ttotal: 16.9ms\tremaining: 10.4ms\n",
      "31:\tlearn: 1067.8788950\ttotal: 17.5ms\tremaining: 9.82ms\n",
      "32:\tlearn: 1055.8884136\ttotal: 17.9ms\tremaining: 9.23ms\n",
      "33:\tlearn: 1051.2901985\ttotal: 18.5ms\tremaining: 8.7ms\n",
      "34:\tlearn: 1042.2379716\ttotal: 19ms\tremaining: 8.15ms\n",
      "35:\tlearn: 1036.2278996\ttotal: 19.6ms\tremaining: 7.61ms\n",
      "36:\tlearn: 1030.9934652\ttotal: 20.1ms\tremaining: 7.07ms\n",
      "37:\tlearn: 1025.8390340\ttotal: 20.7ms\tremaining: 6.53ms\n",
      "38:\tlearn: 1022.6679752\ttotal: 21.2ms\tremaining: 5.97ms\n",
      "39:\tlearn: 1015.9552042\ttotal: 21.6ms\tremaining: 5.4ms\n",
      "40:\tlearn: 1010.6723594\ttotal: 22.1ms\tremaining: 4.84ms\n",
      "41:\tlearn: 1006.9502601\ttotal: 22.5ms\tremaining: 4.29ms\n",
      "42:\tlearn: 996.7138072\ttotal: 23ms\tremaining: 3.75ms\n",
      "43:\tlearn: 992.2855037\ttotal: 23.5ms\tremaining: 3.2ms\n",
      "44:\tlearn: 987.8176264\ttotal: 24.2ms\tremaining: 2.68ms\n",
      "45:\tlearn: 984.1889043\ttotal: 24.8ms\tremaining: 2.15ms\n",
      "46:\tlearn: 981.5723478\ttotal: 25.3ms\tremaining: 1.61ms\n",
      "47:\tlearn: 979.1281337\ttotal: 25.8ms\tremaining: 1.07ms\n",
      "48:\tlearn: 975.6953391\ttotal: 26.3ms\tremaining: 536us\n",
      "49:\tlearn: 971.8426730\ttotal: 26.7ms\tremaining: 0us\n",
      "0:\tlearn: 1860.5542546\ttotal: 602us\tremaining: 29.5ms\n",
      "1:\tlearn: 1741.1687746\ttotal: 1.06ms\tremaining: 25.4ms\n",
      "2:\tlearn: 1670.0276887\ttotal: 1.53ms\tremaining: 24ms\n",
      "3:\tlearn: 1585.1900983\ttotal: 1.98ms\tremaining: 22.8ms\n",
      "4:\tlearn: 1526.9497899\ttotal: 2.44ms\tremaining: 22ms\n",
      "5:\tlearn: 1465.9372532\ttotal: 3.05ms\tremaining: 22.4ms\n",
      "6:\tlearn: 1413.7569647\ttotal: 3.52ms\tremaining: 21.6ms\n",
      "7:\tlearn: 1373.8537747\ttotal: 3.98ms\tremaining: 20.9ms\n",
      "8:\tlearn: 1335.4375213\ttotal: 4.43ms\tremaining: 20.2ms\n",
      "9:\tlearn: 1304.3845390\ttotal: 4.89ms\tremaining: 19.6ms\n",
      "10:\tlearn: 1260.9547873\ttotal: 5.34ms\tremaining: 19ms\n",
      "11:\tlearn: 1233.8280327\ttotal: 5.8ms\tremaining: 18.4ms\n",
      "12:\tlearn: 1212.0205499\ttotal: 6.24ms\tremaining: 17.8ms\n",
      "13:\tlearn: 1190.9871352\ttotal: 6.69ms\tremaining: 17.2ms\n",
      "14:\tlearn: 1174.6499240\ttotal: 7.27ms\tremaining: 17ms\n",
      "15:\tlearn: 1159.3704935\ttotal: 7.8ms\tremaining: 16.6ms\n",
      "16:\tlearn: 1149.4606556\ttotal: 8.32ms\tremaining: 16.2ms\n",
      "17:\tlearn: 1134.7162908\ttotal: 8.79ms\tremaining: 15.6ms\n",
      "18:\tlearn: 1122.1940120\ttotal: 9.24ms\tremaining: 15.1ms\n",
      "19:\tlearn: 1109.3759708\ttotal: 9.75ms\tremaining: 14.6ms\n",
      "20:\tlearn: 1092.5568539\ttotal: 10.2ms\tremaining: 14.1ms\n",
      "21:\tlearn: 1085.7626075\ttotal: 10.8ms\tremaining: 13.7ms\n",
      "22:\tlearn: 1078.0078366\ttotal: 11.3ms\tremaining: 13.2ms\n",
      "23:\tlearn: 1070.8562195\ttotal: 11.8ms\tremaining: 12.8ms\n",
      "24:\tlearn: 1065.7968026\ttotal: 12.3ms\tremaining: 12.3ms\n",
      "25:\tlearn: 1056.5549277\ttotal: 12.7ms\tremaining: 11.8ms\n",
      "26:\tlearn: 1044.2923455\ttotal: 13.3ms\tremaining: 11.3ms\n",
      "27:\tlearn: 1037.0708240\ttotal: 13.8ms\tremaining: 10.8ms\n",
      "28:\tlearn: 1028.5500644\ttotal: 14.2ms\tremaining: 10.3ms\n",
      "29:\tlearn: 1025.1490317\ttotal: 14.7ms\tremaining: 9.79ms\n",
      "30:\tlearn: 1019.5798692\ttotal: 15.3ms\tremaining: 9.4ms\n",
      "31:\tlearn: 1012.4566816\ttotal: 15.8ms\tremaining: 8.89ms\n",
      "32:\tlearn: 1004.9372173\ttotal: 16.4ms\tremaining: 8.43ms\n",
      "33:\tlearn: 1002.8063069\ttotal: 16.9ms\tremaining: 7.95ms\n",
      "34:\tlearn: 999.7150912\ttotal: 17.4ms\tremaining: 7.46ms\n",
      "35:\tlearn: 991.0835282\ttotal: 17.8ms\tremaining: 6.94ms\n",
      "36:\tlearn: 986.1863997\ttotal: 18.5ms\tremaining: 6.49ms\n",
      "37:\tlearn: 979.4155747\ttotal: 18.9ms\tremaining: 5.98ms\n",
      "38:\tlearn: 975.2596880\ttotal: 19.4ms\tremaining: 5.47ms\n",
      "39:\tlearn: 972.5463556\ttotal: 19.8ms\tremaining: 4.96ms\n",
      "40:\tlearn: 969.3578030\ttotal: 20.3ms\tremaining: 4.46ms\n",
      "41:\tlearn: 964.6344056\ttotal: 20.7ms\tremaining: 3.95ms\n",
      "42:\tlearn: 955.3671218\ttotal: 21.2ms\tremaining: 3.45ms\n",
      "43:\tlearn: 953.4826925\ttotal: 21.6ms\tremaining: 2.95ms\n",
      "44:\tlearn: 945.5808484\ttotal: 22.1ms\tremaining: 2.46ms\n",
      "45:\tlearn: 940.1907646\ttotal: 22.6ms\tremaining: 1.96ms\n",
      "46:\tlearn: 934.2564806\ttotal: 23.1ms\tremaining: 1.47ms\n",
      "47:\tlearn: 929.1205137\ttotal: 23.5ms\tremaining: 980us\n",
      "48:\tlearn: 925.5751169\ttotal: 24ms\tremaining: 490us\n",
      "49:\tlearn: 921.1317669\ttotal: 24.5ms\tremaining: 0us\n",
      "0:\tlearn: 2051.9670886\ttotal: 751us\tremaining: 36.8ms\n",
      "1:\tlearn: 1946.5480847\ttotal: 1.41ms\tremaining: 33.9ms\n",
      "2:\tlearn: 1848.1937007\ttotal: 2.12ms\tremaining: 33.2ms\n",
      "3:\tlearn: 1764.4405459\ttotal: 2.8ms\tremaining: 32.2ms\n",
      "4:\tlearn: 1713.9728505\ttotal: 3.39ms\tremaining: 30.5ms\n",
      "5:\tlearn: 1673.7286355\ttotal: 4.04ms\tremaining: 29.7ms\n",
      "6:\tlearn: 1619.1279826\ttotal: 4.76ms\tremaining: 29.2ms\n",
      "7:\tlearn: 1570.1727690\ttotal: 5.47ms\tremaining: 28.7ms\n",
      "8:\tlearn: 1535.8143218\ttotal: 6.12ms\tremaining: 27.9ms\n",
      "9:\tlearn: 1498.6768275\ttotal: 6.62ms\tremaining: 26.5ms\n",
      "10:\tlearn: 1449.6600248\ttotal: 7.12ms\tremaining: 25.2ms\n",
      "11:\tlearn: 1419.4174813\ttotal: 7.69ms\tremaining: 24.3ms\n",
      "12:\tlearn: 1394.9182827\ttotal: 8.26ms\tremaining: 23.5ms\n",
      "13:\tlearn: 1371.2210449\ttotal: 8.76ms\tremaining: 22.5ms\n",
      "14:\tlearn: 1350.9044982\ttotal: 9.35ms\tremaining: 21.8ms\n",
      "15:\tlearn: 1329.5242434\ttotal: 9.85ms\tremaining: 20.9ms\n",
      "16:\tlearn: 1318.5315457\ttotal: 10.3ms\tremaining: 20.1ms\n",
      "17:\tlearn: 1303.2793636\ttotal: 10.9ms\tremaining: 19.4ms\n",
      "18:\tlearn: 1285.0846928\ttotal: 11.5ms\tremaining: 18.7ms\n",
      "19:\tlearn: 1273.5956254\ttotal: 11.9ms\tremaining: 17.9ms\n",
      "20:\tlearn: 1264.5632118\ttotal: 12.4ms\tremaining: 17.1ms\n",
      "21:\tlearn: 1252.1191928\ttotal: 12.9ms\tremaining: 16.4ms\n",
      "22:\tlearn: 1241.6430817\ttotal: 13.3ms\tremaining: 15.6ms\n",
      "23:\tlearn: 1233.3280463\ttotal: 13.7ms\tremaining: 14.9ms\n",
      "24:\tlearn: 1225.2729825\ttotal: 14.2ms\tremaining: 14.2ms\n",
      "25:\tlearn: 1216.8464483\ttotal: 14.7ms\tremaining: 13.6ms\n",
      "26:\tlearn: 1208.9081101\ttotal: 15.2ms\tremaining: 12.9ms\n",
      "27:\tlearn: 1198.5522681\ttotal: 15.7ms\tremaining: 12.3ms\n",
      "28:\tlearn: 1190.2036130\ttotal: 16.1ms\tremaining: 11.7ms\n",
      "29:\tlearn: 1179.8735509\ttotal: 16.6ms\tremaining: 11.1ms\n",
      "30:\tlearn: 1163.8560140\ttotal: 17ms\tremaining: 10.4ms\n",
      "31:\tlearn: 1156.7805230\ttotal: 17.5ms\tremaining: 9.83ms\n",
      "32:\tlearn: 1143.9667059\ttotal: 18ms\tremaining: 9.26ms\n",
      "33:\tlearn: 1141.1244747\ttotal: 18.5ms\tremaining: 8.7ms\n",
      "34:\tlearn: 1137.5648030\ttotal: 19ms\tremaining: 8.14ms\n",
      "35:\tlearn: 1126.3832665\ttotal: 19.5ms\tremaining: 7.58ms\n",
      "36:\tlearn: 1119.9843741\ttotal: 20ms\tremaining: 7.03ms\n",
      "37:\tlearn: 1112.4236303\ttotal: 20.4ms\tremaining: 6.46ms\n",
      "38:\tlearn: 1108.5306743\ttotal: 20.9ms\tremaining: 5.91ms\n",
      "39:\tlearn: 1099.9224394\ttotal: 21.6ms\tremaining: 5.4ms\n",
      "40:\tlearn: 1097.3930800\ttotal: 22.1ms\tremaining: 4.84ms\n",
      "41:\tlearn: 1088.9736353\ttotal: 22.5ms\tremaining: 4.28ms\n",
      "42:\tlearn: 1082.9075948\ttotal: 22.9ms\tremaining: 3.73ms\n",
      "43:\tlearn: 1075.2080955\ttotal: 23.4ms\tremaining: 3.19ms\n",
      "44:\tlearn: 1070.5486616\ttotal: 23.9ms\tremaining: 2.66ms\n",
      "45:\tlearn: 1065.1580522\ttotal: 24.5ms\tremaining: 2.13ms\n",
      "46:\tlearn: 1062.5782774\ttotal: 25ms\tremaining: 1.59ms\n",
      "47:\tlearn: 1057.3793939\ttotal: 25.5ms\tremaining: 1.06ms\n",
      "48:\tlearn: 1050.2853657\ttotal: 25.9ms\tremaining: 528us\n",
      "49:\tlearn: 1043.8735416\ttotal: 26.4ms\tremaining: 0us\n",
      "0:\tlearn: 2024.5060243\ttotal: 806us\tremaining: 39.5ms\n",
      "1:\tlearn: 1931.3005627\ttotal: 1.3ms\tremaining: 31.1ms\n",
      "2:\tlearn: 1842.5684140\ttotal: 1.75ms\tremaining: 27.5ms\n",
      "3:\tlearn: 1754.4227220\ttotal: 2.22ms\tremaining: 25.6ms\n",
      "4:\tlearn: 1700.3322920\ttotal: 2.68ms\tremaining: 24.1ms\n",
      "5:\tlearn: 1636.4181872\ttotal: 3.14ms\tremaining: 23ms\n",
      "6:\tlearn: 1592.8403494\ttotal: 3.57ms\tremaining: 22ms\n",
      "7:\tlearn: 1542.5282519\ttotal: 4.03ms\tremaining: 21.2ms\n",
      "8:\tlearn: 1508.4973547\ttotal: 4.49ms\tremaining: 20.4ms\n",
      "9:\tlearn: 1472.9681966\ttotal: 4.95ms\tremaining: 19.8ms\n",
      "10:\tlearn: 1434.0760230\ttotal: 5.4ms\tremaining: 19.1ms\n",
      "11:\tlearn: 1405.6963295\ttotal: 5.87ms\tremaining: 18.6ms\n",
      "12:\tlearn: 1368.8795045\ttotal: 6.33ms\tremaining: 18ms\n",
      "13:\tlearn: 1344.5749332\ttotal: 6.85ms\tremaining: 17.6ms\n",
      "14:\tlearn: 1323.5553973\ttotal: 7.31ms\tremaining: 17.1ms\n",
      "15:\tlearn: 1306.2695106\ttotal: 7.87ms\tremaining: 16.7ms\n",
      "16:\tlearn: 1293.8373709\ttotal: 8.35ms\tremaining: 16.2ms\n",
      "17:\tlearn: 1283.7058156\ttotal: 9.02ms\tremaining: 16ms\n"
     ]
    },
    {
     "name": "stdout",
     "output_type": "stream",
     "text": [
      "18:\tlearn: 1263.1419035\ttotal: 10ms\tremaining: 16.4ms\n",
      "19:\tlearn: 1250.5600501\ttotal: 10.6ms\tremaining: 15.9ms\n",
      "20:\tlearn: 1237.8092705\ttotal: 11.3ms\tremaining: 15.6ms\n",
      "21:\tlearn: 1227.6490500\ttotal: 11.8ms\tremaining: 15.1ms\n",
      "22:\tlearn: 1218.7787195\ttotal: 12.3ms\tremaining: 14.5ms\n",
      "23:\tlearn: 1204.6905799\ttotal: 12.8ms\tremaining: 13.9ms\n",
      "24:\tlearn: 1198.2125941\ttotal: 13.3ms\tremaining: 13.3ms\n",
      "25:\tlearn: 1183.7818599\ttotal: 13.7ms\tremaining: 12.7ms\n",
      "26:\tlearn: 1174.6000495\ttotal: 14.2ms\tremaining: 12.1ms\n",
      "27:\tlearn: 1165.3610372\ttotal: 14.6ms\tremaining: 11.5ms\n",
      "28:\tlearn: 1156.9776218\ttotal: 15.1ms\tremaining: 10.9ms\n",
      "29:\tlearn: 1148.7932027\ttotal: 15.5ms\tremaining: 10.4ms\n",
      "30:\tlearn: 1139.7591184\ttotal: 16.1ms\tremaining: 9.85ms\n",
      "31:\tlearn: 1133.4908503\ttotal: 16.6ms\tremaining: 9.33ms\n",
      "32:\tlearn: 1120.3527636\ttotal: 17ms\tremaining: 8.77ms\n",
      "33:\tlearn: 1116.1948124\ttotal: 17.5ms\tremaining: 8.22ms\n",
      "34:\tlearn: 1110.2108152\ttotal: 18ms\tremaining: 7.71ms\n",
      "35:\tlearn: 1103.8583780\ttotal: 18.4ms\tremaining: 7.16ms\n",
      "36:\tlearn: 1098.5214564\ttotal: 18.9ms\tremaining: 6.65ms\n",
      "37:\tlearn: 1093.6218974\ttotal: 19.4ms\tremaining: 6.14ms\n",
      "38:\tlearn: 1087.4615652\ttotal: 19.9ms\tremaining: 5.61ms\n",
      "39:\tlearn: 1077.6352095\ttotal: 20.3ms\tremaining: 5.08ms\n",
      "40:\tlearn: 1073.5713126\ttotal: 20.8ms\tremaining: 4.56ms\n",
      "41:\tlearn: 1065.3602752\ttotal: 21.4ms\tremaining: 4.07ms\n",
      "42:\tlearn: 1057.1437298\ttotal: 22ms\tremaining: 3.58ms\n",
      "43:\tlearn: 1049.3398009\ttotal: 22.5ms\tremaining: 3.07ms\n",
      "44:\tlearn: 1045.9292556\ttotal: 23.2ms\tremaining: 2.58ms\n",
      "45:\tlearn: 1038.7087416\ttotal: 23.6ms\tremaining: 2.06ms\n",
      "46:\tlearn: 1034.2786436\ttotal: 24.1ms\tremaining: 1.54ms\n",
      "47:\tlearn: 1027.7735496\ttotal: 24.5ms\tremaining: 1.02ms\n",
      "48:\tlearn: 1021.2813495\ttotal: 25.1ms\tremaining: 511us\n",
      "49:\tlearn: 1015.3960036\ttotal: 25.5ms\tremaining: 0us\n",
      "0:\tlearn: 1989.9202547\ttotal: 889us\tremaining: 43.6ms\n",
      "1:\tlearn: 1887.8077474\ttotal: 1.47ms\tremaining: 35.2ms\n",
      "2:\tlearn: 1801.5272653\ttotal: 1.96ms\tremaining: 30.8ms\n",
      "3:\tlearn: 1717.0658129\ttotal: 2.47ms\tremaining: 28.4ms\n",
      "4:\tlearn: 1659.1044385\ttotal: 2.91ms\tremaining: 26.2ms\n",
      "5:\tlearn: 1605.8618693\ttotal: 3.48ms\tremaining: 25.5ms\n",
      "6:\tlearn: 1556.4133919\ttotal: 3.97ms\tremaining: 24.4ms\n",
      "7:\tlearn: 1507.6598478\ttotal: 4.46ms\tremaining: 23.4ms\n",
      "8:\tlearn: 1478.2024247\ttotal: 4.9ms\tremaining: 22.3ms\n",
      "9:\tlearn: 1450.0727229\ttotal: 5.33ms\tremaining: 21.3ms\n",
      "10:\tlearn: 1425.2546226\ttotal: 5.76ms\tremaining: 20.4ms\n",
      "11:\tlearn: 1394.2049669\ttotal: 6.26ms\tremaining: 19.8ms\n",
      "12:\tlearn: 1372.3458568\ttotal: 6.68ms\tremaining: 19ms\n",
      "13:\tlearn: 1347.1773179\ttotal: 7.18ms\tremaining: 18.5ms\n",
      "14:\tlearn: 1329.7805366\ttotal: 7.64ms\tremaining: 17.8ms\n",
      "15:\tlearn: 1300.3274394\ttotal: 8.08ms\tremaining: 17.2ms\n",
      "16:\tlearn: 1285.2699671\ttotal: 8.63ms\tremaining: 16.8ms\n",
      "17:\tlearn: 1264.8442192\ttotal: 9.08ms\tremaining: 16.1ms\n",
      "18:\tlearn: 1248.9839322\ttotal: 9.5ms\tremaining: 15.5ms\n",
      "19:\tlearn: 1235.2420899\ttotal: 10ms\tremaining: 15ms\n",
      "20:\tlearn: 1213.3088359\ttotal: 10.5ms\tremaining: 14.5ms\n",
      "21:\tlearn: 1206.2742502\ttotal: 11ms\tremaining: 14ms\n",
      "22:\tlearn: 1196.0144517\ttotal: 11.5ms\tremaining: 13.5ms\n",
      "23:\tlearn: 1182.5926505\ttotal: 12ms\tremaining: 13ms\n",
      "24:\tlearn: 1170.5170380\ttotal: 12.6ms\tremaining: 12.6ms\n",
      "25:\tlearn: 1152.8318104\ttotal: 13.1ms\tremaining: 12.1ms\n",
      "26:\tlearn: 1144.6964176\ttotal: 14.5ms\tremaining: 12.3ms\n",
      "27:\tlearn: 1134.3628202\ttotal: 15ms\tremaining: 11.8ms\n",
      "28:\tlearn: 1129.8980896\ttotal: 15.5ms\tremaining: 11.2ms\n",
      "29:\tlearn: 1113.5787638\ttotal: 15.9ms\tremaining: 10.6ms\n",
      "30:\tlearn: 1102.1486058\ttotal: 16.4ms\tremaining: 10.1ms\n",
      "31:\tlearn: 1092.7671828\ttotal: 16.9ms\tremaining: 9.49ms\n",
      "32:\tlearn: 1082.0053914\ttotal: 17.6ms\tremaining: 9.07ms\n",
      "33:\tlearn: 1075.3308366\ttotal: 18.2ms\tremaining: 8.57ms\n",
      "34:\tlearn: 1070.7142674\ttotal: 18.7ms\tremaining: 8.03ms\n",
      "35:\tlearn: 1061.2856836\ttotal: 19.2ms\tremaining: 7.46ms\n",
      "36:\tlearn: 1056.7252397\ttotal: 19.7ms\tremaining: 6.92ms\n",
      "37:\tlearn: 1051.9258244\ttotal: 20.2ms\tremaining: 6.36ms\n",
      "38:\tlearn: 1048.0125028\ttotal: 20.7ms\tremaining: 5.83ms\n",
      "39:\tlearn: 1038.0952399\ttotal: 21.2ms\tremaining: 5.3ms\n",
      "40:\tlearn: 1033.7630436\ttotal: 21.7ms\tremaining: 4.77ms\n",
      "41:\tlearn: 1027.0771526\ttotal: 22.2ms\tremaining: 4.23ms\n",
      "42:\tlearn: 1022.7063952\ttotal: 22.6ms\tremaining: 3.69ms\n",
      "43:\tlearn: 1013.8904940\ttotal: 23.1ms\tremaining: 3.16ms\n",
      "44:\tlearn: 1006.9412790\ttotal: 23.6ms\tremaining: 2.62ms\n",
      "45:\tlearn: 1000.3844962\ttotal: 24.4ms\tremaining: 2.12ms\n",
      "46:\tlearn: 995.7319962\ttotal: 25.4ms\tremaining: 1.62ms\n",
      "47:\tlearn: 992.8051941\ttotal: 26.1ms\tremaining: 1.09ms\n",
      "48:\tlearn: 989.4077092\ttotal: 26.7ms\tremaining: 544us\n",
      "49:\tlearn: 983.0382195\ttotal: 27.2ms\tremaining: 0us\n",
      "0:\tlearn: 1950.4849291\ttotal: 843us\tremaining: 41.4ms\n",
      "1:\tlearn: 1848.1893220\ttotal: 1.32ms\tremaining: 31.6ms\n",
      "2:\tlearn: 1758.4835665\ttotal: 1.78ms\tremaining: 27.9ms\n",
      "3:\tlearn: 1676.4379512\ttotal: 2.24ms\tremaining: 25.8ms\n",
      "4:\tlearn: 1620.4422816\ttotal: 2.71ms\tremaining: 24.4ms\n",
      "5:\tlearn: 1574.3788810\ttotal: 3.18ms\tremaining: 23.3ms\n",
      "6:\tlearn: 1521.9854888\ttotal: 3.62ms\tremaining: 22.2ms\n",
      "7:\tlearn: 1479.6802742\ttotal: 4.08ms\tremaining: 21.4ms\n",
      "8:\tlearn: 1458.4916310\ttotal: 4.57ms\tremaining: 20.8ms\n",
      "9:\tlearn: 1435.5498519\ttotal: 5.03ms\tremaining: 20.1ms\n",
      "10:\tlearn: 1405.9442796\ttotal: 5.49ms\tremaining: 19.5ms\n",
      "11:\tlearn: 1376.5137837\ttotal: 5.96ms\tremaining: 18.9ms\n",
      "12:\tlearn: 1342.1169245\ttotal: 6.64ms\tremaining: 18.9ms\n",
      "13:\tlearn: 1329.5115611\ttotal: 7.1ms\tremaining: 18.3ms\n",
      "14:\tlearn: 1316.2245563\ttotal: 7.56ms\tremaining: 17.6ms\n",
      "15:\tlearn: 1302.3456453\ttotal: 8.02ms\tremaining: 17ms\n",
      "16:\tlearn: 1284.0549893\ttotal: 8.48ms\tremaining: 16.5ms\n",
      "17:\tlearn: 1260.6476232\ttotal: 8.93ms\tremaining: 15.9ms\n",
      "18:\tlearn: 1246.5859419\ttotal: 13.2ms\tremaining: 21.5ms\n",
      "19:\tlearn: 1230.5774982\ttotal: 13.7ms\tremaining: 20.5ms\n",
      "20:\tlearn: 1221.6538128\ttotal: 14.2ms\tremaining: 19.5ms\n",
      "21:\tlearn: 1213.6190950\ttotal: 14.7ms\tremaining: 18.7ms\n",
      "22:\tlearn: 1204.5768122\ttotal: 15.2ms\tremaining: 17.8ms\n",
      "23:\tlearn: 1190.5065270\ttotal: 15.6ms\tremaining: 16.9ms\n",
      "24:\tlearn: 1183.1536594\ttotal: 16.1ms\tremaining: 16.1ms\n",
      "25:\tlearn: 1165.4495844\ttotal: 16.6ms\tremaining: 15.3ms\n",
      "26:\tlearn: 1157.0982144\ttotal: 17.1ms\tremaining: 14.5ms\n",
      "27:\tlearn: 1144.1912366\ttotal: 17.5ms\tremaining: 13.8ms\n",
      "28:\tlearn: 1132.8996595\ttotal: 18ms\tremaining: 13ms\n",
      "29:\tlearn: 1126.1681592\ttotal: 18.5ms\tremaining: 12.3ms\n",
      "30:\tlearn: 1112.6764829\ttotal: 19ms\tremaining: 11.7ms\n",
      "31:\tlearn: 1110.1851963\ttotal: 19.5ms\tremaining: 11ms\n",
      "32:\tlearn: 1100.5130149\ttotal: 20ms\tremaining: 10.3ms\n",
      "33:\tlearn: 1098.5078434\ttotal: 20.4ms\tremaining: 9.6ms\n",
      "34:\tlearn: 1094.6670633\ttotal: 20.9ms\tremaining: 8.97ms\n",
      "35:\tlearn: 1084.4804558\ttotal: 21.4ms\tremaining: 8.33ms\n",
      "36:\tlearn: 1076.1682507\ttotal: 21.9ms\tremaining: 7.7ms\n",
      "37:\tlearn: 1070.6257505\ttotal: 23.1ms\tremaining: 7.28ms\n",
      "38:\tlearn: 1067.5163296\ttotal: 24ms\tremaining: 6.77ms\n",
      "39:\tlearn: 1061.3581681\ttotal: 24.6ms\tremaining: 6.15ms\n",
      "40:\tlearn: 1057.1218370\ttotal: 25.1ms\tremaining: 5.51ms\n",
      "41:\tlearn: 1051.4090551\ttotal: 25.5ms\tremaining: 4.86ms\n",
      "42:\tlearn: 1042.0962786\ttotal: 26ms\tremaining: 4.23ms\n",
      "43:\tlearn: 1036.7658119\ttotal: 26.4ms\tremaining: 3.61ms\n",
      "44:\tlearn: 1030.9312566\ttotal: 26.9ms\tremaining: 2.99ms\n",
      "45:\tlearn: 1024.6898577\ttotal: 27.4ms\tremaining: 2.38ms\n",
      "46:\tlearn: 1017.6584588\ttotal: 28ms\tremaining: 1.79ms\n",
      "47:\tlearn: 1013.3948215\ttotal: 28.8ms\tremaining: 1.2ms\n",
      "48:\tlearn: 1007.7799490\ttotal: 29.3ms\tremaining: 598us\n",
      "49:\tlearn: 1003.1066237\ttotal: 29.8ms\tremaining: 0us\n",
      "0:\tlearn: 1937.6666980\ttotal: 640us\tremaining: 31.4ms\n",
      "1:\tlearn: 1850.6372090\ttotal: 1.33ms\tremaining: 31.8ms\n",
      "2:\tlearn: 1774.2298643\ttotal: 1.79ms\tremaining: 28ms\n",
      "3:\tlearn: 1696.7495064\ttotal: 2.31ms\tremaining: 26.5ms\n",
      "4:\tlearn: 1640.9104310\ttotal: 2.83ms\tremaining: 25.5ms\n",
      "5:\tlearn: 1592.3268737\ttotal: 3.29ms\tremaining: 24.2ms\n",
      "6:\tlearn: 1561.0120725\ttotal: 3.78ms\tremaining: 23.2ms\n",
      "7:\tlearn: 1522.0655917\ttotal: 4.23ms\tremaining: 22.2ms\n",
      "8:\tlearn: 1484.9430383\ttotal: 4.71ms\tremaining: 21.4ms\n",
      "9:\tlearn: 1452.6011274\ttotal: 5.18ms\tremaining: 20.7ms\n",
      "10:\tlearn: 1429.0991024\ttotal: 5.7ms\tremaining: 20.2ms\n",
      "11:\tlearn: 1402.6087054\ttotal: 6.35ms\tremaining: 20.1ms\n",
      "12:\tlearn: 1376.1139246\ttotal: 7.4ms\tremaining: 21.1ms\n",
      "13:\tlearn: 1358.2713504\ttotal: 7.9ms\tremaining: 20.3ms\n",
      "14:\tlearn: 1339.3436078\ttotal: 8.37ms\tremaining: 19.5ms\n",
      "15:\tlearn: 1323.0625250\ttotal: 8.83ms\tremaining: 18.8ms\n",
      "16:\tlearn: 1314.4903737\ttotal: 9.26ms\tremaining: 18ms\n",
      "17:\tlearn: 1299.0301502\ttotal: 9.71ms\tremaining: 17.3ms\n",
      "18:\tlearn: 1283.7236097\ttotal: 10.2ms\tremaining: 16.6ms\n",
      "19:\tlearn: 1272.9779426\ttotal: 10.7ms\tremaining: 16.1ms\n",
      "20:\tlearn: 1245.9249546\ttotal: 11.2ms\tremaining: 15.4ms\n",
      "21:\tlearn: 1235.6784457\ttotal: 11.6ms\tremaining: 14.8ms\n",
      "22:\tlearn: 1224.0203112\ttotal: 12.1ms\tremaining: 14.2ms\n",
      "23:\tlearn: 1213.6483120\ttotal: 12.6ms\tremaining: 13.6ms\n",
      "24:\tlearn: 1195.0856696\ttotal: 13ms\tremaining: 13ms\n",
      "25:\tlearn: 1181.6258123\ttotal: 13.5ms\tremaining: 12.4ms\n",
      "26:\tlearn: 1170.4694017\ttotal: 14ms\tremaining: 11.9ms\n",
      "27:\tlearn: 1160.6404547\ttotal: 14.4ms\tremaining: 11.3ms\n",
      "28:\tlearn: 1152.4907208\ttotal: 14.9ms\tremaining: 10.8ms\n",
      "29:\tlearn: 1148.0910309\ttotal: 15.4ms\tremaining: 10.3ms\n",
      "30:\tlearn: 1137.6833146\ttotal: 15.9ms\tremaining: 9.75ms\n",
      "31:\tlearn: 1131.8147003\ttotal: 16.4ms\tremaining: 9.21ms\n",
      "32:\tlearn: 1120.2864397\ttotal: 16.9ms\tremaining: 8.68ms\n",
      "33:\tlearn: 1113.6588733\ttotal: 17.4ms\tremaining: 8.18ms\n",
      "34:\tlearn: 1107.6169444\ttotal: 17.9ms\tremaining: 7.66ms\n",
      "35:\tlearn: 1103.6353281\ttotal: 18.4ms\tremaining: 7.15ms\n",
      "36:\tlearn: 1098.0568047\ttotal: 18.9ms\tremaining: 6.63ms\n",
      "37:\tlearn: 1092.2730322\ttotal: 19.4ms\tremaining: 6.12ms\n",
      "38:\tlearn: 1089.2350662\ttotal: 19.9ms\tremaining: 5.62ms\n",
      "39:\tlearn: 1082.5348535\ttotal: 20.4ms\tremaining: 5.09ms\n",
      "40:\tlearn: 1076.4195783\ttotal: 20.9ms\tremaining: 4.59ms\n",
      "41:\tlearn: 1066.6769278\ttotal: 21.4ms\tremaining: 4.08ms\n",
      "42:\tlearn: 1064.9175954\ttotal: 21.9ms\tremaining: 3.56ms\n",
      "43:\tlearn: 1057.8815814\ttotal: 22.3ms\tremaining: 3.05ms\n",
      "44:\tlearn: 1052.0774051\ttotal: 23ms\tremaining: 2.56ms\n",
      "45:\tlearn: 1048.6935176\ttotal: 23.5ms\tremaining: 2.04ms\n",
      "46:\tlearn: 1045.9687572\ttotal: 24.2ms\tremaining: 1.54ms\n",
      "47:\tlearn: 1041.2522100\ttotal: 24.7ms\tremaining: 1.03ms\n",
      "48:\tlearn: 1038.7444146\ttotal: 25.1ms\tremaining: 512us\n",
      "49:\tlearn: 1031.2560453\ttotal: 25.6ms\tremaining: 0us\n",
      "           Model_name  Random_state  Accuracy    MAPE     MAE         MSE   \\\n",
      "0        XGBRegressor             0      72.0   625.09  625.09   901940.97   \n",
      "1        XGBRegressor             1      45.0   882.75  882.75  2613684.16   \n",
      "2        XGBRegressor             2      70.0   821.07  821.07  1961351.70   \n",
      "3        XGBRegressor             3      77.0   723.66  723.66  1259322.76   \n",
      "4        XGBRegressor             4      51.0   676.55  676.55  1482148.88   \n",
      "..                ...           ...       ...      ...     ...         ...   \n",
      "59  catBoostRegressor            16      68.0   683.77  683.77  1052208.14   \n",
      "60  catBoostRegressor            17      67.0   695.87  695.87  1195630.97   \n",
      "61  catBoostRegressor            18      69.0   704.95  704.95  1291599.31   \n",
      "62  catBoostRegressor            19      58.0   740.48  740.48  2042886.43   \n",
      "63  catBoostRegressor            20      73.0   752.14  752.14  1341688.93   \n",
      "\n",
      "      RMSE   \n",
      "0    949.71  \n",
      "1   1616.69  \n",
      "2   1400.48  \n",
      "3   1122.20  \n",
      "4   1217.44  \n",
      "..      ...  \n",
      "59  1025.77  \n",
      "60  1093.45  \n",
      "61  1136.49  \n",
      "62  1429.30  \n",
      "63  1158.31  \n",
      "\n",
      "[64 rows x 7 columns]\n"
     ]
    }
   ],
   "source": [
    "addRandomStateForAlgorithm(x1, y1,names_regression_catboost ,algorithms_catboost,columns_name_2,random_state_list_0_up_to_20)"
   ]
  },
  {
   "cell_type": "code",
   "execution_count": null,
   "metadata": {
    "hidden": true
   },
   "outputs": [],
   "source": []
  },
  {
   "cell_type": "code",
   "execution_count": null,
   "metadata": {
    "hidden": true
   },
   "outputs": [],
   "source": []
  },
  {
   "cell_type": "code",
   "execution_count": 675,
   "metadata": {
    "ExecuteTime": {
     "end_time": "2020-01-25T06:46:38.649361Z",
     "start_time": "2020-01-25T06:46:37.980986Z"
    },
    "hidden": true
   },
   "outputs": [
    {
     "name": "stdout",
     "output_type": "stream",
     "text": [
      "               Model_name  Random_state  Accuracy    MAPE     MAE   \\\n",
      "0            XGBRegressor             0      72.0   625.09  625.09   \n",
      "1            XGBRegressor             1      45.0   882.75  882.75   \n",
      "2            XGBRegressor             2      70.0   821.07  821.07   \n",
      "3            XGBRegressor             3      77.0   723.66  723.66   \n",
      "4            XGBRegressor             4      51.0   676.55  676.55   \n",
      "..                    ...           ...       ...      ...     ...   \n",
      "80  RandomForestRegressor            16      77.0   554.75  554.75   \n",
      "81  RandomForestRegressor            17      75.0   593.51  593.51   \n",
      "82  RandomForestRegressor            18      70.0   661.43  661.43   \n",
      "83  RandomForestRegressor            19      73.0   640.82  640.82   \n",
      "84  RandomForestRegressor            20      72.0   664.52  664.52   \n",
      "\n",
      "          MSE     RMSE   \n",
      "0    901940.97   949.71  \n",
      "1   2613684.16  1616.69  \n",
      "2   1961351.70  1400.48  \n",
      "3   1259322.76  1122.20  \n",
      "4   1482148.88  1217.44  \n",
      "..         ...      ...  \n",
      "80   775215.95   880.46  \n",
      "81   921049.60   959.71  \n",
      "82  1242718.25  1114.77  \n",
      "83  1285539.54  1133.82  \n",
      "84  1435118.64  1197.96  \n",
      "\n",
      "[85 rows x 7 columns]\n"
     ]
    }
   ],
   "source": [
    "addRandomStateForAlgorithm(x1, y1,names_regression_rf ,algorithms_rf,columns_name_2,random_state_list_0_up_to_20)"
   ]
  },
  {
   "cell_type": "code",
   "execution_count": null,
   "metadata": {
    "hidden": true
   },
   "outputs": [],
   "source": []
  },
  {
   "cell_type": "code",
   "execution_count": null,
   "metadata": {
    "hidden": true
   },
   "outputs": [],
   "source": []
  },
  {
   "cell_type": "markdown",
   "metadata": {
    "heading_collapsed": true,
    "hidden": true
   },
   "source": [
    "## Segment 2"
   ]
  },
  {
   "cell_type": "code",
   "execution_count": 677,
   "metadata": {
    "ExecuteTime": {
     "end_time": "2020-01-25T06:50:01.078689Z",
     "start_time": "2020-01-25T06:48:47.688662Z"
    },
    "hidden": true
   },
   "outputs": [
    {
     "name": "stdout",
     "output_type": "stream",
     "text": [
      "       Model_name  Random_state  Accuracy    MAPE      MAE          MSE   \\\n",
      "0    XGBRegressor             0      72.0   625.09   625.09    901940.97   \n",
      "1    XGBRegressor             1      45.0   882.75   882.75   2613684.16   \n",
      "2    XGBRegressor             2      70.0   821.07   821.07   1961351.70   \n",
      "3    XGBRegressor             3      77.0   723.66   723.66   1259322.76   \n",
      "4    XGBRegressor             4      51.0   676.55   676.55   1482148.88   \n",
      "..            ...           ...       ...      ...      ...          ...   \n",
      "122  XGBRegressor            16      84.0  2642.08  2642.08  16996838.76   \n",
      "123  XGBRegressor            17      84.0  2705.02  2705.02  17360412.33   \n",
      "124  XGBRegressor            18      90.0  2177.72  2177.72   9852866.93   \n",
      "125  XGBRegressor            19      86.0  2531.61  2531.61  17008929.32   \n",
      "126  XGBRegressor            20      88.0  2366.61  2366.61  13855982.48   \n",
      "\n",
      "       RMSE   \n",
      "0     949.71  \n",
      "1    1616.69  \n",
      "2    1400.48  \n",
      "3    1122.20  \n",
      "4    1217.44  \n",
      "..       ...  \n",
      "122  4122.72  \n",
      "123  4166.58  \n",
      "124  3138.93  \n",
      "125  4124.19  \n",
      "126  3722.36  \n",
      "\n",
      "[127 rows x 7 columns]\n"
     ]
    }
   ],
   "source": [
    "addRandomStateForAlgorithm(x2, y2,names_regression_xgb ,algorithms_xgb,columns_name_2,random_state_list_0_up_to_20)"
   ]
  },
  {
   "cell_type": "code",
   "execution_count": null,
   "metadata": {
    "hidden": true
   },
   "outputs": [],
   "source": []
  },
  {
   "cell_type": "code",
   "execution_count": null,
   "metadata": {
    "hidden": true
   },
   "outputs": [],
   "source": [
    "addRandomStateForAlgorithm(x2, y2,names_regression_xgb ,algorithms_xgb,columns_name_2,random_state_list_0_up_to_20)"
   ]
  }
 ],
 "metadata": {
  "kernelspec": {
   "display_name": "Python 3",
   "language": "python",
   "name": "python3"
  },
  "language_info": {
   "codemirror_mode": {
    "name": "ipython",
    "version": 3
   },
   "file_extension": ".py",
   "mimetype": "text/x-python",
   "name": "python",
   "nbconvert_exporter": "python",
   "pygments_lexer": "ipython3",
   "version": "3.7.6"
  },
  "toc": {
   "base_numbering": 1,
   "nav_menu": {},
   "number_sections": true,
   "sideBar": true,
   "skip_h1_title": false,
   "title_cell": "Table of Contents",
   "title_sidebar": "Contents",
   "toc_cell": false,
   "toc_position": {},
   "toc_section_display": true,
   "toc_window_display": false
  },
  "varInspector": {
   "cols": {
    "lenName": 16,
    "lenType": 16,
    "lenVar": 40
   },
   "kernels_config": {
    "python": {
     "delete_cmd_postfix": "",
     "delete_cmd_prefix": "del ",
     "library": "var_list.py",
     "varRefreshCmd": "print(var_dic_list())"
    },
    "r": {
     "delete_cmd_postfix": ") ",
     "delete_cmd_prefix": "rm(",
     "library": "var_list.r",
     "varRefreshCmd": "cat(var_dic_list()) "
    }
   },
   "types_to_exclude": [
    "module",
    "function",
    "builtin_function_or_method",
    "instance",
    "_Feature"
   ],
   "window_display": false
  }
 },
 "nbformat": 4,
 "nbformat_minor": 2
}
