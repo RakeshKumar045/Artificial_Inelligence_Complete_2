{
 "cells": [
  {
   "cell_type": "code",
   "execution_count": 56,
   "metadata": {
    "ExecuteTime": {
     "end_time": "2020-02-24T16:29:19.580853Z",
     "start_time": "2020-02-24T16:29:19.575865Z"
    }
   },
   "outputs": [],
   "source": [
    "from collections import Counter , defaultdict\n",
    "\n",
    "import pandas as pd\n"
   ]
  },
  {
   "cell_type": "markdown",
   "metadata": {},
   "source": [
    "# General Points"
   ]
  },
  {
   "cell_type": "code",
   "execution_count": 16,
   "metadata": {
    "ExecuteTime": {
     "end_time": "2020-03-17T10:10:47.460135Z",
     "start_time": "2020-03-17T10:10:47.446206Z"
    }
   },
   "outputs": [
    {
     "name": "stdout",
     "output_type": "stream",
     "text": [
      "before  ['A', 'B', 'C', 'D']\n",
      "after  ['A', 'B', 'C', 'D', [...]]\n",
      "5\n",
      "A\n",
      "B\n",
      "C\n",
      "D\n",
      "['A', 'B', 'C', 'D', [...]]\n",
      "****************************************************************************************************\n",
      "C\n",
      "D\n",
      "['A', 'B', 'C', 'D', [...]]\n",
      "['A', 'B', 'C', 'D', [...]]\n",
      "****************************************************************************************************\n",
      "C\n",
      "B\n"
     ]
    }
   ],
   "source": [
    "bikes=['A', 'B', 'C', 'D']\n",
    "\n",
    "print(\"before \", bikes)\n",
    "\n",
    "bikes.append(bikes)\n",
    "\n",
    "print(\"after \", bikes)\n",
    "print(len(bikes))\n",
    "\n",
    "for i in bikes:\n",
    "    print(i)\n",
    "    \n",
    "print(\"*\"*100)\n",
    "print(bikes[2])\n",
    "\n",
    "print(bikes[3])\n",
    "print(bikes[4])\n",
    "\n",
    "print(bikes[4][4])\n",
    "\n",
    "\n",
    "print(\"*\"*100)\n",
    "print(bikes[4][2])\n",
    "print(bikes[4][4][1])"
   ]
  },
  {
   "cell_type": "code",
   "execution_count": null,
   "metadata": {
    "hidden": true
   },
   "outputs": [],
   "source": []
  },
  {
   "cell_type": "markdown",
   "metadata": {
    "heading_collapsed": true
   },
   "source": [
    "# Graded Question"
   ]
  },
  {
   "cell_type": "code",
   "execution_count": null,
   "metadata": {
    "hidden": true
   },
   "outputs": [],
   "source": []
  },
  {
   "cell_type": "code",
   "execution_count": 70,
   "metadata": {
    "ExecuteTime": {
     "end_time": "2020-02-24T16:57:49.073098Z",
     "start_time": "2020-02-24T16:57:49.066152Z"
    },
    "hidden": true
   },
   "outputs": [
    {
     "name": "stdout",
     "output_type": "stream",
     "text": [
      "I am now a master of Logistic regression\n",
      "I Am Now A Master Of Logistic Regression\n"
     ]
    }
   ],
   "source": [
    "input_string = \"I am now a master of Logistic regression\"\n",
    "# Output 1:\n",
    "# I Am Now A Master Of Logistic Regression\n",
    "\n",
    "print(input_string)\n",
    "\n",
    "print(input_string.title())"
   ]
  },
  {
   "cell_type": "code",
   "execution_count": null,
   "metadata": {
    "hidden": true
   },
   "outputs": [],
   "source": [
    "\"\"\"\n",
    "\n",
    "Second Maximum Number in a List\n",
    "Description\n",
    "Given a list of numbers, find the second largest number in the list.\n",
    "\n",
    "Note: There might be repeated numbers in the list. If there is only one number present in the list, return 'not present'.\n",
    "\n",
    "Examples:\n",
    "Input 1:\n",
    "[7, 2, 0, 9, -1, 8]\n",
    "Output 1:\n",
    "8\n",
    "\n",
    "Input 2:\n",
    "[3, 1, 4, 4, 5, 5, 5, 0, 2, 2]\n",
    "Output 2:\n",
    "4\n",
    "\n",
    "Input 2:\n",
    "[6, 6, 6, 6, 6]\n",
    "Output 2:\n",
    "not present\n",
    "\n",
    "\n",
    "\n",
    "\n",
    "\"\"\""
   ]
  },
  {
   "cell_type": "code",
   "execution_count": 87,
   "metadata": {
    "ExecuteTime": {
     "end_time": "2020-02-24T17:16:24.532416Z",
     "start_time": "2020-02-24T17:16:24.526434Z"
    },
    "hidden": true
   },
   "outputs": [
    {
     "name": "stdout",
     "output_type": "stream",
     "text": [
      "8\n"
     ]
    }
   ],
   "source": [
    "input_list = [7, 2, 0, 9, -1, 8, 8, 6]\n",
    "\n",
    "# input_list = [3, 1, 4, 4, 5, 5, 5, 0, 2, 2]\n",
    "\n",
    "# input_list = [6, 6, 6, 6, 6]\n",
    "\n",
    "# input_list = [\"abc\"]\n",
    "\n",
    "# input_list = []\n",
    "\n",
    "remove_duplicate_values_in_list = list(set(input_list))\n",
    "# print(remove_duplicate_values_in_list)\n",
    "list_sort = sorted(remove_duplicate_values_in_list)\n",
    "\n",
    "# print(list_sort)    \n",
    "        \n",
    "if(len(list_sort) > 1):\n",
    "    print(list_sort[-2])\n",
    "else:\n",
    "    print(\"not present\")\n",
    "   "
   ]
  },
  {
   "cell_type": "code",
   "execution_count": 86,
   "metadata": {
    "ExecuteTime": {
     "end_time": "2020-02-24T17:16:13.677643Z",
     "start_time": "2020-02-24T17:16:13.668670Z"
    },
    "hidden": true
   },
   "outputs": [
    {
     "name": "stdout",
     "output_type": "stream",
     "text": [
      "8\n"
     ]
    }
   ],
   "source": [
    "def remove_duplicate_values(val_list):\n",
    "    s = []\n",
    "    for i in val_list:\n",
    "        if i not in s:\n",
    "            s.append(i)\n",
    "    return s\n",
    "\n",
    "remove_duplicate_values_in_list = remove_duplicate_values(input_list)\n",
    "\n",
    "list_sort = sorting_list(remove_duplicate_values_in_list)\n",
    "   \n",
    "if(len(list_sort) > 1):\n",
    "    print(list_sort[-2])\n",
    "else:\n",
    "    print(\"not present\")"
   ]
  },
  {
   "cell_type": "code",
   "execution_count": 79,
   "metadata": {
    "ExecuteTime": {
     "end_time": "2020-02-24T17:11:40.806518Z",
     "start_time": "2020-02-24T17:11:40.798539Z"
    },
    "hidden": true
   },
   "outputs": [
    {
     "data": {
      "text/plain": [
       "[1, 2, 3, 5, 6, 7, 8]"
      ]
     },
     "execution_count": 79,
     "metadata": {},
     "output_type": "execute_result"
    }
   ],
   "source": [
    ">>> t = [1, 2, 3, 1, 2, 5, 6, 7, 8]\n",
    ">>> t\n",
    "[1, 2, 3, 1, 2, 5, 6, 7, 8]\n",
    ">>> s = []\n",
    ">>> for i in t:\n",
    "       if i not in s:\n",
    "          s.append(i)\n",
    ">>> s\n",
    "[1, 2, 3, 5, 6, 7, 8]"
   ]
  },
  {
   "cell_type": "code",
   "execution_count": null,
   "metadata": {
    "hidden": true
   },
   "outputs": [],
   "source": []
  },
  {
   "cell_type": "code",
   "execution_count": 27,
   "metadata": {
    "ExecuteTime": {
     "end_time": "2020-02-24T16:05:50.667083Z",
     "start_time": "2020-02-24T16:05:50.661099Z"
    },
    "hidden": true
   },
   "outputs": [
    {
     "data": {
      "text/plain": [
       "\"\\nimage.png 24.76 KB\\ufeffThe last column 'Channel' contains information about the type of channel the items are supplied to.\\nThere are only three types of channels - 'Hotel', 'Restaurant', and 'Cafe'. But as you can notice, \\nthere are quality issues in the last data. A lot of the times Cafe as been written as 'C',\\nHotel has been written as 'Hot', etc. Inspect these incorrect values and replace them with their actual full names. \\n\\n\\nAfter this operation, the final column should only have 3 kinds of label - 'Hotel', 'Restaurant', and 'Cafe'. \\n\\nThe dataframe has already been read to you in the variable 'wholesale'.\\n\\nThe print statement to print the final dataframe has also been provided. \\nYou just need to perform the operations for correcting the names present in the last column.\\n\\n\\n\""
      ]
     },
     "execution_count": 27,
     "metadata": {},
     "output_type": "execute_result"
    }
   ],
   "source": [
    "\"\"\"\n",
    "image.png 24.76 KB﻿The last column 'Channel' contains information about the type of channel the items are supplied to.\n",
    "There are only three types of channels - 'Hotel', 'Restaurant', and 'Cafe'. But as you can notice, \n",
    "there are quality issues in the last data. A lot of the times Cafe as been written as 'C',\n",
    "Hotel has been written as 'Hot', etc. Inspect these incorrect values and replace them with their actual full names. \n",
    "\n",
    "\n",
    "After this operation, the final column should only have 3 kinds of label - 'Hotel', 'Restaurant', and 'Cafe'. \n",
    "\n",
    "The dataframe has already been read to you in the variable 'wholesale'.\n",
    "\n",
    "The print statement to print the final dataframe has also been provided. \n",
    "You just need to perform the operations for correcting the names present in the last column.\n",
    "\n",
    "    \n",
    "\"\"\""
   ]
  },
  {
   "cell_type": "code",
   "execution_count": 57,
   "metadata": {
    "ExecuteTime": {
     "end_time": "2020-02-24T16:29:38.227350Z",
     "start_time": "2020-02-24T16:29:37.933489Z"
    },
    "hidden": true
   },
   "outputs": [
    {
     "name": "stdout",
     "output_type": "stream",
     "text": [
      "{'Cafe': 45, 'Hot': 32, 'Hotel': 32, 'C': 36, 'H': 47, 'R': 42, 'Rest': 29, 'Restaurant': 30, 'Caffe': 42, 'Hote': 35}\n"
     ]
    },
    {
     "data": {
      "text/html": [
       "<div>\n",
       "<style scoped>\n",
       "    .dataframe tbody tr th:only-of-type {\n",
       "        vertical-align: middle;\n",
       "    }\n",
       "\n",
       "    .dataframe tbody tr th {\n",
       "        vertical-align: top;\n",
       "    }\n",
       "\n",
       "    .dataframe thead th {\n",
       "        text-align: right;\n",
       "    }\n",
       "</style>\n",
       "<table border=\"1\" class=\"dataframe\">\n",
       "  <thead>\n",
       "    <tr style=\"text-align: right;\">\n",
       "      <th></th>\n",
       "      <th>Fresh</th>\n",
       "      <th>Milk</th>\n",
       "      <th>Grocery</th>\n",
       "      <th>Frozen</th>\n",
       "      <th>Detergents_Paper</th>\n",
       "      <th>Delicassen</th>\n",
       "      <th>Channel</th>\n",
       "    </tr>\n",
       "  </thead>\n",
       "  <tbody>\n",
       "    <tr>\n",
       "      <td>0</td>\n",
       "      <td>12669</td>\n",
       "      <td>9656</td>\n",
       "      <td>7561</td>\n",
       "      <td>214</td>\n",
       "      <td>2674</td>\n",
       "      <td>1338</td>\n",
       "      <td>Cafe</td>\n",
       "    </tr>\n",
       "    <tr>\n",
       "      <td>1</td>\n",
       "      <td>7057</td>\n",
       "      <td>9810</td>\n",
       "      <td>9568</td>\n",
       "      <td>1762</td>\n",
       "      <td>3293</td>\n",
       "      <td>1776</td>\n",
       "      <td>Hot</td>\n",
       "    </tr>\n",
       "    <tr>\n",
       "      <td>2</td>\n",
       "      <td>6353</td>\n",
       "      <td>8808</td>\n",
       "      <td>7684</td>\n",
       "      <td>2405</td>\n",
       "      <td>3516</td>\n",
       "      <td>7844</td>\n",
       "      <td>Hotel</td>\n",
       "    </tr>\n",
       "  </tbody>\n",
       "</table>\n",
       "</div>"
      ],
      "text/plain": [
       "   Fresh  Milk  Grocery  Frozen  Detergents_Paper  Delicassen Channel\n",
       "0  12669  9656     7561     214              2674        1338    Cafe\n",
       "1   7057  9810     9568    1762              3293        1776     Hot\n",
       "2   6353  8808     7684    2405              3516        7844   Hotel"
      ]
     },
     "execution_count": 57,
     "metadata": {},
     "output_type": "execute_result"
    }
   ],
   "source": [
    "\n",
    "wholesale = pd.read_csv('https://media-doselect.s3.amazonaws.com/generic/OkbnaOBqrBXZOpRQw1JGMgaM9/Wholesale_Data.csv')\n",
    "\n",
    "# Write your code here. Make sure that you change the values in the column 'Channel' inplace. \n",
    "\n",
    "sale_val = dict(Counter(wholesale['Channel']))\n",
    "print(sale_val)\n",
    "\n",
    "wholesale.head(3)"
   ]
  },
  {
   "cell_type": "code",
   "execution_count": 58,
   "metadata": {
    "ExecuteTime": {
     "end_time": "2020-02-24T16:29:40.538401Z",
     "start_time": "2020-02-24T16:29:40.528428Z"
    },
    "hidden": true
   },
   "outputs": [
    {
     "name": "stdout",
     "output_type": "stream",
     "text": [
      "Hotel         146\n",
      "Cafe          123\n",
      "Restaurant    101\n",
      "Name: Channel, dtype: int64\n"
     ]
    }
   ],
   "source": [
    "sale_correct_value = {\n",
    " 'Hot': \"Hotel\",\n",
    " \n",
    " 'C': \"Cafe\",\n",
    " 'H': \"Hotel\",\n",
    " 'R': \"Restaurant\",\n",
    " 'Rest': \"Restaurant\",\n",
    " 'Caffe': \"Cafe\",\n",
    " 'Hote': \"Hotel\"}\n",
    "\n",
    "wholesale[\"Channel\"] = wholesale[\"Channel\"].replace(sale_correct_value)\n",
    "\n",
    "# The final print statement. Please don't edit this part. Also don't write any other\n",
    "# print statement otherwise your answer will not match even if it is correct\n",
    "print(wholesale['Channel'].value_counts())"
   ]
  },
  {
   "cell_type": "code",
   "execution_count": null,
   "metadata": {
    "hidden": true
   },
   "outputs": [],
   "source": []
  },
  {
   "cell_type": "code",
   "execution_count": 53,
   "metadata": {
    "ExecuteTime": {
     "end_time": "2020-02-24T16:26:53.698926Z",
     "start_time": "2020-02-24T16:26:53.690977Z"
    },
    "hidden": true
   },
   "outputs": [
    {
     "data": {
      "text/plain": [
       "\"\\nEach of the columns except for the column 'Channel' tells you the sales for each kind of product and \\nthe 'Channel' column tells you which 'Channel' you're selling to. \\nYour task is to find out which of the three channels has the least total sales (for all the products combined).\\nFor example, if the total sales to Cafe, Hotel, and Restaurant turn out to be 1 lakh, 2 lakh, and 3 lakh rupees, \\nyou need to print 'Cafe' since it has the lowest sales. \\n\\n\""
      ]
     },
     "execution_count": 53,
     "metadata": {},
     "output_type": "execute_result"
    }
   ],
   "source": [
    "\"\"\"\n",
    "Each of the columns except for the column 'Channel' tells you the sales for each kind of product and \n",
    "the 'Channel' column tells you which 'Channel' you're selling to. \n",
    "Your task is to find out which of the three channels has the least total sales (for all the products combined).\n",
    "For example, if the total sales to Cafe, Hotel, and Restaurant turn out to be 1 lakh, 2 lakh, and 3 lakh rupees, \n",
    "you need to print 'Cafe' since it has the lowest sales. \n",
    "\n",
    "\"\"\""
   ]
  },
  {
   "cell_type": "code",
   "execution_count": 80,
   "metadata": {
    "ExecuteTime": {
     "end_time": "2020-02-24T17:12:58.312592Z",
     "start_time": "2020-02-24T17:12:58.307607Z"
    },
    "hidden": true
   },
   "outputs": [],
   "source": [
    "# least_sale = list(wholesale['Channel'].value_counts())\n",
    "# print(type(least_sale))\n",
    "# print(least_sale)\n",
    "# print(min(least_sale))\n",
    "\n",
    "# least_val_1 = wholesale['Channel'].value_counts()\n",
    "# print(type(least_val_1))\n",
    "\n",
    "# print(min(least_val_1))"
   ]
  },
  {
   "cell_type": "code",
   "execution_count": 69,
   "metadata": {
    "ExecuteTime": {
     "end_time": "2020-02-24T16:39:39.763986Z",
     "start_time": "2020-02-24T16:39:39.747067Z"
    },
    "hidden": true
   },
   "outputs": [
    {
     "name": "stdout",
     "output_type": "stream",
     "text": [
      "Restaurant 101\n",
      "Restaurant\n"
     ]
    }
   ],
   "source": [
    "from collections import Counter\n",
    "\n",
    "sale_correct_value = {\n",
    " 'Hot': \"Hotel\",\n",
    " \n",
    " 'C': \"Cafe\",\n",
    " 'H': \"Hotel\",\n",
    " 'R': \"Restaurant\",\n",
    " 'Rest': \"Restaurant\",\n",
    " 'Caffe': \"Cafe\",\n",
    " 'Hote': \"Hotel\"}\n",
    "\n",
    "wholesale[\"Channel\"] = wholesale[\"Channel\"].replace(sale_correct_value)\n",
    "\n",
    "B = Counter(wholesale['Channel'])\n",
    "minimum = min(B, key=B.get)\n",
    "print(minimum, B[minimum]) \n",
    "\n",
    "print(minimum) "
   ]
  },
  {
   "cell_type": "code",
   "execution_count": null,
   "metadata": {
    "hidden": true
   },
   "outputs": [],
   "source": []
  },
  {
   "cell_type": "code",
   "execution_count": 121,
   "metadata": {
    "ExecuteTime": {
     "end_time": "2020-02-24T17:39:53.800422Z",
     "start_time": "2020-02-24T17:39:53.003477Z"
    },
    "hidden": true,
    "scrolled": true
   },
   "outputs": [
    {
     "data": {
      "text/html": [
       "<div>\n",
       "<style scoped>\n",
       "    .dataframe tbody tr th:only-of-type {\n",
       "        vertical-align: middle;\n",
       "    }\n",
       "\n",
       "    .dataframe tbody tr th {\n",
       "        vertical-align: top;\n",
       "    }\n",
       "\n",
       "    .dataframe thead th {\n",
       "        text-align: right;\n",
       "    }\n",
       "</style>\n",
       "<table border=\"1\" class=\"dataframe\">\n",
       "  <thead>\n",
       "    <tr style=\"text-align: right;\">\n",
       "      <th></th>\n",
       "      <th>App</th>\n",
       "      <th>Category</th>\n",
       "      <th>Rating</th>\n",
       "      <th>Reviews</th>\n",
       "      <th>Size</th>\n",
       "      <th>Installs</th>\n",
       "      <th>Type</th>\n",
       "      <th>Price</th>\n",
       "      <th>Content Rating</th>\n",
       "      <th>Genres</th>\n",
       "      <th>Last Updated</th>\n",
       "      <th>Current Ver</th>\n",
       "      <th>Android Ver</th>\n",
       "    </tr>\n",
       "  </thead>\n",
       "  <tbody>\n",
       "    <tr>\n",
       "      <td>0</td>\n",
       "      <td>Photo Editor &amp; Candy Camera &amp; Grid &amp; ScrapBook</td>\n",
       "      <td>ART_AND_DESIGN</td>\n",
       "      <td>4.1</td>\n",
       "      <td>159</td>\n",
       "      <td>19M</td>\n",
       "      <td>10,000+</td>\n",
       "      <td>Free</td>\n",
       "      <td>0</td>\n",
       "      <td>Everyone</td>\n",
       "      <td>Art &amp; Design</td>\n",
       "      <td>January 7, 2018</td>\n",
       "      <td>1.0.0</td>\n",
       "      <td>4.0.3 and up</td>\n",
       "    </tr>\n",
       "  </tbody>\n",
       "</table>\n",
       "</div>"
      ],
      "text/plain": [
       "                                              App        Category  Rating  \\\n",
       "0  Photo Editor & Candy Camera & Grid & ScrapBook  ART_AND_DESIGN     4.1   \n",
       "\n",
       "  Reviews Size Installs  Type Price Content Rating        Genres  \\\n",
       "0     159  19M  10,000+  Free     0       Everyone  Art & Design   \n",
       "\n",
       "      Last Updated Current Ver   Android Ver  \n",
       "0  January 7, 2018       1.0.0  4.0.3 and up  "
      ]
     },
     "execution_count": 121,
     "metadata": {},
     "output_type": "execute_result"
    }
   ],
   "source": [
    "import pandas as pd \n",
    "df=pd.read_csv(\"https://media-doselect.s3.amazonaws.com/generic/8NMooe4G0ENEe8z9q5ZvaZA7/googleplaystore.csv\")\n",
    "#add your cleaning code here\n",
    "\n",
    "df.head(1)"
   ]
  },
  {
   "cell_type": "code",
   "execution_count": 122,
   "metadata": {
    "ExecuteTime": {
     "end_time": "2020-02-24T17:39:53.825361Z",
     "start_time": "2020-02-24T17:39:53.821366Z"
    },
    "hidden": true
   },
   "outputs": [],
   "source": [
    "# df.isna().sum()"
   ]
  },
  {
   "cell_type": "code",
   "execution_count": 123,
   "metadata": {
    "ExecuteTime": {
     "end_time": "2020-02-24T17:39:54.574377Z",
     "start_time": "2020-02-24T17:39:54.570425Z"
    },
    "hidden": true
   },
   "outputs": [],
   "source": [
    "# df.info()"
   ]
  },
  {
   "cell_type": "code",
   "execution_count": 124,
   "metadata": {
    "ExecuteTime": {
     "end_time": "2020-02-24T17:39:55.226548Z",
     "start_time": "2020-02-24T17:39:55.200616Z"
    },
    "hidden": true
   },
   "outputs": [
    {
     "name": "stdout",
     "output_type": "stream",
     "text": [
      "            Rating  Installs\n",
      "Rating    1.000000  0.051355\n",
      "Installs  0.051355  1.000000\n"
     ]
    }
   ],
   "source": [
    "df[\"Installs\"] = df['Installs'].apply( lambda x: x.strip(\"+\"))\n",
    "\n",
    "def split_fn_based_comma(x):\n",
    "    new_split_list = x.split(\",\")\n",
    "    str_val = \"\"\n",
    "    for val in new_split_list :\n",
    "        str_val = str_val + val \n",
    "    return str_val\n",
    "        \n",
    "\n",
    "df[\"Installs\"] = df[\"Installs\"].apply(lambda x: split_fn_based_comma(x))\n",
    "\n",
    "df = df[df.Installs != 'Free']\n",
    "df['Installs'] = df['Installs'].astype(int)\n",
    "\n",
    "print(df.corr())\n"
   ]
  },
  {
   "cell_type": "code",
   "execution_count": 97,
   "metadata": {
    "ExecuteTime": {
     "end_time": "2020-02-24T17:26:51.910651Z",
     "start_time": "2020-02-24T17:26:51.903675Z"
    },
    "hidden": true
   },
   "outputs": [],
   "source": []
  },
  {
   "cell_type": "code",
   "execution_count": null,
   "metadata": {
    "hidden": true
   },
   "outputs": [],
   "source": []
  },
  {
   "cell_type": "code",
   "execution_count": 117,
   "metadata": {
    "ExecuteTime": {
     "end_time": "2020-02-24T17:37:26.028351Z",
     "start_time": "2020-02-24T17:37:26.025395Z"
    },
    "hidden": true
   },
   "outputs": [],
   "source": [
    "# v = \"raka,kumar\"\n",
    "# v1 = \"rakeshkumar\"\n",
    "# v1.split(\",\")"
   ]
  },
  {
   "cell_type": "code",
   "execution_count": null,
   "metadata": {
    "hidden": true
   },
   "outputs": [],
   "source": []
  },
  {
   "cell_type": "markdown",
   "metadata": {
    "hidden": true
   },
   "source": [
    "## Model Selection"
   ]
  },
  {
   "cell_type": "markdown",
   "metadata": {
    "hidden": true
   },
   "source": [
    "### Question "
   ]
  },
  {
   "cell_type": "code",
   "execution_count": 1,
   "metadata": {
    "ExecuteTime": {
     "end_time": "2020-03-05T19:56:55.670122Z",
     "start_time": "2020-03-05T19:56:55.649216Z"
    },
    "hidden": true
   },
   "outputs": [
    {
     "data": {
      "text/plain": [
       "'\\nQuestion 4\\nRemove empty lists\\nWrite a Python program to eliminate all empty lists from a given list of lists.\\nThe input will have a list of lists and the output should have the resulting list after eliminating empty lists from it.\\n\\nSample Input:\\n[[1,2,3],[],[4,5],[],[],[6,7,8]]\\n\\n'"
      ]
     },
     "execution_count": 1,
     "metadata": {},
     "output_type": "execute_result"
    }
   ],
   "source": [
    "\n",
    "\n",
    "\"\"\"\n",
    "Question 4\n",
    "Remove empty lists\n",
    "Write a Python program to eliminate all empty lists from a given list of lists.\n",
    "The input will have a list of lists and the output should have the resulting list after eliminating empty lists from it.\n",
    "\n",
    "Sample Input:\n",
    "[[1,2,3],[],[4,5],[],[],[6,7,8]]\n",
    "\n",
    "\"\"\""
   ]
  },
  {
   "cell_type": "code",
   "execution_count": 2,
   "metadata": {
    "ExecuteTime": {
     "end_time": "2020-03-05T19:57:05.403646Z",
     "start_time": "2020-03-05T19:57:05.397700Z"
    },
    "hidden": true
   },
   "outputs": [],
   "source": [
    "input_list = [[1,2,3],[],[4,5],[],[],[6,7,8]]"
   ]
  },
  {
   "cell_type": "code",
   "execution_count": 6,
   "metadata": {
    "ExecuteTime": {
     "end_time": "2020-03-05T19:59:14.217871Z",
     "start_time": "2020-03-05T19:59:14.210712Z"
    },
    "hidden": true
   },
   "outputs": [
    {
     "name": "stdout",
     "output_type": "stream",
     "text": [
      "[1, 2, 3]\n",
      "[4, 5]\n",
      "[6, 7, 8]\n"
     ]
    }
   ],
   "source": [
    "for i in input_list:\n",
    "    if i:\n",
    "        print(i)"
   ]
  },
  {
   "cell_type": "code",
   "execution_count": 8,
   "metadata": {
    "ExecuteTime": {
     "end_time": "2020-03-05T20:00:20.134563Z",
     "start_time": "2020-03-05T20:00:20.127579Z"
    },
    "hidden": true
   },
   "outputs": [
    {
     "name": "stdout",
     "output_type": "stream",
     "text": [
      "[[1, 2, 3], [4, 5], [6, 7, 8]]\n"
     ]
    }
   ],
   "source": [
    "list_val = [l for l in input_list if l] \n",
    "print(list_val)"
   ]
  },
  {
   "cell_type": "markdown",
   "metadata": {
    "hidden": true
   },
   "source": [
    "### questions 2"
   ]
  },
  {
   "cell_type": "code",
   "execution_count": 9,
   "metadata": {
    "ExecuteTime": {
     "end_time": "2020-03-05T20:02:57.361547Z",
     "start_time": "2020-03-05T20:02:57.351540Z"
    },
    "hidden": true
   },
   "outputs": [
    {
     "data": {
      "text/plain": [
       "'\\n\\nQuestion 1\\nBreak the list\\nWrite a Python program to divide a given list into chunks of size k.\\n\\nThe number of elements in the list need not to be divisible by k.\\nFor example, if you want to divide the list [1,2,3,4,5,6,7] into chunk size k=4, then the first chunk will be [1,2,3,4] and the second one will have [5,6,7]. i.e. the last chunk need not have k elements.\\nThe input will have two lines, the first line would have the list and the second line would have the value of k.(the code for taking input has already been written, you should not change that)\\nThe final output should have the list chunks in different lines.\\n\\nSample Input:\\n[1,2,3,4,5,6,7,8,9]\\n3\\nSample Output:\\n\\n'"
      ]
     },
     "execution_count": 9,
     "metadata": {},
     "output_type": "execute_result"
    }
   ],
   "source": [
    "\"\"\"\n",
    "\n",
    "Question 1\n",
    "Break the list\n",
    "Write a Python program to divide a given list into chunks of size k.\n",
    "\n",
    "The number of elements in the list need not to be divisible by k.\n",
    "For example, if you want to divide the list [1,2,3,4,5,6,7] into chunk size k=4, then the first chunk will be [1,2,3,4] and the second one will have [5,6,7]. i.e. the last chunk need not have k elements.\n",
    "The input will have two lines, the first line would have the list and the second line would have the value of k.(the code for taking input has already been written, you should not change that)\n",
    "The final output should have the list chunks in different lines.\n",
    "\n",
    "Sample Input:\n",
    "[1,2,3,4,5,6,7,8,9]\n",
    "3\n",
    "Sample Output:\n",
    "\n",
    "\"\"\""
   ]
  },
  {
   "cell_type": "code",
   "execution_count": 10,
   "metadata": {
    "ExecuteTime": {
     "end_time": "2020-03-05T20:03:39.159181Z",
     "start_time": "2020-03-05T20:03:39.151169Z"
    },
    "hidden": true
   },
   "outputs": [
    {
     "data": {
      "text/plain": [
       "'\\n\\nSample Input:\\n[1,2,3,4,5,6,7,8,9]\\n3\\nSample Output:\\n\\n[1, 2, 3]\\n[4, 5, 6]\\n[7, 8, 9]\\n\\n\\n'"
      ]
     },
     "execution_count": 10,
     "metadata": {},
     "output_type": "execute_result"
    }
   ],
   "source": [
    "\"\"\"\n",
    "\n",
    "Sample Input:\n",
    "[1,2,3,4,5,6,7,8,9]\n",
    "3\n",
    "Sample Output:\n",
    "\n",
    "[1, 2, 3]\n",
    "[4, 5, 6]\n",
    "[7, 8, 9]\n",
    "\n",
    "\n",
    "\"\"\""
   ]
  },
  {
   "cell_type": "code",
   "execution_count": 11,
   "metadata": {
    "ExecuteTime": {
     "end_time": "2020-03-05T20:04:54.484564Z",
     "start_time": "2020-03-05T20:04:54.473593Z"
    },
    "hidden": true
   },
   "outputs": [
    {
     "data": {
      "text/plain": [
       "'\\n\\nFor example, if you want to divide the list [1,2,3,4,5,6,7] into chunk \\n\\nsize k=4, then the first chunk will be [1,2,3,4] \\n\\nand the second one will have [5,6,7]. i.e. the last chunk need not have k elements.\\n\\n\\n'"
      ]
     },
     "execution_count": 11,
     "metadata": {},
     "output_type": "execute_result"
    }
   ],
   "source": [
    "\"\"\"\n",
    "\n",
    "For example, if you want to divide the list [1,2,3,4,5,6,7] into chunk \n",
    "\n",
    "size k=4, then the first chunk will be [1,2,3,4] \n",
    "\n",
    "and the second one will have [5,6,7]. i.e. the last chunk need not have k elements.\n",
    "\n",
    "\n",
    "\"\"\""
   ]
  },
  {
   "cell_type": "code",
   "execution_count": null,
   "metadata": {
    "hidden": true
   },
   "outputs": [],
   "source": []
  },
  {
   "cell_type": "code",
   "execution_count": 22,
   "metadata": {
    "ExecuteTime": {
     "end_time": "2020-03-05T20:19:51.685335Z",
     "start_time": "2020-03-05T20:19:51.665375Z"
    },
    "hidden": true
   },
   "outputs": [
    {
     "ename": "TypeError",
     "evalue": "object of type 'int' has no len()",
     "output_type": "error",
     "traceback": [
      "\u001b[1;31m---------------------------------------------------------------------------\u001b[0m",
      "\u001b[1;31mTypeError\u001b[0m                                 Traceback (most recent call last)",
      "\u001b[1;32m<ipython-input-22-bc60d306fb95>\u001b[0m in \u001b[0;36m<module>\u001b[1;34m\u001b[0m\n\u001b[0;32m      4\u001b[0m \u001b[0mlis\u001b[0m\u001b[1;33m=\u001b[0m\u001b[0minput_list\u001b[0m\u001b[1;33m[\u001b[0m\u001b[1;36m0\u001b[0m\u001b[1;33m]\u001b[0m\u001b[1;33m\u001b[0m\u001b[1;33m\u001b[0m\u001b[0m\n\u001b[0;32m      5\u001b[0m \u001b[0mk\u001b[0m\u001b[1;33m=\u001b[0m\u001b[0minput_list\u001b[0m\u001b[1;33m[\u001b[0m\u001b[1;36m1\u001b[0m\u001b[1;33m]\u001b[0m\u001b[1;33m\u001b[0m\u001b[1;33m\u001b[0m\u001b[0m\n\u001b[1;32m----> 6\u001b[1;33m \u001b[1;32mfor\u001b[0m \u001b[0mi\u001b[0m \u001b[1;32min\u001b[0m \u001b[0mrange\u001b[0m\u001b[1;33m(\u001b[0m\u001b[1;36m0\u001b[0m\u001b[1;33m,\u001b[0m \u001b[0mint\u001b[0m\u001b[1;33m(\u001b[0m\u001b[0mlen\u001b[0m\u001b[1;33m(\u001b[0m\u001b[0mlis\u001b[0m\u001b[1;33m)\u001b[0m\u001b[1;33m)\u001b[0m\u001b[1;33m,\u001b[0m \u001b[0mk\u001b[0m\u001b[1;33m)\u001b[0m\u001b[1;33m:\u001b[0m\u001b[1;33m\u001b[0m\u001b[1;33m\u001b[0m\u001b[0m\n\u001b[0m\u001b[0;32m      7\u001b[0m     \u001b[0mprint\u001b[0m\u001b[1;33m(\u001b[0m\u001b[0mlis\u001b[0m\u001b[1;33m[\u001b[0m\u001b[0mi\u001b[0m\u001b[1;33m:\u001b[0m\u001b[0mi\u001b[0m \u001b[1;33m+\u001b[0m \u001b[0mk\u001b[0m\u001b[1;33m]\u001b[0m\u001b[1;33m)\u001b[0m\u001b[1;33m\u001b[0m\u001b[1;33m\u001b[0m\u001b[0m\n",
      "\u001b[1;31mTypeError\u001b[0m: object of type 'int' has no len()"
     ]
    }
   ],
   "source": [
    "input_list = [1,2,3,4,5,6,7]\n"
   ]
  },
  {
   "cell_type": "code",
   "execution_count": 24,
   "metadata": {
    "ExecuteTime": {
     "end_time": "2020-03-05T20:22:15.582329Z",
     "start_time": "2020-03-05T20:22:15.561354Z"
    },
    "hidden": true
   },
   "outputs": [
    {
     "ename": "TypeError",
     "evalue": "'int' object is not subscriptable",
     "output_type": "error",
     "traceback": [
      "\u001b[1;31m---------------------------------------------------------------------------\u001b[0m",
      "\u001b[1;31mTypeError\u001b[0m                                 Traceback (most recent call last)",
      "\u001b[1;32m<ipython-input-24-e220a3ea909f>\u001b[0m in \u001b[0;36m<module>\u001b[1;34m\u001b[0m\n\u001b[0;32m      2\u001b[0m \u001b[0mk\u001b[0m\u001b[1;33m=\u001b[0m\u001b[0minput_list\u001b[0m\u001b[1;33m[\u001b[0m\u001b[1;36m1\u001b[0m\u001b[1;33m]\u001b[0m\u001b[1;33m\u001b[0m\u001b[1;33m\u001b[0m\u001b[0m\n\u001b[0;32m      3\u001b[0m \u001b[1;32mfor\u001b[0m \u001b[0mi\u001b[0m \u001b[1;32min\u001b[0m \u001b[0mrange\u001b[0m\u001b[1;33m(\u001b[0m\u001b[1;36m0\u001b[0m\u001b[1;33m,\u001b[0m \u001b[0mlis\u001b[0m\u001b[1;33m,\u001b[0m \u001b[0mk\u001b[0m\u001b[1;33m)\u001b[0m\u001b[1;33m:\u001b[0m\u001b[1;33m\u001b[0m\u001b[1;33m\u001b[0m\u001b[0m\n\u001b[1;32m----> 4\u001b[1;33m     \u001b[0mprint\u001b[0m\u001b[1;33m(\u001b[0m\u001b[0mlis\u001b[0m\u001b[1;33m[\u001b[0m\u001b[0mi\u001b[0m\u001b[1;33m:\u001b[0m\u001b[0mi\u001b[0m \u001b[1;33m+\u001b[0m \u001b[0mk\u001b[0m\u001b[1;33m]\u001b[0m\u001b[1;33m)\u001b[0m\u001b[1;33m\u001b[0m\u001b[1;33m\u001b[0m\u001b[0m\n\u001b[0m",
      "\u001b[1;31mTypeError\u001b[0m: 'int' object is not subscriptable"
     ]
    }
   ],
   "source": [
    "lis=input_list[0]\n",
    "k=input_list[1]\n",
    "for i in range(0, lis, k):  \n",
    "    print(lis[i:i + k])"
   ]
  },
  {
   "cell_type": "code",
   "execution_count": null,
   "metadata": {
    "hidden": true
   },
   "outputs": [],
   "source": []
  },
  {
   "cell_type": "markdown",
   "metadata": {
    "hidden": true
   },
   "source": [
    "### Questions 3"
   ]
  },
  {
   "cell_type": "code",
   "execution_count": 25,
   "metadata": {
    "ExecuteTime": {
     "end_time": "2020-03-05T20:37:21.239643Z",
     "start_time": "2020-03-05T20:37:21.229671Z"
    },
    "hidden": true
   },
   "outputs": [
    {
     "data": {
      "text/plain": [
       "'\\n\\n\\nScrabble\\nAssume that you are trying to complete a crossword puzzle. In a crossword puzzle, some letters are given and\\nyou have to figure out which complete word can you make out of it.\\n\\nFor example, given letters \"cwd\"in the same order, you can make the word \\n\\n\"crossword\" or \"crowd\" with it. But if \"dw\" is given in that order, \\n\\nyou cannot make \"crossword\" out of it because d and w are in the opposite order here.\\n\\n\\n\\nYou want to find an efficient method and write a code for this process. \\n\\nThe code will take two strings as input in two lines. The first string will contain letters on the crossword(\"cwd\"), \\n\\nand the second string will contain a word that you want to check.\\n(i.e. you want to check whether the word can be made out of given letters in the same order).\\n\\n\\nThe output should say \"yes\" if the word can be formed, else it should say \"no\"\\nSample Input 1:\\nccwd\\ncrossword\\nSample Output1:\\nno\\n\\nSample Input 2:\\ncwd\\ncrossword\\nSample Output 2:\\nyes\\n\\n\\nNote: Using regex is also one of the ways of solving this problem.\\nYou can read more about regex(regular expressions) here. Although, you can simply use loops and\\n\\nconditionals too to solve the problem.\\n\\n'"
      ]
     },
     "execution_count": 25,
     "metadata": {},
     "output_type": "execute_result"
    }
   ],
   "source": [
    "\"\"\"\n",
    "\n",
    "\n",
    "Scrabble\n",
    "Assume that you are trying to complete a crossword puzzle. In a crossword puzzle, some letters are given and\n",
    "you have to figure out which complete word can you make out of it.\n",
    "\n",
    "For example, given letters \"cwd\"in the same order, you can make the word \n",
    "\n",
    "\"crossword\" or \"crowd\" with it. But if \"dw\" is given in that order, \n",
    "\n",
    "you cannot make \"crossword\" out of it because d and w are in the opposite order here.\n",
    "\n",
    "\n",
    "\n",
    "You want to find an efficient method and write a code for this process. \n",
    "\n",
    "The code will take two strings as input in two lines. The first string will contain letters on the crossword(\"cwd\"), \n",
    "\n",
    "and the second string will contain a word that you want to check.\n",
    "(i.e. you want to check whether the word can be made out of given letters in the same order).\n",
    "\n",
    "\n",
    "The output should say \"yes\" if the word can be formed, else it should say \"no\"\n",
    "Sample Input 1:\n",
    "ccwd\n",
    "crossword\n",
    "Sample Output1:\n",
    "no\n",
    "\n",
    "Sample Input 2:\n",
    "cwd\n",
    "crossword\n",
    "Sample Output 2:\n",
    "yes\n",
    "\n",
    "\n",
    "Note: Using regex is also one of the ways of solving this problem.\n",
    "You can read more about regex(regular expressions) here. Although, you can simply use loops and\n",
    "\n",
    "conditionals too to solve the problem.\n",
    "\n",
    "\"\"\""
   ]
  },
  {
   "cell_type": "code",
   "execution_count": 26,
   "metadata": {
    "ExecuteTime": {
     "end_time": "2020-03-05T20:37:33.039140Z",
     "start_time": "2020-03-05T20:37:25.856633Z"
    },
    "hidden": true
   },
   "outputs": [
    {
     "name": "stdout",
     "output_type": "stream",
     "text": [
      "4\n",
      "2\n",
      "no\n"
     ]
    }
   ],
   "source": [
    "letters=input()#letters already in the crossword\n",
    "guess=input()#word to check for fit\n",
    "i = 0\n",
    "for w in guess:\n",
    "    if w == letters[i]: \n",
    "        i += 1\n",
    "        if i >= len(letters): break\n",
    "\n",
    "if (i == len(letters)):\n",
    "    print('yes')\n",
    "else:\n",
    "    print('no')\n",
    "    "
   ]
  },
  {
   "cell_type": "code",
   "execution_count": null,
   "metadata": {
    "hidden": true
   },
   "outputs": [],
   "source": []
  },
  {
   "cell_type": "markdown",
   "metadata": {
    "hidden": true
   },
   "source": [
    "### Questions 4\n",
    "\n",
    "\n",
    "\n"
   ]
  },
  {
   "cell_type": "code",
   "execution_count": 27,
   "metadata": {
    "ExecuteTime": {
     "end_time": "2020-03-05T20:43:58.264826Z",
     "start_time": "2020-03-05T20:43:58.252857Z"
    },
    "hidden": true
   },
   "outputs": [
    {
     "data": {
      "text/plain": [
       "\"\\nQuestion 3\\nPaying the rent\\nYou are moving to a new city for an internship for a few months and have to rent a house for that purpose.\\nYou have to pay the full month's house rent even if you have lived for a few days for that month. i.e. if you start on 15th Jan and leave by 15th May, you still have to pay full rent for months of Jan and May too.\\n\\nYour task is to find the months that you have to pay rent for so that you can write post-dated cheques to your landlord.\\n\\nYou will be given two dates as input and your task is to print all months between the dates including the months the dates are from.\\nThe input will contain the two dates in a list as follows:\\n[2017,1,1,2017,3,4] which corresponds to 1st Jan, 2017 and 4th March, 2017. This date is in the format(yyyy,mm,dd)\\n(the code for taking input has already been written for you, please don't modify that)\\nThe output should contain a list with names of months you have to pay the rent for(the list should be sorted chronologically  based on months, i.e May should come before August). You can assume that there won't be more than 12 months between two dates.\\nYou'll need to use the datetime module for this problem which can be referred to here. You can choose to use any other method too.\\n\\nSample Input:\\n[2017,1,1,2017,1,1]\\nSample Output:\\n['January']\\n\\n\\n\""
      ]
     },
     "execution_count": 27,
     "metadata": {},
     "output_type": "execute_result"
    }
   ],
   "source": [
    "\"\"\"\n",
    "Question 3\n",
    "Paying the rent\n",
    "You are moving to a new city for an internship for a few months and have to rent a house for that purpose.\n",
    "You have to pay the full month's house rent even if you have lived for a few days for that month. i.e. if you start on 15th Jan and leave by 15th May, you still have to pay full rent for months of Jan and May too.\n",
    "\n",
    "Your task is to find the months that you have to pay rent for so that you can write post-dated cheques to your landlord.\n",
    "\n",
    "You will be given two dates as input and your task is to print all months between the dates including the months the dates are from.\n",
    "The input will contain the two dates in a list as follows:\n",
    "[2017,1,1,2017,3,4] which corresponds to 1st Jan, 2017 and 4th March, 2017. This date is in the format(yyyy,mm,dd)\n",
    "(the code for taking input has already been written for you, please don't modify that)\n",
    "The output should contain a list with names of months you have to pay the rent for(the list should be sorted chronologically  based on months, i.e May should come before August). You can assume that there won't be more than 12 months between two dates.\n",
    "You'll need to use the datetime module for this problem which can be referred to here. You can choose to use any other method too.\n",
    "\n",
    "Sample Input:\n",
    "[2017,1,1,2017,1,1]\n",
    "Sample Output:\n",
    "['January']\n",
    "\n",
    "\n",
    "\"\"\""
   ]
  },
  {
   "cell_type": "code",
   "execution_count": 28,
   "metadata": {
    "ExecuteTime": {
     "end_time": "2020-03-05T20:44:08.055149Z",
     "start_time": "2020-03-05T20:44:08.027713Z"
    },
    "hidden": true
   },
   "outputs": [
    {
     "ename": "NameError",
     "evalue": "name 'datetime' is not defined",
     "output_type": "error",
     "traceback": [
      "\u001b[1;31m---------------------------------------------------------------------------\u001b[0m",
      "\u001b[1;31mNameError\u001b[0m                                 Traceback (most recent call last)",
      "\u001b[1;32m<ipython-input-28-b56f02b292eb>\u001b[0m in \u001b[0;36m<module>\u001b[1;34m\u001b[0m\n\u001b[1;32m----> 1\u001b[1;33m \u001b[0mdateStart\u001b[0m\u001b[1;33m=\u001b[0m\u001b[0mdatetime\u001b[0m\u001b[1;33m.\u001b[0m\u001b[0mdate\u001b[0m\u001b[1;33m(\u001b[0m\u001b[0minput_list\u001b[0m\u001b[1;33m[\u001b[0m\u001b[1;36m0\u001b[0m\u001b[1;33m]\u001b[0m\u001b[1;33m,\u001b[0m\u001b[0minput_list\u001b[0m\u001b[1;33m[\u001b[0m\u001b[1;36m1\u001b[0m\u001b[1;33m]\u001b[0m\u001b[1;33m,\u001b[0m\u001b[0minput_list\u001b[0m\u001b[1;33m[\u001b[0m\u001b[1;36m2\u001b[0m\u001b[1;33m]\u001b[0m\u001b[1;33m)\u001b[0m\u001b[1;33m\u001b[0m\u001b[1;33m\u001b[0m\u001b[0m\n\u001b[0m\u001b[0;32m      2\u001b[0m \u001b[0mdateEnd\u001b[0m\u001b[1;33m=\u001b[0m\u001b[0mdatetime\u001b[0m\u001b[1;33m.\u001b[0m\u001b[0mdate\u001b[0m\u001b[1;33m(\u001b[0m\u001b[0minput_list\u001b[0m\u001b[1;33m[\u001b[0m\u001b[1;36m3\u001b[0m\u001b[1;33m]\u001b[0m\u001b[1;33m,\u001b[0m\u001b[0minput_list\u001b[0m\u001b[1;33m[\u001b[0m\u001b[1;36m4\u001b[0m\u001b[1;33m]\u001b[0m\u001b[1;33m,\u001b[0m\u001b[0minput_list\u001b[0m\u001b[1;33m[\u001b[0m\u001b[1;36m5\u001b[0m\u001b[1;33m]\u001b[0m\u001b[1;33m)\u001b[0m\u001b[1;33m\u001b[0m\u001b[1;33m\u001b[0m\u001b[0m\n\u001b[0;32m      3\u001b[0m \u001b[0mmonths\u001b[0m \u001b[1;33m=\u001b[0m \u001b[1;33m[\u001b[0m\u001b[1;34m'January'\u001b[0m\u001b[1;33m,\u001b[0m \u001b[1;34m'February'\u001b[0m\u001b[1;33m,\u001b[0m \u001b[1;34m'March'\u001b[0m\u001b[1;33m,\u001b[0m \u001b[1;34m'April'\u001b[0m\u001b[1;33m,\u001b[0m \u001b[1;34m'May'\u001b[0m\u001b[1;33m,\u001b[0m \u001b[1;34m'June'\u001b[0m\u001b[1;33m,\u001b[0m \u001b[1;34m'July'\u001b[0m\u001b[1;33m,\u001b[0m \u001b[1;34m'August'\u001b[0m\u001b[1;33m,\u001b[0m \u001b[1;34m'September'\u001b[0m\u001b[1;33m,\u001b[0m \u001b[1;34m'October'\u001b[0m\u001b[1;33m,\u001b[0m \u001b[1;34m'November'\u001b[0m\u001b[1;33m,\u001b[0m \u001b[1;34m'December'\u001b[0m\u001b[1;33m]\u001b[0m\u001b[1;33m\u001b[0m\u001b[1;33m\u001b[0m\u001b[0m\n\u001b[0;32m      4\u001b[0m \u001b[0mans\u001b[0m \u001b[1;33m=\u001b[0m \u001b[0mset\u001b[0m\u001b[1;33m(\u001b[0m\u001b[1;33m)\u001b[0m\u001b[1;33m\u001b[0m\u001b[1;33m\u001b[0m\u001b[0m\n\u001b[0;32m      5\u001b[0m \u001b[1;32mwhile\u001b[0m \u001b[0mdateStart\u001b[0m \u001b[1;33m<=\u001b[0m \u001b[0mdateEnd\u001b[0m\u001b[1;33m:\u001b[0m\u001b[1;33m\u001b[0m\u001b[1;33m\u001b[0m\u001b[0m\n",
      "\u001b[1;31mNameError\u001b[0m: name 'datetime' is not defined"
     ]
    }
   ],
   "source": [
    "dateStart=datetime.date(input_list[0],input_list[1],input_list[2])\n",
    "dateEnd=datetime.date(input_list[3],input_list[4],input_list[5])\n",
    "months = ['January', 'February', 'March', 'April', 'May', 'June', 'July', 'August', 'September', 'October', 'November', 'December']\n",
    "ans = set()\n",
    "while dateStart <= dateEnd:\n",
    "\tans.add(dateStart.month)\n",
    "\tdateStart += datetime.timedelta(1)\n",
    "print([months[x-1] for x in sorted(ans)])"
   ]
  },
  {
   "cell_type": "code",
   "execution_count": null,
   "metadata": {
    "hidden": true
   },
   "outputs": [],
   "source": []
  }
 ],
 "metadata": {
  "kernelspec": {
   "display_name": "Python 3",
   "language": "python",
   "name": "python3"
  },
  "language_info": {
   "codemirror_mode": {
    "name": "ipython",
    "version": 3
   },
   "file_extension": ".py",
   "mimetype": "text/x-python",
   "name": "python",
   "nbconvert_exporter": "python",
   "pygments_lexer": "ipython3",
   "version": "3.7.9"
  },
  "toc": {
   "base_numbering": 1,
   "nav_menu": {},
   "number_sections": true,
   "sideBar": true,
   "skip_h1_title": false,
   "title_cell": "Table of Contents",
   "title_sidebar": "Contents",
   "toc_cell": false,
   "toc_position": {},
   "toc_section_display": true,
   "toc_window_display": false
  },
  "varInspector": {
   "cols": {
    "lenName": 16,
    "lenType": 16,
    "lenVar": 40
   },
   "kernels_config": {
    "python": {
     "delete_cmd_postfix": "",
     "delete_cmd_prefix": "del ",
     "library": "var_list.py",
     "varRefreshCmd": "print(var_dic_list())"
    },
    "r": {
     "delete_cmd_postfix": ") ",
     "delete_cmd_prefix": "rm(",
     "library": "var_list.r",
     "varRefreshCmd": "cat(var_dic_list()) "
    }
   },
   "types_to_exclude": [
    "module",
    "function",
    "builtin_function_or_method",
    "instance",
    "_Feature"
   ],
   "window_display": false
  }
 },
 "nbformat": 4,
 "nbformat_minor": 2
}
