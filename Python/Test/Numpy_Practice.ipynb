{
 "cells": [
  {
   "cell_type": "code",
   "execution_count": 83,
   "metadata": {
    "ExecuteTime": {
     "end_time": "2019-12-24T11:42:05.563998Z",
     "start_time": "2019-12-24T11:42:05.557019Z"
    }
   },
   "outputs": [],
   "source": [
    "import pandas as pd\n",
    "import numpy as np\n",
    "import seaborn as sb\n",
    "import matplotlib.pyplot as plt\n",
    "\n",
    "from scipy.spatial import distance\n",
    " "
   ]
  },
  {
   "cell_type": "code",
   "execution_count": 40,
   "metadata": {
    "ExecuteTime": {
     "end_time": "2019-12-24T11:18:52.742526Z",
     "start_time": "2019-12-24T11:18:52.734548Z"
    }
   },
   "outputs": [
    {
     "data": {
      "text/plain": [
       "(1000,)"
      ]
     },
     "execution_count": 40,
     "metadata": {},
     "output_type": "execute_result"
    }
   ],
   "source": [
    "arr = np.arange(0,1000,1)\n",
    "arr.shape"
   ]
  },
  {
   "cell_type": "code",
   "execution_count": 41,
   "metadata": {
    "ExecuteTime": {
     "end_time": "2019-12-24T11:18:53.097930Z",
     "start_time": "2019-12-24T11:18:53.091945Z"
    }
   },
   "outputs": [],
   "source": [
    "arr.shape = (100 , 10) # arr.reshape(10,100)\n"
   ]
  },
  {
   "cell_type": "code",
   "execution_count": 25,
   "metadata": {
    "ExecuteTime": {
     "end_time": "2019-12-24T11:11:50.060085Z",
     "start_time": "2019-12-24T11:11:50.052471Z"
    }
   },
   "outputs": [
    {
     "data": {
      "text/plain": [
       "(100, 10)"
      ]
     },
     "execution_count": 25,
     "metadata": {},
     "output_type": "execute_result"
    }
   ],
   "source": [
    "arr.shape"
   ]
  },
  {
   "cell_type": "code",
   "execution_count": 29,
   "metadata": {
    "ExecuteTime": {
     "end_time": "2019-12-24T11:13:24.896691Z",
     "start_time": "2019-12-24T11:13:24.891740Z"
    }
   },
   "outputs": [],
   "source": [
    "arr1 = arr[::-1]\n"
   ]
  },
  {
   "cell_type": "code",
   "execution_count": 31,
   "metadata": {
    "ExecuteTime": {
     "end_time": "2019-12-24T11:13:55.521434Z",
     "start_time": "2019-12-24T11:13:55.516413Z"
    }
   },
   "outputs": [],
   "source": [
    "arr1 = arr1.reshape(10,100)"
   ]
  },
  {
   "cell_type": "code",
   "execution_count": 66,
   "metadata": {
    "ExecuteTime": {
     "end_time": "2019-12-24T11:27:26.265246Z",
     "start_time": "2019-12-24T11:27:26.256123Z"
    }
   },
   "outputs": [
    {
     "data": {
      "text/plain": [
       "array([[  16050,   16095,   16140, ...,   12315,   12360,   12405],\n",
       "       [  70050,   70195,   70340, ...,   58015,   58160,   58305],\n",
       "       [ 124050,  124295,  124540, ...,  103715,  103960,  104205],\n",
       "       ...,\n",
       "       [5254050, 5263795, 5273540, ..., 4445215, 4454960, 4464705],\n",
       "       [5308050, 5317895, 5327740, ..., 4490915, 4500760, 4510605],\n",
       "       [5362050, 5371995, 5381940, ..., 4536615, 4546560, 4556505]])"
      ]
     },
     "execution_count": 66,
     "metadata": {},
     "output_type": "execute_result"
    }
   ],
   "source": [
    "arr_dot = np.dot(arr, arr1)\n",
    "arr_dot"
   ]
  },
  {
   "cell_type": "code",
   "execution_count": 48,
   "metadata": {
    "ExecuteTime": {
     "end_time": "2019-12-24T11:21:31.214691Z",
     "start_time": "2019-12-24T11:21:31.204754Z"
    }
   },
   "outputs": [
    {
     "data": {
      "text/plain": [
       "-2.0000000000000004"
      ]
     },
     "execution_count": 48,
     "metadata": {},
     "output_type": "execute_result"
    }
   ],
   "source": [
    "a = np.array([[1, 2], [3, 4]])\n",
    "d = np.linalg.det(a)\n",
    "d"
   ]
  },
  {
   "cell_type": "code",
   "execution_count": 57,
   "metadata": {
    "ExecuteTime": {
     "end_time": "2019-12-24T11:24:23.125425Z",
     "start_time": "2019-12-24T11:24:23.116448Z"
    }
   },
   "outputs": [
    {
     "data": {
      "text/plain": [
       "(10, 10)"
      ]
     },
     "execution_count": 57,
     "metadata": {},
     "output_type": "execute_result"
    }
   ],
   "source": [
    "arr2 = np.arange(0,100,1)\n",
    "arr2.shape = (10,10)\n",
    "arr2.shape"
   ]
  },
  {
   "cell_type": "code",
   "execution_count": 58,
   "metadata": {
    "ExecuteTime": {
     "end_time": "2019-12-24T11:24:23.609682Z",
     "start_time": "2019-12-24T11:24:23.601703Z"
    }
   },
   "outputs": [
    {
     "data": {
      "text/plain": [
       "0.0"
      ]
     },
     "execution_count": 58,
     "metadata": {},
     "output_type": "execute_result"
    }
   ],
   "source": [
    "det_arr2 = np.linalg.det(arr2)\n",
    "det_arr2"
   ]
  },
  {
   "cell_type": "code",
   "execution_count": 59,
   "metadata": {
    "ExecuteTime": {
     "end_time": "2019-12-24T11:24:24.462174Z",
     "start_time": "2019-12-24T11:24:24.454196Z"
    }
   },
   "outputs": [
    {
     "data": {
      "text/plain": [
       "94.05"
      ]
     },
     "execution_count": 59,
     "metadata": {},
     "output_type": "execute_result"
    }
   ],
   "source": [
    "np.percentile(arr2,95)"
   ]
  },
  {
   "cell_type": "code",
   "execution_count": 60,
   "metadata": {
    "ExecuteTime": {
     "end_time": "2019-12-24T11:24:25.815333Z",
     "start_time": "2019-12-24T11:24:25.808361Z"
    }
   },
   "outputs": [
    {
     "data": {
      "text/plain": [
       "array([[ 0,  1,  2,  3,  4,  5,  6,  7,  8,  9],\n",
       "       [10, 11, 12, 13, 14, 15, 16, 17, 18, 19],\n",
       "       [20, 21, 22, 23, 24, 25, 26, 27, 28, 29],\n",
       "       [30, 31, 32, 33, 34, 35, 36, 37, 38, 39],\n",
       "       [40, 41, 42, 43, 44, 45, 46, 47, 48, 49],\n",
       "       [50, 51, 52, 53, 54, 55, 56, 57, 58, 59],\n",
       "       [60, 61, 62, 63, 64, 65, 66, 67, 68, 69],\n",
       "       [70, 71, 72, 73, 74, 75, 76, 77, 78, 79],\n",
       "       [80, 81, 82, 83, 84, 85, 86, 87, 88, 89],\n",
       "       [90, 91, 92, 93, 94, 95, 96, 97, 98, 99]])"
      ]
     },
     "execution_count": 60,
     "metadata": {},
     "output_type": "execute_result"
    }
   ],
   "source": [
    "arr2"
   ]
  },
  {
   "cell_type": "code",
   "execution_count": 63,
   "metadata": {
    "ExecuteTime": {
     "end_time": "2019-12-24T11:25:05.910087Z",
     "start_time": "2019-12-24T11:25:05.903105Z"
    }
   },
   "outputs": [],
   "source": [
    "arr2[np.percentile(arr2,95) < arr2 ] = np.percentile(arr2,95)"
   ]
  },
  {
   "cell_type": "code",
   "execution_count": 64,
   "metadata": {
    "ExecuteTime": {
     "end_time": "2019-12-24T11:25:06.365533Z",
     "start_time": "2019-12-24T11:25:06.358289Z"
    }
   },
   "outputs": [
    {
     "data": {
      "text/plain": [
       "array([[ 0,  1,  2,  3,  4,  5,  6,  7,  8,  9],\n",
       "       [10, 11, 12, 13, 14, 15, 16, 17, 18, 19],\n",
       "       [20, 21, 22, 23, 24, 25, 26, 27, 28, 29],\n",
       "       [30, 31, 32, 33, 34, 35, 36, 37, 38, 39],\n",
       "       [40, 41, 42, 43, 44, 45, 46, 47, 48, 49],\n",
       "       [50, 51, 52, 53, 54, 55, 56, 57, 58, 59],\n",
       "       [60, 61, 62, 63, 64, 65, 66, 67, 68, 69],\n",
       "       [70, 71, 72, 73, 74, 75, 76, 77, 78, 79],\n",
       "       [80, 81, 82, 83, 84, 85, 86, 87, 88, 89],\n",
       "       [90, 91, 92, 93, 94, 94, 94, 94, 94, 94]])"
      ]
     },
     "execution_count": 64,
     "metadata": {},
     "output_type": "execute_result"
    }
   ],
   "source": [
    "arr2"
   ]
  },
  {
   "cell_type": "code",
   "execution_count": 67,
   "metadata": {
    "ExecuteTime": {
     "end_time": "2019-12-24T11:28:04.255813Z",
     "start_time": "2019-12-24T11:28:04.245851Z"
    }
   },
   "outputs": [
    {
     "data": {
      "text/plain": [
       "4758502.0"
      ]
     },
     "execution_count": 67,
     "metadata": {},
     "output_type": "execute_result"
    }
   ],
   "source": [
    "np.percentile(arr_dot, 95)"
   ]
  },
  {
   "cell_type": "code",
   "execution_count": 68,
   "metadata": {
    "ExecuteTime": {
     "end_time": "2019-12-24T11:28:15.267916Z",
     "start_time": "2019-12-24T11:28:15.260934Z"
    }
   },
   "outputs": [
    {
     "data": {
      "text/plain": [
       "array([[  16050,   16095,   16140, ...,   12315,   12360,   12405],\n",
       "       [  70050,   70195,   70340, ...,   58015,   58160,   58305],\n",
       "       [ 124050,  124295,  124540, ...,  103715,  103960,  104205],\n",
       "       ...,\n",
       "       [5254050, 5263795, 5273540, ..., 4445215, 4454960, 4464705],\n",
       "       [5308050, 5317895, 5327740, ..., 4490915, 4500760, 4510605],\n",
       "       [5362050, 5371995, 5381940, ..., 4536615, 4546560, 4556505]])"
      ]
     },
     "execution_count": 68,
     "metadata": {},
     "output_type": "execute_result"
    }
   ],
   "source": [
    "arr_dot"
   ]
  },
  {
   "cell_type": "code",
   "execution_count": 69,
   "metadata": {
    "ExecuteTime": {
     "end_time": "2019-12-24T11:28:33.648019Z",
     "start_time": "2019-12-24T11:28:33.639950Z"
    }
   },
   "outputs": [],
   "source": [
    "arr_dot[np.percentile(arr2,95) < arr_dot ] = np.percentile(arr_dot,95)"
   ]
  },
  {
   "cell_type": "code",
   "execution_count": 70,
   "metadata": {
    "ExecuteTime": {
     "end_time": "2019-12-24T11:28:35.559005Z",
     "start_time": "2019-12-24T11:28:35.550069Z"
    }
   },
   "outputs": [
    {
     "data": {
      "text/plain": [
       "array([[4758502, 4758502, 4758502, ..., 4758502, 4758502, 4758502],\n",
       "       [4758502, 4758502, 4758502, ..., 4758502, 4758502, 4758502],\n",
       "       [4758502, 4758502, 4758502, ..., 4758502, 4758502, 4758502],\n",
       "       ...,\n",
       "       [4758502, 4758502, 4758502, ..., 4758502, 4758502, 4758502],\n",
       "       [4758502, 4758502, 4758502, ..., 4758502, 4758502, 4758502],\n",
       "       [4758502, 4758502, 4758502, ..., 4758502, 4758502, 4758502]])"
      ]
     },
     "execution_count": 70,
     "metadata": {},
     "output_type": "execute_result"
    }
   ],
   "source": [
    "arr_dot"
   ]
  },
  {
   "cell_type": "code",
   "execution_count": 73,
   "metadata": {
    "ExecuteTime": {
     "end_time": "2019-12-24T11:30:16.265312Z",
     "start_time": "2019-12-24T11:30:16.258293Z"
    }
   },
   "outputs": [
    {
     "data": {
      "text/plain": [
       "array([0.66371037, 0.88762061])"
      ]
     },
     "execution_count": 73,
     "metadata": {},
     "output_type": "execute_result"
    }
   ],
   "source": [
    "a = np.random.rand(2)\n",
    "a"
   ]
  },
  {
   "cell_type": "code",
   "execution_count": 74,
   "metadata": {
    "ExecuteTime": {
     "end_time": "2019-12-24T11:30:26.776595Z",
     "start_time": "2019-12-24T11:30:26.769290Z"
    }
   },
   "outputs": [
    {
     "data": {
      "text/plain": [
       "array([0.19316571, 0.96407632])"
      ]
     },
     "execution_count": 74,
     "metadata": {},
     "output_type": "execute_result"
    }
   ],
   "source": [
    "b = np.random.rand(2)\n",
    "b"
   ]
  },
  {
   "cell_type": "code",
   "execution_count": 75,
   "metadata": {
    "ExecuteTime": {
     "end_time": "2019-12-24T11:30:34.709846Z",
     "start_time": "2019-12-24T11:30:34.702398Z"
    }
   },
   "outputs": [
    {
     "data": {
      "text/plain": [
       "array([0.50147567, 0.58061054])"
      ]
     },
     "execution_count": 75,
     "metadata": {},
     "output_type": "execute_result"
    }
   ],
   "source": [
    "c = np.random.rand(2)\n",
    "c"
   ]
  },
  {
   "cell_type": "code",
   "execution_count": 119,
   "metadata": {
    "ExecuteTime": {
     "end_time": "2019-12-24T11:59:50.872076Z",
     "start_time": "2019-12-24T11:59:50.865057Z"
    }
   },
   "outputs": [],
   "source": [
    "def calculate_euclidean_dis(x, y):\n",
    "#     res = np.sqrt(((x - y)**2).sum(-1)) # or distance.euclidean(x, y)\n",
    "    res = np.linalg.norm(x - y)\n",
    "    return res"
   ]
  },
  {
   "cell_type": "code",
   "execution_count": 123,
   "metadata": {
    "ExecuteTime": {
     "end_time": "2019-12-24T12:01:46.224120Z",
     "start_time": "2019-12-24T12:01:46.218134Z"
    }
   },
   "outputs": [],
   "source": [
    "def calculate_manhattan_distance(x, y):\n",
    "    res = np.sum(np.abs(a-b))\n",
    "    return res"
   ]
  },
  {
   "cell_type": "code",
   "execution_count": 134,
   "metadata": {
    "ExecuteTime": {
     "end_time": "2019-12-24T12:12:10.565919Z",
     "start_time": "2019-12-24T12:12:10.557986Z"
    }
   },
   "outputs": [],
   "source": [
    "def calculate_cosine_similarity(x, y):\n",
    "#     res =  np.dot(x, y)/(np.linalg.norm(x)*np.linalg.norm(y)) # or below\n",
    "    res = np.dot(x,y) / ( (np.dot(x,x) **.5) * (np.dot(y,y) ** .5) )\n",
    "    return res"
   ]
  },
  {
   "cell_type": "code",
   "execution_count": 135,
   "metadata": {
    "ExecuteTime": {
     "end_time": "2019-12-24T12:12:11.271565Z",
     "start_time": "2019-12-24T12:12:11.263590Z"
    }
   },
   "outputs": [
    {
     "name": "stdout",
     "output_type": "stream",
     "text": [
      " ab :  0.47671558921084883  bc :  0.4920376326129377  ac :  0.34723952072057146\n"
     ]
    }
   ],
   "source": [
    "ab = calculate_euclidean_dis(a, b)\n",
    "bc = calculate_euclidean_dis(b, c)\n",
    "ac = calculate_euclidean_dis(a, c)\n",
    "print(\" ab : \", ab,\" bc : \", bc,\" ac : \", ac)\n",
    "\n",
    "\n"
   ]
  },
  {
   "cell_type": "code",
   "execution_count": 136,
   "metadata": {
    "ExecuteTime": {
     "end_time": "2019-12-24T12:12:11.766712Z",
     "start_time": "2019-12-24T12:12:11.759729Z"
    }
   },
   "outputs": [
    {
     "name": "stdout",
     "output_type": "stream",
     "text": [
      " ab :  0.5470003664750286  bc :  0.5470003664750286  ac :  0.5470003664750286\n"
     ]
    }
   ],
   "source": [
    "ab = calculate_manhattan_distance(a, b)\n",
    "bc = calculate_manhattan_distance(b, c)\n",
    "ac = calculate_manhattan_distance(a, c)\n",
    "print(\" ab : \", ab,\" bc : \", bc,\" ac : \", ac)\n",
    "\n"
   ]
  },
  {
   "cell_type": "code",
   "execution_count": 137,
   "metadata": {
    "ExecuteTime": {
     "end_time": "2019-12-24T12:12:12.489948Z",
     "start_time": "2019-12-24T12:12:12.480310Z"
    }
   },
   "outputs": [
    {
     "name": "stdout",
     "output_type": "stream",
     "text": [
      " ab :  0.9029080022064626  bc :  0.8704644177896947  ac :  0.9975269832696861\n"
     ]
    }
   ],
   "source": [
    "ab = calculate_cosine_similarity(a, b)\n",
    "bc = calculate_cosine_similarity(b, c)\n",
    "ac = calculate_cosine_similarity(a, c)\n",
    "print(\" ab : \", ab,\" bc : \", bc,\" ac : \", ac)"
   ]
  },
  {
   "cell_type": "code",
   "execution_count": 96,
   "metadata": {
    "ExecuteTime": {
     "end_time": "2019-12-24T11:46:46.165402Z",
     "start_time": "2019-12-24T11:46:45.909125Z"
    }
   },
   "outputs": [
    {
     "data": {
      "image/png": "[encoded data removed]",
      "text/plain": [
       "<Figure size 432x288 with 1 Axes>"
      ]
     },
     "metadata": {
      "needs_background": "light"
     },
     "output_type": "display_data"
    }
   ],
   "source": [
    "plt.plot(ab,bc,ac)\n",
    "plt.show()"
   ]
  },
  {
   "cell_type": "code",
   "execution_count": 92,
   "metadata": {
    "ExecuteTime": {
     "end_time": "2019-12-24T11:43:34.446496Z",
     "start_time": "2019-12-24T11:43:34.439323Z"
    }
   },
   "outputs": [
    {
     "data": {
      "text/plain": [
       "0.47671558921084883"
      ]
     },
     "execution_count": 92,
     "metadata": {},
     "output_type": "execute_result"
    }
   ],
   "source": []
  },
  {
   "cell_type": "code",
   "execution_count": 118,
   "metadata": {
    "ExecuteTime": {
     "end_time": "2019-12-24T11:57:39.166702Z",
     "start_time": "2019-12-24T11:57:38.797686Z"
    }
   },
   "outputs": [
    {
     "data": {
      "image/png": "[encoded data removed]",
      "text/plain": [
       "<Figure size 720x432 with 1 Axes>"
      ]
     },
     "metadata": {
      "needs_background": "light"
     },
     "output_type": "display_data"
    }
   ],
   "source": [
    "plt.figure(figsize=(10,6))\n",
    "ax = plt.gca()\n",
    "ax.quiver(a, b,c, angles='xy', scale_units='xy', scale=1)\n",
    "ax.set_xlim([0, 2])\n",
    "ax.set_ylim([0, 2])\n",
    "plt.draw()\n",
    "plt.show()"
   ]
  },
  {
   "cell_type": "code",
   "execution_count": 126,
   "metadata": {
    "ExecuteTime": {
     "end_time": "2019-12-24T12:03:31.962517Z",
     "start_time": "2019-12-24T12:03:31.726153Z"
    }
   },
   "outputs": [
    {
     "data": {
      "image/png": "[encoded data removed]",
      "text/plain": [
       "<Figure size 432x288 with 1 Axes>"
      ]
     },
     "metadata": {
      "needs_background": "light"
     },
     "output_type": "display_data"
    }
   ],
   "source": [
    "soa = np.array([[0, 0, 3, 2], [0, 0, 1, 1], [0, 0, 9, 9]])\n",
    "X, Y, U, V = zip(*soa)\n",
    "plt.figure()\n",
    "ax = plt.gca()\n",
    "ax.quiver(X, Y, U, V, angles='xy', scale_units='xy', scale=1)\n",
    "ax.set_xlim([-1, 10])\n",
    "ax.set_ylim([-1, 10])\n",
    "plt.draw()\n",
    "plt.show()"
   ]
  },
  {
   "cell_type": "code",
   "execution_count": 128,
   "metadata": {
    "ExecuteTime": {
     "end_time": "2019-12-24T12:07:53.985074Z",
     "start_time": "2019-12-24T12:07:53.976102Z"
    }
   },
   "outputs": [
    {
     "data": {
      "text/plain": [
       "0.9029080022064626"
      ]
     },
     "execution_count": 128,
     "metadata": {},
     "output_type": "execute_result"
    }
   ],
   "source": [
    "# from numpy.linalg import norm\n"
   ]
  },
  {
   "cell_type": "code",
   "execution_count": 129,
   "metadata": {
    "ExecuteTime": {
     "end_time": "2019-12-24T12:08:44.216983Z",
     "start_time": "2019-12-24T12:08:44.210040Z"
    }
   },
   "outputs": [],
   "source": []
  },
  {
   "cell_type": "code",
   "execution_count": null,
   "metadata": {},
   "outputs": [],
   "source": []
  },
  {
   "cell_type": "code",
   "execution_count": null,
   "metadata": {},
   "outputs": [],
   "source": []
  },
  {
   "cell_type": "code",
   "execution_count": null,
   "metadata": {},
   "outputs": [],
   "source": []
  },
  {
   "cell_type": "code",
   "execution_count": 1,
   "metadata": {
    "ExecuteTime": {
     "end_time": "2020-02-03T12:07:18.647697Z",
     "start_time": "2020-02-03T12:07:18.632735Z"
    }
   },
   "outputs": [
    {
     "name": "stdout",
     "output_type": "stream",
     "text": [
      "John\n",
      "102\n"
     ]
    }
   ],
   "source": [
    "\t\t\n",
    "#definition of the class starts here  \n",
    "class Person:  \n",
    "    #defining constructor  \n",
    "    def __init__(self, personName, personAge):  \n",
    "        self.name = personName  \n",
    "        self.age = personAge  \n",
    "  \n",
    "    #defining class methods  \n",
    "    def showName(self):  \n",
    "        print(self.name)  \n",
    "  \n",
    "    def showAge(self):  \n",
    "        print(self.age)  \n",
    "  \n",
    "    #end of class definition  \n",
    "  \n",
    "# defining another class  \n",
    "class Student: # Person is the  \n",
    "    def __init__(self, studentId):  \n",
    "        self.studentId = studentId  \n",
    "  \n",
    "    def getId(self):  \n",
    "        return self.studentId  \n",
    "  \n",
    "  \n",
    "class Resident(Person, Student): # extends both Person and Student class  \n",
    "    def __init__(self, name, age, id):  \n",
    "        Person.__init__(self, name, age)  \n",
    "        Student.__init__(self, id)  \n",
    "  \n",
    "  \n",
    "# Create an object of the subclass  \n",
    "resident1 = Resident('John', 30, '102')  \n",
    "resident1.showName()  \n",
    "print(resident1.getId()) "
   ]
  },
  {
   "cell_type": "code",
   "execution_count": null,
   "metadata": {},
   "outputs": [],
   "source": []
  },
  {
   "cell_type": "code",
   "execution_count": null,
   "metadata": {},
   "outputs": [],
   "source": []
  },
  {
   "cell_type": "code",
   "execution_count": 20,
   "metadata": {
    "ExecuteTime": {
     "end_time": "2020-02-03T12:27:02.365213Z",
     "start_time": "2020-02-03T12:27:02.360221Z"
    }
   },
   "outputs": [],
   "source": [
    "s1 = \"BAZ09az@.,\""
   ]
  },
  {
   "cell_type": "code",
   "execution_count": 22,
   "metadata": {
    "ExecuteTime": {
     "end_time": "2020-02-03T12:27:10.937813Z",
     "start_time": "2020-02-03T12:27:10.926855Z"
    }
   },
   "outputs": [
    {
     "name": "stdout",
     "output_type": "stream",
     "text": [
      "BAZ\n",
      "az\n",
      "09\n",
      "@.,\n"
     ]
    }
   ],
   "source": [
    "S_1 = \"\"\n",
    "S_2 = \"\"\n",
    "S_3 = \"\"\n",
    "S_4 = \"\"\n",
    "\n",
    "\n",
    "for i in s1:\n",
    "    res = ord(i)\n",
    "    if res >= 65 and res <= 90 : \n",
    "        S_1 = S_1 + i\n",
    "    \n",
    "    elif res >= 97 and res <= 122 : \n",
    "        S_2 = S_2 + i\n",
    "        \n",
    "    elif res >= 48 and res <= 57 : \n",
    "        S_3 = S_3 + i\n",
    "    else:\n",
    "        S_4 = S_4 + i\n",
    "\n",
    "\n",
    "\n",
    "\n",
    "\n",
    "\n",
    "print(S_1)\n",
    "print(S_2)\n",
    "print(S_3)\n",
    "print(S_4)"
   ]
  },
  {
   "cell_type": "code",
   "execution_count": 57,
   "metadata": {
    "ExecuteTime": {
     "end_time": "2020-02-03T12:50:33.248307Z",
     "start_time": "2020-02-03T12:50:33.240065Z"
    }
   },
   "outputs": [
    {
     "data": {
      "text/plain": [
       "[5, 1, 6, 2, 30]"
      ]
     },
     "execution_count": 57,
     "metadata": {},
     "output_type": "execute_result"
    }
   ],
   "source": [
    "l2 = [5,1,6,2,30]\n",
    "l2"
   ]
  },
  {
   "cell_type": "code",
   "execution_count": 58,
   "metadata": {
    "ExecuteTime": {
     "end_time": "2020-02-03T12:50:35.195084Z",
     "start_time": "2020-02-03T12:50:35.190100Z"
    }
   },
   "outputs": [],
   "source": [
    "# for  i in s1:\n",
    "#     print(i)"
   ]
  },
  {
   "cell_type": "code",
   "execution_count": 61,
   "metadata": {
    "ExecuteTime": {
     "end_time": "2020-02-03T12:54:57.742454Z",
     "start_time": "2020-02-03T12:54:57.710535Z"
    }
   },
   "outputs": [
    {
     "ename": "TypeError",
     "evalue": "'str' object does not support item assignment",
     "output_type": "error",
     "traceback": [
      "\u001b[1;31m---------------------------------------------------------------------------\u001b[0m",
      "\u001b[1;31mTypeError\u001b[0m                                 Traceback (most recent call last)",
      "\u001b[1;32m<ipython-input-61-a3e2a7f01e5c>\u001b[0m in \u001b[0;36m<module>\u001b[1;34m\u001b[0m\n\u001b[0;32m     21\u001b[0m \u001b[1;33m\u001b[0m\u001b[0m\n\u001b[0;32m     22\u001b[0m     \u001b[1;32mreturn\u001b[0m \u001b[0mres\u001b[0m\u001b[1;33m\u001b[0m\u001b[1;33m\u001b[0m\u001b[0m\n\u001b[1;32m---> 23\u001b[1;33m \u001b[0msorting_string\u001b[0m\u001b[1;33m(\u001b[0m\u001b[0ms1\u001b[0m\u001b[1;33m)\u001b[0m\u001b[1;33m\u001b[0m\u001b[1;33m\u001b[0m\u001b[0m\n\u001b[0m",
      "\u001b[1;32m<ipython-input-61-a3e2a7f01e5c>\u001b[0m in \u001b[0;36msorting_string\u001b[1;34m(res)\u001b[0m\n\u001b[0;32m     17\u001b[0m             \u001b[1;32mif\u001b[0m\u001b[1;33m(\u001b[0m \u001b[0mord\u001b[0m\u001b[1;33m(\u001b[0m\u001b[0mres\u001b[0m\u001b[1;33m[\u001b[0m\u001b[0mj\u001b[0m\u001b[1;33m]\u001b[0m\u001b[1;33m)\u001b[0m \u001b[1;33m>\u001b[0m \u001b[0mord\u001b[0m\u001b[1;33m(\u001b[0m\u001b[0mres\u001b[0m\u001b[1;33m[\u001b[0m\u001b[0mj\u001b[0m\u001b[1;33m+\u001b[0m\u001b[1;36m1\u001b[0m\u001b[1;33m]\u001b[0m\u001b[1;33m)\u001b[0m\u001b[1;33m)\u001b[0m\u001b[1;33m:\u001b[0m\u001b[1;33m\u001b[0m\u001b[1;33m\u001b[0m\u001b[0m\n\u001b[0;32m     18\u001b[0m                 \u001b[0mtemp\u001b[0m \u001b[1;33m=\u001b[0m \u001b[0mres\u001b[0m\u001b[1;33m[\u001b[0m\u001b[0mj\u001b[0m\u001b[1;33m+\u001b[0m\u001b[1;36m1\u001b[0m\u001b[1;33m]\u001b[0m\u001b[1;33m\u001b[0m\u001b[1;33m\u001b[0m\u001b[0m\n\u001b[1;32m---> 19\u001b[1;33m                 \u001b[0mres\u001b[0m\u001b[1;33m[\u001b[0m\u001b[0mj\u001b[0m\u001b[1;33m+\u001b[0m\u001b[1;36m1\u001b[0m\u001b[1;33m]\u001b[0m \u001b[1;33m=\u001b[0m \u001b[0mres\u001b[0m\u001b[1;33m[\u001b[0m\u001b[0mj\u001b[0m\u001b[1;33m]\u001b[0m\u001b[1;33m\u001b[0m\u001b[1;33m\u001b[0m\u001b[0m\n\u001b[0m\u001b[0;32m     20\u001b[0m                 \u001b[0mres\u001b[0m\u001b[1;33m[\u001b[0m\u001b[0mj\u001b[0m\u001b[1;33m]\u001b[0m \u001b[1;33m=\u001b[0m \u001b[0mtemp\u001b[0m\u001b[1;33m\u001b[0m\u001b[1;33m\u001b[0m\u001b[0m\n\u001b[0;32m     21\u001b[0m \u001b[1;33m\u001b[0m\u001b[0m\n",
      "\u001b[1;31mTypeError\u001b[0m: 'str' object does not support item assignment"
     ]
    }
   ],
   "source": [
    "def sorting_list(res1):\n",
    "    res  = res1\n",
    "    for i in range(len(res)):\n",
    "        for j in range(i):\n",
    "            if( res[j] > res[j+1]):\n",
    "                temp = res[j+1]\n",
    "                res[j+1] = res[j]\n",
    "                res[j] = temp\n",
    "                \n",
    "    return res\n",
    "            \n",
    "\n",
    "    \n",
    "def sorting_string(res):\n",
    "    for i in range(len(res)):\n",
    "        for j in range(i):\n",
    "            if( ord(res[j]) > ord(res[j+1])):\n",
    "                temp = res[j+1]\n",
    "                res[j+1] = res[j]\n",
    "                res[j] = temp\n",
    "                \n",
    "    return res\n",
    "sorting_string(s1)"
   ]
  },
  {
   "cell_type": "code",
   "execution_count": 60,
   "metadata": {
    "ExecuteTime": {
     "end_time": "2020-02-03T12:50:37.323445Z",
     "start_time": "2020-02-03T12:50:37.316417Z"
    }
   },
   "outputs": [
    {
     "data": {
      "text/plain": [
       "([1, 2, 5, 6, 30], [1, 2, 5, 6, 30])"
      ]
     },
     "execution_count": 60,
     "metadata": {},
     "output_type": "execute_result"
    }
   ],
   "source": [
    "sorting_list(l2) , l2"
   ]
  },
  {
   "cell_type": "code",
   "execution_count": 56,
   "metadata": {
    "ExecuteTime": {
     "end_time": "2020-02-03T12:50:30.098066Z",
     "start_time": "2020-02-03T12:50:30.091032Z"
    }
   },
   "outputs": [
    {
     "data": {
      "text/plain": [
       "[1, 2, 5, 6, 30]"
      ]
     },
     "execution_count": 56,
     "metadata": {},
     "output_type": "execute_result"
    }
   ],
   "source": [
    "l2"
   ]
  },
  {
   "cell_type": "code",
   "execution_count": null,
   "metadata": {},
   "outputs": [],
   "source": []
  }
 ],
 "metadata": {
  "hide_input": false,
  "kernelspec": {
   "display_name": "Python 3",
   "language": "python",
   "name": "python3"
  },
  "language_info": {
   "codemirror_mode": {
    "name": "ipython",
    "version": 3
   },
   "file_extension": ".py",
   "mimetype": "text/x-python",
   "name": "python",
   "nbconvert_exporter": "python",
   "pygments_lexer": "ipython3",
   "version": "3.7.9"
  },
  "latex_envs": {
   "LaTeX_envs_menu_present": true,
   "autoclose": false,
   "autocomplete": true,
   "bibliofile": "biblio.bib",
   "cite_by": "apalike",
   "current_citInitial": 1,
   "eqLabelWithNumbers": true,
   "eqNumInitial": 1,
   "hotkeys": {
    "equation": "Ctrl-E",
    "itemize": "Ctrl-I"
   },
   "labels_anchors": false,
   "latex_user_defs": false,
   "report_style_numbering": false,
   "user_envs_cfg": false
  },
  "nbTranslate": {
   "displayLangs": [
    "*"
   ],
   "hotkey": "alt-t",
   "langInMainMenu": true,
   "sourceLang": "en",
   "targetLang": "fr",
   "useGoogleTranslate": true
  },
  "toc": {
   "base_numbering": 1,
   "nav_menu": {},
   "number_sections": true,
   "sideBar": true,
   "skip_h1_title": false,
   "title_cell": "Table of Contents",
   "title_sidebar": "Contents",
   "toc_cell": false,
   "toc_position": {},
   "toc_section_display": true,
   "toc_window_display": false
  },
  "varInspector": {
   "cols": {
    "lenName": 16,
    "lenType": 16,
    "lenVar": 40
   },
   "kernels_config": {
    "python": {
     "delete_cmd_postfix": "",
     "delete_cmd_prefix": "del ",
     "library": "var_list.py",
     "varRefreshCmd": "print(var_dic_list())"
    },
    "r": {
     "delete_cmd_postfix": ") ",
     "delete_cmd_prefix": "rm(",
     "library": "var_list.r",
     "varRefreshCmd": "cat(var_dic_list()) "
    }
   },
   "types_to_exclude": [
    "module",
    "function",
    "builtin_function_or_method",
    "instance",
    "_Feature"
   ],
   "window_display": false
  }
 },
 "nbformat": 4,
 "nbformat_minor": 2
}
